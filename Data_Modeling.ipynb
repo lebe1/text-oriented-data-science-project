{
  "nbformat": 4,
  "nbformat_minor": 0,
  "metadata": {
    "colab": {
      "provenance": [],
      "include_colab_link": true
    },
    "kernelspec": {
      "name": "python3",
      "display_name": "Python 3"
    },
    "language_info": {
      "name": "python"
    }
  },
  "cells": [
    {
      "cell_type": "markdown",
      "metadata": {
        "id": "view-in-github",
        "colab_type": "text"
      },
      "source": [
        "<a href=\"https://colab.research.google.com/github/lebe1/text-oriented-data-science-project/blob/main/Data_Modeling.ipynb\" target=\"_parent\"><img src=\"https://colab.research.google.com/assets/colab-badge.svg\" alt=\"Open In Colab\"/></a>"
      ]
    },
    {
      "cell_type": "markdown",
      "source": [
        "# Loading the Dataset"
      ],
      "metadata": {
        "id": "CPLeCMRTwgqr"
      }
    },
    {
      "cell_type": "markdown",
      "source": [
        "\n",
        "\n",
        "## Connect to Google Drive"
      ],
      "metadata": {
        "id": "2p7jTLyRw6g8"
      }
    },
    {
      "cell_type": "code",
      "execution_count": 57,
      "metadata": {
        "colab": {
          "base_uri": "https://localhost:8080/"
        },
        "id": "zO4dyw3uvEz7",
        "outputId": "58201089-0044-45f1-eb00-5d630dfc2b33"
      },
      "outputs": [
        {
          "output_type": "stream",
          "name": "stdout",
          "text": [
            "Mounted at /content/drive\n"
          ]
        }
      ],
      "source": [
        "from google.colab import drive\n",
        "drive.mount('/content/drive', force_remount=True)"
      ]
    },
    {
      "cell_type": "code",
      "source": [
        "folder_path = '/content/drive/MyDrive/'"
      ],
      "metadata": {
        "id": "J051vmiuw_Qv"
      },
      "execution_count": 58,
      "outputs": []
    },
    {
      "cell_type": "markdown",
      "source": [
        "## Imports"
      ],
      "metadata": {
        "id": "3LDpTM_YxBaj"
      }
    },
    {
      "cell_type": "code",
      "source": [
        "!pip install wandb"
      ],
      "metadata": {
        "colab": {
          "base_uri": "https://localhost:8080/"
        },
        "id": "8Xqg-zpxvh5s",
        "outputId": "046bd5da-b0d5-4cbd-bd8d-f6d085709066"
      },
      "execution_count": 59,
      "outputs": [
        {
          "output_type": "stream",
          "name": "stdout",
          "text": [
            "Requirement already satisfied: wandb in /usr/local/lib/python3.11/dist-packages (0.19.4)\n",
            "Requirement already satisfied: click!=8.0.0,>=7.1 in /usr/local/lib/python3.11/dist-packages (from wandb) (8.1.8)\n",
            "Requirement already satisfied: docker-pycreds>=0.4.0 in /usr/local/lib/python3.11/dist-packages (from wandb) (0.4.0)\n",
            "Requirement already satisfied: gitpython!=3.1.29,>=1.0.0 in /usr/local/lib/python3.11/dist-packages (from wandb) (3.1.44)\n",
            "Requirement already satisfied: platformdirs in /usr/local/lib/python3.11/dist-packages (from wandb) (4.3.6)\n",
            "Requirement already satisfied: protobuf!=4.21.0,!=5.28.0,<6,>=3.19.0 in /usr/local/lib/python3.11/dist-packages (from wandb) (4.25.5)\n",
            "Requirement already satisfied: psutil>=5.0.0 in /usr/local/lib/python3.11/dist-packages (from wandb) (5.9.5)\n",
            "Requirement already satisfied: pydantic<3,>=2.6 in /usr/local/lib/python3.11/dist-packages (from wandb) (2.10.5)\n",
            "Requirement already satisfied: pyyaml in /usr/local/lib/python3.11/dist-packages (from wandb) (6.0.2)\n",
            "Requirement already satisfied: requests<3,>=2.0.0 in /usr/local/lib/python3.11/dist-packages (from wandb) (2.32.3)\n",
            "Requirement already satisfied: sentry-sdk>=2.0.0 in /usr/local/lib/python3.11/dist-packages (from wandb) (2.20.0)\n",
            "Requirement already satisfied: setproctitle in /usr/local/lib/python3.11/dist-packages (from wandb) (1.3.4)\n",
            "Requirement already satisfied: setuptools in /usr/local/lib/python3.11/dist-packages (from wandb) (75.1.0)\n",
            "Requirement already satisfied: typing-extensions<5,>=4.4 in /usr/local/lib/python3.11/dist-packages (from wandb) (4.12.2)\n",
            "Requirement already satisfied: six>=1.4.0 in /usr/local/lib/python3.11/dist-packages (from docker-pycreds>=0.4.0->wandb) (1.17.0)\n",
            "Requirement already satisfied: gitdb<5,>=4.0.1 in /usr/local/lib/python3.11/dist-packages (from gitpython!=3.1.29,>=1.0.0->wandb) (4.0.12)\n",
            "Requirement already satisfied: annotated-types>=0.6.0 in /usr/local/lib/python3.11/dist-packages (from pydantic<3,>=2.6->wandb) (0.7.0)\n",
            "Requirement already satisfied: pydantic-core==2.27.2 in /usr/local/lib/python3.11/dist-packages (from pydantic<3,>=2.6->wandb) (2.27.2)\n",
            "Requirement already satisfied: charset-normalizer<4,>=2 in /usr/local/lib/python3.11/dist-packages (from requests<3,>=2.0.0->wandb) (3.4.1)\n",
            "Requirement already satisfied: idna<4,>=2.5 in /usr/local/lib/python3.11/dist-packages (from requests<3,>=2.0.0->wandb) (3.10)\n",
            "Requirement already satisfied: urllib3<3,>=1.21.1 in /usr/local/lib/python3.11/dist-packages (from requests<3,>=2.0.0->wandb) (2.3.0)\n",
            "Requirement already satisfied: certifi>=2017.4.17 in /usr/local/lib/python3.11/dist-packages (from requests<3,>=2.0.0->wandb) (2024.12.14)\n",
            "Requirement already satisfied: smmap<6,>=3.0.1 in /usr/local/lib/python3.11/dist-packages (from gitdb<5,>=4.0.1->gitpython!=3.1.29,>=1.0.0->wandb) (5.0.2)\n"
          ]
        }
      ]
    },
    {
      "cell_type": "code",
      "source": [
        "import pandas as pd\n",
        "import numpy as np\n",
        "import nltk\n",
        "import time\n",
        "from nltk.corpus import stopwords\n",
        "import string\n",
        "from gensim.models import Word2Vec\n",
        "from gensim.test.utils import common_texts\n",
        "\n",
        "from sklearn.feature_extraction.text import TfidfVectorizer\n",
        "from sklearn.ensemble import RandomForestClassifier\n",
        "from sklearn.svm import LinearSVC\n",
        "from sklearn.model_selection import train_test_split\n",
        "from sklearn.metrics import f1_score, precision_score, recall_score\n",
        "from sklearn.metrics import classification_report\n",
        "\n",
        "import wandb\n",
        "\n",
        "nltk.download('stopwords')\n",
        "stop_words = set(stopwords.words('english'))"
      ],
      "metadata": {
        "id": "5r830H34xC1K",
        "colab": {
          "base_uri": "https://localhost:8080/"
        },
        "outputId": "e1f45a6e-8df4-4bdf-e8bf-9e58d418d10c"
      },
      "execution_count": 117,
      "outputs": [
        {
          "output_type": "stream",
          "name": "stderr",
          "text": [
            "[nltk_data] Downloading package stopwords to /root/nltk_data...\n",
            "[nltk_data]   Package stopwords is already up-to-date!\n"
          ]
        }
      ]
    },
    {
      "cell_type": "markdown",
      "source": [
        "## Reading the CSV File"
      ],
      "metadata": {
        "id": "7VxjImWZyJLJ"
      }
    },
    {
      "cell_type": "code",
      "source": [
        "file_name = 'combined_reviews.csv'\n",
        "\n",
        "file_path = folder_path + file_name\n",
        "df = pd.read_csv(file_path)"
      ],
      "metadata": {
        "id": "3WGFNUyvyFhN"
      },
      "execution_count": 61,
      "outputs": []
    },
    {
      "cell_type": "code",
      "source": [
        "df.head()"
      ],
      "metadata": {
        "id": "H2PXRsGXQCUp",
        "outputId": "e5c2e861-a75d-4117-d66c-b1ca0612c85a",
        "colab": {
          "base_uri": "https://localhost:8080/",
          "height": 449
        }
      },
      "execution_count": 125,
      "outputs": [
        {
          "output_type": "execute_result",
          "data": {
            "text/plain": [
              "   rating  reviewTime      reviewerID  \\\n",
              "0       5  2017-01-16   ASWLL1VJA7WOG   \n",
              "1       5  2008-12-08  A265K3A7V83112   \n",
              "2       5  2013-02-08  A1D18EJF6LHYDV   \n",
              "3       5  2018-02-15  A25EOTX5I354I2   \n",
              "4       5  2013-11-11  A1DFZPQPCHBYTY   \n",
              "\n",
              "                                          reviewText  \\\n",
              "0  Great product... just what I wanted.  Works gr...   \n",
              "1  After seeing the popularity of this shoe, I de...   \n",
              "2  I was nervousness about the scent because IVe ...   \n",
              "3  I LOVE the smell. A bit expensive, so I cant b...   \n",
              "4  Found this stuff in Japan and wondered if I co...   \n",
              "\n",
              "                       summary  unixReviewTime                    category  \\\n",
              "0                   Five Stars      1484524800                  All_Beauty   \n",
              "1  What can i say? chucks rock      1228694400  Clothing_Shoes_and_Jewelry   \n",
              "2                 Smells great      1360281600                  All_Beauty   \n",
              "3                   Five Stars      1518652800               Luxury_Beauty   \n",
              "4     Super lathery nice soap!      1384128000                  All_Beauty   \n",
              "\n",
              "                                         reviewToken  \\\n",
              "0  ['great', 'product', 'want', 'works', 'great',...   \n",
              "1  ['see', 'popularity', 'shoe', 'decide', 'test'...   \n",
              "2  ['nervousness', 'scent', 'ive', 'never', 'try'...   \n",
              "3  ['love', 'smell', 'bit', 'expensive', 'buy', '...   \n",
              "4  ['found', 'stuff', 'japan', 'wonder', 'could',...   \n",
              "\n",
              "                                    preprocessedText  \\\n",
              "0           great product wanted works great stylish   \n",
              "1  seeing popularity shoe decided test impressed ...   \n",
              "2  nervousness scent ive never tried love paul mi...   \n",
              "3  love smell bit expensive cant buy often would ...   \n",
              "4  found stuff japan wondered could find 3drops g...   \n",
              "\n",
              "                                      tokenized_text  \n",
              "0    [great, product, wanted, works, great, stylish]  \n",
              "1  [seeing, popularity, shoe, decided, test, impr...  \n",
              "2  [nervousness, scent, ive, never, tried, love, ...  \n",
              "3  [love, smell, bit, expensive, cant, buy, often...  \n",
              "4  [found, stuff, japan, wondered, could, find, 3...  "
            ],
            "text/html": [
              "\n",
              "  <div id=\"df-7a73db59-963a-43b9-aae8-0e5ce23939dc\" class=\"colab-df-container\">\n",
              "    <div>\n",
              "<style scoped>\n",
              "    .dataframe tbody tr th:only-of-type {\n",
              "        vertical-align: middle;\n",
              "    }\n",
              "\n",
              "    .dataframe tbody tr th {\n",
              "        vertical-align: top;\n",
              "    }\n",
              "\n",
              "    .dataframe thead th {\n",
              "        text-align: right;\n",
              "    }\n",
              "</style>\n",
              "<table border=\"1\" class=\"dataframe\">\n",
              "  <thead>\n",
              "    <tr style=\"text-align: right;\">\n",
              "      <th></th>\n",
              "      <th>rating</th>\n",
              "      <th>reviewTime</th>\n",
              "      <th>reviewerID</th>\n",
              "      <th>reviewText</th>\n",
              "      <th>summary</th>\n",
              "      <th>unixReviewTime</th>\n",
              "      <th>category</th>\n",
              "      <th>reviewToken</th>\n",
              "      <th>preprocessedText</th>\n",
              "      <th>tokenized_text</th>\n",
              "    </tr>\n",
              "  </thead>\n",
              "  <tbody>\n",
              "    <tr>\n",
              "      <th>0</th>\n",
              "      <td>5</td>\n",
              "      <td>2017-01-16</td>\n",
              "      <td>ASWLL1VJA7WOG</td>\n",
              "      <td>Great product... just what I wanted.  Works gr...</td>\n",
              "      <td>Five Stars</td>\n",
              "      <td>1484524800</td>\n",
              "      <td>All_Beauty</td>\n",
              "      <td>['great', 'product', 'want', 'works', 'great',...</td>\n",
              "      <td>great product wanted works great stylish</td>\n",
              "      <td>[great, product, wanted, works, great, stylish]</td>\n",
              "    </tr>\n",
              "    <tr>\n",
              "      <th>1</th>\n",
              "      <td>5</td>\n",
              "      <td>2008-12-08</td>\n",
              "      <td>A265K3A7V83112</td>\n",
              "      <td>After seeing the popularity of this shoe, I de...</td>\n",
              "      <td>What can i say? chucks rock</td>\n",
              "      <td>1228694400</td>\n",
              "      <td>Clothing_Shoes_and_Jewelry</td>\n",
              "      <td>['see', 'popularity', 'shoe', 'decide', 'test'...</td>\n",
              "      <td>seeing popularity shoe decided test impressed ...</td>\n",
              "      <td>[seeing, popularity, shoe, decided, test, impr...</td>\n",
              "    </tr>\n",
              "    <tr>\n",
              "      <th>2</th>\n",
              "      <td>5</td>\n",
              "      <td>2013-02-08</td>\n",
              "      <td>A1D18EJF6LHYDV</td>\n",
              "      <td>I was nervousness about the scent because IVe ...</td>\n",
              "      <td>Smells great</td>\n",
              "      <td>1360281600</td>\n",
              "      <td>All_Beauty</td>\n",
              "      <td>['nervousness', 'scent', 'ive', 'never', 'try'...</td>\n",
              "      <td>nervousness scent ive never tried love paul mi...</td>\n",
              "      <td>[nervousness, scent, ive, never, tried, love, ...</td>\n",
              "    </tr>\n",
              "    <tr>\n",
              "      <th>3</th>\n",
              "      <td>5</td>\n",
              "      <td>2018-02-15</td>\n",
              "      <td>A25EOTX5I354I2</td>\n",
              "      <td>I LOVE the smell. A bit expensive, so I cant b...</td>\n",
              "      <td>Five Stars</td>\n",
              "      <td>1518652800</td>\n",
              "      <td>Luxury_Beauty</td>\n",
              "      <td>['love', 'smell', 'bit', 'expensive', 'buy', '...</td>\n",
              "      <td>love smell bit expensive cant buy often would ...</td>\n",
              "      <td>[love, smell, bit, expensive, cant, buy, often...</td>\n",
              "    </tr>\n",
              "    <tr>\n",
              "      <th>4</th>\n",
              "      <td>5</td>\n",
              "      <td>2013-11-11</td>\n",
              "      <td>A1DFZPQPCHBYTY</td>\n",
              "      <td>Found this stuff in Japan and wondered if I co...</td>\n",
              "      <td>Super lathery nice soap!</td>\n",
              "      <td>1384128000</td>\n",
              "      <td>All_Beauty</td>\n",
              "      <td>['found', 'stuff', 'japan', 'wonder', 'could',...</td>\n",
              "      <td>found stuff japan wondered could find 3drops g...</td>\n",
              "      <td>[found, stuff, japan, wondered, could, find, 3...</td>\n",
              "    </tr>\n",
              "  </tbody>\n",
              "</table>\n",
              "</div>\n",
              "    <div class=\"colab-df-buttons\">\n",
              "\n",
              "  <div class=\"colab-df-container\">\n",
              "    <button class=\"colab-df-convert\" onclick=\"convertToInteractive('df-7a73db59-963a-43b9-aae8-0e5ce23939dc')\"\n",
              "            title=\"Convert this dataframe to an interactive table.\"\n",
              "            style=\"display:none;\">\n",
              "\n",
              "  <svg xmlns=\"http://www.w3.org/2000/svg\" height=\"24px\" viewBox=\"0 -960 960 960\">\n",
              "    <path d=\"M120-120v-720h720v720H120Zm60-500h600v-160H180v160Zm220 220h160v-160H400v160Zm0 220h160v-160H400v160ZM180-400h160v-160H180v160Zm440 0h160v-160H620v160ZM180-180h160v-160H180v160Zm440 0h160v-160H620v160Z\"/>\n",
              "  </svg>\n",
              "    </button>\n",
              "\n",
              "  <style>\n",
              "    .colab-df-container {\n",
              "      display:flex;\n",
              "      gap: 12px;\n",
              "    }\n",
              "\n",
              "    .colab-df-convert {\n",
              "      background-color: #E8F0FE;\n",
              "      border: none;\n",
              "      border-radius: 50%;\n",
              "      cursor: pointer;\n",
              "      display: none;\n",
              "      fill: #1967D2;\n",
              "      height: 32px;\n",
              "      padding: 0 0 0 0;\n",
              "      width: 32px;\n",
              "    }\n",
              "\n",
              "    .colab-df-convert:hover {\n",
              "      background-color: #E2EBFA;\n",
              "      box-shadow: 0px 1px 2px rgba(60, 64, 67, 0.3), 0px 1px 3px 1px rgba(60, 64, 67, 0.15);\n",
              "      fill: #174EA6;\n",
              "    }\n",
              "\n",
              "    .colab-df-buttons div {\n",
              "      margin-bottom: 4px;\n",
              "    }\n",
              "\n",
              "    [theme=dark] .colab-df-convert {\n",
              "      background-color: #3B4455;\n",
              "      fill: #D2E3FC;\n",
              "    }\n",
              "\n",
              "    [theme=dark] .colab-df-convert:hover {\n",
              "      background-color: #434B5C;\n",
              "      box-shadow: 0px 1px 3px 1px rgba(0, 0, 0, 0.15);\n",
              "      filter: drop-shadow(0px 1px 2px rgba(0, 0, 0, 0.3));\n",
              "      fill: #FFFFFF;\n",
              "    }\n",
              "  </style>\n",
              "\n",
              "    <script>\n",
              "      const buttonEl =\n",
              "        document.querySelector('#df-7a73db59-963a-43b9-aae8-0e5ce23939dc button.colab-df-convert');\n",
              "      buttonEl.style.display =\n",
              "        google.colab.kernel.accessAllowed ? 'block' : 'none';\n",
              "\n",
              "      async function convertToInteractive(key) {\n",
              "        const element = document.querySelector('#df-7a73db59-963a-43b9-aae8-0e5ce23939dc');\n",
              "        const dataTable =\n",
              "          await google.colab.kernel.invokeFunction('convertToInteractive',\n",
              "                                                    [key], {});\n",
              "        if (!dataTable) return;\n",
              "\n",
              "        const docLinkHtml = 'Like what you see? Visit the ' +\n",
              "          '<a target=\"_blank\" href=https://colab.research.google.com/notebooks/data_table.ipynb>data table notebook</a>'\n",
              "          + ' to learn more about interactive tables.';\n",
              "        element.innerHTML = '';\n",
              "        dataTable['output_type'] = 'display_data';\n",
              "        await google.colab.output.renderOutput(dataTable, element);\n",
              "        const docLink = document.createElement('div');\n",
              "        docLink.innerHTML = docLinkHtml;\n",
              "        element.appendChild(docLink);\n",
              "      }\n",
              "    </script>\n",
              "  </div>\n",
              "\n",
              "\n",
              "<div id=\"df-c8d7bdd3-33c5-492a-822a-46c471dec401\">\n",
              "  <button class=\"colab-df-quickchart\" onclick=\"quickchart('df-c8d7bdd3-33c5-492a-822a-46c471dec401')\"\n",
              "            title=\"Suggest charts\"\n",
              "            style=\"display:none;\">\n",
              "\n",
              "<svg xmlns=\"http://www.w3.org/2000/svg\" height=\"24px\"viewBox=\"0 0 24 24\"\n",
              "     width=\"24px\">\n",
              "    <g>\n",
              "        <path d=\"M19 3H5c-1.1 0-2 .9-2 2v14c0 1.1.9 2 2 2h14c1.1 0 2-.9 2-2V5c0-1.1-.9-2-2-2zM9 17H7v-7h2v7zm4 0h-2V7h2v10zm4 0h-2v-4h2v4z\"/>\n",
              "    </g>\n",
              "</svg>\n",
              "  </button>\n",
              "\n",
              "<style>\n",
              "  .colab-df-quickchart {\n",
              "      --bg-color: #E8F0FE;\n",
              "      --fill-color: #1967D2;\n",
              "      --hover-bg-color: #E2EBFA;\n",
              "      --hover-fill-color: #174EA6;\n",
              "      --disabled-fill-color: #AAA;\n",
              "      --disabled-bg-color: #DDD;\n",
              "  }\n",
              "\n",
              "  [theme=dark] .colab-df-quickchart {\n",
              "      --bg-color: #3B4455;\n",
              "      --fill-color: #D2E3FC;\n",
              "      --hover-bg-color: #434B5C;\n",
              "      --hover-fill-color: #FFFFFF;\n",
              "      --disabled-bg-color: #3B4455;\n",
              "      --disabled-fill-color: #666;\n",
              "  }\n",
              "\n",
              "  .colab-df-quickchart {\n",
              "    background-color: var(--bg-color);\n",
              "    border: none;\n",
              "    border-radius: 50%;\n",
              "    cursor: pointer;\n",
              "    display: none;\n",
              "    fill: var(--fill-color);\n",
              "    height: 32px;\n",
              "    padding: 0;\n",
              "    width: 32px;\n",
              "  }\n",
              "\n",
              "  .colab-df-quickchart:hover {\n",
              "    background-color: var(--hover-bg-color);\n",
              "    box-shadow: 0 1px 2px rgba(60, 64, 67, 0.3), 0 1px 3px 1px rgba(60, 64, 67, 0.15);\n",
              "    fill: var(--button-hover-fill-color);\n",
              "  }\n",
              "\n",
              "  .colab-df-quickchart-complete:disabled,\n",
              "  .colab-df-quickchart-complete:disabled:hover {\n",
              "    background-color: var(--disabled-bg-color);\n",
              "    fill: var(--disabled-fill-color);\n",
              "    box-shadow: none;\n",
              "  }\n",
              "\n",
              "  .colab-df-spinner {\n",
              "    border: 2px solid var(--fill-color);\n",
              "    border-color: transparent;\n",
              "    border-bottom-color: var(--fill-color);\n",
              "    animation:\n",
              "      spin 1s steps(1) infinite;\n",
              "  }\n",
              "\n",
              "  @keyframes spin {\n",
              "    0% {\n",
              "      border-color: transparent;\n",
              "      border-bottom-color: var(--fill-color);\n",
              "      border-left-color: var(--fill-color);\n",
              "    }\n",
              "    20% {\n",
              "      border-color: transparent;\n",
              "      border-left-color: var(--fill-color);\n",
              "      border-top-color: var(--fill-color);\n",
              "    }\n",
              "    30% {\n",
              "      border-color: transparent;\n",
              "      border-left-color: var(--fill-color);\n",
              "      border-top-color: var(--fill-color);\n",
              "      border-right-color: var(--fill-color);\n",
              "    }\n",
              "    40% {\n",
              "      border-color: transparent;\n",
              "      border-right-color: var(--fill-color);\n",
              "      border-top-color: var(--fill-color);\n",
              "    }\n",
              "    60% {\n",
              "      border-color: transparent;\n",
              "      border-right-color: var(--fill-color);\n",
              "    }\n",
              "    80% {\n",
              "      border-color: transparent;\n",
              "      border-right-color: var(--fill-color);\n",
              "      border-bottom-color: var(--fill-color);\n",
              "    }\n",
              "    90% {\n",
              "      border-color: transparent;\n",
              "      border-bottom-color: var(--fill-color);\n",
              "    }\n",
              "  }\n",
              "</style>\n",
              "\n",
              "  <script>\n",
              "    async function quickchart(key) {\n",
              "      const quickchartButtonEl =\n",
              "        document.querySelector('#' + key + ' button');\n",
              "      quickchartButtonEl.disabled = true;  // To prevent multiple clicks.\n",
              "      quickchartButtonEl.classList.add('colab-df-spinner');\n",
              "      try {\n",
              "        const charts = await google.colab.kernel.invokeFunction(\n",
              "            'suggestCharts', [key], {});\n",
              "      } catch (error) {\n",
              "        console.error('Error during call to suggestCharts:', error);\n",
              "      }\n",
              "      quickchartButtonEl.classList.remove('colab-df-spinner');\n",
              "      quickchartButtonEl.classList.add('colab-df-quickchart-complete');\n",
              "    }\n",
              "    (() => {\n",
              "      let quickchartButtonEl =\n",
              "        document.querySelector('#df-c8d7bdd3-33c5-492a-822a-46c471dec401 button');\n",
              "      quickchartButtonEl.style.display =\n",
              "        google.colab.kernel.accessAllowed ? 'block' : 'none';\n",
              "    })();\n",
              "  </script>\n",
              "</div>\n",
              "\n",
              "    </div>\n",
              "  </div>\n"
            ],
            "application/vnd.google.colaboratory.intrinsic+json": {
              "type": "dataframe",
              "variable_name": "df",
              "summary": "{\n  \"name\": \"df\",\n  \"rows\": 12000,\n  \"fields\": [\n    {\n      \"column\": \"rating\",\n      \"properties\": {\n        \"dtype\": \"number\",\n        \"std\": 0,\n        \"min\": 1,\n        \"max\": 5,\n        \"num_unique_values\": 5,\n        \"samples\": [\n          3,\n          2,\n          4\n        ],\n        \"semantic_type\": \"\",\n        \"description\": \"\"\n      }\n    },\n    {\n      \"column\": \"reviewTime\",\n      \"properties\": {\n        \"dtype\": \"object\",\n        \"num_unique_values\": 2073,\n        \"samples\": [\n          \"2017-10-27\",\n          \"2016-02-28\",\n          \"2016-02-15\"\n        ],\n        \"semantic_type\": \"\",\n        \"description\": \"\"\n      }\n    },\n    {\n      \"column\": \"reviewerID\",\n      \"properties\": {\n        \"dtype\": \"string\",\n        \"num_unique_values\": 6296,\n        \"samples\": [\n          \"A20FBQSSFW1WPX\",\n          \"A31R7NX9S391QJ\",\n          \"A3OXOUZJS0O2IL\"\n        ],\n        \"semantic_type\": \"\",\n        \"description\": \"\"\n      }\n    },\n    {\n      \"column\": \"reviewText\",\n      \"properties\": {\n        \"dtype\": \"string\",\n        \"num_unique_values\": 7101,\n        \"samples\": [\n          \"Excelente!\",\n          \"not really comfortable.\",\n          \"Just a bit snug as new shoes tend to be.... will be just fine after a week or so.\"\n        ],\n        \"semantic_type\": \"\",\n        \"description\": \"\"\n      }\n    },\n    {\n      \"column\": \"summary\",\n      \"properties\": {\n        \"dtype\": \"category\",\n        \"num_unique_values\": 4952,\n        \"samples\": [\n          \"wallpapering my tail\",\n          \"Not too bad of a file, wished there was a little more grit\",\n          \"what is not to like, they are a classic cool addition to your ...\"\n        ],\n        \"semantic_type\": \"\",\n        \"description\": \"\"\n      }\n    },\n    {\n      \"column\": \"unixReviewTime\",\n      \"properties\": {\n        \"dtype\": \"number\",\n        \"std\": 50806756,\n        \"min\": 1048377600,\n        \"max\": 1534982400,\n        \"num_unique_values\": 2073,\n        \"samples\": [\n          1509062400,\n          1456617600,\n          1455494400\n        ],\n        \"semantic_type\": \"\",\n        \"description\": \"\"\n      }\n    },\n    {\n      \"column\": \"category\",\n      \"properties\": {\n        \"dtype\": \"category\",\n        \"num_unique_values\": 4,\n        \"samples\": [\n          \"Clothing_Shoes_and_Jewelry\",\n          \"Amazon_Fashion\",\n          \"All_Beauty\"\n        ],\n        \"semantic_type\": \"\",\n        \"description\": \"\"\n      }\n    },\n    {\n      \"column\": \"reviewToken\",\n      \"properties\": {\n        \"dtype\": \"string\",\n        \"num_unique_values\": 6776,\n        \"samples\": [\n          \"['benefit', 'niacin', 'skin', 'well', 'document', 'excited', 'try', 'product', 'million', 'happy', 'think', 'skin', 'look', 'feel', 'great', 'lately', 'use', 'regularly', 'ever', 'product', 'notice', 'difference', 'cause', 'adverse', 'reaction', 'breakout', 'despite', 'oil', 'almost', 'always', 'apply', 'mixing', 'moisturizer', 'work', 'well', 'product', 'expensive', 'need', '23', 'drop', 'use', 'think', 'may', 'last', 'quite', 'awhile', 'love', 'much', 'want', 'buy', 'product', 'despite', 'cost']\",\n          \"['great', 'fit', 'long', 'enough', '6', 'man']\",\n          \"['daughter', 'love', 'shoe', 'fit', 'true', 'size']\"\n        ],\n        \"semantic_type\": \"\",\n        \"description\": \"\"\n      }\n    },\n    {\n      \"column\": \"preprocessedText\",\n      \"properties\": {\n        \"dtype\": \"string\",\n        \"num_unique_values\": 6808,\n        \"samples\": [\n          \"concealer nice coverage easy apply one application necessary color true expectations\",\n          \"great shirts first ordered one see fit got washed dried tried im tall thin guy ordered xl tall fit perfectly perfect length hard find since im tall sleeves exactly like em elbow mid bicep ordered bunch hard find perfect fitting shirts like\",\n          \"great home spa experience dry heels moisturizing booties really helped five stars\"\n        ],\n        \"semantic_type\": \"\",\n        \"description\": \"\"\n      }\n    },\n    {\n      \"column\": \"tokenized_text\",\n      \"properties\": {\n        \"dtype\": \"object\",\n        \"semantic_type\": \"\",\n        \"description\": \"\"\n      }\n    }\n  ]\n}"
            }
          },
          "metadata": {},
          "execution_count": 125
        }
      ]
    },
    {
      "cell_type": "code",
      "source": [
        "df.info()"
      ],
      "metadata": {
        "colab": {
          "base_uri": "https://localhost:8080/"
        },
        "id": "f4tIP6cjzE2O",
        "outputId": "55c0d314-43fb-4772-c208-4e43df214665"
      },
      "execution_count": 63,
      "outputs": [
        {
          "output_type": "stream",
          "name": "stdout",
          "text": [
            "<class 'pandas.core.frame.DataFrame'>\n",
            "RangeIndex: 12000 entries, 0 to 11999\n",
            "Data columns (total 8 columns):\n",
            " #   Column          Non-Null Count  Dtype  \n",
            "---  ------          --------------  -----  \n",
            " 0   rating          12000 non-null  float64\n",
            " 1   reviewTime      12000 non-null  object \n",
            " 2   reviewerID      12000 non-null  object \n",
            " 3   reviewText      11975 non-null  object \n",
            " 4   summary         11991 non-null  object \n",
            " 5   unixReviewTime  12000 non-null  int64  \n",
            " 6   category        12000 non-null  object \n",
            " 7   reviewToken     12000 non-null  object \n",
            "dtypes: float64(1), int64(1), object(6)\n",
            "memory usage: 750.1+ KB\n"
          ]
        }
      ]
    },
    {
      "cell_type": "markdown",
      "source": [
        "# Build the model"
      ],
      "metadata": {
        "id": "zL0KD9rDpGxt"
      }
    },
    {
      "cell_type": "code",
      "source": [
        "# Preprocessing\n",
        "def preprocess_text(text):\n",
        "    # Convert only string instances to lowercase\n",
        "    text = text.lower() if isinstance(text, str)  else ''\n",
        "    # Remove punctuation\n",
        "    text = text.translate(str.maketrans('', '', string.punctuation))\n",
        "    # Tokenize text\n",
        "    tokens = text.split()\n",
        "    # Remove stopwords\n",
        "    tokens = [word for word in tokens if word not in stop_words]\n",
        "    return \" \".join(tokens)\n",
        "\n",
        "\n",
        "df['preprocessedText'] = df['reviewText'].apply(preprocess_text)\n",
        "\n",
        "# Tokenize text again for word2vec\n",
        "df['tokenized_text'] = df['preprocessedText'].str.split()\n",
        "\n",
        "df['preprocessedText'].head()\n"
      ],
      "metadata": {
        "colab": {
          "base_uri": "https://localhost:8080/",
          "height": 241
        },
        "id": "F_Kja6GgpIVw",
        "outputId": "4963a05d-87aa-4118-e9f3-d0fa2d1fd3ac"
      },
      "execution_count": 64,
      "outputs": [
        {
          "output_type": "execute_result",
          "data": {
            "text/plain": [
              "0             great product wanted works great stylish\n",
              "1    seeing popularity shoe decided test impressed ...\n",
              "2    nervousness scent ive never tried love paul mi...\n",
              "3    love smell bit expensive cant buy often would ...\n",
              "4    found stuff japan wondered could find 3drops g...\n",
              "Name: preprocessedText, dtype: object"
            ],
            "text/html": [
              "<div>\n",
              "<style scoped>\n",
              "    .dataframe tbody tr th:only-of-type {\n",
              "        vertical-align: middle;\n",
              "    }\n",
              "\n",
              "    .dataframe tbody tr th {\n",
              "        vertical-align: top;\n",
              "    }\n",
              "\n",
              "    .dataframe thead th {\n",
              "        text-align: right;\n",
              "    }\n",
              "</style>\n",
              "<table border=\"1\" class=\"dataframe\">\n",
              "  <thead>\n",
              "    <tr style=\"text-align: right;\">\n",
              "      <th></th>\n",
              "      <th>preprocessedText</th>\n",
              "    </tr>\n",
              "  </thead>\n",
              "  <tbody>\n",
              "    <tr>\n",
              "      <th>0</th>\n",
              "      <td>great product wanted works great stylish</td>\n",
              "    </tr>\n",
              "    <tr>\n",
              "      <th>1</th>\n",
              "      <td>seeing popularity shoe decided test impressed ...</td>\n",
              "    </tr>\n",
              "    <tr>\n",
              "      <th>2</th>\n",
              "      <td>nervousness scent ive never tried love paul mi...</td>\n",
              "    </tr>\n",
              "    <tr>\n",
              "      <th>3</th>\n",
              "      <td>love smell bit expensive cant buy often would ...</td>\n",
              "    </tr>\n",
              "    <tr>\n",
              "      <th>4</th>\n",
              "      <td>found stuff japan wondered could find 3drops g...</td>\n",
              "    </tr>\n",
              "  </tbody>\n",
              "</table>\n",
              "</div><br><label><b>dtype:</b> object</label>"
            ]
          },
          "metadata": {},
          "execution_count": 64
        }
      ]
    },
    {
      "cell_type": "code",
      "source": [
        "y = df['rating']\n",
        "X = pd.DataFrame({'preprocessedText': df['preprocessedText'], 'tokenized_text': df['tokenized_text'], 'reviewText': df[\"reviewText\"]})\n",
        "\n",
        "X_train, X_test, y_train, y_test = train_test_split(X, y, test_size=0.2, random_state=42)\n",
        "\n",
        "# Combine train and test sets\n",
        "df_train = pd.DataFrame({'preprocessedText': X_train['preprocessedText'], 'tokenized_text': X_train['tokenized_text'], 'reviewText': X_train[\"reviewText\"], 'rating': y_train})\n",
        "df_test = pd.DataFrame({'preprocessedText': X_test['preprocessedText'], 'tokenized_text': X_test['tokenized_text'], 'reviewText': X_test[\"reviewText\"], 'rating': y_test})\n",
        "\n",
        "# Save them into csv files\n",
        "df_train.to_csv(folder_path + 'train.csv', index=True)\n",
        "df_test.to_csv(folder_path + 'test.csv', index=True)\n"
      ],
      "metadata": {
        "id": "wHqmS0y7RW39"
      },
      "execution_count": 65,
      "outputs": []
    },
    {
      "cell_type": "code",
      "source": [
        "X_train.head()"
      ],
      "metadata": {
        "colab": {
          "base_uri": "https://localhost:8080/",
          "height": 206
        },
        "id": "noH_t-i_VaEA",
        "outputId": "5696cbce-19b2-4273-dc1b-3ae7354fefd8"
      },
      "execution_count": 66,
      "outputs": [
        {
          "output_type": "execute_result",
          "data": {
            "text/plain": [
              "                                        preprocessedText  \\\n",
              "9182                                   comfortable shoes   \n",
              "11091  really like cleanser gentle skin face feels cl...   \n",
              "6428   nails home love cnd shellac great prodct truly...   \n",
              "288    finding natural shampoo isnt disappointing cha...   \n",
              "2626   shower lotion amazing smells wonderful never w...   \n",
              "\n",
              "                                          tokenized_text  \\\n",
              "9182                                [comfortable, shoes]   \n",
              "11091  [really, like, cleanser, gentle, skin, face, f...   \n",
              "6428   [nails, home, love, cnd, shellac, great, prodc...   \n",
              "288    [finding, natural, shampoo, isnt, disappointin...   \n",
              "2626   [shower, lotion, amazing, smells, wonderful, n...   \n",
              "\n",
              "                                              reviewText  \n",
              "9182                             Very comfortable shoes.  \n",
              "11091  I really like this cleanser. It is gentle on t...  \n",
              "6428   I do my own nails at home and love CND Shellac...  \n",
              "288    Finding a \"natural\" shampoo that isn't disappo...  \n",
              "2626   The in shower lotion is amazing. And it smells...  "
            ],
            "text/html": [
              "\n",
              "  <div id=\"df-e24e3d7e-b996-4676-acdb-799ff6f11f3e\" class=\"colab-df-container\">\n",
              "    <div>\n",
              "<style scoped>\n",
              "    .dataframe tbody tr th:only-of-type {\n",
              "        vertical-align: middle;\n",
              "    }\n",
              "\n",
              "    .dataframe tbody tr th {\n",
              "        vertical-align: top;\n",
              "    }\n",
              "\n",
              "    .dataframe thead th {\n",
              "        text-align: right;\n",
              "    }\n",
              "</style>\n",
              "<table border=\"1\" class=\"dataframe\">\n",
              "  <thead>\n",
              "    <tr style=\"text-align: right;\">\n",
              "      <th></th>\n",
              "      <th>preprocessedText</th>\n",
              "      <th>tokenized_text</th>\n",
              "      <th>reviewText</th>\n",
              "    </tr>\n",
              "  </thead>\n",
              "  <tbody>\n",
              "    <tr>\n",
              "      <th>9182</th>\n",
              "      <td>comfortable shoes</td>\n",
              "      <td>[comfortable, shoes]</td>\n",
              "      <td>Very comfortable shoes.</td>\n",
              "    </tr>\n",
              "    <tr>\n",
              "      <th>11091</th>\n",
              "      <td>really like cleanser gentle skin face feels cl...</td>\n",
              "      <td>[really, like, cleanser, gentle, skin, face, f...</td>\n",
              "      <td>I really like this cleanser. It is gentle on t...</td>\n",
              "    </tr>\n",
              "    <tr>\n",
              "      <th>6428</th>\n",
              "      <td>nails home love cnd shellac great prodct truly...</td>\n",
              "      <td>[nails, home, love, cnd, shellac, great, prodc...</td>\n",
              "      <td>I do my own nails at home and love CND Shellac...</td>\n",
              "    </tr>\n",
              "    <tr>\n",
              "      <th>288</th>\n",
              "      <td>finding natural shampoo isnt disappointing cha...</td>\n",
              "      <td>[finding, natural, shampoo, isnt, disappointin...</td>\n",
              "      <td>Finding a \"natural\" shampoo that isn't disappo...</td>\n",
              "    </tr>\n",
              "    <tr>\n",
              "      <th>2626</th>\n",
              "      <td>shower lotion amazing smells wonderful never w...</td>\n",
              "      <td>[shower, lotion, amazing, smells, wonderful, n...</td>\n",
              "      <td>The in shower lotion is amazing. And it smells...</td>\n",
              "    </tr>\n",
              "  </tbody>\n",
              "</table>\n",
              "</div>\n",
              "    <div class=\"colab-df-buttons\">\n",
              "\n",
              "  <div class=\"colab-df-container\">\n",
              "    <button class=\"colab-df-convert\" onclick=\"convertToInteractive('df-e24e3d7e-b996-4676-acdb-799ff6f11f3e')\"\n",
              "            title=\"Convert this dataframe to an interactive table.\"\n",
              "            style=\"display:none;\">\n",
              "\n",
              "  <svg xmlns=\"http://www.w3.org/2000/svg\" height=\"24px\" viewBox=\"0 -960 960 960\">\n",
              "    <path d=\"M120-120v-720h720v720H120Zm60-500h600v-160H180v160Zm220 220h160v-160H400v160Zm0 220h160v-160H400v160ZM180-400h160v-160H180v160Zm440 0h160v-160H620v160ZM180-180h160v-160H180v160Zm440 0h160v-160H620v160Z\"/>\n",
              "  </svg>\n",
              "    </button>\n",
              "\n",
              "  <style>\n",
              "    .colab-df-container {\n",
              "      display:flex;\n",
              "      gap: 12px;\n",
              "    }\n",
              "\n",
              "    .colab-df-convert {\n",
              "      background-color: #E8F0FE;\n",
              "      border: none;\n",
              "      border-radius: 50%;\n",
              "      cursor: pointer;\n",
              "      display: none;\n",
              "      fill: #1967D2;\n",
              "      height: 32px;\n",
              "      padding: 0 0 0 0;\n",
              "      width: 32px;\n",
              "    }\n",
              "\n",
              "    .colab-df-convert:hover {\n",
              "      background-color: #E2EBFA;\n",
              "      box-shadow: 0px 1px 2px rgba(60, 64, 67, 0.3), 0px 1px 3px 1px rgba(60, 64, 67, 0.15);\n",
              "      fill: #174EA6;\n",
              "    }\n",
              "\n",
              "    .colab-df-buttons div {\n",
              "      margin-bottom: 4px;\n",
              "    }\n",
              "\n",
              "    [theme=dark] .colab-df-convert {\n",
              "      background-color: #3B4455;\n",
              "      fill: #D2E3FC;\n",
              "    }\n",
              "\n",
              "    [theme=dark] .colab-df-convert:hover {\n",
              "      background-color: #434B5C;\n",
              "      box-shadow: 0px 1px 3px 1px rgba(0, 0, 0, 0.15);\n",
              "      filter: drop-shadow(0px 1px 2px rgba(0, 0, 0, 0.3));\n",
              "      fill: #FFFFFF;\n",
              "    }\n",
              "  </style>\n",
              "\n",
              "    <script>\n",
              "      const buttonEl =\n",
              "        document.querySelector('#df-e24e3d7e-b996-4676-acdb-799ff6f11f3e button.colab-df-convert');\n",
              "      buttonEl.style.display =\n",
              "        google.colab.kernel.accessAllowed ? 'block' : 'none';\n",
              "\n",
              "      async function convertToInteractive(key) {\n",
              "        const element = document.querySelector('#df-e24e3d7e-b996-4676-acdb-799ff6f11f3e');\n",
              "        const dataTable =\n",
              "          await google.colab.kernel.invokeFunction('convertToInteractive',\n",
              "                                                    [key], {});\n",
              "        if (!dataTable) return;\n",
              "\n",
              "        const docLinkHtml = 'Like what you see? Visit the ' +\n",
              "          '<a target=\"_blank\" href=https://colab.research.google.com/notebooks/data_table.ipynb>data table notebook</a>'\n",
              "          + ' to learn more about interactive tables.';\n",
              "        element.innerHTML = '';\n",
              "        dataTable['output_type'] = 'display_data';\n",
              "        await google.colab.output.renderOutput(dataTable, element);\n",
              "        const docLink = document.createElement('div');\n",
              "        docLink.innerHTML = docLinkHtml;\n",
              "        element.appendChild(docLink);\n",
              "      }\n",
              "    </script>\n",
              "  </div>\n",
              "\n",
              "\n",
              "<div id=\"df-23948cc2-b53f-45e6-9ac0-629788956c52\">\n",
              "  <button class=\"colab-df-quickchart\" onclick=\"quickchart('df-23948cc2-b53f-45e6-9ac0-629788956c52')\"\n",
              "            title=\"Suggest charts\"\n",
              "            style=\"display:none;\">\n",
              "\n",
              "<svg xmlns=\"http://www.w3.org/2000/svg\" height=\"24px\"viewBox=\"0 0 24 24\"\n",
              "     width=\"24px\">\n",
              "    <g>\n",
              "        <path d=\"M19 3H5c-1.1 0-2 .9-2 2v14c0 1.1.9 2 2 2h14c1.1 0 2-.9 2-2V5c0-1.1-.9-2-2-2zM9 17H7v-7h2v7zm4 0h-2V7h2v10zm4 0h-2v-4h2v4z\"/>\n",
              "    </g>\n",
              "</svg>\n",
              "  </button>\n",
              "\n",
              "<style>\n",
              "  .colab-df-quickchart {\n",
              "      --bg-color: #E8F0FE;\n",
              "      --fill-color: #1967D2;\n",
              "      --hover-bg-color: #E2EBFA;\n",
              "      --hover-fill-color: #174EA6;\n",
              "      --disabled-fill-color: #AAA;\n",
              "      --disabled-bg-color: #DDD;\n",
              "  }\n",
              "\n",
              "  [theme=dark] .colab-df-quickchart {\n",
              "      --bg-color: #3B4455;\n",
              "      --fill-color: #D2E3FC;\n",
              "      --hover-bg-color: #434B5C;\n",
              "      --hover-fill-color: #FFFFFF;\n",
              "      --disabled-bg-color: #3B4455;\n",
              "      --disabled-fill-color: #666;\n",
              "  }\n",
              "\n",
              "  .colab-df-quickchart {\n",
              "    background-color: var(--bg-color);\n",
              "    border: none;\n",
              "    border-radius: 50%;\n",
              "    cursor: pointer;\n",
              "    display: none;\n",
              "    fill: var(--fill-color);\n",
              "    height: 32px;\n",
              "    padding: 0;\n",
              "    width: 32px;\n",
              "  }\n",
              "\n",
              "  .colab-df-quickchart:hover {\n",
              "    background-color: var(--hover-bg-color);\n",
              "    box-shadow: 0 1px 2px rgba(60, 64, 67, 0.3), 0 1px 3px 1px rgba(60, 64, 67, 0.15);\n",
              "    fill: var(--button-hover-fill-color);\n",
              "  }\n",
              "\n",
              "  .colab-df-quickchart-complete:disabled,\n",
              "  .colab-df-quickchart-complete:disabled:hover {\n",
              "    background-color: var(--disabled-bg-color);\n",
              "    fill: var(--disabled-fill-color);\n",
              "    box-shadow: none;\n",
              "  }\n",
              "\n",
              "  .colab-df-spinner {\n",
              "    border: 2px solid var(--fill-color);\n",
              "    border-color: transparent;\n",
              "    border-bottom-color: var(--fill-color);\n",
              "    animation:\n",
              "      spin 1s steps(1) infinite;\n",
              "  }\n",
              "\n",
              "  @keyframes spin {\n",
              "    0% {\n",
              "      border-color: transparent;\n",
              "      border-bottom-color: var(--fill-color);\n",
              "      border-left-color: var(--fill-color);\n",
              "    }\n",
              "    20% {\n",
              "      border-color: transparent;\n",
              "      border-left-color: var(--fill-color);\n",
              "      border-top-color: var(--fill-color);\n",
              "    }\n",
              "    30% {\n",
              "      border-color: transparent;\n",
              "      border-left-color: var(--fill-color);\n",
              "      border-top-color: var(--fill-color);\n",
              "      border-right-color: var(--fill-color);\n",
              "    }\n",
              "    40% {\n",
              "      border-color: transparent;\n",
              "      border-right-color: var(--fill-color);\n",
              "      border-top-color: var(--fill-color);\n",
              "    }\n",
              "    60% {\n",
              "      border-color: transparent;\n",
              "      border-right-color: var(--fill-color);\n",
              "    }\n",
              "    80% {\n",
              "      border-color: transparent;\n",
              "      border-right-color: var(--fill-color);\n",
              "      border-bottom-color: var(--fill-color);\n",
              "    }\n",
              "    90% {\n",
              "      border-color: transparent;\n",
              "      border-bottom-color: var(--fill-color);\n",
              "    }\n",
              "  }\n",
              "</style>\n",
              "\n",
              "  <script>\n",
              "    async function quickchart(key) {\n",
              "      const quickchartButtonEl =\n",
              "        document.querySelector('#' + key + ' button');\n",
              "      quickchartButtonEl.disabled = true;  // To prevent multiple clicks.\n",
              "      quickchartButtonEl.classList.add('colab-df-spinner');\n",
              "      try {\n",
              "        const charts = await google.colab.kernel.invokeFunction(\n",
              "            'suggestCharts', [key], {});\n",
              "      } catch (error) {\n",
              "        console.error('Error during call to suggestCharts:', error);\n",
              "      }\n",
              "      quickchartButtonEl.classList.remove('colab-df-spinner');\n",
              "      quickchartButtonEl.classList.add('colab-df-quickchart-complete');\n",
              "    }\n",
              "    (() => {\n",
              "      let quickchartButtonEl =\n",
              "        document.querySelector('#df-23948cc2-b53f-45e6-9ac0-629788956c52 button');\n",
              "      quickchartButtonEl.style.display =\n",
              "        google.colab.kernel.accessAllowed ? 'block' : 'none';\n",
              "    })();\n",
              "  </script>\n",
              "</div>\n",
              "\n",
              "    </div>\n",
              "  </div>\n"
            ],
            "application/vnd.google.colaboratory.intrinsic+json": {
              "type": "dataframe",
              "variable_name": "X_train",
              "summary": "{\n  \"name\": \"X_train\",\n  \"rows\": 9600,\n  \"fields\": [\n    {\n      \"column\": \"preprocessedText\",\n      \"properties\": {\n        \"dtype\": \"string\",\n        \"num_unique_values\": 5696,\n        \"samples\": [\n          \"wear every day going work well coming home nice walking long distances great driving good drive eighty miles one way work daily hold rather good usually tear shoes second pair year nice shoes\",\n          \"amazing stuff super hydrating like nice compact size\",\n          \"gift complaints\"\n        ],\n        \"semantic_type\": \"\",\n        \"description\": \"\"\n      }\n    },\n    {\n      \"column\": \"tokenized_text\",\n      \"properties\": {\n        \"dtype\": \"object\",\n        \"semantic_type\": \"\",\n        \"description\": \"\"\n      }\n    },\n    {\n      \"column\": \"reviewText\",\n      \"properties\": {\n        \"dtype\": \"string\",\n        \"num_unique_values\": 5940,\n        \"samples\": [\n          \"What more can I say!  Comfortable leather upper and cushioned foot bed.  I used these for tennis and walking my dog.\",\n          \"It's not Parfait, which they discontinued.  :((((((  But it's fine.\",\n          \"The product is on the thick side and not easy to apply, but the color was correct, I had fair.\\nIt conceals well, dries fast, was great at covering pimples and the mustache area.\\nThe tone was even after it was applied.\\nYou only need a little bit.\\nIt blends well with foundation and powder. I started with a clean face.\\n\\nRecommended\"\n        ],\n        \"semantic_type\": \"\",\n        \"description\": \"\"\n      }\n    }\n  ]\n}"
            }
          },
          "metadata": {},
          "execution_count": 66
        }
      ]
    },
    {
      "cell_type": "code",
      "source": [
        "print(common_texts)"
      ],
      "metadata": {
        "colab": {
          "base_uri": "https://localhost:8080/"
        },
        "id": "Ijcsp4poG8M8",
        "outputId": "21e4c4be-ca4a-451c-b5a1-425ef9cd9581"
      },
      "execution_count": 67,
      "outputs": [
        {
          "output_type": "stream",
          "name": "stdout",
          "text": [
            "[['human', 'interface', 'computer'], ['survey', 'user', 'computer', 'system', 'response', 'time'], ['eps', 'user', 'interface', 'system'], ['system', 'human', 'system', 'eps'], ['user', 'response', 'time'], ['trees'], ['graph', 'trees'], ['graph', 'minors', 'trees'], ['graph', 'minors', 'survey']]\n"
          ]
        }
      ]
    },
    {
      "cell_type": "code",
      "source": [
        "# TF-IDF Vectorization\n",
        "tfidf = TfidfVectorizer()\n",
        "X_tfidf_train = tfidf.fit_transform(X_train['preprocessedText']).toarray()\n",
        "X_tfidf_test = tfidf.transform(X_test['preprocessedText']).toarray()\n",
        "\n",
        "# Word2Vec Embeddings\n",
        "w2v_model_train = Word2Vec(sentences=common_texts, vector_size=100, window=5, min_count=1, workers=4)\n",
        "\n",
        "def get_sentence_embedding(word_list, model):\n",
        "    word_vecs = [model.wv[word] for word in word_list if word in model.wv]\n",
        "    if word_vecs:\n",
        "        return np.mean(word_vecs, axis=0)\n",
        "    else:\n",
        "        return np.zeros(model.vector_size)\n",
        "\n",
        "X_w2v_train = np.array([get_sentence_embedding(word_list, w2v_model_train) for word_list in X_train['tokenized_text']])\n",
        "X_w2v_test = np.array([get_sentence_embedding(word_list, w2v_model_train) for word_list in X_test['tokenized_text']])\n",
        "\n",
        "X_train_vectorized = np.hstack((X_tfidf_train, X_w2v_train))\n",
        "X_test_vectorized = np.hstack((X_tfidf_test, X_w2v_test))\n"
      ],
      "metadata": {
        "id": "oUiXjoEhshIk"
      },
      "execution_count": 68,
      "outputs": []
    },
    {
      "cell_type": "markdown",
      "source": [
        "## Including wandb for analysis during model training"
      ],
      "metadata": {
        "id": "C7NbOIFbu0ek"
      }
    },
    {
      "cell_type": "code",
      "source": [
        "wandb.login()"
      ],
      "metadata": {
        "colab": {
          "base_uri": "https://localhost:8080/"
        },
        "id": "EjDJ7Tltu4rt",
        "outputId": "1dca95af-5f93-4194-eb45-a99ebe40da95"
      },
      "execution_count": 69,
      "outputs": [
        {
          "output_type": "execute_result",
          "data": {
            "text/plain": [
              "True"
            ]
          },
          "metadata": {},
          "execution_count": 69
        }
      ]
    },
    {
      "cell_type": "code",
      "source": [
        "wandb_project_name = \"DOPP analysis\"\n",
        "wandb_run_name = \"rf_experiment-9-estimators-100\"\n",
        "\n",
        "rf_config = {\n",
        "    \"n_estimators\": 100,\n",
        "    \"max_depth\": None,\n",
        "    \"random_state\": 42,\n",
        "    \"test_size\": 0.2,\n",
        "    \"dataset\": \"Word2Vec\"\n",
        "}\n",
        "\n",
        "\n",
        "wandb.init(\n",
        "    project=wandb_project_name,\n",
        "    name=wandb_run_name,\n",
        "    config=rf_config\n",
        ")\n",
        "\n",
        "\n",
        "start_time = time.time()\n",
        "\n",
        "rf_model = RandomForestClassifier(\n",
        "    n_estimators=rf_config[\"n_estimators\"],\n",
        "    max_depth=rf_config[\"max_depth\"],\n",
        "    random_state=rf_config[\"random_state\"]\n",
        ")\n",
        "rf_model.fit(X_train_vectorized, y_train)\n",
        "\n",
        "y_pred_rf = rf_model.predict(X_test_vectorized)\n",
        "end_time = time.time()\n",
        "execution_time = end_time - start_time\n",
        "\n",
        "f1Score = f1_score(y_test, y_pred_rf, average='macro')\n",
        "precision = precision_score(y_test, y_pred_rf, average='macro')\n",
        "recall = recall_score(y_test, y_pred_rf, average='macro')\n",
        "\n",
        "# Log metrics to W&B\n",
        "wandb.log({\n",
        "    \"Execution Time\": execution_time,\n",
        "    \"F1 Score\": f1Score,\n",
        "    \"Precision Score\": precision,\n",
        "    \"Recall Score\": recall\n",
        "})\n",
        "\n",
        "print(\"Execution Time:\", execution_time, \"seconds\")\n",
        "print(\"Precision Score:\", precision)\n",
        "print(\"Recall Score:\", recall)\n",
        "print(\"F1 Score:\", f1Score, \"\\n\")\n",
        "print(classification_report(y_test, y_pred_rf))\n",
        "\n",
        "# [optional] finish the wandb run, necessary in notebooks\n",
        "wandb.finish()"
      ],
      "metadata": {
        "colab": {
          "base_uri": "https://localhost:8080/",
          "height": 839
        },
        "id": "n-QpurypvFns",
        "outputId": "c0dcc423-900c-43e6-b0d9-fdf5564b4bce"
      },
      "execution_count": 70,
      "outputs": [
        {
          "output_type": "display_data",
          "data": {
            "text/plain": [
              "<IPython.core.display.HTML object>"
            ],
            "text/html": [
              "Tracking run with wandb version 0.19.4"
            ]
          },
          "metadata": {}
        },
        {
          "output_type": "display_data",
          "data": {
            "text/plain": [
              "<IPython.core.display.HTML object>"
            ],
            "text/html": [
              "Run data is saved locally in <code>/content/wandb/run-20250126_150235-k8id5m43</code>"
            ]
          },
          "metadata": {}
        },
        {
          "output_type": "display_data",
          "data": {
            "text/plain": [
              "<IPython.core.display.HTML object>"
            ],
            "text/html": [
              "Syncing run <strong><a href='https://wandb.ai/l-beccard-tu-wien/DOPP%20analysis/runs/k8id5m43' target=\"_blank\">rf_experiment-9-estimators-100</a></strong> to <a href='https://wandb.ai/l-beccard-tu-wien/DOPP%20analysis' target=\"_blank\">Weights & Biases</a> (<a href='https://wandb.me/developer-guide' target=\"_blank\">docs</a>)<br>"
            ]
          },
          "metadata": {}
        },
        {
          "output_type": "display_data",
          "data": {
            "text/plain": [
              "<IPython.core.display.HTML object>"
            ],
            "text/html": [
              " View project at <a href='https://wandb.ai/l-beccard-tu-wien/DOPP%20analysis' target=\"_blank\">https://wandb.ai/l-beccard-tu-wien/DOPP%20analysis</a>"
            ]
          },
          "metadata": {}
        },
        {
          "output_type": "display_data",
          "data": {
            "text/plain": [
              "<IPython.core.display.HTML object>"
            ],
            "text/html": [
              " View run at <a href='https://wandb.ai/l-beccard-tu-wien/DOPP%20analysis/runs/k8id5m43' target=\"_blank\">https://wandb.ai/l-beccard-tu-wien/DOPP%20analysis/runs/k8id5m43</a>"
            ]
          },
          "metadata": {}
        },
        {
          "output_type": "stream",
          "name": "stdout",
          "text": [
            "Execution Time: 118.98339509963989 seconds\n",
            "Precision Score: 0.8809310081132928\n",
            "Recall Score: 0.4893494597601945\n",
            "F1 Score: 0.5915729568156776 \n",
            "\n",
            "              precision    recall  f1-score   support\n",
            "\n",
            "         1.0       0.77      0.35      0.48        68\n",
            "         2.0       0.97      0.38      0.55        73\n",
            "         3.0       0.99      0.37      0.54       182\n",
            "         4.0       0.88      0.34      0.49       351\n",
            "         5.0       0.80      0.99      0.89      1726\n",
            "\n",
            "    accuracy                           0.81      2400\n",
            "   macro avg       0.88      0.49      0.59      2400\n",
            "weighted avg       0.83      0.81      0.78      2400\n",
            "\n"
          ]
        },
        {
          "output_type": "display_data",
          "data": {
            "text/plain": [
              "<IPython.core.display.HTML object>"
            ],
            "text/html": []
          },
          "metadata": {}
        },
        {
          "output_type": "display_data",
          "data": {
            "text/plain": [
              "<IPython.core.display.HTML object>"
            ],
            "text/html": [
              "<br>    <style><br>        .wandb-row {<br>            display: flex;<br>            flex-direction: row;<br>            flex-wrap: wrap;<br>            justify-content: flex-start;<br>            width: 100%;<br>        }<br>        .wandb-col {<br>            display: flex;<br>            flex-direction: column;<br>            flex-basis: 100%;<br>            flex: 1;<br>            padding: 10px;<br>        }<br>    </style><br><div class=\"wandb-row\"><div class=\"wandb-col\"><h3>Run history:</h3><br/><table class=\"wandb\"><tr><td>Execution Time</td><td>▁</td></tr><tr><td>F1 Score</td><td>▁</td></tr><tr><td>Precision Score</td><td>▁</td></tr><tr><td>Recall Score</td><td>▁</td></tr></table><br/></div><div class=\"wandb-col\"><h3>Run summary:</h3><br/><table class=\"wandb\"><tr><td>Execution Time</td><td>118.9834</td></tr><tr><td>F1 Score</td><td>0.59157</td></tr><tr><td>Precision Score</td><td>0.88093</td></tr><tr><td>Recall Score</td><td>0.48935</td></tr></table><br/></div></div>"
            ]
          },
          "metadata": {}
        },
        {
          "output_type": "display_data",
          "data": {
            "text/plain": [
              "<IPython.core.display.HTML object>"
            ],
            "text/html": [
              " View run <strong style=\"color:#cdcd00\">rf_experiment-9-estimators-100</strong> at: <a href='https://wandb.ai/l-beccard-tu-wien/DOPP%20analysis/runs/k8id5m43' target=\"_blank\">https://wandb.ai/l-beccard-tu-wien/DOPP%20analysis/runs/k8id5m43</a><br> View project at: <a href='https://wandb.ai/l-beccard-tu-wien/DOPP%20analysis' target=\"_blank\">https://wandb.ai/l-beccard-tu-wien/DOPP%20analysis</a><br>Synced 5 W&B file(s), 0 media file(s), 0 artifact file(s) and 0 other file(s)"
            ]
          },
          "metadata": {}
        },
        {
          "output_type": "display_data",
          "data": {
            "text/plain": [
              "<IPython.core.display.HTML object>"
            ],
            "text/html": [
              "Find logs at: <code>./wandb/run-20250126_150235-k8id5m43/logs</code>"
            ]
          },
          "metadata": {}
        }
      ]
    },
    {
      "cell_type": "code",
      "source": [
        "svc_config = {\n",
        "    \"random_state\": 42,\n",
        "    \"test_size\": 0.2,\n",
        "    \"max_iter\": 1000,\n",
        "    \"penalty\": \"l1\",\n",
        "    \"dataset\": \"Combined\"\n",
        "}\n",
        "\n",
        "wandb_project_name = \"DOPP analysis\"\n",
        "\n",
        "wandb.init(\n",
        "    project=wandb_project_name,\n",
        "    name=\"svc_experiment-4\",\n",
        "    config=svc_config\n",
        ")\n",
        "\n",
        "start_time = time.time()\n",
        "\n",
        "linear_svc_model = LinearSVC(random_state=svc_config[\"random_state\"], penalty=svc_config[\"penalty\"])\n",
        "linear_svc_model.fit(X_train_vectorized, y_train)\n",
        "\n",
        "y_pred_svc = linear_svc_model.predict(X_test_vectorized)\n",
        "end_time = time.time()\n",
        "execution_time = end_time - start_time\n",
        "\n",
        "f1Score = f1_score(y_test, y_pred_svc, average='macro')\n",
        "precision = precision_score(y_test, y_pred_svc, average='macro')\n",
        "recall = recall_score(y_test, y_pred_svc, average='macro')\n",
        "\n",
        "wandb.log({\n",
        "    \"Execution Time\": execution_time,\n",
        "    \"F1 Score\": f1Score,\n",
        "    \"Precision Score\": precision,\n",
        "    \"Recall Score\": recall\n",
        "})\n",
        "\n",
        "print(\"Execution Time:\", execution_time, \"seconds\")\n",
        "print(\"Precision Score:\", precision)\n",
        "print(\"Recall Score:\", recall)\n",
        "print(\"F1 Score:\", f1Score, \"\\n\")\n",
        "print(classification_report(y_test, y_pred_svc))\n",
        "\n",
        "wandb.finish()"
      ],
      "metadata": {
        "colab": {
          "base_uri": "https://localhost:8080/",
          "height": 839
        },
        "id": "iuDbMxpAyjq6",
        "outputId": "5449a130-88ce-4a61-fef4-e30117144a8d"
      },
      "execution_count": 71,
      "outputs": [
        {
          "output_type": "display_data",
          "data": {
            "text/plain": [
              "<IPython.core.display.HTML object>"
            ],
            "text/html": [
              "Tracking run with wandb version 0.19.4"
            ]
          },
          "metadata": {}
        },
        {
          "output_type": "display_data",
          "data": {
            "text/plain": [
              "<IPython.core.display.HTML object>"
            ],
            "text/html": [
              "Run data is saved locally in <code>/content/wandb/run-20250126_150441-npb3fk6y</code>"
            ]
          },
          "metadata": {}
        },
        {
          "output_type": "display_data",
          "data": {
            "text/plain": [
              "<IPython.core.display.HTML object>"
            ],
            "text/html": [
              "Syncing run <strong><a href='https://wandb.ai/l-beccard-tu-wien/DOPP%20analysis/runs/npb3fk6y' target=\"_blank\">svc_experiment-4</a></strong> to <a href='https://wandb.ai/l-beccard-tu-wien/DOPP%20analysis' target=\"_blank\">Weights & Biases</a> (<a href='https://wandb.me/developer-guide' target=\"_blank\">docs</a>)<br>"
            ]
          },
          "metadata": {}
        },
        {
          "output_type": "display_data",
          "data": {
            "text/plain": [
              "<IPython.core.display.HTML object>"
            ],
            "text/html": [
              " View project at <a href='https://wandb.ai/l-beccard-tu-wien/DOPP%20analysis' target=\"_blank\">https://wandb.ai/l-beccard-tu-wien/DOPP%20analysis</a>"
            ]
          },
          "metadata": {}
        },
        {
          "output_type": "display_data",
          "data": {
            "text/plain": [
              "<IPython.core.display.HTML object>"
            ],
            "text/html": [
              " View run at <a href='https://wandb.ai/l-beccard-tu-wien/DOPP%20analysis/runs/npb3fk6y' target=\"_blank\">https://wandb.ai/l-beccard-tu-wien/DOPP%20analysis/runs/npb3fk6y</a>"
            ]
          },
          "metadata": {}
        },
        {
          "output_type": "stream",
          "name": "stdout",
          "text": [
            "Execution Time: 2.0560805797576904 seconds\n",
            "Precision Score: 0.6633378211874695\n",
            "Recall Score: 0.516365226302919\n",
            "F1 Score: 0.5710940107187673 \n",
            "\n",
            "              precision    recall  f1-score   support\n",
            "\n",
            "         1.0       0.57      0.38      0.46        68\n",
            "         2.0       0.68      0.38      0.49        73\n",
            "         3.0       0.61      0.40      0.48       182\n",
            "         4.0       0.60      0.47      0.53       351\n",
            "         5.0       0.86      0.95      0.90      1726\n",
            "\n",
            "    accuracy                           0.81      2400\n",
            "   macro avg       0.66      0.52      0.57      2400\n",
            "weighted avg       0.79      0.81      0.79      2400\n",
            "\n"
          ]
        },
        {
          "output_type": "display_data",
          "data": {
            "text/plain": [
              "<IPython.core.display.HTML object>"
            ],
            "text/html": []
          },
          "metadata": {}
        },
        {
          "output_type": "display_data",
          "data": {
            "text/plain": [
              "<IPython.core.display.HTML object>"
            ],
            "text/html": [
              "<br>    <style><br>        .wandb-row {<br>            display: flex;<br>            flex-direction: row;<br>            flex-wrap: wrap;<br>            justify-content: flex-start;<br>            width: 100%;<br>        }<br>        .wandb-col {<br>            display: flex;<br>            flex-direction: column;<br>            flex-basis: 100%;<br>            flex: 1;<br>            padding: 10px;<br>        }<br>    </style><br><div class=\"wandb-row\"><div class=\"wandb-col\"><h3>Run history:</h3><br/><table class=\"wandb\"><tr><td>Execution Time</td><td>▁</td></tr><tr><td>F1 Score</td><td>▁</td></tr><tr><td>Precision Score</td><td>▁</td></tr><tr><td>Recall Score</td><td>▁</td></tr></table><br/></div><div class=\"wandb-col\"><h3>Run summary:</h3><br/><table class=\"wandb\"><tr><td>Execution Time</td><td>2.05608</td></tr><tr><td>F1 Score</td><td>0.57109</td></tr><tr><td>Precision Score</td><td>0.66334</td></tr><tr><td>Recall Score</td><td>0.51637</td></tr></table><br/></div></div>"
            ]
          },
          "metadata": {}
        },
        {
          "output_type": "display_data",
          "data": {
            "text/plain": [
              "<IPython.core.display.HTML object>"
            ],
            "text/html": [
              " View run <strong style=\"color:#cdcd00\">svc_experiment-4</strong> at: <a href='https://wandb.ai/l-beccard-tu-wien/DOPP%20analysis/runs/npb3fk6y' target=\"_blank\">https://wandb.ai/l-beccard-tu-wien/DOPP%20analysis/runs/npb3fk6y</a><br> View project at: <a href='https://wandb.ai/l-beccard-tu-wien/DOPP%20analysis' target=\"_blank\">https://wandb.ai/l-beccard-tu-wien/DOPP%20analysis</a><br>Synced 5 W&B file(s), 0 media file(s), 0 artifact file(s) and 0 other file(s)"
            ]
          },
          "metadata": {}
        },
        {
          "output_type": "display_data",
          "data": {
            "text/plain": [
              "<IPython.core.display.HTML object>"
            ],
            "text/html": [
              "Find logs at: <code>./wandb/run-20250126_150441-npb3fk6y/logs</code>"
            ]
          },
          "metadata": {}
        }
      ]
    },
    {
      "cell_type": "markdown",
      "source": [
        "## Qualitative misclassification analysis"
      ],
      "metadata": {
        "id": "r57xDsUY8kot"
      }
    },
    {
      "cell_type": "code",
      "source": [
        "print(np.unique(y_pred_svc))\n",
        "print(np.unique(y_pred_rf))\n"
      ],
      "metadata": {
        "colab": {
          "base_uri": "https://localhost:8080/"
        },
        "id": "4v7wkbSE8soI",
        "outputId": "7e170363-a5e7-4af1-dbe2-e96c0dc5dc83"
      },
      "execution_count": 72,
      "outputs": [
        {
          "output_type": "stream",
          "name": "stdout",
          "text": [
            "[1. 2. 3. 4. 5.]\n",
            "[1. 2. 3. 4. 5.]\n"
          ]
        }
      ]
    },
    {
      "cell_type": "markdown",
      "source": [
        "We see our models predict all given classes.  \n",
        "Now, let's understand why some classes are misclassified."
      ],
      "metadata": {
        "id": "nXixokC79HHY"
      }
    },
    {
      "cell_type": "code",
      "source": [
        "false_preds_svc = y_pred_svc != y_test\n",
        "\n",
        "misclassified_predictions = y_pred_svc[false_preds_svc]\n",
        "misclassified_labels = y_test[false_preds_svc]"
      ],
      "metadata": {
        "id": "jwh-vkNS91AC"
      },
      "execution_count": 73,
      "outputs": []
    },
    {
      "cell_type": "code",
      "source": [
        "misclassified_predictions"
      ],
      "metadata": {
        "colab": {
          "base_uri": "https://localhost:8080/"
        },
        "id": "m3YPfRJ8B7NR",
        "outputId": "1c68311f-1abd-4c6f-952f-6d1aac5f6c1a"
      },
      "execution_count": 74,
      "outputs": [
        {
          "output_type": "execute_result",
          "data": {
            "text/plain": [
              "array([5., 5., 5., 3., 5., 5., 5., 5., 1., 3., 4., 4., 5., 5., 5., 5., 5.,\n",
              "       5., 4., 5., 5., 5., 5., 4., 4., 5., 1., 5., 5., 2., 5., 5., 5., 4.,\n",
              "       5., 4., 4., 5., 5., 4., 3., 5., 5., 5., 5., 4., 5., 4., 5., 5., 5.,\n",
              "       4., 4., 5., 5., 5., 5., 1., 4., 5., 2., 4., 3., 5., 5., 3., 5., 5.,\n",
              "       2., 5., 5., 4., 5., 5., 5., 5., 5., 5., 5., 5., 4., 5., 4., 3., 5.,\n",
              "       4., 5., 5., 1., 5., 5., 4., 4., 3., 5., 5., 5., 5., 5., 4., 5., 4.,\n",
              "       4., 1., 4., 5., 5., 5., 4., 4., 5., 5., 5., 1., 5., 5., 5., 3., 5.,\n",
              "       4., 5., 2., 4., 4., 5., 4., 5., 5., 4., 3., 5., 5., 5., 5., 5., 4.,\n",
              "       5., 4., 1., 3., 3., 5., 5., 5., 5., 3., 5., 4., 5., 5., 4., 5., 4.,\n",
              "       4., 4., 4., 4., 5., 3., 4., 5., 3., 4., 2., 5., 4., 5., 5., 5., 5.,\n",
              "       5., 5., 5., 5., 5., 4., 5., 4., 5., 4., 4., 4., 3., 5., 5., 1., 5.,\n",
              "       3., 4., 4., 5., 4., 5., 3., 5., 4., 4., 2., 3., 1., 4., 4., 5., 5.,\n",
              "       5., 5., 1., 5., 1., 5., 5., 5., 5., 5., 4., 5., 3., 5., 5., 5., 5.,\n",
              "       3., 5., 5., 5., 5., 4., 5., 3., 3., 5., 5., 4., 5., 5., 5., 5., 5.,\n",
              "       5., 4., 5., 4., 5., 5., 5., 4., 4., 5., 3., 5., 4., 5., 5., 4., 3.,\n",
              "       3., 2., 5., 5., 5., 4., 5., 5., 5., 5., 4., 4., 2., 5., 3., 5., 1.,\n",
              "       5., 4., 4., 5., 3., 5., 4., 4., 1., 5., 5., 3., 5., 3., 2., 5., 4.,\n",
              "       5., 1., 5., 5., 5., 5., 5., 4., 5., 5., 3., 4., 5., 5., 5., 4., 5.,\n",
              "       3., 5., 5., 5., 4., 4., 5., 5., 5., 1., 5., 5., 5., 5., 5., 3., 5.,\n",
              "       4., 5., 5., 5., 5., 3., 5., 5., 4., 4., 5., 4., 5., 5., 4., 4., 5.,\n",
              "       5., 4., 3., 5., 1., 5., 5., 1., 5., 5., 4., 5., 3., 5., 5., 5., 3.,\n",
              "       5., 4., 3., 5., 5., 5., 5., 5., 5., 5., 5., 5., 1., 5., 5., 5., 5.,\n",
              "       4., 2., 5., 5., 5., 5., 5., 5., 5., 2., 5., 4., 4., 5., 2., 4., 5.,\n",
              "       5., 4., 3., 5., 1., 5., 5., 4., 3., 4., 5., 5., 5., 3., 5., 5., 5.,\n",
              "       4., 3., 4., 5., 4., 5., 5., 5., 5., 4., 5., 2., 5., 5., 5., 3., 3.,\n",
              "       1., 5., 4., 5., 5., 5., 5., 3., 5., 5., 4., 4., 5., 5., 5., 5., 5.,\n",
              "       5., 5., 5., 5., 4., 4., 4., 5., 5., 5., 4., 5., 4., 5., 4., 5., 5.,\n",
              "       4., 5., 3., 3., 5., 5.])"
            ]
          },
          "metadata": {},
          "execution_count": 74
        }
      ]
    },
    {
      "cell_type": "code",
      "source": [
        "np.unique(misclassified_predictions, return_counts=True)"
      ],
      "metadata": {
        "colab": {
          "base_uri": "https://localhost:8080/"
        },
        "id": "haiVDc4CA0ej",
        "outputId": "aef2c8b6-be66-4965-af16-edd78310d058"
      },
      "execution_count": 75,
      "outputs": [
        {
          "output_type": "execute_result",
          "data": {
            "text/plain": [
              "(array([1., 2., 3., 4., 5.]), array([ 20,  13,  46, 108, 278]))"
            ]
          },
          "metadata": {},
          "execution_count": 75
        }
      ]
    },
    {
      "cell_type": "markdown",
      "source": [
        "By this frequency count, it is observable that most of the time a 5-star-rating is predicting wrong, which makes sense since the original dataset is quite imbalanced. The grade 2 has been misclassified the least but is also the least represented class in the dataset."
      ],
      "metadata": {
        "id": "JAU1pOS4BGv0"
      }
    },
    {
      "cell_type": "code",
      "source": [
        "misclassified_labels"
      ],
      "metadata": {
        "colab": {
          "base_uri": "https://localhost:8080/",
          "height": 459
        },
        "id": "nqemDj7o_JUU",
        "outputId": "fa3a143b-5407-4984-ffbe-cab1a78875a9"
      },
      "execution_count": 76,
      "outputs": [
        {
          "output_type": "execute_result",
          "data": {
            "text/plain": [
              "6494    3.0\n",
              "9120    4.0\n",
              "9663    4.0\n",
              "5277    1.0\n",
              "8546    3.0\n",
              "       ... \n",
              "7889    4.0\n",
              "5157    2.0\n",
              "9586    4.0\n",
              "4295    4.0\n",
              "1195    4.0\n",
              "Name: rating, Length: 465, dtype: float64"
            ],
            "text/html": [
              "<div>\n",
              "<style scoped>\n",
              "    .dataframe tbody tr th:only-of-type {\n",
              "        vertical-align: middle;\n",
              "    }\n",
              "\n",
              "    .dataframe tbody tr th {\n",
              "        vertical-align: top;\n",
              "    }\n",
              "\n",
              "    .dataframe thead th {\n",
              "        text-align: right;\n",
              "    }\n",
              "</style>\n",
              "<table border=\"1\" class=\"dataframe\">\n",
              "  <thead>\n",
              "    <tr style=\"text-align: right;\">\n",
              "      <th></th>\n",
              "      <th>rating</th>\n",
              "    </tr>\n",
              "  </thead>\n",
              "  <tbody>\n",
              "    <tr>\n",
              "      <th>6494</th>\n",
              "      <td>3.0</td>\n",
              "    </tr>\n",
              "    <tr>\n",
              "      <th>9120</th>\n",
              "      <td>4.0</td>\n",
              "    </tr>\n",
              "    <tr>\n",
              "      <th>9663</th>\n",
              "      <td>4.0</td>\n",
              "    </tr>\n",
              "    <tr>\n",
              "      <th>5277</th>\n",
              "      <td>1.0</td>\n",
              "    </tr>\n",
              "    <tr>\n",
              "      <th>8546</th>\n",
              "      <td>3.0</td>\n",
              "    </tr>\n",
              "    <tr>\n",
              "      <th>...</th>\n",
              "      <td>...</td>\n",
              "    </tr>\n",
              "    <tr>\n",
              "      <th>7889</th>\n",
              "      <td>4.0</td>\n",
              "    </tr>\n",
              "    <tr>\n",
              "      <th>5157</th>\n",
              "      <td>2.0</td>\n",
              "    </tr>\n",
              "    <tr>\n",
              "      <th>9586</th>\n",
              "      <td>4.0</td>\n",
              "    </tr>\n",
              "    <tr>\n",
              "      <th>4295</th>\n",
              "      <td>4.0</td>\n",
              "    </tr>\n",
              "    <tr>\n",
              "      <th>1195</th>\n",
              "      <td>4.0</td>\n",
              "    </tr>\n",
              "  </tbody>\n",
              "</table>\n",
              "<p>465 rows × 1 columns</p>\n",
              "</div><br><label><b>dtype:</b> float64</label>"
            ]
          },
          "metadata": {},
          "execution_count": 76
        }
      ]
    },
    {
      "cell_type": "code",
      "source": [
        "df_misclassified = df.iloc[misclassified_labels.index]"
      ],
      "metadata": {
        "id": "u6dHM4So_MEf"
      },
      "execution_count": 77,
      "outputs": []
    },
    {
      "cell_type": "code",
      "source": [
        "df_misclassified[\"misclassified_rating\"] = misclassified_predictions"
      ],
      "metadata": {
        "colab": {
          "base_uri": "https://localhost:8080/"
        },
        "id": "UeSvwQYs_XHy",
        "outputId": "8c1992a5-debc-4b60-ce8e-fac1b1abadc4"
      },
      "execution_count": 78,
      "outputs": [
        {
          "output_type": "stream",
          "name": "stderr",
          "text": [
            "<ipython-input-78-38338740226b>:1: SettingWithCopyWarning: \n",
            "A value is trying to be set on a copy of a slice from a DataFrame.\n",
            "Try using .loc[row_indexer,col_indexer] = value instead\n",
            "\n",
            "See the caveats in the documentation: https://pandas.pydata.org/pandas-docs/stable/user_guide/indexing.html#returning-a-view-versus-a-copy\n",
            "  df_misclassified[\"misclassified_rating\"] = misclassified_predictions\n"
          ]
        }
      ]
    },
    {
      "cell_type": "code",
      "source": [
        "df_misclassified.iloc[0]"
      ],
      "metadata": {
        "colab": {
          "base_uri": "https://localhost:8080/",
          "height": 429
        },
        "id": "IpwFoedk_ttm",
        "outputId": "0658bee4-341c-44fc-8e6c-427d3f3b727e"
      },
      "execution_count": 79,
      "outputs": [
        {
          "output_type": "execute_result",
          "data": {
            "text/plain": [
              "rating                                                                3.0\n",
              "reviewTime                                                     2014-08-18\n",
              "reviewerID                                                  AOEUN9718KVRD\n",
              "reviewText              The foam conditioner is easy to use and doesn'...\n",
              "summary                                             Don't like the scent.\n",
              "unixReviewTime                                                 1408320000\n",
              "category                                                       All_Beauty\n",
              "reviewToken             ['foam', 'conditioner', 'easy', 'use', 'leave'...\n",
              "preprocessedText        foam conditioner easy use doesnt leave greasy ...\n",
              "tokenized_text          [foam, conditioner, easy, use, doesnt, leave, ...\n",
              "misclassified_rating                                                  5.0\n",
              "Name: 6494, dtype: object"
            ],
            "text/html": [
              "<div>\n",
              "<style scoped>\n",
              "    .dataframe tbody tr th:only-of-type {\n",
              "        vertical-align: middle;\n",
              "    }\n",
              "\n",
              "    .dataframe tbody tr th {\n",
              "        vertical-align: top;\n",
              "    }\n",
              "\n",
              "    .dataframe thead th {\n",
              "        text-align: right;\n",
              "    }\n",
              "</style>\n",
              "<table border=\"1\" class=\"dataframe\">\n",
              "  <thead>\n",
              "    <tr style=\"text-align: right;\">\n",
              "      <th></th>\n",
              "      <th>6494</th>\n",
              "    </tr>\n",
              "  </thead>\n",
              "  <tbody>\n",
              "    <tr>\n",
              "      <th>rating</th>\n",
              "      <td>3.0</td>\n",
              "    </tr>\n",
              "    <tr>\n",
              "      <th>reviewTime</th>\n",
              "      <td>2014-08-18</td>\n",
              "    </tr>\n",
              "    <tr>\n",
              "      <th>reviewerID</th>\n",
              "      <td>AOEUN9718KVRD</td>\n",
              "    </tr>\n",
              "    <tr>\n",
              "      <th>reviewText</th>\n",
              "      <td>The foam conditioner is easy to use and doesn'...</td>\n",
              "    </tr>\n",
              "    <tr>\n",
              "      <th>summary</th>\n",
              "      <td>Don't like the scent.</td>\n",
              "    </tr>\n",
              "    <tr>\n",
              "      <th>unixReviewTime</th>\n",
              "      <td>1408320000</td>\n",
              "    </tr>\n",
              "    <tr>\n",
              "      <th>category</th>\n",
              "      <td>All_Beauty</td>\n",
              "    </tr>\n",
              "    <tr>\n",
              "      <th>reviewToken</th>\n",
              "      <td>['foam', 'conditioner', 'easy', 'use', 'leave'...</td>\n",
              "    </tr>\n",
              "    <tr>\n",
              "      <th>preprocessedText</th>\n",
              "      <td>foam conditioner easy use doesnt leave greasy ...</td>\n",
              "    </tr>\n",
              "    <tr>\n",
              "      <th>tokenized_text</th>\n",
              "      <td>[foam, conditioner, easy, use, doesnt, leave, ...</td>\n",
              "    </tr>\n",
              "    <tr>\n",
              "      <th>misclassified_rating</th>\n",
              "      <td>5.0</td>\n",
              "    </tr>\n",
              "  </tbody>\n",
              "</table>\n",
              "</div><br><label><b>dtype:</b> object</label>"
            ]
          },
          "metadata": {},
          "execution_count": 79
        }
      ]
    },
    {
      "cell_type": "code",
      "source": [
        "df_misclassified.iloc[0][\"reviewText\"]"
      ],
      "metadata": {
        "colab": {
          "base_uri": "https://localhost:8080/",
          "height": 53
        },
        "id": "Z-wkKbNk_6g8",
        "outputId": "97763b03-22ab-48eb-990d-5240e8a72bcc"
      },
      "execution_count": 80,
      "outputs": [
        {
          "output_type": "execute_result",
          "data": {
            "text/plain": [
              "\"The foam conditioner is easy to use and doesn't leave greasy residue on hair. There was no problem in rinsing it off.\\nI just don't like the smell, it bothers me. It's very chemical.\""
            ],
            "application/vnd.google.colaboratory.intrinsic+json": {
              "type": "string"
            }
          },
          "metadata": {},
          "execution_count": 80
        }
      ]
    },
    {
      "cell_type": "markdown",
      "source": [
        "Based on the review text, we can observe that the model does not really understand the final critizing words of the this review. The review text itself is reasonable to give this three stars."
      ],
      "metadata": {
        "id": "Oa62rV-MARhj"
      }
    },
    {
      "cell_type": "code",
      "source": [
        "df_misclassified.iloc[14]"
      ],
      "metadata": {
        "colab": {
          "base_uri": "https://localhost:8080/",
          "height": 429
        },
        "id": "mUY2JVVPAE7j",
        "outputId": "a38766c1-3fef-4a05-c9b8-2fae75c60939"
      },
      "execution_count": 81,
      "outputs": [
        {
          "output_type": "execute_result",
          "data": {
            "text/plain": [
              "rating                                                                4.0\n",
              "reviewTime                                                     2015-05-14\n",
              "reviewerID                                                 A22HY3D260KUAW\n",
              "reviewText              One of my recent samples has been Mario Badesc...\n",
              "summary                             I like the way it makes my skin tight\n",
              "unixReviewTime                                                 1431561600\n",
              "category                                                    Luxury_Beauty\n",
              "reviewToken             ['one', 'recent', 'sample', 'mario', 'badescu'...\n",
              "preprocessedText        one recent samples mario badescu skin care pro...\n",
              "tokenized_text          [one, recent, samples, mario, badescu, skin, c...\n",
              "misclassified_rating                                                  5.0\n",
              "Name: 11815, dtype: object"
            ],
            "text/html": [
              "<div>\n",
              "<style scoped>\n",
              "    .dataframe tbody tr th:only-of-type {\n",
              "        vertical-align: middle;\n",
              "    }\n",
              "\n",
              "    .dataframe tbody tr th {\n",
              "        vertical-align: top;\n",
              "    }\n",
              "\n",
              "    .dataframe thead th {\n",
              "        text-align: right;\n",
              "    }\n",
              "</style>\n",
              "<table border=\"1\" class=\"dataframe\">\n",
              "  <thead>\n",
              "    <tr style=\"text-align: right;\">\n",
              "      <th></th>\n",
              "      <th>11815</th>\n",
              "    </tr>\n",
              "  </thead>\n",
              "  <tbody>\n",
              "    <tr>\n",
              "      <th>rating</th>\n",
              "      <td>4.0</td>\n",
              "    </tr>\n",
              "    <tr>\n",
              "      <th>reviewTime</th>\n",
              "      <td>2015-05-14</td>\n",
              "    </tr>\n",
              "    <tr>\n",
              "      <th>reviewerID</th>\n",
              "      <td>A22HY3D260KUAW</td>\n",
              "    </tr>\n",
              "    <tr>\n",
              "      <th>reviewText</th>\n",
              "      <td>One of my recent samples has been Mario Badesc...</td>\n",
              "    </tr>\n",
              "    <tr>\n",
              "      <th>summary</th>\n",
              "      <td>I like the way it makes my skin tight</td>\n",
              "    </tr>\n",
              "    <tr>\n",
              "      <th>unixReviewTime</th>\n",
              "      <td>1431561600</td>\n",
              "    </tr>\n",
              "    <tr>\n",
              "      <th>category</th>\n",
              "      <td>Luxury_Beauty</td>\n",
              "    </tr>\n",
              "    <tr>\n",
              "      <th>reviewToken</th>\n",
              "      <td>['one', 'recent', 'sample', 'mario', 'badescu'...</td>\n",
              "    </tr>\n",
              "    <tr>\n",
              "      <th>preprocessedText</th>\n",
              "      <td>one recent samples mario badescu skin care pro...</td>\n",
              "    </tr>\n",
              "    <tr>\n",
              "      <th>tokenized_text</th>\n",
              "      <td>[one, recent, samples, mario, badescu, skin, c...</td>\n",
              "    </tr>\n",
              "    <tr>\n",
              "      <th>misclassified_rating</th>\n",
              "      <td>5.0</td>\n",
              "    </tr>\n",
              "  </tbody>\n",
              "</table>\n",
              "</div><br><label><b>dtype:</b> object</label>"
            ]
          },
          "metadata": {},
          "execution_count": 81
        }
      ]
    },
    {
      "cell_type": "code",
      "source": [
        "df_misclassified.iloc[14][\"reviewText\"]"
      ],
      "metadata": {
        "colab": {
          "base_uri": "https://localhost:8080/",
          "height": 125
        },
        "id": "raM2rqIQAsuK",
        "outputId": "1ae7b858-e420-498c-fc1d-480199aecabd"
      },
      "execution_count": 82,
      "outputs": [
        {
          "output_type": "execute_result",
          "data": {
            "text/plain": [
              "'One of my recent samples has been Mario Badescu Skin Care Products. I started off with the Almond and Honey Face Scrub which was a pretty gentle scrub. It smells AWESOME, I am a big fan of the sweet almond scent! I give this scent 5 stars :-) I scrubbed it onto my moistened face and rinsed it off, it left my skin feeling very clean and soft. I then applied some of the Seaweed Cleansing Lotion (toner) it smelled pretty plain and earthy. The Seaweed scent was just ok, but it left my skin feeling clean and tight. Next I applied a small amount of the Ceramide Herbal Eye Cream. It smells like a non-scented lotion. This was just ok. I then massaged the Hyaluronic Moisturizer (SPF 15) into my face and neck which also smells like a non-scented lotion. It went on light, its not really thick, which I liked. Out of all these products I loved the Almond and Honey Scrub & the rest of the products were just ok.'"
            ],
            "application/vnd.google.colaboratory.intrinsic+json": {
              "type": "string"
            }
          },
          "metadata": {},
          "execution_count": 82
        }
      ]
    },
    {
      "cell_type": "markdown",
      "source": [
        "Again, the review text presents some kind of critique, which should be understood by the model not to rate it with five stars."
      ],
      "metadata": {
        "id": "BZqSmedKBifH"
      }
    },
    {
      "cell_type": "code",
      "source": [
        "df_misclassified.iloc[31]"
      ],
      "metadata": {
        "colab": {
          "base_uri": "https://localhost:8080/",
          "height": 429
        },
        "id": "igyy8R42AyAt",
        "outputId": "fcc9663e-4b54-4213-ddaf-07c2e85a7144"
      },
      "execution_count": 83,
      "outputs": [
        {
          "output_type": "execute_result",
          "data": {
            "text/plain": [
              "rating                                                                4.0\n",
              "reviewTime                                                     2017-03-04\n",
              "reviewerID                                                 A2YKWYC3WQJX5J\n",
              "reviewText              As someone with sensitive skin, I appreciate g...\n",
              "summary                                           Good for sensitive skin\n",
              "unixReviewTime                                                 1488585600\n",
              "category                                                    Luxury_Beauty\n",
              "reviewToken             ['someone', 'sensitive', 'skin', 'appreciate',...\n",
              "preprocessedText        someone sensitive skin appreciate gentle clean...\n",
              "tokenized_text          [someone, sensitive, skin, appreciate, gentle,...\n",
              "misclassified_rating                                                  5.0\n",
              "Name: 2036, dtype: object"
            ],
            "text/html": [
              "<div>\n",
              "<style scoped>\n",
              "    .dataframe tbody tr th:only-of-type {\n",
              "        vertical-align: middle;\n",
              "    }\n",
              "\n",
              "    .dataframe tbody tr th {\n",
              "        vertical-align: top;\n",
              "    }\n",
              "\n",
              "    .dataframe thead th {\n",
              "        text-align: right;\n",
              "    }\n",
              "</style>\n",
              "<table border=\"1\" class=\"dataframe\">\n",
              "  <thead>\n",
              "    <tr style=\"text-align: right;\">\n",
              "      <th></th>\n",
              "      <th>2036</th>\n",
              "    </tr>\n",
              "  </thead>\n",
              "  <tbody>\n",
              "    <tr>\n",
              "      <th>rating</th>\n",
              "      <td>4.0</td>\n",
              "    </tr>\n",
              "    <tr>\n",
              "      <th>reviewTime</th>\n",
              "      <td>2017-03-04</td>\n",
              "    </tr>\n",
              "    <tr>\n",
              "      <th>reviewerID</th>\n",
              "      <td>A2YKWYC3WQJX5J</td>\n",
              "    </tr>\n",
              "    <tr>\n",
              "      <th>reviewText</th>\n",
              "      <td>As someone with sensitive skin, I appreciate g...</td>\n",
              "    </tr>\n",
              "    <tr>\n",
              "      <th>summary</th>\n",
              "      <td>Good for sensitive skin</td>\n",
              "    </tr>\n",
              "    <tr>\n",
              "      <th>unixReviewTime</th>\n",
              "      <td>1488585600</td>\n",
              "    </tr>\n",
              "    <tr>\n",
              "      <th>category</th>\n",
              "      <td>Luxury_Beauty</td>\n",
              "    </tr>\n",
              "    <tr>\n",
              "      <th>reviewToken</th>\n",
              "      <td>['someone', 'sensitive', 'skin', 'appreciate',...</td>\n",
              "    </tr>\n",
              "    <tr>\n",
              "      <th>preprocessedText</th>\n",
              "      <td>someone sensitive skin appreciate gentle clean...</td>\n",
              "    </tr>\n",
              "    <tr>\n",
              "      <th>tokenized_text</th>\n",
              "      <td>[someone, sensitive, skin, appreciate, gentle,...</td>\n",
              "    </tr>\n",
              "    <tr>\n",
              "      <th>misclassified_rating</th>\n",
              "      <td>5.0</td>\n",
              "    </tr>\n",
              "  </tbody>\n",
              "</table>\n",
              "</div><br><label><b>dtype:</b> object</label>"
            ]
          },
          "metadata": {},
          "execution_count": 83
        }
      ]
    },
    {
      "cell_type": "code",
      "source": [
        "df_misclassified.iloc[31][\"reviewText\"]"
      ],
      "metadata": {
        "colab": {
          "base_uri": "https://localhost:8080/",
          "height": 88
        },
        "id": "mUNUhYMCCDGV",
        "outputId": "114db430-eef1-4c46-924a-5314e9cb4cee"
      },
      "execution_count": 84,
      "outputs": [
        {
          "output_type": "execute_result",
          "data": {
            "text/plain": [
              "'As someone with sensitive skin, I appreciate gentle cleansers.\\nAs someone that will occasionally wear heavy foundation, I appreciate a cleanser that will remove every last bit of makeup.\\nThis cleanser treats my sensitive skin with kid gloves, but I find that I need a toner with it to remove the last traces of makeup.\\nIt contains the soothing benefits of oat and aloe vera. Sage and borage extracts are also beneficial to skin, however, fragrance and yellow dye, not so much.'"
            ],
            "application/vnd.google.colaboratory.intrinsic+json": {
              "type": "string"
            }
          },
          "metadata": {},
          "execution_count": 84
        }
      ]
    },
    {
      "cell_type": "markdown",
      "source": [
        "This is an interesting case since we have the opposite behaviour of the model now predicting a higher rated product of 4 with a lower rating of 2.\n",
        "This review text is easy to understand for a human but since we remove stopwords for model training it might be possible that the sentence ends up with complete different meaning with meaningful words like `died` and `carefully`. Based on an assumption like this a two star rating seems plausible."
      ],
      "metadata": {
        "id": "SGGoQH0qCO1J"
      }
    },
    {
      "cell_type": "markdown",
      "source": [
        "## Balancing optimizations"
      ],
      "metadata": {
        "id": "KwJvNsI_DU-X"
      }
    },
    {
      "cell_type": "code",
      "source": [
        "df_train[\"rating\"].value_counts()"
      ],
      "metadata": {
        "colab": {
          "base_uri": "https://localhost:8080/",
          "height": 272
        },
        "id": "J0KgHybBCM7f",
        "outputId": "1ac67cea-101c-4ce3-aef6-804ca5fb092d"
      },
      "execution_count": 85,
      "outputs": [
        {
          "output_type": "execute_result",
          "data": {
            "text/plain": [
              "rating\n",
              "5.0    6820\n",
              "4.0    1414\n",
              "3.0     722\n",
              "1.0     338\n",
              "2.0     306\n",
              "Name: count, dtype: int64"
            ],
            "text/html": [
              "<div>\n",
              "<style scoped>\n",
              "    .dataframe tbody tr th:only-of-type {\n",
              "        vertical-align: middle;\n",
              "    }\n",
              "\n",
              "    .dataframe tbody tr th {\n",
              "        vertical-align: top;\n",
              "    }\n",
              "\n",
              "    .dataframe thead th {\n",
              "        text-align: right;\n",
              "    }\n",
              "</style>\n",
              "<table border=\"1\" class=\"dataframe\">\n",
              "  <thead>\n",
              "    <tr style=\"text-align: right;\">\n",
              "      <th></th>\n",
              "      <th>count</th>\n",
              "    </tr>\n",
              "    <tr>\n",
              "      <th>rating</th>\n",
              "      <th></th>\n",
              "    </tr>\n",
              "  </thead>\n",
              "  <tbody>\n",
              "    <tr>\n",
              "      <th>5.0</th>\n",
              "      <td>6820</td>\n",
              "    </tr>\n",
              "    <tr>\n",
              "      <th>4.0</th>\n",
              "      <td>1414</td>\n",
              "    </tr>\n",
              "    <tr>\n",
              "      <th>3.0</th>\n",
              "      <td>722</td>\n",
              "    </tr>\n",
              "    <tr>\n",
              "      <th>1.0</th>\n",
              "      <td>338</td>\n",
              "    </tr>\n",
              "    <tr>\n",
              "      <th>2.0</th>\n",
              "      <td>306</td>\n",
              "    </tr>\n",
              "  </tbody>\n",
              "</table>\n",
              "</div><br><label><b>dtype:</b> int64</label>"
            ]
          },
          "metadata": {},
          "execution_count": 85
        }
      ]
    },
    {
      "cell_type": "markdown",
      "source": [
        "We have only 306 two star ratings as the least represented class. Therefore, we will take only 306 random samples from the other classes."
      ],
      "metadata": {
        "id": "frJVk71NG_f9"
      }
    },
    {
      "cell_type": "code",
      "source": [
        "df_rating_2 = df_train[df_train[\"rating\"] == 2]"
      ],
      "metadata": {
        "id": "vdKy4WM4G21V"
      },
      "execution_count": 86,
      "outputs": []
    },
    {
      "cell_type": "code",
      "source": [
        "df_rating_1 = df_train[df_train[\"rating\"] == 1].sample(n=306, random_state=42)\n",
        "df_rating_3 = df_train[df_train[\"rating\"] == 3].sample(n=306, random_state=42)\n",
        "df_rating_4 = df_train[df_train[\"rating\"] == 4].sample(n=306, random_state=42)\n",
        "df_rating_5 = df_train[df_train[\"rating\"] == 5].sample(n=306, random_state=42)"
      ],
      "metadata": {
        "id": "xggFIRNLHT0m"
      },
      "execution_count": 87,
      "outputs": []
    },
    {
      "cell_type": "code",
      "source": [
        "# Merge all dataframes\n",
        "df_balanced = pd.concat([df_rating_2, df_rating_1, df_rating_3, df_rating_4, df_rating_5])"
      ],
      "metadata": {
        "id": "0AMNafikHq-e"
      },
      "execution_count": 88,
      "outputs": []
    },
    {
      "cell_type": "code",
      "source": [
        "df_balanced.shape"
      ],
      "metadata": {
        "colab": {
          "base_uri": "https://localhost:8080/"
        },
        "id": "ACL6Sx4OHyA9",
        "outputId": "8178d86f-a95c-4051-ef08-865c2090d274"
      },
      "execution_count": 89,
      "outputs": [
        {
          "output_type": "execute_result",
          "data": {
            "text/plain": [
              "(1530, 4)"
            ]
          },
          "metadata": {},
          "execution_count": 89
        }
      ]
    },
    {
      "cell_type": "code",
      "source": [
        "df_balanced[\"rating\"].value_counts()"
      ],
      "metadata": {
        "colab": {
          "base_uri": "https://localhost:8080/",
          "height": 272
        },
        "id": "PlxkOAoeH0g4",
        "outputId": "e8c56930-f943-4dcd-edd3-3ec88b22e50a"
      },
      "execution_count": 90,
      "outputs": [
        {
          "output_type": "execute_result",
          "data": {
            "text/plain": [
              "rating\n",
              "2.0    306\n",
              "1.0    306\n",
              "3.0    306\n",
              "4.0    306\n",
              "5.0    306\n",
              "Name: count, dtype: int64"
            ],
            "text/html": [
              "<div>\n",
              "<style scoped>\n",
              "    .dataframe tbody tr th:only-of-type {\n",
              "        vertical-align: middle;\n",
              "    }\n",
              "\n",
              "    .dataframe tbody tr th {\n",
              "        vertical-align: top;\n",
              "    }\n",
              "\n",
              "    .dataframe thead th {\n",
              "        text-align: right;\n",
              "    }\n",
              "</style>\n",
              "<table border=\"1\" class=\"dataframe\">\n",
              "  <thead>\n",
              "    <tr style=\"text-align: right;\">\n",
              "      <th></th>\n",
              "      <th>count</th>\n",
              "    </tr>\n",
              "    <tr>\n",
              "      <th>rating</th>\n",
              "      <th></th>\n",
              "    </tr>\n",
              "  </thead>\n",
              "  <tbody>\n",
              "    <tr>\n",
              "      <th>2.0</th>\n",
              "      <td>306</td>\n",
              "    </tr>\n",
              "    <tr>\n",
              "      <th>1.0</th>\n",
              "      <td>306</td>\n",
              "    </tr>\n",
              "    <tr>\n",
              "      <th>3.0</th>\n",
              "      <td>306</td>\n",
              "    </tr>\n",
              "    <tr>\n",
              "      <th>4.0</th>\n",
              "      <td>306</td>\n",
              "    </tr>\n",
              "    <tr>\n",
              "      <th>5.0</th>\n",
              "      <td>306</td>\n",
              "    </tr>\n",
              "  </tbody>\n",
              "</table>\n",
              "</div><br><label><b>dtype:</b> int64</label>"
            ]
          },
          "metadata": {},
          "execution_count": 90
        }
      ]
    },
    {
      "cell_type": "code",
      "source": [
        "df_balanced.head()"
      ],
      "metadata": {
        "colab": {
          "base_uri": "https://localhost:8080/",
          "height": 206
        },
        "id": "knRAmqLJIAXD",
        "outputId": "e3b85e4f-e1f7-431c-c2a1-0763db0d297b"
      },
      "execution_count": 91,
      "outputs": [
        {
          "output_type": "execute_result",
          "data": {
            "text/plain": [
              "                                        preprocessedText  \\\n",
              "10238                             feel like got large 68   \n",
              "3499   purchased product read review amazoncom well f...   \n",
              "1026   2 coats topcoat still chipped thought price wo...   \n",
              "10506  email query received listed site converse mens...   \n",
              "6728                       long walking tougher barefoot   \n",
              "\n",
              "                                          tokenized_text  \\\n",
              "10238                       [feel, like, got, large, 68]   \n",
              "3499   [purchased, product, read, review, amazoncom, ...   \n",
              "1026   [2, coats, topcoat, still, chipped, thought, p...   \n",
              "10506  [email, query, received, listed, site, convers...   \n",
              "6728                  [long, walking, tougher, barefoot]   \n",
              "\n",
              "                                              reviewText  rating  \n",
              "10238  feel like I should have got a large.\\n\\ni am a...     2.0  \n",
              "3499   I purchased this product when I read a review ...     2.0  \n",
              "1026   2 coats and a topcoat and still it chipped.  T...     2.0  \n",
              "10506  This is the email query I received.... the wer...     2.0  \n",
              "6728               Long walking is tougher than barefoot     2.0  "
            ],
            "text/html": [
              "\n",
              "  <div id=\"df-fe643447-5878-41e9-985f-44bf09052482\" class=\"colab-df-container\">\n",
              "    <div>\n",
              "<style scoped>\n",
              "    .dataframe tbody tr th:only-of-type {\n",
              "        vertical-align: middle;\n",
              "    }\n",
              "\n",
              "    .dataframe tbody tr th {\n",
              "        vertical-align: top;\n",
              "    }\n",
              "\n",
              "    .dataframe thead th {\n",
              "        text-align: right;\n",
              "    }\n",
              "</style>\n",
              "<table border=\"1\" class=\"dataframe\">\n",
              "  <thead>\n",
              "    <tr style=\"text-align: right;\">\n",
              "      <th></th>\n",
              "      <th>preprocessedText</th>\n",
              "      <th>tokenized_text</th>\n",
              "      <th>reviewText</th>\n",
              "      <th>rating</th>\n",
              "    </tr>\n",
              "  </thead>\n",
              "  <tbody>\n",
              "    <tr>\n",
              "      <th>10238</th>\n",
              "      <td>feel like got large 68</td>\n",
              "      <td>[feel, like, got, large, 68]</td>\n",
              "      <td>feel like I should have got a large.\\n\\ni am a...</td>\n",
              "      <td>2.0</td>\n",
              "    </tr>\n",
              "    <tr>\n",
              "      <th>3499</th>\n",
              "      <td>purchased product read review amazoncom well f...</td>\n",
              "      <td>[purchased, product, read, review, amazoncom, ...</td>\n",
              "      <td>I purchased this product when I read a review ...</td>\n",
              "      <td>2.0</td>\n",
              "    </tr>\n",
              "    <tr>\n",
              "      <th>1026</th>\n",
              "      <td>2 coats topcoat still chipped thought price wo...</td>\n",
              "      <td>[2, coats, topcoat, still, chipped, thought, p...</td>\n",
              "      <td>2 coats and a topcoat and still it chipped.  T...</td>\n",
              "      <td>2.0</td>\n",
              "    </tr>\n",
              "    <tr>\n",
              "      <th>10506</th>\n",
              "      <td>email query received listed site converse mens...</td>\n",
              "      <td>[email, query, received, listed, site, convers...</td>\n",
              "      <td>This is the email query I received.... the wer...</td>\n",
              "      <td>2.0</td>\n",
              "    </tr>\n",
              "    <tr>\n",
              "      <th>6728</th>\n",
              "      <td>long walking tougher barefoot</td>\n",
              "      <td>[long, walking, tougher, barefoot]</td>\n",
              "      <td>Long walking is tougher than barefoot</td>\n",
              "      <td>2.0</td>\n",
              "    </tr>\n",
              "  </tbody>\n",
              "</table>\n",
              "</div>\n",
              "    <div class=\"colab-df-buttons\">\n",
              "\n",
              "  <div class=\"colab-df-container\">\n",
              "    <button class=\"colab-df-convert\" onclick=\"convertToInteractive('df-fe643447-5878-41e9-985f-44bf09052482')\"\n",
              "            title=\"Convert this dataframe to an interactive table.\"\n",
              "            style=\"display:none;\">\n",
              "\n",
              "  <svg xmlns=\"http://www.w3.org/2000/svg\" height=\"24px\" viewBox=\"0 -960 960 960\">\n",
              "    <path d=\"M120-120v-720h720v720H120Zm60-500h600v-160H180v160Zm220 220h160v-160H400v160Zm0 220h160v-160H400v160ZM180-400h160v-160H180v160Zm440 0h160v-160H620v160ZM180-180h160v-160H180v160Zm440 0h160v-160H620v160Z\"/>\n",
              "  </svg>\n",
              "    </button>\n",
              "\n",
              "  <style>\n",
              "    .colab-df-container {\n",
              "      display:flex;\n",
              "      gap: 12px;\n",
              "    }\n",
              "\n",
              "    .colab-df-convert {\n",
              "      background-color: #E8F0FE;\n",
              "      border: none;\n",
              "      border-radius: 50%;\n",
              "      cursor: pointer;\n",
              "      display: none;\n",
              "      fill: #1967D2;\n",
              "      height: 32px;\n",
              "      padding: 0 0 0 0;\n",
              "      width: 32px;\n",
              "    }\n",
              "\n",
              "    .colab-df-convert:hover {\n",
              "      background-color: #E2EBFA;\n",
              "      box-shadow: 0px 1px 2px rgba(60, 64, 67, 0.3), 0px 1px 3px 1px rgba(60, 64, 67, 0.15);\n",
              "      fill: #174EA6;\n",
              "    }\n",
              "\n",
              "    .colab-df-buttons div {\n",
              "      margin-bottom: 4px;\n",
              "    }\n",
              "\n",
              "    [theme=dark] .colab-df-convert {\n",
              "      background-color: #3B4455;\n",
              "      fill: #D2E3FC;\n",
              "    }\n",
              "\n",
              "    [theme=dark] .colab-df-convert:hover {\n",
              "      background-color: #434B5C;\n",
              "      box-shadow: 0px 1px 3px 1px rgba(0, 0, 0, 0.15);\n",
              "      filter: drop-shadow(0px 1px 2px rgba(0, 0, 0, 0.3));\n",
              "      fill: #FFFFFF;\n",
              "    }\n",
              "  </style>\n",
              "\n",
              "    <script>\n",
              "      const buttonEl =\n",
              "        document.querySelector('#df-fe643447-5878-41e9-985f-44bf09052482 button.colab-df-convert');\n",
              "      buttonEl.style.display =\n",
              "        google.colab.kernel.accessAllowed ? 'block' : 'none';\n",
              "\n",
              "      async function convertToInteractive(key) {\n",
              "        const element = document.querySelector('#df-fe643447-5878-41e9-985f-44bf09052482');\n",
              "        const dataTable =\n",
              "          await google.colab.kernel.invokeFunction('convertToInteractive',\n",
              "                                                    [key], {});\n",
              "        if (!dataTable) return;\n",
              "\n",
              "        const docLinkHtml = 'Like what you see? Visit the ' +\n",
              "          '<a target=\"_blank\" href=https://colab.research.google.com/notebooks/data_table.ipynb>data table notebook</a>'\n",
              "          + ' to learn more about interactive tables.';\n",
              "        element.innerHTML = '';\n",
              "        dataTable['output_type'] = 'display_data';\n",
              "        await google.colab.output.renderOutput(dataTable, element);\n",
              "        const docLink = document.createElement('div');\n",
              "        docLink.innerHTML = docLinkHtml;\n",
              "        element.appendChild(docLink);\n",
              "      }\n",
              "    </script>\n",
              "  </div>\n",
              "\n",
              "\n",
              "<div id=\"df-31e84f1e-034a-4047-8a0d-af0a4d0ca5bf\">\n",
              "  <button class=\"colab-df-quickchart\" onclick=\"quickchart('df-31e84f1e-034a-4047-8a0d-af0a4d0ca5bf')\"\n",
              "            title=\"Suggest charts\"\n",
              "            style=\"display:none;\">\n",
              "\n",
              "<svg xmlns=\"http://www.w3.org/2000/svg\" height=\"24px\"viewBox=\"0 0 24 24\"\n",
              "     width=\"24px\">\n",
              "    <g>\n",
              "        <path d=\"M19 3H5c-1.1 0-2 .9-2 2v14c0 1.1.9 2 2 2h14c1.1 0 2-.9 2-2V5c0-1.1-.9-2-2-2zM9 17H7v-7h2v7zm4 0h-2V7h2v10zm4 0h-2v-4h2v4z\"/>\n",
              "    </g>\n",
              "</svg>\n",
              "  </button>\n",
              "\n",
              "<style>\n",
              "  .colab-df-quickchart {\n",
              "      --bg-color: #E8F0FE;\n",
              "      --fill-color: #1967D2;\n",
              "      --hover-bg-color: #E2EBFA;\n",
              "      --hover-fill-color: #174EA6;\n",
              "      --disabled-fill-color: #AAA;\n",
              "      --disabled-bg-color: #DDD;\n",
              "  }\n",
              "\n",
              "  [theme=dark] .colab-df-quickchart {\n",
              "      --bg-color: #3B4455;\n",
              "      --fill-color: #D2E3FC;\n",
              "      --hover-bg-color: #434B5C;\n",
              "      --hover-fill-color: #FFFFFF;\n",
              "      --disabled-bg-color: #3B4455;\n",
              "      --disabled-fill-color: #666;\n",
              "  }\n",
              "\n",
              "  .colab-df-quickchart {\n",
              "    background-color: var(--bg-color);\n",
              "    border: none;\n",
              "    border-radius: 50%;\n",
              "    cursor: pointer;\n",
              "    display: none;\n",
              "    fill: var(--fill-color);\n",
              "    height: 32px;\n",
              "    padding: 0;\n",
              "    width: 32px;\n",
              "  }\n",
              "\n",
              "  .colab-df-quickchart:hover {\n",
              "    background-color: var(--hover-bg-color);\n",
              "    box-shadow: 0 1px 2px rgba(60, 64, 67, 0.3), 0 1px 3px 1px rgba(60, 64, 67, 0.15);\n",
              "    fill: var(--button-hover-fill-color);\n",
              "  }\n",
              "\n",
              "  .colab-df-quickchart-complete:disabled,\n",
              "  .colab-df-quickchart-complete:disabled:hover {\n",
              "    background-color: var(--disabled-bg-color);\n",
              "    fill: var(--disabled-fill-color);\n",
              "    box-shadow: none;\n",
              "  }\n",
              "\n",
              "  .colab-df-spinner {\n",
              "    border: 2px solid var(--fill-color);\n",
              "    border-color: transparent;\n",
              "    border-bottom-color: var(--fill-color);\n",
              "    animation:\n",
              "      spin 1s steps(1) infinite;\n",
              "  }\n",
              "\n",
              "  @keyframes spin {\n",
              "    0% {\n",
              "      border-color: transparent;\n",
              "      border-bottom-color: var(--fill-color);\n",
              "      border-left-color: var(--fill-color);\n",
              "    }\n",
              "    20% {\n",
              "      border-color: transparent;\n",
              "      border-left-color: var(--fill-color);\n",
              "      border-top-color: var(--fill-color);\n",
              "    }\n",
              "    30% {\n",
              "      border-color: transparent;\n",
              "      border-left-color: var(--fill-color);\n",
              "      border-top-color: var(--fill-color);\n",
              "      border-right-color: var(--fill-color);\n",
              "    }\n",
              "    40% {\n",
              "      border-color: transparent;\n",
              "      border-right-color: var(--fill-color);\n",
              "      border-top-color: var(--fill-color);\n",
              "    }\n",
              "    60% {\n",
              "      border-color: transparent;\n",
              "      border-right-color: var(--fill-color);\n",
              "    }\n",
              "    80% {\n",
              "      border-color: transparent;\n",
              "      border-right-color: var(--fill-color);\n",
              "      border-bottom-color: var(--fill-color);\n",
              "    }\n",
              "    90% {\n",
              "      border-color: transparent;\n",
              "      border-bottom-color: var(--fill-color);\n",
              "    }\n",
              "  }\n",
              "</style>\n",
              "\n",
              "  <script>\n",
              "    async function quickchart(key) {\n",
              "      const quickchartButtonEl =\n",
              "        document.querySelector('#' + key + ' button');\n",
              "      quickchartButtonEl.disabled = true;  // To prevent multiple clicks.\n",
              "      quickchartButtonEl.classList.add('colab-df-spinner');\n",
              "      try {\n",
              "        const charts = await google.colab.kernel.invokeFunction(\n",
              "            'suggestCharts', [key], {});\n",
              "      } catch (error) {\n",
              "        console.error('Error during call to suggestCharts:', error);\n",
              "      }\n",
              "      quickchartButtonEl.classList.remove('colab-df-spinner');\n",
              "      quickchartButtonEl.classList.add('colab-df-quickchart-complete');\n",
              "    }\n",
              "    (() => {\n",
              "      let quickchartButtonEl =\n",
              "        document.querySelector('#df-31e84f1e-034a-4047-8a0d-af0a4d0ca5bf button');\n",
              "      quickchartButtonEl.style.display =\n",
              "        google.colab.kernel.accessAllowed ? 'block' : 'none';\n",
              "    })();\n",
              "  </script>\n",
              "</div>\n",
              "\n",
              "    </div>\n",
              "  </div>\n"
            ],
            "application/vnd.google.colaboratory.intrinsic+json": {
              "type": "dataframe",
              "variable_name": "df_balanced",
              "summary": "{\n  \"name\": \"df_balanced\",\n  \"rows\": 1530,\n  \"fields\": [\n    {\n      \"column\": \"preprocessedText\",\n      \"properties\": {\n        \"dtype\": \"string\",\n        \"num_unique_values\": 1216,\n        \"samples\": [\n          \"juice beautys green apple hand cream nice favorite nice lotion absorbs well dont feel like fingers greasy applying dont need wipe hands name like green apple looking apple fragrance get sugared lemon ok doesnt knock socks juice beauty says hand cream diminish appearance dark spots discoloration replenish deeply hydrate brighten appearance skin smooth fine lines nourish hydrate dont discoloration spots dont know aspect works find hydration effects short term good lotions ive used past reasonable hand cream especially like lemony scent favorite fragrance ill try something else next time\",\n          \"small got lost mail return refund either\",\n          \"matte color isnt great\"\n        ],\n        \"semantic_type\": \"\",\n        \"description\": \"\"\n      }\n    },\n    {\n      \"column\": \"tokenized_text\",\n      \"properties\": {\n        \"dtype\": \"object\",\n        \"semantic_type\": \"\",\n        \"description\": \"\"\n      }\n    },\n    {\n      \"column\": \"reviewText\",\n      \"properties\": {\n        \"dtype\": \"string\",\n        \"num_unique_values\": 1237,\n        \"samples\": [\n          \"We are HUGE fans of Mario Badescu, especially for treating trouble teenage acne.  They have a product line that can NOT be beat.  This serum falls pretty short for me.  I didn't like the scent - the rest of the company line - everything smells amazing.  Not this.  Also, the serum was like a gel.  And it went on oddly and it stayed sticky/tacky for quite a while.  This serum can replace moisturizer, or you can use it with your moisturizer.  I didn't feel like it was great for hydration.  I just can't get past the stickiness of the gel-like feel.\\n\\nIt does, however, reduce the fine lines in one treatment.  As long as it is on, the lines are for sure, softened.  And that is a real positive.\\n\\nMaybe skip this one, but seriously, the rest of the line can NOT be beat.\",\n          \"At first taste, the Crest Pro-Health for old folks seems pretty good.  There's no alcohol and consequently there is none of the tingly sensation some of us are accustomed to.\\n\\nAfter using it, your breath is definitely minty fresh... BUT there's a weird chemical after-taste that lasts and lasts; which my husband and myself found to be unpleasant.\\n\\nOn the non-pro-health side, it's a chemical concoction.  It contains \\\"propylparaben\\\" which is know to mimic estrogen.  It also contains Red 33, which can be found in Cutex Nail Polish remover.\\n\\nNow really, given that we are adults-over-50, can't we just have clear mouth wash.  Or whatever color the Cetylpyridinium Chloride gives the liquid.  Because that's the only active ingredient: Cetylpyridinium Chloride.  (also used in some pesticides because it fights fungus.)\\n\\nCan't recommend.\\nI really prefer a mouthwash that doesn't put my tastebuds out of action for hours at a time.  Also, my dentist insists that I use something with Floride to protect my tooth enamel, which this product doesn't have.\",\n          \"good fit, good feel. enjoy wearing this product everyday. would like them in  a few different colors however\"\n        ],\n        \"semantic_type\": \"\",\n        \"description\": \"\"\n      }\n    },\n    {\n      \"column\": \"rating\",\n      \"properties\": {\n        \"dtype\": \"number\",\n        \"std\": 1.4146759503411064,\n        \"min\": 1.0,\n        \"max\": 5.0,\n        \"num_unique_values\": 5,\n        \"samples\": [\n          1.0,\n          5.0,\n          3.0\n        ],\n        \"semantic_type\": \"\",\n        \"description\": \"\"\n      }\n    }\n  ]\n}"
            }
          },
          "metadata": {},
          "execution_count": 91
        }
      ]
    },
    {
      "cell_type": "code",
      "source": [
        "y_train_balanced = df_balanced['rating']\n",
        "\n",
        "X_tfidf_train_balanced = tfidf.fit_transform(df_balanced['preprocessedText']).toarray()\n",
        "X_tfidf_test_balanced = tfidf.transform(X_test['preprocessedText']).toarray()\n",
        "\n",
        "# Using w2v model with train set only as recommended here: https://stackoverflow.com/a/70900433/19932351\n",
        "X_w2v_train_balanced = np.array([get_sentence_embedding(word_list, w2v_model_train) for word_list in df_balanced['tokenized_text']])\n",
        "X_w2v_test_balanced = np.array([get_sentence_embedding(word_list, w2v_model_train) for word_list in X_test['tokenized_text']])\n",
        "\n",
        "X_train_vectorized_balanced = np.hstack((X_tfidf_train_balanced, X_w2v_train_balanced))\n",
        "X_test_vectorized_balanced = np.hstack((X_tfidf_test_balanced, X_w2v_test_balanced))"
      ],
      "metadata": {
        "id": "5Wmn_ST8IM1L"
      },
      "execution_count": 92,
      "outputs": []
    },
    {
      "cell_type": "code",
      "source": [
        "X_train_vectorized_balanced.shape"
      ],
      "metadata": {
        "colab": {
          "base_uri": "https://localhost:8080/"
        },
        "id": "-74S65Fm-7FE",
        "outputId": "f1f5a790-5e14-4bfc-a2ec-9c2973c06bd7"
      },
      "execution_count": 93,
      "outputs": [
        {
          "output_type": "execute_result",
          "data": {
            "text/plain": [
              "(1530, 5877)"
            ]
          },
          "metadata": {},
          "execution_count": 93
        }
      ]
    },
    {
      "cell_type": "code",
      "source": [
        "X_test_vectorized_balanced.shape"
      ],
      "metadata": {
        "colab": {
          "base_uri": "https://localhost:8080/"
        },
        "id": "-yRe2HRg-8-f",
        "outputId": "f86d5a23-a6a3-4b5d-ecaf-87f08937b1a4"
      },
      "execution_count": 94,
      "outputs": [
        {
          "output_type": "execute_result",
          "data": {
            "text/plain": [
              "(2400, 5877)"
            ]
          },
          "metadata": {},
          "execution_count": 94
        }
      ]
    },
    {
      "cell_type": "code",
      "source": [
        "wandb_project_name = \"DOPP analysis\"\n",
        "wandb_run_name = \"rf_balanced-2-estimators-100\"\n",
        "\n",
        "rf_config = {\n",
        "    \"n_estimators\": 100,\n",
        "    \"max_depth\": None,\n",
        "    \"random_state\": 42,\n",
        "    \"test_size\": 0.2,\n",
        "    \"dataset\": \"Balanced-Combined\"\n",
        "}\n",
        "\n",
        "\n",
        "wandb.init(\n",
        "    project=wandb_project_name,\n",
        "    name=wandb_run_name,\n",
        "    config=rf_config\n",
        ")\n",
        "\n",
        "\n",
        "start_time = time.time()\n",
        "\n",
        "rf_model = RandomForestClassifier(\n",
        "    n_estimators=rf_config[\"n_estimators\"],\n",
        "    max_depth=rf_config[\"max_depth\"],\n",
        "    random_state=rf_config[\"random_state\"]\n",
        ")\n",
        "rf_model.fit(X_train_vectorized_balanced, y_train_balanced)\n",
        "\n",
        "y_pred_rf = rf_model.predict(X_test_vectorized_balanced)\n",
        "end_time = time.time()\n",
        "execution_time = end_time - start_time\n",
        "\n",
        "f1Score = f1_score(y_test, y_pred_rf, average='macro')\n",
        "precision = precision_score(y_test, y_pred_rf, average='macro')\n",
        "recall = recall_score(y_test, y_pred_rf, average='macro')\n",
        "\n",
        "# Log metrics to W&B\n",
        "wandb.log({\n",
        "    \"Execution Time\": execution_time,\n",
        "    \"F1 Score\": f1Score,\n",
        "    \"Precision Score\": precision,\n",
        "    \"Recall Score\": recall\n",
        "})\n",
        "\n",
        "print(\"Execution Time:\", execution_time, \"seconds\")\n",
        "print(\"Precision Score:\", precision)\n",
        "print(\"Recall Score:\", recall)\n",
        "print(\"F1 Score:\", f1Score, \"\\n\")\n",
        "print(classification_report(y_test, y_pred_rf))\n",
        "\n",
        "# [optional] finish the wandb run, necessary in notebooks\n",
        "wandb.finish()"
      ],
      "metadata": {
        "colab": {
          "base_uri": "https://localhost:8080/",
          "height": 839
        },
        "id": "9FXZKb2HI8Wa",
        "outputId": "cf38c764-1feb-4919-b57d-f1ec17c93182"
      },
      "execution_count": 95,
      "outputs": [
        {
          "output_type": "display_data",
          "data": {
            "text/plain": [
              "<IPython.core.display.HTML object>"
            ],
            "text/html": [
              "Tracking run with wandb version 0.19.4"
            ]
          },
          "metadata": {}
        },
        {
          "output_type": "display_data",
          "data": {
            "text/plain": [
              "<IPython.core.display.HTML object>"
            ],
            "text/html": [
              "Run data is saved locally in <code>/content/wandb/run-20250126_150448-jvd67gpp</code>"
            ]
          },
          "metadata": {}
        },
        {
          "output_type": "display_data",
          "data": {
            "text/plain": [
              "<IPython.core.display.HTML object>"
            ],
            "text/html": [
              "Syncing run <strong><a href='https://wandb.ai/l-beccard-tu-wien/DOPP%20analysis/runs/jvd67gpp' target=\"_blank\">rf_balanced-2-estimators-100</a></strong> to <a href='https://wandb.ai/l-beccard-tu-wien/DOPP%20analysis' target=\"_blank\">Weights & Biases</a> (<a href='https://wandb.me/developer-guide' target=\"_blank\">docs</a>)<br>"
            ]
          },
          "metadata": {}
        },
        {
          "output_type": "display_data",
          "data": {
            "text/plain": [
              "<IPython.core.display.HTML object>"
            ],
            "text/html": [
              " View project at <a href='https://wandb.ai/l-beccard-tu-wien/DOPP%20analysis' target=\"_blank\">https://wandb.ai/l-beccard-tu-wien/DOPP%20analysis</a>"
            ]
          },
          "metadata": {}
        },
        {
          "output_type": "display_data",
          "data": {
            "text/plain": [
              "<IPython.core.display.HTML object>"
            ],
            "text/html": [
              " View run at <a href='https://wandb.ai/l-beccard-tu-wien/DOPP%20analysis/runs/jvd67gpp' target=\"_blank\">https://wandb.ai/l-beccard-tu-wien/DOPP%20analysis/runs/jvd67gpp</a>"
            ]
          },
          "metadata": {}
        },
        {
          "output_type": "stream",
          "name": "stdout",
          "text": [
            "Execution Time: 2.7628962993621826 seconds\n",
            "Precision Score: 0.43000363773035327\n",
            "Recall Score: 0.5496563911596176\n",
            "F1 Score: 0.46494174468149074 \n",
            "\n",
            "              precision    recall  f1-score   support\n",
            "\n",
            "         1.0       0.27      0.46      0.34        68\n",
            "         2.0       0.29      0.58      0.38        73\n",
            "         3.0       0.32      0.45      0.38       182\n",
            "         4.0       0.35      0.57      0.43       351\n",
            "         5.0       0.92      0.70      0.80      1726\n",
            "\n",
            "    accuracy                           0.65      2400\n",
            "   macro avg       0.43      0.55      0.46      2400\n",
            "weighted avg       0.76      0.65      0.69      2400\n",
            "\n"
          ]
        },
        {
          "output_type": "display_data",
          "data": {
            "text/plain": [
              "<IPython.core.display.HTML object>"
            ],
            "text/html": []
          },
          "metadata": {}
        },
        {
          "output_type": "display_data",
          "data": {
            "text/plain": [
              "<IPython.core.display.HTML object>"
            ],
            "text/html": [
              "<br>    <style><br>        .wandb-row {<br>            display: flex;<br>            flex-direction: row;<br>            flex-wrap: wrap;<br>            justify-content: flex-start;<br>            width: 100%;<br>        }<br>        .wandb-col {<br>            display: flex;<br>            flex-direction: column;<br>            flex-basis: 100%;<br>            flex: 1;<br>            padding: 10px;<br>        }<br>    </style><br><div class=\"wandb-row\"><div class=\"wandb-col\"><h3>Run history:</h3><br/><table class=\"wandb\"><tr><td>Execution Time</td><td>▁</td></tr><tr><td>F1 Score</td><td>▁</td></tr><tr><td>Precision Score</td><td>▁</td></tr><tr><td>Recall Score</td><td>▁</td></tr></table><br/></div><div class=\"wandb-col\"><h3>Run summary:</h3><br/><table class=\"wandb\"><tr><td>Execution Time</td><td>2.7629</td></tr><tr><td>F1 Score</td><td>0.46494</td></tr><tr><td>Precision Score</td><td>0.43</td></tr><tr><td>Recall Score</td><td>0.54966</td></tr></table><br/></div></div>"
            ]
          },
          "metadata": {}
        },
        {
          "output_type": "display_data",
          "data": {
            "text/plain": [
              "<IPython.core.display.HTML object>"
            ],
            "text/html": [
              " View run <strong style=\"color:#cdcd00\">rf_balanced-2-estimators-100</strong> at: <a href='https://wandb.ai/l-beccard-tu-wien/DOPP%20analysis/runs/jvd67gpp' target=\"_blank\">https://wandb.ai/l-beccard-tu-wien/DOPP%20analysis/runs/jvd67gpp</a><br> View project at: <a href='https://wandb.ai/l-beccard-tu-wien/DOPP%20analysis' target=\"_blank\">https://wandb.ai/l-beccard-tu-wien/DOPP%20analysis</a><br>Synced 5 W&B file(s), 0 media file(s), 0 artifact file(s) and 0 other file(s)"
            ]
          },
          "metadata": {}
        },
        {
          "output_type": "display_data",
          "data": {
            "text/plain": [
              "<IPython.core.display.HTML object>"
            ],
            "text/html": [
              "Find logs at: <code>./wandb/run-20250126_150448-jvd67gpp/logs</code>"
            ]
          },
          "metadata": {}
        }
      ]
    },
    {
      "cell_type": "code",
      "source": [
        "svc_config = {\n",
        "    \"random_state\": 42,\n",
        "    \"test_size\": 0.2,\n",
        "    \"max_iter\": 1000,\n",
        "    \"penalty\": \"l2\",\n",
        "    \"dataset\": \"Balanced-Combined\"\n",
        "}\n",
        "\n",
        "wandb_project_name = \"DOPP analysis\"\n",
        "\n",
        "wandb.init(\n",
        "    project=wandb_project_name,\n",
        "    name=\"svc_balanced\",\n",
        "    config=svc_config\n",
        ")\n",
        "\n",
        "start_time = time.time()\n",
        "\n",
        "linear_svc_model = LinearSVC(random_state=svc_config[\"random_state\"], penalty=svc_config[\"penalty\"])\n",
        "linear_svc_model.fit(X_train_vectorized_balanced, y_train_balanced)\n",
        "\n",
        "y_pred_svc = linear_svc_model.predict(X_test_vectorized_balanced)\n",
        "end_time = time.time()\n",
        "execution_time = end_time - start_time\n",
        "\n",
        "f1Score = f1_score(y_test, y_pred_svc, average='macro')\n",
        "precision = precision_score(y_test, y_pred_svc, average='macro')\n",
        "recall = recall_score(y_test, y_pred_svc, average='macro')\n",
        "\n",
        "wandb.log({\n",
        "    \"Execution Time\": execution_time,\n",
        "    \"F1 Score\": f1Score,\n",
        "    \"Precision Score\": precision,\n",
        "    \"Recall Score\": recall\n",
        "})\n",
        "\n",
        "print(\"Execution Time:\", execution_time, \"seconds\")\n",
        "print(\"Precision Score:\", precision)\n",
        "print(\"Recall Score:\", recall)\n",
        "print(\"F1 Score:\", f1Score, \"\\n\")\n",
        "print(classification_report(y_test, y_pred_svc))\n",
        "\n",
        "wandb.finish()"
      ],
      "metadata": {
        "colab": {
          "base_uri": "https://localhost:8080/",
          "height": 839
        },
        "id": "QgkPQQrsJKxE",
        "outputId": "2a5e9a83-ebf3-44b8-d4bd-cbd346628939"
      },
      "execution_count": 96,
      "outputs": [
        {
          "output_type": "display_data",
          "data": {
            "text/plain": [
              "<IPython.core.display.HTML object>"
            ],
            "text/html": [
              "Tracking run with wandb version 0.19.4"
            ]
          },
          "metadata": {}
        },
        {
          "output_type": "display_data",
          "data": {
            "text/plain": [
              "<IPython.core.display.HTML object>"
            ],
            "text/html": [
              "Run data is saved locally in <code>/content/wandb/run-20250126_150457-bi9l94b6</code>"
            ]
          },
          "metadata": {}
        },
        {
          "output_type": "display_data",
          "data": {
            "text/plain": [
              "<IPython.core.display.HTML object>"
            ],
            "text/html": [
              "Syncing run <strong><a href='https://wandb.ai/l-beccard-tu-wien/DOPP%20analysis/runs/bi9l94b6' target=\"_blank\">svc_balanced</a></strong> to <a href='https://wandb.ai/l-beccard-tu-wien/DOPP%20analysis' target=\"_blank\">Weights & Biases</a> (<a href='https://wandb.me/developer-guide' target=\"_blank\">docs</a>)<br>"
            ]
          },
          "metadata": {}
        },
        {
          "output_type": "display_data",
          "data": {
            "text/plain": [
              "<IPython.core.display.HTML object>"
            ],
            "text/html": [
              " View project at <a href='https://wandb.ai/l-beccard-tu-wien/DOPP%20analysis' target=\"_blank\">https://wandb.ai/l-beccard-tu-wien/DOPP%20analysis</a>"
            ]
          },
          "metadata": {}
        },
        {
          "output_type": "display_data",
          "data": {
            "text/plain": [
              "<IPython.core.display.HTML object>"
            ],
            "text/html": [
              " View run at <a href='https://wandb.ai/l-beccard-tu-wien/DOPP%20analysis/runs/bi9l94b6' target=\"_blank\">https://wandb.ai/l-beccard-tu-wien/DOPP%20analysis/runs/bi9l94b6</a>"
            ]
          },
          "metadata": {}
        },
        {
          "output_type": "stream",
          "name": "stdout",
          "text": [
            "Execution Time: 0.1225895881652832 seconds\n",
            "Precision Score: 0.3991277698172116\n",
            "Recall Score: 0.5576925754959859\n",
            "F1 Score: 0.4316517105973183 \n",
            "\n",
            "              precision    recall  f1-score   support\n",
            "\n",
            "         1.0       0.24      0.57      0.34        68\n",
            "         2.0       0.21      0.58      0.31        73\n",
            "         3.0       0.30      0.48      0.37       182\n",
            "         4.0       0.32      0.54      0.40       351\n",
            "         5.0       0.93      0.62      0.74      1726\n",
            "\n",
            "    accuracy                           0.59      2400\n",
            "   macro avg       0.40      0.56      0.43      2400\n",
            "weighted avg       0.75      0.59      0.64      2400\n",
            "\n"
          ]
        },
        {
          "output_type": "display_data",
          "data": {
            "text/plain": [
              "<IPython.core.display.HTML object>"
            ],
            "text/html": []
          },
          "metadata": {}
        },
        {
          "output_type": "display_data",
          "data": {
            "text/plain": [
              "<IPython.core.display.HTML object>"
            ],
            "text/html": [
              "<br>    <style><br>        .wandb-row {<br>            display: flex;<br>            flex-direction: row;<br>            flex-wrap: wrap;<br>            justify-content: flex-start;<br>            width: 100%;<br>        }<br>        .wandb-col {<br>            display: flex;<br>            flex-direction: column;<br>            flex-basis: 100%;<br>            flex: 1;<br>            padding: 10px;<br>        }<br>    </style><br><div class=\"wandb-row\"><div class=\"wandb-col\"><h3>Run history:</h3><br/><table class=\"wandb\"><tr><td>Execution Time</td><td>▁</td></tr><tr><td>F1 Score</td><td>▁</td></tr><tr><td>Precision Score</td><td>▁</td></tr><tr><td>Recall Score</td><td>▁</td></tr></table><br/></div><div class=\"wandb-col\"><h3>Run summary:</h3><br/><table class=\"wandb\"><tr><td>Execution Time</td><td>0.12259</td></tr><tr><td>F1 Score</td><td>0.43165</td></tr><tr><td>Precision Score</td><td>0.39913</td></tr><tr><td>Recall Score</td><td>0.55769</td></tr></table><br/></div></div>"
            ]
          },
          "metadata": {}
        },
        {
          "output_type": "display_data",
          "data": {
            "text/plain": [
              "<IPython.core.display.HTML object>"
            ],
            "text/html": [
              " View run <strong style=\"color:#cdcd00\">svc_balanced</strong> at: <a href='https://wandb.ai/l-beccard-tu-wien/DOPP%20analysis/runs/bi9l94b6' target=\"_blank\">https://wandb.ai/l-beccard-tu-wien/DOPP%20analysis/runs/bi9l94b6</a><br> View project at: <a href='https://wandb.ai/l-beccard-tu-wien/DOPP%20analysis' target=\"_blank\">https://wandb.ai/l-beccard-tu-wien/DOPP%20analysis</a><br>Synced 5 W&B file(s), 0 media file(s), 0 artifact file(s) and 0 other file(s)"
            ]
          },
          "metadata": {}
        },
        {
          "output_type": "display_data",
          "data": {
            "text/plain": [
              "<IPython.core.display.HTML object>"
            ],
            "text/html": [
              "Find logs at: <code>./wandb/run-20250126_150457-bi9l94b6/logs</code>"
            ]
          },
          "metadata": {}
        }
      ]
    },
    {
      "cell_type": "markdown",
      "source": [
        "By the metrices, we can observe that the random forest improves in terms of predicting several classes, whereas the svc model trained with a balanced dataset results in a lower performance not recognizing the majority class that well anymore."
      ],
      "metadata": {
        "id": "MVa1m6jpKuEr"
      }
    },
    {
      "cell_type": "markdown",
      "source": [
        "## Oversampling\n"
      ],
      "metadata": {
        "id": "ulrAwvxgLEI3"
      }
    },
    {
      "cell_type": "code",
      "source": [
        "df_rating_1 = df_train[df_train[\"rating\"] == 1]\n",
        "df_rating_2 = df_train[df_train[\"rating\"] == 2]\n",
        "df_rating_3 = df_train[df_train[\"rating\"] == 3]\n",
        "df_rating_4 = df_train[df_train[\"rating\"] == 4]\n",
        "df_rating_5 = df_train[df_train[\"rating\"] == 5]\n",
        "print(\"1\",len(df_rating_1))\n",
        "print(\"2\", len(df_rating_2))\n",
        "print(\"3\", len(df_rating_3))\n",
        "print(\"4\",len(df_rating_4))\n",
        "print(\"5\", len(df_rating_5))"
      ],
      "metadata": {
        "id": "Z7pFqKqqLFeB",
        "colab": {
          "base_uri": "https://localhost:8080/"
        },
        "outputId": "4245a0d4-68cd-458a-e064-373aa31f8733"
      },
      "execution_count": 97,
      "outputs": [
        {
          "output_type": "stream",
          "name": "stdout",
          "text": [
            "1 338\n",
            "2 306\n",
            "3 722\n",
            "4 1414\n",
            "5 6820\n"
          ]
        }
      ]
    },
    {
      "cell_type": "markdown",
      "source": [
        "In our next approach, we target the sample count of 1414, which is the count of class 4, the second most represented class. Therefore, we have to oversample classes 1 to 3 and undersample the majority class 5."
      ],
      "metadata": {
        "id": "tFm2MKTM2Zx4"
      }
    },
    {
      "cell_type": "code",
      "source": [
        "df_rating_1 = df_train[df_train[\"rating\"] == 1].sample(n=1414, random_state=42, replace=True)\n",
        "df_rating_2 = df_train[df_train[\"rating\"] == 2].sample(n=1414, random_state=42, replace=True)\n",
        "df_rating_3 = df_train[df_train[\"rating\"] == 3].sample(n=1414, random_state=42, replace=True)\n",
        "df_rating_5 = df_train[df_train[\"rating\"] == 5].sample(n=1414, random_state=42)"
      ],
      "metadata": {
        "id": "3m7DA_WF18UW"
      },
      "execution_count": 98,
      "outputs": []
    },
    {
      "cell_type": "code",
      "source": [
        "df_oversampled = pd.concat([df_rating_2, df_rating_1, df_rating_3, df_rating_4, df_rating_5])"
      ],
      "metadata": {
        "id": "zK23vWNjMcnE"
      },
      "execution_count": 99,
      "outputs": []
    },
    {
      "cell_type": "code",
      "source": [
        "df_oversampled[\"rating\"].value_counts()"
      ],
      "metadata": {
        "colab": {
          "base_uri": "https://localhost:8080/",
          "height": 272
        },
        "id": "eMjNrxfLMnta",
        "outputId": "ccc56e8d-4dd7-4496-9b25-b45c8e67abf3"
      },
      "execution_count": 100,
      "outputs": [
        {
          "output_type": "execute_result",
          "data": {
            "text/plain": [
              "rating\n",
              "2.0    1414\n",
              "1.0    1414\n",
              "3.0    1414\n",
              "4.0    1414\n",
              "5.0    1414\n",
              "Name: count, dtype: int64"
            ],
            "text/html": [
              "<div>\n",
              "<style scoped>\n",
              "    .dataframe tbody tr th:only-of-type {\n",
              "        vertical-align: middle;\n",
              "    }\n",
              "\n",
              "    .dataframe tbody tr th {\n",
              "        vertical-align: top;\n",
              "    }\n",
              "\n",
              "    .dataframe thead th {\n",
              "        text-align: right;\n",
              "    }\n",
              "</style>\n",
              "<table border=\"1\" class=\"dataframe\">\n",
              "  <thead>\n",
              "    <tr style=\"text-align: right;\">\n",
              "      <th></th>\n",
              "      <th>count</th>\n",
              "    </tr>\n",
              "    <tr>\n",
              "      <th>rating</th>\n",
              "      <th></th>\n",
              "    </tr>\n",
              "  </thead>\n",
              "  <tbody>\n",
              "    <tr>\n",
              "      <th>2.0</th>\n",
              "      <td>1414</td>\n",
              "    </tr>\n",
              "    <tr>\n",
              "      <th>1.0</th>\n",
              "      <td>1414</td>\n",
              "    </tr>\n",
              "    <tr>\n",
              "      <th>3.0</th>\n",
              "      <td>1414</td>\n",
              "    </tr>\n",
              "    <tr>\n",
              "      <th>4.0</th>\n",
              "      <td>1414</td>\n",
              "    </tr>\n",
              "    <tr>\n",
              "      <th>5.0</th>\n",
              "      <td>1414</td>\n",
              "    </tr>\n",
              "  </tbody>\n",
              "</table>\n",
              "</div><br><label><b>dtype:</b> int64</label>"
            ]
          },
          "metadata": {},
          "execution_count": 100
        }
      ]
    },
    {
      "cell_type": "code",
      "source": [
        "y_train_oversampled = df_oversampled['rating']\n",
        "\n",
        "X_tfidf_train_oversampled = tfidf.fit_transform(df_oversampled['preprocessedText']).toarray()\n",
        "X_tfidf_test_oversampled = tfidf.transform(X_test['preprocessedText']).toarray()\n",
        "\n",
        "# Using w2v model with train set only as recommended here: https://stackoverflow.com/a/70900433/19932351\n",
        "X_w2v_train_oversampled = np.array([get_sentence_embedding(word_list, w2v_model_train) for word_list in df_oversampled['tokenized_text']])\n",
        "X_w2v_test_oversampled = np.array([get_sentence_embedding(word_list, w2v_model_train) for word_list in X_test['tokenized_text']])\n",
        "\n",
        "X_train_vectorized_oversampled = np.hstack((X_tfidf_train_oversampled, X_w2v_train_oversampled))\n",
        "X_test_vectorized_oversampled = np.hstack((X_tfidf_test_oversampled, X_w2v_test_oversampled))\n"
      ],
      "metadata": {
        "id": "m4frNPXfgGgO"
      },
      "execution_count": 101,
      "outputs": []
    },
    {
      "cell_type": "code",
      "source": [
        "wandb_project_name = \"DOPP analysis\"\n",
        "wandb_run_name = \"rf_oversampled\"\n",
        "\n",
        "rf_config = {\n",
        "    \"n_estimators\": 100,\n",
        "    \"max_depth\": None,\n",
        "    \"random_state\": 42,\n",
        "    \"test_size\": 0.2,\n",
        "    \"dataset\": \"Oversampled-Combined\"\n",
        "}\n",
        "\n",
        "\n",
        "wandb.init(\n",
        "    project=wandb_project_name,\n",
        "    name=wandb_run_name,\n",
        "    config=rf_config\n",
        ")\n",
        "\n",
        "\n",
        "start_time = time.time()\n",
        "\n",
        "rf_model = RandomForestClassifier(\n",
        "    n_estimators=rf_config[\"n_estimators\"],\n",
        "    max_depth=rf_config[\"max_depth\"],\n",
        "    random_state=rf_config[\"random_state\"]\n",
        ")\n",
        "rf_model.fit(X_train_vectorized_oversampled, y_train_oversampled)\n",
        "\n",
        "y_pred_rf = rf_model.predict(X_test_vectorized_oversampled)\n",
        "end_time = time.time()\n",
        "execution_time = end_time - start_time\n",
        "\n",
        "f1Score = f1_score(y_test, y_pred_rf, average='macro')\n",
        "precision = precision_score(y_test, y_pred_rf, average='macro')\n",
        "recall = recall_score(y_test, y_pred_rf, average='macro')\n",
        "\n",
        "# Log metrics to W&B\n",
        "wandb.log({\n",
        "    \"Execution Time\": execution_time,\n",
        "    \"F1 Score\": f1Score,\n",
        "    \"Precision Score\": precision,\n",
        "    \"Recall Score\": recall\n",
        "})\n",
        "\n",
        "print(\"Execution Time:\", execution_time, \"seconds\")\n",
        "print(\"Precision Score:\", precision)\n",
        "print(\"Recall Score:\", recall)\n",
        "print(\"F1 Score:\", f1Score, \"\\n\")\n",
        "print(classification_report(y_test, y_pred_rf))\n",
        "\n",
        "# [optional] finish the wandb run, necessary in notebooks\n",
        "wandb.finish()"
      ],
      "metadata": {
        "colab": {
          "base_uri": "https://localhost:8080/",
          "height": 839
        },
        "id": "OP2oVuroM0J5",
        "outputId": "f51123cc-8471-4982-ab2a-3e9a5a150f59"
      },
      "execution_count": 102,
      "outputs": [
        {
          "output_type": "display_data",
          "data": {
            "text/plain": [
              "<IPython.core.display.HTML object>"
            ],
            "text/html": [
              "Tracking run with wandb version 0.19.4"
            ]
          },
          "metadata": {}
        },
        {
          "output_type": "display_data",
          "data": {
            "text/plain": [
              "<IPython.core.display.HTML object>"
            ],
            "text/html": [
              "Run data is saved locally in <code>/content/wandb/run-20250126_150503-8j7pif6q</code>"
            ]
          },
          "metadata": {}
        },
        {
          "output_type": "display_data",
          "data": {
            "text/plain": [
              "<IPython.core.display.HTML object>"
            ],
            "text/html": [
              "Syncing run <strong><a href='https://wandb.ai/l-beccard-tu-wien/DOPP%20analysis/runs/8j7pif6q' target=\"_blank\">rf_oversampled</a></strong> to <a href='https://wandb.ai/l-beccard-tu-wien/DOPP%20analysis' target=\"_blank\">Weights & Biases</a> (<a href='https://wandb.me/developer-guide' target=\"_blank\">docs</a>)<br>"
            ]
          },
          "metadata": {}
        },
        {
          "output_type": "display_data",
          "data": {
            "text/plain": [
              "<IPython.core.display.HTML object>"
            ],
            "text/html": [
              " View project at <a href='https://wandb.ai/l-beccard-tu-wien/DOPP%20analysis' target=\"_blank\">https://wandb.ai/l-beccard-tu-wien/DOPP%20analysis</a>"
            ]
          },
          "metadata": {}
        },
        {
          "output_type": "display_data",
          "data": {
            "text/plain": [
              "<IPython.core.display.HTML object>"
            ],
            "text/html": [
              " View run at <a href='https://wandb.ai/l-beccard-tu-wien/DOPP%20analysis/runs/8j7pif6q' target=\"_blank\">https://wandb.ai/l-beccard-tu-wien/DOPP%20analysis/runs/8j7pif6q</a>"
            ]
          },
          "metadata": {}
        },
        {
          "output_type": "stream",
          "name": "stdout",
          "text": [
            "Execution Time: 36.6269371509552 seconds\n",
            "Precision Score: 0.6533820401226568\n",
            "Recall Score: 0.5490315971025749\n",
            "F1 Score: 0.5673749938122136 \n",
            "\n",
            "              precision    recall  f1-score   support\n",
            "\n",
            "         1.0       0.53      0.41      0.46        68\n",
            "         2.0       0.76      0.40      0.52        73\n",
            "         3.0       0.68      0.39      0.50       182\n",
            "         4.0       0.38      0.74      0.50       351\n",
            "         5.0       0.92      0.80      0.86      1726\n",
            "\n",
            "    accuracy                           0.74      2400\n",
            "   macro avg       0.65      0.55      0.57      2400\n",
            "weighted avg       0.80      0.74      0.76      2400\n",
            "\n"
          ]
        },
        {
          "output_type": "display_data",
          "data": {
            "text/plain": [
              "<IPython.core.display.HTML object>"
            ],
            "text/html": []
          },
          "metadata": {}
        },
        {
          "output_type": "display_data",
          "data": {
            "text/plain": [
              "<IPython.core.display.HTML object>"
            ],
            "text/html": [
              "<br>    <style><br>        .wandb-row {<br>            display: flex;<br>            flex-direction: row;<br>            flex-wrap: wrap;<br>            justify-content: flex-start;<br>            width: 100%;<br>        }<br>        .wandb-col {<br>            display: flex;<br>            flex-direction: column;<br>            flex-basis: 100%;<br>            flex: 1;<br>            padding: 10px;<br>        }<br>    </style><br><div class=\"wandb-row\"><div class=\"wandb-col\"><h3>Run history:</h3><br/><table class=\"wandb\"><tr><td>Execution Time</td><td>▁</td></tr><tr><td>F1 Score</td><td>▁</td></tr><tr><td>Precision Score</td><td>▁</td></tr><tr><td>Recall Score</td><td>▁</td></tr></table><br/></div><div class=\"wandb-col\"><h3>Run summary:</h3><br/><table class=\"wandb\"><tr><td>Execution Time</td><td>36.62694</td></tr><tr><td>F1 Score</td><td>0.56737</td></tr><tr><td>Precision Score</td><td>0.65338</td></tr><tr><td>Recall Score</td><td>0.54903</td></tr></table><br/></div></div>"
            ]
          },
          "metadata": {}
        },
        {
          "output_type": "display_data",
          "data": {
            "text/plain": [
              "<IPython.core.display.HTML object>"
            ],
            "text/html": [
              " View run <strong style=\"color:#cdcd00\">rf_oversampled</strong> at: <a href='https://wandb.ai/l-beccard-tu-wien/DOPP%20analysis/runs/8j7pif6q' target=\"_blank\">https://wandb.ai/l-beccard-tu-wien/DOPP%20analysis/runs/8j7pif6q</a><br> View project at: <a href='https://wandb.ai/l-beccard-tu-wien/DOPP%20analysis' target=\"_blank\">https://wandb.ai/l-beccard-tu-wien/DOPP%20analysis</a><br>Synced 5 W&B file(s), 0 media file(s), 0 artifact file(s) and 0 other file(s)"
            ]
          },
          "metadata": {}
        },
        {
          "output_type": "display_data",
          "data": {
            "text/plain": [
              "<IPython.core.display.HTML object>"
            ],
            "text/html": [
              "Find logs at: <code>./wandb/run-20250126_150503-8j7pif6q/logs</code>"
            ]
          },
          "metadata": {}
        }
      ]
    },
    {
      "cell_type": "code",
      "source": [
        "svc_config = {\n",
        "    \"random_state\": 42,\n",
        "    \"test_size\": 0.2,\n",
        "    \"max_iter\": 1000,\n",
        "    \"penalty\": \"l2\",\n",
        "    \"dataset\": \"Oversampled-Combined\"\n",
        "}\n",
        "\n",
        "wandb_project_name = \"DOPP analysis\"\n",
        "\n",
        "wandb.init(\n",
        "    project=wandb_project_name,\n",
        "    name=\"svc_balanced\",\n",
        "    config=svc_config\n",
        ")\n",
        "\n",
        "start_time = time.time()\n",
        "\n",
        "linear_svc_model = LinearSVC(random_state=svc_config[\"random_state\"], penalty=svc_config[\"penalty\"])\n",
        "linear_svc_model.fit(X_train_vectorized_oversampled, y_train_oversampled)\n",
        "\n",
        "y_pred_svc = linear_svc_model.predict(X_test_vectorized_oversampled)\n",
        "end_time = time.time()\n",
        "execution_time = end_time - start_time\n",
        "\n",
        "f1Score = f1_score(y_test, y_pred_svc, average='macro')\n",
        "precision = precision_score(y_test, y_pred_svc, average='macro')\n",
        "recall = recall_score(y_test, y_pred_svc, average='macro')\n",
        "\n",
        "wandb.log({\n",
        "    \"Execution Time\": execution_time,\n",
        "    \"F1 Score\": f1Score,\n",
        "    \"Precision Score\": precision,\n",
        "    \"Recall Score\": recall\n",
        "})\n",
        "\n",
        "print(\"Execution Time:\", execution_time, \"seconds\")\n",
        "print(\"Precision Score:\", precision)\n",
        "print(\"Recall Score:\", recall)\n",
        "print(\"F1 Score:\", f1Score, \"\\n\")\n",
        "print(classification_report(y_test, y_pred_svc))\n",
        "\n",
        "wandb.finish()"
      ],
      "metadata": {
        "colab": {
          "base_uri": "https://localhost:8080/",
          "height": 839
        },
        "id": "tVKMzS6kNED7",
        "outputId": "dfc23815-a209-414c-db27-02a4ff9f1afd"
      },
      "execution_count": 103,
      "outputs": [
        {
          "output_type": "display_data",
          "data": {
            "text/plain": [
              "<IPython.core.display.HTML object>"
            ],
            "text/html": [
              "Tracking run with wandb version 0.19.4"
            ]
          },
          "metadata": {}
        },
        {
          "output_type": "display_data",
          "data": {
            "text/plain": [
              "<IPython.core.display.HTML object>"
            ],
            "text/html": [
              "Run data is saved locally in <code>/content/wandb/run-20250126_150546-xmk5xkls</code>"
            ]
          },
          "metadata": {}
        },
        {
          "output_type": "display_data",
          "data": {
            "text/plain": [
              "<IPython.core.display.HTML object>"
            ],
            "text/html": [
              "Syncing run <strong><a href='https://wandb.ai/l-beccard-tu-wien/DOPP%20analysis/runs/xmk5xkls' target=\"_blank\">svc_balanced</a></strong> to <a href='https://wandb.ai/l-beccard-tu-wien/DOPP%20analysis' target=\"_blank\">Weights & Biases</a> (<a href='https://wandb.me/developer-guide' target=\"_blank\">docs</a>)<br>"
            ]
          },
          "metadata": {}
        },
        {
          "output_type": "display_data",
          "data": {
            "text/plain": [
              "<IPython.core.display.HTML object>"
            ],
            "text/html": [
              " View project at <a href='https://wandb.ai/l-beccard-tu-wien/DOPP%20analysis' target=\"_blank\">https://wandb.ai/l-beccard-tu-wien/DOPP%20analysis</a>"
            ]
          },
          "metadata": {}
        },
        {
          "output_type": "display_data",
          "data": {
            "text/plain": [
              "<IPython.core.display.HTML object>"
            ],
            "text/html": [
              " View run at <a href='https://wandb.ai/l-beccard-tu-wien/DOPP%20analysis/runs/xmk5xkls' target=\"_blank\">https://wandb.ai/l-beccard-tu-wien/DOPP%20analysis/runs/xmk5xkls</a>"
            ]
          },
          "metadata": {}
        },
        {
          "output_type": "stream",
          "name": "stdout",
          "text": [
            "Execution Time: 0.5385520458221436 seconds\n",
            "Precision Score: 0.4991385022698241\n",
            "Recall Score: 0.5691498052091545\n",
            "F1 Score: 0.52035302821631 \n",
            "\n",
            "              precision    recall  f1-score   support\n",
            "\n",
            "         1.0       0.34      0.43      0.38        68\n",
            "         2.0       0.41      0.51      0.45        73\n",
            "         3.0       0.45      0.49      0.47       182\n",
            "         4.0       0.37      0.68      0.47       351\n",
            "         5.0       0.93      0.74      0.82      1726\n",
            "\n",
            "    accuracy                           0.70      2400\n",
            "   macro avg       0.50      0.57      0.52      2400\n",
            "weighted avg       0.78      0.70      0.72      2400\n",
            "\n"
          ]
        },
        {
          "output_type": "display_data",
          "data": {
            "text/plain": [
              "<IPython.core.display.HTML object>"
            ],
            "text/html": []
          },
          "metadata": {}
        },
        {
          "output_type": "display_data",
          "data": {
            "text/plain": [
              "<IPython.core.display.HTML object>"
            ],
            "text/html": [
              "<br>    <style><br>        .wandb-row {<br>            display: flex;<br>            flex-direction: row;<br>            flex-wrap: wrap;<br>            justify-content: flex-start;<br>            width: 100%;<br>        }<br>        .wandb-col {<br>            display: flex;<br>            flex-direction: column;<br>            flex-basis: 100%;<br>            flex: 1;<br>            padding: 10px;<br>        }<br>    </style><br><div class=\"wandb-row\"><div class=\"wandb-col\"><h3>Run history:</h3><br/><table class=\"wandb\"><tr><td>Execution Time</td><td>▁</td></tr><tr><td>F1 Score</td><td>▁</td></tr><tr><td>Precision Score</td><td>▁</td></tr><tr><td>Recall Score</td><td>▁</td></tr></table><br/></div><div class=\"wandb-col\"><h3>Run summary:</h3><br/><table class=\"wandb\"><tr><td>Execution Time</td><td>0.53855</td></tr><tr><td>F1 Score</td><td>0.52035</td></tr><tr><td>Precision Score</td><td>0.49914</td></tr><tr><td>Recall Score</td><td>0.56915</td></tr></table><br/></div></div>"
            ]
          },
          "metadata": {}
        },
        {
          "output_type": "display_data",
          "data": {
            "text/plain": [
              "<IPython.core.display.HTML object>"
            ],
            "text/html": [
              " View run <strong style=\"color:#cdcd00\">svc_balanced</strong> at: <a href='https://wandb.ai/l-beccard-tu-wien/DOPP%20analysis/runs/xmk5xkls' target=\"_blank\">https://wandb.ai/l-beccard-tu-wien/DOPP%20analysis/runs/xmk5xkls</a><br> View project at: <a href='https://wandb.ai/l-beccard-tu-wien/DOPP%20analysis' target=\"_blank\">https://wandb.ai/l-beccard-tu-wien/DOPP%20analysis</a><br>Synced 5 W&B file(s), 0 media file(s), 0 artifact file(s) and 0 other file(s)"
            ]
          },
          "metadata": {}
        },
        {
          "output_type": "display_data",
          "data": {
            "text/plain": [
              "<IPython.core.display.HTML object>"
            ],
            "text/html": [
              "Find logs at: <code>./wandb/run-20250126_150546-xmk5xkls/logs</code>"
            ]
          },
          "metadata": {}
        }
      ]
    },
    {
      "cell_type": "code",
      "source": [],
      "metadata": {
        "id": "FRRE4P59NXtP"
      },
      "execution_count": 103,
      "outputs": []
    }
  ]
}