{
  "nbformat": 4,
  "nbformat_minor": 0,
  "metadata": {
    "colab": {
      "provenance": [],
      "include_colab_link": true
    },
    "kernelspec": {
      "name": "python3",
      "display_name": "Python 3"
    },
    "language_info": {
      "name": "python"
    }
  },
  "cells": [
    {
      "cell_type": "markdown",
      "metadata": {
        "id": "view-in-github",
        "colab_type": "text"
      },
      "source": [
        "<a href=\"https://colab.research.google.com/github/lebe1/text-oriented-data-science-project/blob/main/Data_Modeling.ipynb\" target=\"_parent\"><img src=\"https://colab.research.google.com/assets/colab-badge.svg\" alt=\"Open In Colab\"/></a>"
      ]
    },
    {
      "cell_type": "markdown",
      "source": [
        "# Loading the Dataset"
      ],
      "metadata": {
        "id": "CPLeCMRTwgqr"
      }
    },
    {
      "cell_type": "markdown",
      "source": [
        "\n",
        "\n",
        "## Connect to Google Drive"
      ],
      "metadata": {
        "id": "2p7jTLyRw6g8"
      }
    },
    {
      "cell_type": "code",
      "execution_count": 1,
      "metadata": {
        "colab": {
          "base_uri": "https://localhost:8080/"
        },
        "id": "zO4dyw3uvEz7",
        "outputId": "49e017a3-8a6a-4070-d260-394666ab9988"
      },
      "outputs": [
        {
          "output_type": "stream",
          "name": "stdout",
          "text": [
            "Mounted at /content/drive\n"
          ]
        }
      ],
      "source": [
        "from google.colab import drive\n",
        "drive.mount('/content/drive', force_remount=True)"
      ]
    },
    {
      "cell_type": "code",
      "source": [
        "folder_path = '/content/drive/MyDrive/'"
      ],
      "metadata": {
        "id": "J051vmiuw_Qv"
      },
      "execution_count": 2,
      "outputs": []
    },
    {
      "cell_type": "markdown",
      "source": [
        "## Imports"
      ],
      "metadata": {
        "id": "3LDpTM_YxBaj"
      }
    },
    {
      "cell_type": "code",
      "source": [
        "!pip install wandb"
      ],
      "metadata": {
        "colab": {
          "base_uri": "https://localhost:8080/"
        },
        "id": "8Xqg-zpxvh5s",
        "outputId": "85655b64-7653-482d-cf17-c5804f2e88f3"
      },
      "execution_count": 3,
      "outputs": [
        {
          "output_type": "stream",
          "name": "stdout",
          "text": [
            "Requirement already satisfied: wandb in /usr/local/lib/python3.11/dist-packages (0.19.4)\n",
            "Requirement already satisfied: click!=8.0.0,>=7.1 in /usr/local/lib/python3.11/dist-packages (from wandb) (8.1.8)\n",
            "Requirement already satisfied: docker-pycreds>=0.4.0 in /usr/local/lib/python3.11/dist-packages (from wandb) (0.4.0)\n",
            "Requirement already satisfied: gitpython!=3.1.29,>=1.0.0 in /usr/local/lib/python3.11/dist-packages (from wandb) (3.1.44)\n",
            "Requirement already satisfied: platformdirs in /usr/local/lib/python3.11/dist-packages (from wandb) (4.3.6)\n",
            "Requirement already satisfied: protobuf!=4.21.0,!=5.28.0,<6,>=3.19.0 in /usr/local/lib/python3.11/dist-packages (from wandb) (4.25.5)\n",
            "Requirement already satisfied: psutil>=5.0.0 in /usr/local/lib/python3.11/dist-packages (from wandb) (5.9.5)\n",
            "Requirement already satisfied: pydantic<3,>=2.6 in /usr/local/lib/python3.11/dist-packages (from wandb) (2.10.5)\n",
            "Requirement already satisfied: pyyaml in /usr/local/lib/python3.11/dist-packages (from wandb) (6.0.2)\n",
            "Requirement already satisfied: requests<3,>=2.0.0 in /usr/local/lib/python3.11/dist-packages (from wandb) (2.32.3)\n",
            "Requirement already satisfied: sentry-sdk>=2.0.0 in /usr/local/lib/python3.11/dist-packages (from wandb) (2.20.0)\n",
            "Requirement already satisfied: setproctitle in /usr/local/lib/python3.11/dist-packages (from wandb) (1.3.4)\n",
            "Requirement already satisfied: setuptools in /usr/local/lib/python3.11/dist-packages (from wandb) (75.1.0)\n",
            "Requirement already satisfied: typing-extensions<5,>=4.4 in /usr/local/lib/python3.11/dist-packages (from wandb) (4.12.2)\n",
            "Requirement already satisfied: six>=1.4.0 in /usr/local/lib/python3.11/dist-packages (from docker-pycreds>=0.4.0->wandb) (1.17.0)\n",
            "Requirement already satisfied: gitdb<5,>=4.0.1 in /usr/local/lib/python3.11/dist-packages (from gitpython!=3.1.29,>=1.0.0->wandb) (4.0.12)\n",
            "Requirement already satisfied: annotated-types>=0.6.0 in /usr/local/lib/python3.11/dist-packages (from pydantic<3,>=2.6->wandb) (0.7.0)\n",
            "Requirement already satisfied: pydantic-core==2.27.2 in /usr/local/lib/python3.11/dist-packages (from pydantic<3,>=2.6->wandb) (2.27.2)\n",
            "Requirement already satisfied: charset-normalizer<4,>=2 in /usr/local/lib/python3.11/dist-packages (from requests<3,>=2.0.0->wandb) (3.4.1)\n",
            "Requirement already satisfied: idna<4,>=2.5 in /usr/local/lib/python3.11/dist-packages (from requests<3,>=2.0.0->wandb) (3.10)\n",
            "Requirement already satisfied: urllib3<3,>=1.21.1 in /usr/local/lib/python3.11/dist-packages (from requests<3,>=2.0.0->wandb) (2.3.0)\n",
            "Requirement already satisfied: certifi>=2017.4.17 in /usr/local/lib/python3.11/dist-packages (from requests<3,>=2.0.0->wandb) (2024.12.14)\n",
            "Requirement already satisfied: smmap<6,>=3.0.1 in /usr/local/lib/python3.11/dist-packages (from gitdb<5,>=4.0.1->gitpython!=3.1.29,>=1.0.0->wandb) (5.0.2)\n"
          ]
        }
      ]
    },
    {
      "cell_type": "code",
      "source": [
        "import pandas as pd\n",
        "import numpy as np\n",
        "import nltk\n",
        "import time\n",
        "from nltk.corpus import stopwords\n",
        "import string\n",
        "from gensim.models import Word2Vec\n",
        "from gensim.test.utils import common_texts\n",
        "\n",
        "from sklearn.feature_extraction.text import TfidfVectorizer\n",
        "from sklearn.ensemble import RandomForestClassifier\n",
        "from sklearn.svm import LinearSVC\n",
        "from sklearn.model_selection import train_test_split\n",
        "from sklearn.metrics import f1_score, precision_score, recall_score\n",
        "from sklearn.metrics import classification_report\n",
        "\n",
        "import wandb\n",
        "\n",
        "nltk.download('stopwords')\n",
        "stop_words = set(stopwords.words('english'))"
      ],
      "metadata": {
        "id": "5r830H34xC1K",
        "colab": {
          "base_uri": "https://localhost:8080/"
        },
        "outputId": "277f1cfb-b851-4a48-dacb-3ede4bdc2723"
      },
      "execution_count": 4,
      "outputs": [
        {
          "output_type": "stream",
          "name": "stderr",
          "text": [
            "[nltk_data] Downloading package stopwords to /root/nltk_data...\n",
            "[nltk_data]   Package stopwords is already up-to-date!\n"
          ]
        }
      ]
    },
    {
      "cell_type": "markdown",
      "source": [
        "## Reading the CSV File"
      ],
      "metadata": {
        "id": "7VxjImWZyJLJ"
      }
    },
    {
      "cell_type": "code",
      "source": [
        "file_name = 'combined_reviews.csv'\n",
        "file_path = folder_path + file_name\n",
        "\n",
        "#df = pd.read_csv(file_path)\n",
        "\n",
        "csv_path = '/content/drive/MyDrive/DOPP_Ex2_data/reviews_train_long.csv'\n",
        "df = pd.read_csv(csv_path)"
      ],
      "metadata": {
        "id": "3WGFNUyvyFhN"
      },
      "execution_count": 5,
      "outputs": []
    },
    {
      "cell_type": "code",
      "source": [
        "df.head()"
      ],
      "metadata": {
        "id": "H2PXRsGXQCUp",
        "outputId": "ab296c3f-f672-4719-db4e-15c6cec23758",
        "colab": {
          "base_uri": "https://localhost:8080/",
          "height": 206
        }
      },
      "execution_count": 6,
      "outputs": [
        {
          "output_type": "execute_result",
          "data": {
            "text/plain": [
              "   rating   text_type                                         reviewText\n",
              "0     4.0  reviewText                            Very comfortable shoes.\n",
              "1     4.0  reviewText  I really like this cleanser. It is gentle on t...\n",
              "2     5.0  reviewText  I do my own nails at home and love CND Shellac...\n",
              "3     5.0  reviewText  I do my own nails at home and love CND Shellac...\n",
              "4     5.0  reviewText  I do my own nails at home and love CND Shellac..."
            ],
            "text/html": [
              "\n",
              "  <div id=\"df-8416221e-5297-4618-8b2e-3514a88e1d0a\" class=\"colab-df-container\">\n",
              "    <div>\n",
              "<style scoped>\n",
              "    .dataframe tbody tr th:only-of-type {\n",
              "        vertical-align: middle;\n",
              "    }\n",
              "\n",
              "    .dataframe tbody tr th {\n",
              "        vertical-align: top;\n",
              "    }\n",
              "\n",
              "    .dataframe thead th {\n",
              "        text-align: right;\n",
              "    }\n",
              "</style>\n",
              "<table border=\"1\" class=\"dataframe\">\n",
              "  <thead>\n",
              "    <tr style=\"text-align: right;\">\n",
              "      <th></th>\n",
              "      <th>rating</th>\n",
              "      <th>text_type</th>\n",
              "      <th>reviewText</th>\n",
              "    </tr>\n",
              "  </thead>\n",
              "  <tbody>\n",
              "    <tr>\n",
              "      <th>0</th>\n",
              "      <td>4.0</td>\n",
              "      <td>reviewText</td>\n",
              "      <td>Very comfortable shoes.</td>\n",
              "    </tr>\n",
              "    <tr>\n",
              "      <th>1</th>\n",
              "      <td>4.0</td>\n",
              "      <td>reviewText</td>\n",
              "      <td>I really like this cleanser. It is gentle on t...</td>\n",
              "    </tr>\n",
              "    <tr>\n",
              "      <th>2</th>\n",
              "      <td>5.0</td>\n",
              "      <td>reviewText</td>\n",
              "      <td>I do my own nails at home and love CND Shellac...</td>\n",
              "    </tr>\n",
              "    <tr>\n",
              "      <th>3</th>\n",
              "      <td>5.0</td>\n",
              "      <td>reviewText</td>\n",
              "      <td>I do my own nails at home and love CND Shellac...</td>\n",
              "    </tr>\n",
              "    <tr>\n",
              "      <th>4</th>\n",
              "      <td>5.0</td>\n",
              "      <td>reviewText</td>\n",
              "      <td>I do my own nails at home and love CND Shellac...</td>\n",
              "    </tr>\n",
              "  </tbody>\n",
              "</table>\n",
              "</div>\n",
              "    <div class=\"colab-df-buttons\">\n",
              "\n",
              "  <div class=\"colab-df-container\">\n",
              "    <button class=\"colab-df-convert\" onclick=\"convertToInteractive('df-8416221e-5297-4618-8b2e-3514a88e1d0a')\"\n",
              "            title=\"Convert this dataframe to an interactive table.\"\n",
              "            style=\"display:none;\">\n",
              "\n",
              "  <svg xmlns=\"http://www.w3.org/2000/svg\" height=\"24px\" viewBox=\"0 -960 960 960\">\n",
              "    <path d=\"M120-120v-720h720v720H120Zm60-500h600v-160H180v160Zm220 220h160v-160H400v160Zm0 220h160v-160H400v160ZM180-400h160v-160H180v160Zm440 0h160v-160H620v160ZM180-180h160v-160H180v160Zm440 0h160v-160H620v160Z\"/>\n",
              "  </svg>\n",
              "    </button>\n",
              "\n",
              "  <style>\n",
              "    .colab-df-container {\n",
              "      display:flex;\n",
              "      gap: 12px;\n",
              "    }\n",
              "\n",
              "    .colab-df-convert {\n",
              "      background-color: #E8F0FE;\n",
              "      border: none;\n",
              "      border-radius: 50%;\n",
              "      cursor: pointer;\n",
              "      display: none;\n",
              "      fill: #1967D2;\n",
              "      height: 32px;\n",
              "      padding: 0 0 0 0;\n",
              "      width: 32px;\n",
              "    }\n",
              "\n",
              "    .colab-df-convert:hover {\n",
              "      background-color: #E2EBFA;\n",
              "      box-shadow: 0px 1px 2px rgba(60, 64, 67, 0.3), 0px 1px 3px 1px rgba(60, 64, 67, 0.15);\n",
              "      fill: #174EA6;\n",
              "    }\n",
              "\n",
              "    .colab-df-buttons div {\n",
              "      margin-bottom: 4px;\n",
              "    }\n",
              "\n",
              "    [theme=dark] .colab-df-convert {\n",
              "      background-color: #3B4455;\n",
              "      fill: #D2E3FC;\n",
              "    }\n",
              "\n",
              "    [theme=dark] .colab-df-convert:hover {\n",
              "      background-color: #434B5C;\n",
              "      box-shadow: 0px 1px 3px 1px rgba(0, 0, 0, 0.15);\n",
              "      filter: drop-shadow(0px 1px 2px rgba(0, 0, 0, 0.3));\n",
              "      fill: #FFFFFF;\n",
              "    }\n",
              "  </style>\n",
              "\n",
              "    <script>\n",
              "      const buttonEl =\n",
              "        document.querySelector('#df-8416221e-5297-4618-8b2e-3514a88e1d0a button.colab-df-convert');\n",
              "      buttonEl.style.display =\n",
              "        google.colab.kernel.accessAllowed ? 'block' : 'none';\n",
              "\n",
              "      async function convertToInteractive(key) {\n",
              "        const element = document.querySelector('#df-8416221e-5297-4618-8b2e-3514a88e1d0a');\n",
              "        const dataTable =\n",
              "          await google.colab.kernel.invokeFunction('convertToInteractive',\n",
              "                                                    [key], {});\n",
              "        if (!dataTable) return;\n",
              "\n",
              "        const docLinkHtml = 'Like what you see? Visit the ' +\n",
              "          '<a target=\"_blank\" href=https://colab.research.google.com/notebooks/data_table.ipynb>data table notebook</a>'\n",
              "          + ' to learn more about interactive tables.';\n",
              "        element.innerHTML = '';\n",
              "        dataTable['output_type'] = 'display_data';\n",
              "        await google.colab.output.renderOutput(dataTable, element);\n",
              "        const docLink = document.createElement('div');\n",
              "        docLink.innerHTML = docLinkHtml;\n",
              "        element.appendChild(docLink);\n",
              "      }\n",
              "    </script>\n",
              "  </div>\n",
              "\n",
              "\n",
              "<div id=\"df-734bc172-f619-42d8-9224-0c0db8cf21fa\">\n",
              "  <button class=\"colab-df-quickchart\" onclick=\"quickchart('df-734bc172-f619-42d8-9224-0c0db8cf21fa')\"\n",
              "            title=\"Suggest charts\"\n",
              "            style=\"display:none;\">\n",
              "\n",
              "<svg xmlns=\"http://www.w3.org/2000/svg\" height=\"24px\"viewBox=\"0 0 24 24\"\n",
              "     width=\"24px\">\n",
              "    <g>\n",
              "        <path d=\"M19 3H5c-1.1 0-2 .9-2 2v14c0 1.1.9 2 2 2h14c1.1 0 2-.9 2-2V5c0-1.1-.9-2-2-2zM9 17H7v-7h2v7zm4 0h-2V7h2v10zm4 0h-2v-4h2v4z\"/>\n",
              "    </g>\n",
              "</svg>\n",
              "  </button>\n",
              "\n",
              "<style>\n",
              "  .colab-df-quickchart {\n",
              "      --bg-color: #E8F0FE;\n",
              "      --fill-color: #1967D2;\n",
              "      --hover-bg-color: #E2EBFA;\n",
              "      --hover-fill-color: #174EA6;\n",
              "      --disabled-fill-color: #AAA;\n",
              "      --disabled-bg-color: #DDD;\n",
              "  }\n",
              "\n",
              "  [theme=dark] .colab-df-quickchart {\n",
              "      --bg-color: #3B4455;\n",
              "      --fill-color: #D2E3FC;\n",
              "      --hover-bg-color: #434B5C;\n",
              "      --hover-fill-color: #FFFFFF;\n",
              "      --disabled-bg-color: #3B4455;\n",
              "      --disabled-fill-color: #666;\n",
              "  }\n",
              "\n",
              "  .colab-df-quickchart {\n",
              "    background-color: var(--bg-color);\n",
              "    border: none;\n",
              "    border-radius: 50%;\n",
              "    cursor: pointer;\n",
              "    display: none;\n",
              "    fill: var(--fill-color);\n",
              "    height: 32px;\n",
              "    padding: 0;\n",
              "    width: 32px;\n",
              "  }\n",
              "\n",
              "  .colab-df-quickchart:hover {\n",
              "    background-color: var(--hover-bg-color);\n",
              "    box-shadow: 0 1px 2px rgba(60, 64, 67, 0.3), 0 1px 3px 1px rgba(60, 64, 67, 0.15);\n",
              "    fill: var(--button-hover-fill-color);\n",
              "  }\n",
              "\n",
              "  .colab-df-quickchart-complete:disabled,\n",
              "  .colab-df-quickchart-complete:disabled:hover {\n",
              "    background-color: var(--disabled-bg-color);\n",
              "    fill: var(--disabled-fill-color);\n",
              "    box-shadow: none;\n",
              "  }\n",
              "\n",
              "  .colab-df-spinner {\n",
              "    border: 2px solid var(--fill-color);\n",
              "    border-color: transparent;\n",
              "    border-bottom-color: var(--fill-color);\n",
              "    animation:\n",
              "      spin 1s steps(1) infinite;\n",
              "  }\n",
              "\n",
              "  @keyframes spin {\n",
              "    0% {\n",
              "      border-color: transparent;\n",
              "      border-bottom-color: var(--fill-color);\n",
              "      border-left-color: var(--fill-color);\n",
              "    }\n",
              "    20% {\n",
              "      border-color: transparent;\n",
              "      border-left-color: var(--fill-color);\n",
              "      border-top-color: var(--fill-color);\n",
              "    }\n",
              "    30% {\n",
              "      border-color: transparent;\n",
              "      border-left-color: var(--fill-color);\n",
              "      border-top-color: var(--fill-color);\n",
              "      border-right-color: var(--fill-color);\n",
              "    }\n",
              "    40% {\n",
              "      border-color: transparent;\n",
              "      border-right-color: var(--fill-color);\n",
              "      border-top-color: var(--fill-color);\n",
              "    }\n",
              "    60% {\n",
              "      border-color: transparent;\n",
              "      border-right-color: var(--fill-color);\n",
              "    }\n",
              "    80% {\n",
              "      border-color: transparent;\n",
              "      border-right-color: var(--fill-color);\n",
              "      border-bottom-color: var(--fill-color);\n",
              "    }\n",
              "    90% {\n",
              "      border-color: transparent;\n",
              "      border-bottom-color: var(--fill-color);\n",
              "    }\n",
              "  }\n",
              "</style>\n",
              "\n",
              "  <script>\n",
              "    async function quickchart(key) {\n",
              "      const quickchartButtonEl =\n",
              "        document.querySelector('#' + key + ' button');\n",
              "      quickchartButtonEl.disabled = true;  // To prevent multiple clicks.\n",
              "      quickchartButtonEl.classList.add('colab-df-spinner');\n",
              "      try {\n",
              "        const charts = await google.colab.kernel.invokeFunction(\n",
              "            'suggestCharts', [key], {});\n",
              "      } catch (error) {\n",
              "        console.error('Error during call to suggestCharts:', error);\n",
              "      }\n",
              "      quickchartButtonEl.classList.remove('colab-df-spinner');\n",
              "      quickchartButtonEl.classList.add('colab-df-quickchart-complete');\n",
              "    }\n",
              "    (() => {\n",
              "      let quickchartButtonEl =\n",
              "        document.querySelector('#df-734bc172-f619-42d8-9224-0c0db8cf21fa button');\n",
              "      quickchartButtonEl.style.display =\n",
              "        google.colab.kernel.accessAllowed ? 'block' : 'none';\n",
              "    })();\n",
              "  </script>\n",
              "</div>\n",
              "\n",
              "    </div>\n",
              "  </div>\n"
            ],
            "application/vnd.google.colaboratory.intrinsic+json": {
              "type": "dataframe",
              "variable_name": "df",
              "summary": "{\n  \"name\": \"df\",\n  \"rows\": 70466,\n  \"fields\": [\n    {\n      \"column\": \"rating\",\n      \"properties\": {\n        \"dtype\": \"number\",\n        \"std\": 0.9418782462700176,\n        \"min\": 1.0,\n        \"max\": 5.0,\n        \"num_unique_values\": 5,\n        \"samples\": [\n          5.0,\n          2.0,\n          3.0\n        ],\n        \"semantic_type\": \"\",\n        \"description\": \"\"\n      }\n    },\n    {\n      \"column\": \"text_type\",\n      \"properties\": {\n        \"dtype\": \"category\",\n        \"num_unique_values\": 2,\n        \"samples\": [\n          \"reviewText_german_french_english\",\n          \"reviewText\"\n        ],\n        \"semantic_type\": \"\",\n        \"description\": \"\"\n      }\n    },\n    {\n      \"column\": \"reviewText\",\n      \"properties\": {\n        \"dtype\": \"category\",\n        \"num_unique_values\": 11477,\n        \"samples\": [\n          \"Got these for my son, who always has worn 33\\\" waist. He s 5ft 11in weighs 155lbs, he can t  these over his hips! Sizing is Not accurate, beware!\",\n          \"I'm going to flip these shoes over. While they offer great support, they are not flexible enough for me to work out. I love the other products from K-Swiss, but they've come a long way since this original style.\"\n        ],\n        \"semantic_type\": \"\",\n        \"description\": \"\"\n      }\n    }\n  ]\n}"
            }
          },
          "metadata": {},
          "execution_count": 6
        }
      ]
    },
    {
      "cell_type": "code",
      "source": [
        "df.info()"
      ],
      "metadata": {
        "colab": {
          "base_uri": "https://localhost:8080/"
        },
        "id": "f4tIP6cjzE2O",
        "outputId": "15394dfc-ce11-4753-e002-bc795452fa5c"
      },
      "execution_count": 7,
      "outputs": [
        {
          "output_type": "stream",
          "name": "stdout",
          "text": [
            "<class 'pandas.core.frame.DataFrame'>\n",
            "RangeIndex: 70466 entries, 0 to 70465\n",
            "Data columns (total 3 columns):\n",
            " #   Column      Non-Null Count  Dtype  \n",
            "---  ------      --------------  -----  \n",
            " 0   rating      70466 non-null  float64\n",
            " 1   text_type   70466 non-null  object \n",
            " 2   reviewText  70466 non-null  object \n",
            "dtypes: float64(1), object(2)\n",
            "memory usage: 1.6+ MB\n"
          ]
        }
      ]
    },
    {
      "cell_type": "markdown",
      "source": [
        "# Build the model"
      ],
      "metadata": {
        "id": "zL0KD9rDpGxt"
      }
    },
    {
      "cell_type": "code",
      "source": [
        "# Preprocessing\n",
        "def preprocess_text(text):\n",
        "    # Convert only string instances to lowercase\n",
        "    text = text.lower() if isinstance(text, str)  else ''\n",
        "    # Remove punctuation\n",
        "    text = text.translate(str.maketrans('', '', string.punctuation))\n",
        "    # Tokenize text\n",
        "    tokens = text.split()\n",
        "    # Remove stopwords\n",
        "    tokens = [word for word in tokens if word not in stop_words]\n",
        "    return \" \".join(tokens)\n",
        "\n",
        "\n",
        "df['preprocessedText'] = df['reviewText'].apply(preprocess_text)\n",
        "\n",
        "# Tokenize text again for word2vec\n",
        "df['tokenized_text'] = df['preprocessedText'].str.split()\n",
        "\n",
        "df['preprocessedText'].head()\n"
      ],
      "metadata": {
        "colab": {
          "base_uri": "https://localhost:8080/",
          "height": 241
        },
        "id": "F_Kja6GgpIVw",
        "outputId": "d32458c4-a5d2-436d-b1d6-68f5192414e1"
      },
      "execution_count": 8,
      "outputs": [
        {
          "output_type": "execute_result",
          "data": {
            "text/plain": [
              "0                                    comfortable shoes\n",
              "1    really like cleanser gentle skin face feels cl...\n",
              "2    nails home love cnd shellac great prodct truly...\n",
              "3    nails home love cnd shellac great prodct truly...\n",
              "4    nails home love cnd shellac great prodct truly...\n",
              "Name: preprocessedText, dtype: object"
            ],
            "text/html": [
              "<div>\n",
              "<style scoped>\n",
              "    .dataframe tbody tr th:only-of-type {\n",
              "        vertical-align: middle;\n",
              "    }\n",
              "\n",
              "    .dataframe tbody tr th {\n",
              "        vertical-align: top;\n",
              "    }\n",
              "\n",
              "    .dataframe thead th {\n",
              "        text-align: right;\n",
              "    }\n",
              "</style>\n",
              "<table border=\"1\" class=\"dataframe\">\n",
              "  <thead>\n",
              "    <tr style=\"text-align: right;\">\n",
              "      <th></th>\n",
              "      <th>preprocessedText</th>\n",
              "    </tr>\n",
              "  </thead>\n",
              "  <tbody>\n",
              "    <tr>\n",
              "      <th>0</th>\n",
              "      <td>comfortable shoes</td>\n",
              "    </tr>\n",
              "    <tr>\n",
              "      <th>1</th>\n",
              "      <td>really like cleanser gentle skin face feels cl...</td>\n",
              "    </tr>\n",
              "    <tr>\n",
              "      <th>2</th>\n",
              "      <td>nails home love cnd shellac great prodct truly...</td>\n",
              "    </tr>\n",
              "    <tr>\n",
              "      <th>3</th>\n",
              "      <td>nails home love cnd shellac great prodct truly...</td>\n",
              "    </tr>\n",
              "    <tr>\n",
              "      <th>4</th>\n",
              "      <td>nails home love cnd shellac great prodct truly...</td>\n",
              "    </tr>\n",
              "  </tbody>\n",
              "</table>\n",
              "</div><br><label><b>dtype:</b> object</label>"
            ]
          },
          "metadata": {},
          "execution_count": 8
        }
      ]
    },
    {
      "cell_type": "code",
      "source": [
        "y = df['rating']\n",
        "X = pd.DataFrame({'preprocessedText': df['preprocessedText'], 'tokenized_text': df['tokenized_text'], 'reviewText': df[\"reviewText\"]})\n",
        "\n",
        "X_train, X_test, y_train, y_test = train_test_split(X, y, test_size=0.2, random_state=42)\n",
        "\n",
        "# Combine train and test sets\n",
        "df_train = pd.DataFrame({'preprocessedText': X_train['preprocessedText'], 'tokenized_text': X_train['tokenized_text'], 'reviewText': X_train[\"reviewText\"], 'rating': y_train})\n",
        "df_test = pd.DataFrame({'preprocessedText': X_test['preprocessedText'], 'tokenized_text': X_test['tokenized_text'], 'reviewText': X_test[\"reviewText\"], 'rating': y_test})\n",
        "\n",
        "# Save them into csv files\n",
        "df_train.to_csv(folder_path + 'train.csv', index=True)\n",
        "df_test.to_csv(folder_path + 'test.csv', index=True)\n"
      ],
      "metadata": {
        "id": "wHqmS0y7RW39"
      },
      "execution_count": 9,
      "outputs": []
    },
    {
      "cell_type": "code",
      "source": [
        "X_train.head()"
      ],
      "metadata": {
        "colab": {
          "base_uri": "https://localhost:8080/",
          "height": 206
        },
        "id": "noH_t-i_VaEA",
        "outputId": "be7b3636-1037-454d-ef1f-f4930b43547b"
      },
      "execution_count": 10,
      "outputs": [
        {
          "output_type": "execute_result",
          "data": {
            "text/plain": [
              "                                        preprocessedText  \\\n",
              "53828  love look feel shoes style weightlifting super...   \n",
              "36658                        dry skin leaves clean fresh   \n",
              "35870  older generation shoe survived 2 3 races mud p...   \n",
              "47535                        love shoes circuit training   \n",
              "15347  purchased daughter gym class loves cute comfor...   \n",
              "\n",
              "                                          tokenized_text  \\\n",
              "53828  [love, look, feel, shoes, style, weightlifting...   \n",
              "36658                  [dry, skin, leaves, clean, fresh]   \n",
              "35870  [older, generation, shoe, survived, 2, 3, race...   \n",
              "47535                   [love, shoes, circuit, training]   \n",
              "15347  [purchased, daughter, gym, class, loves, cute,...   \n",
              "\n",
              "                                              reviewText  \n",
              "53828  I LOVE the look and feel of these shoes for st...  \n",
              "36658  Does not dry out the skin. Leaves it clean and...  \n",
              "35870  I had the older generation of this shoe that s...  \n",
              "47535           I love these shoes for circuit training.  \n",
              "15347  Purchased for my daughter for gym class.  She ...  "
            ],
            "text/html": [
              "\n",
              "  <div id=\"df-22e9e63d-789c-4e26-9b5b-c4e5988fa84d\" class=\"colab-df-container\">\n",
              "    <div>\n",
              "<style scoped>\n",
              "    .dataframe tbody tr th:only-of-type {\n",
              "        vertical-align: middle;\n",
              "    }\n",
              "\n",
              "    .dataframe tbody tr th {\n",
              "        vertical-align: top;\n",
              "    }\n",
              "\n",
              "    .dataframe thead th {\n",
              "        text-align: right;\n",
              "    }\n",
              "</style>\n",
              "<table border=\"1\" class=\"dataframe\">\n",
              "  <thead>\n",
              "    <tr style=\"text-align: right;\">\n",
              "      <th></th>\n",
              "      <th>preprocessedText</th>\n",
              "      <th>tokenized_text</th>\n",
              "      <th>reviewText</th>\n",
              "    </tr>\n",
              "  </thead>\n",
              "  <tbody>\n",
              "    <tr>\n",
              "      <th>53828</th>\n",
              "      <td>love look feel shoes style weightlifting super...</td>\n",
              "      <td>[love, look, feel, shoes, style, weightlifting...</td>\n",
              "      <td>I LOVE the look and feel of these shoes for st...</td>\n",
              "    </tr>\n",
              "    <tr>\n",
              "      <th>36658</th>\n",
              "      <td>dry skin leaves clean fresh</td>\n",
              "      <td>[dry, skin, leaves, clean, fresh]</td>\n",
              "      <td>Does not dry out the skin. Leaves it clean and...</td>\n",
              "    </tr>\n",
              "    <tr>\n",
              "      <th>35870</th>\n",
              "      <td>older generation shoe survived 2 3 races mud p...</td>\n",
              "      <td>[older, generation, shoe, survived, 2, 3, race...</td>\n",
              "      <td>I had the older generation of this shoe that s...</td>\n",
              "    </tr>\n",
              "    <tr>\n",
              "      <th>47535</th>\n",
              "      <td>love shoes circuit training</td>\n",
              "      <td>[love, shoes, circuit, training]</td>\n",
              "      <td>I love these shoes for circuit training.</td>\n",
              "    </tr>\n",
              "    <tr>\n",
              "      <th>15347</th>\n",
              "      <td>purchased daughter gym class loves cute comfor...</td>\n",
              "      <td>[purchased, daughter, gym, class, loves, cute,...</td>\n",
              "      <td>Purchased for my daughter for gym class.  She ...</td>\n",
              "    </tr>\n",
              "  </tbody>\n",
              "</table>\n",
              "</div>\n",
              "    <div class=\"colab-df-buttons\">\n",
              "\n",
              "  <div class=\"colab-df-container\">\n",
              "    <button class=\"colab-df-convert\" onclick=\"convertToInteractive('df-22e9e63d-789c-4e26-9b5b-c4e5988fa84d')\"\n",
              "            title=\"Convert this dataframe to an interactive table.\"\n",
              "            style=\"display:none;\">\n",
              "\n",
              "  <svg xmlns=\"http://www.w3.org/2000/svg\" height=\"24px\" viewBox=\"0 -960 960 960\">\n",
              "    <path d=\"M120-120v-720h720v720H120Zm60-500h600v-160H180v160Zm220 220h160v-160H400v160Zm0 220h160v-160H400v160ZM180-400h160v-160H180v160Zm440 0h160v-160H620v160ZM180-180h160v-160H180v160Zm440 0h160v-160H620v160Z\"/>\n",
              "  </svg>\n",
              "    </button>\n",
              "\n",
              "  <style>\n",
              "    .colab-df-container {\n",
              "      display:flex;\n",
              "      gap: 12px;\n",
              "    }\n",
              "\n",
              "    .colab-df-convert {\n",
              "      background-color: #E8F0FE;\n",
              "      border: none;\n",
              "      border-radius: 50%;\n",
              "      cursor: pointer;\n",
              "      display: none;\n",
              "      fill: #1967D2;\n",
              "      height: 32px;\n",
              "      padding: 0 0 0 0;\n",
              "      width: 32px;\n",
              "    }\n",
              "\n",
              "    .colab-df-convert:hover {\n",
              "      background-color: #E2EBFA;\n",
              "      box-shadow: 0px 1px 2px rgba(60, 64, 67, 0.3), 0px 1px 3px 1px rgba(60, 64, 67, 0.15);\n",
              "      fill: #174EA6;\n",
              "    }\n",
              "\n",
              "    .colab-df-buttons div {\n",
              "      margin-bottom: 4px;\n",
              "    }\n",
              "\n",
              "    [theme=dark] .colab-df-convert {\n",
              "      background-color: #3B4455;\n",
              "      fill: #D2E3FC;\n",
              "    }\n",
              "\n",
              "    [theme=dark] .colab-df-convert:hover {\n",
              "      background-color: #434B5C;\n",
              "      box-shadow: 0px 1px 3px 1px rgba(0, 0, 0, 0.15);\n",
              "      filter: drop-shadow(0px 1px 2px rgba(0, 0, 0, 0.3));\n",
              "      fill: #FFFFFF;\n",
              "    }\n",
              "  </style>\n",
              "\n",
              "    <script>\n",
              "      const buttonEl =\n",
              "        document.querySelector('#df-22e9e63d-789c-4e26-9b5b-c4e5988fa84d button.colab-df-convert');\n",
              "      buttonEl.style.display =\n",
              "        google.colab.kernel.accessAllowed ? 'block' : 'none';\n",
              "\n",
              "      async function convertToInteractive(key) {\n",
              "        const element = document.querySelector('#df-22e9e63d-789c-4e26-9b5b-c4e5988fa84d');\n",
              "        const dataTable =\n",
              "          await google.colab.kernel.invokeFunction('convertToInteractive',\n",
              "                                                    [key], {});\n",
              "        if (!dataTable) return;\n",
              "\n",
              "        const docLinkHtml = 'Like what you see? Visit the ' +\n",
              "          '<a target=\"_blank\" href=https://colab.research.google.com/notebooks/data_table.ipynb>data table notebook</a>'\n",
              "          + ' to learn more about interactive tables.';\n",
              "        element.innerHTML = '';\n",
              "        dataTable['output_type'] = 'display_data';\n",
              "        await google.colab.output.renderOutput(dataTable, element);\n",
              "        const docLink = document.createElement('div');\n",
              "        docLink.innerHTML = docLinkHtml;\n",
              "        element.appendChild(docLink);\n",
              "      }\n",
              "    </script>\n",
              "  </div>\n",
              "\n",
              "\n",
              "<div id=\"df-9b8f415a-ec6b-4c73-8257-8e54d747fb21\">\n",
              "  <button class=\"colab-df-quickchart\" onclick=\"quickchart('df-9b8f415a-ec6b-4c73-8257-8e54d747fb21')\"\n",
              "            title=\"Suggest charts\"\n",
              "            style=\"display:none;\">\n",
              "\n",
              "<svg xmlns=\"http://www.w3.org/2000/svg\" height=\"24px\"viewBox=\"0 0 24 24\"\n",
              "     width=\"24px\">\n",
              "    <g>\n",
              "        <path d=\"M19 3H5c-1.1 0-2 .9-2 2v14c0 1.1.9 2 2 2h14c1.1 0 2-.9 2-2V5c0-1.1-.9-2-2-2zM9 17H7v-7h2v7zm4 0h-2V7h2v10zm4 0h-2v-4h2v4z\"/>\n",
              "    </g>\n",
              "</svg>\n",
              "  </button>\n",
              "\n",
              "<style>\n",
              "  .colab-df-quickchart {\n",
              "      --bg-color: #E8F0FE;\n",
              "      --fill-color: #1967D2;\n",
              "      --hover-bg-color: #E2EBFA;\n",
              "      --hover-fill-color: #174EA6;\n",
              "      --disabled-fill-color: #AAA;\n",
              "      --disabled-bg-color: #DDD;\n",
              "  }\n",
              "\n",
              "  [theme=dark] .colab-df-quickchart {\n",
              "      --bg-color: #3B4455;\n",
              "      --fill-color: #D2E3FC;\n",
              "      --hover-bg-color: #434B5C;\n",
              "      --hover-fill-color: #FFFFFF;\n",
              "      --disabled-bg-color: #3B4455;\n",
              "      --disabled-fill-color: #666;\n",
              "  }\n",
              "\n",
              "  .colab-df-quickchart {\n",
              "    background-color: var(--bg-color);\n",
              "    border: none;\n",
              "    border-radius: 50%;\n",
              "    cursor: pointer;\n",
              "    display: none;\n",
              "    fill: var(--fill-color);\n",
              "    height: 32px;\n",
              "    padding: 0;\n",
              "    width: 32px;\n",
              "  }\n",
              "\n",
              "  .colab-df-quickchart:hover {\n",
              "    background-color: var(--hover-bg-color);\n",
              "    box-shadow: 0 1px 2px rgba(60, 64, 67, 0.3), 0 1px 3px 1px rgba(60, 64, 67, 0.15);\n",
              "    fill: var(--button-hover-fill-color);\n",
              "  }\n",
              "\n",
              "  .colab-df-quickchart-complete:disabled,\n",
              "  .colab-df-quickchart-complete:disabled:hover {\n",
              "    background-color: var(--disabled-bg-color);\n",
              "    fill: var(--disabled-fill-color);\n",
              "    box-shadow: none;\n",
              "  }\n",
              "\n",
              "  .colab-df-spinner {\n",
              "    border: 2px solid var(--fill-color);\n",
              "    border-color: transparent;\n",
              "    border-bottom-color: var(--fill-color);\n",
              "    animation:\n",
              "      spin 1s steps(1) infinite;\n",
              "  }\n",
              "\n",
              "  @keyframes spin {\n",
              "    0% {\n",
              "      border-color: transparent;\n",
              "      border-bottom-color: var(--fill-color);\n",
              "      border-left-color: var(--fill-color);\n",
              "    }\n",
              "    20% {\n",
              "      border-color: transparent;\n",
              "      border-left-color: var(--fill-color);\n",
              "      border-top-color: var(--fill-color);\n",
              "    }\n",
              "    30% {\n",
              "      border-color: transparent;\n",
              "      border-left-color: var(--fill-color);\n",
              "      border-top-color: var(--fill-color);\n",
              "      border-right-color: var(--fill-color);\n",
              "    }\n",
              "    40% {\n",
              "      border-color: transparent;\n",
              "      border-right-color: var(--fill-color);\n",
              "      border-top-color: var(--fill-color);\n",
              "    }\n",
              "    60% {\n",
              "      border-color: transparent;\n",
              "      border-right-color: var(--fill-color);\n",
              "    }\n",
              "    80% {\n",
              "      border-color: transparent;\n",
              "      border-right-color: var(--fill-color);\n",
              "      border-bottom-color: var(--fill-color);\n",
              "    }\n",
              "    90% {\n",
              "      border-color: transparent;\n",
              "      border-bottom-color: var(--fill-color);\n",
              "    }\n",
              "  }\n",
              "</style>\n",
              "\n",
              "  <script>\n",
              "    async function quickchart(key) {\n",
              "      const quickchartButtonEl =\n",
              "        document.querySelector('#' + key + ' button');\n",
              "      quickchartButtonEl.disabled = true;  // To prevent multiple clicks.\n",
              "      quickchartButtonEl.classList.add('colab-df-spinner');\n",
              "      try {\n",
              "        const charts = await google.colab.kernel.invokeFunction(\n",
              "            'suggestCharts', [key], {});\n",
              "      } catch (error) {\n",
              "        console.error('Error during call to suggestCharts:', error);\n",
              "      }\n",
              "      quickchartButtonEl.classList.remove('colab-df-spinner');\n",
              "      quickchartButtonEl.classList.add('colab-df-quickchart-complete');\n",
              "    }\n",
              "    (() => {\n",
              "      let quickchartButtonEl =\n",
              "        document.querySelector('#df-9b8f415a-ec6b-4c73-8257-8e54d747fb21 button');\n",
              "      quickchartButtonEl.style.display =\n",
              "        google.colab.kernel.accessAllowed ? 'block' : 'none';\n",
              "    })();\n",
              "  </script>\n",
              "</div>\n",
              "\n",
              "    </div>\n",
              "  </div>\n"
            ],
            "application/vnd.google.colaboratory.intrinsic+json": {
              "type": "dataframe",
              "variable_name": "X_train",
              "summary": "{\n  \"name\": \"X_train\",\n  \"rows\": 56372,\n  \"fields\": [\n    {\n      \"column\": \"preprocessedText\",\n      \"properties\": {\n        \"dtype\": \"category\",\n        \"num_unique_values\": 9253,\n        \"samples\": [\n          \"image makes look like shoe square toe pointer toe actually wider feet usually buy size half size longer get comfortable width brand shoes wanted rounder wider toe design comfortable feel like photos shoe dont reflect exactly received detail otherwise shoe fine wear\",\n          \"beautiful work shoes\",\n          \"gave product friend known long thick beautiful hair used foliage cure ceramic straightener worked well ways however sensitive odors warns product quite spicy smells like combination axe body spray old spice masculine spicy also makes appearances wet weather\"\n        ],\n        \"semantic_type\": \"\",\n        \"description\": \"\"\n      }\n    },\n    {\n      \"column\": \"tokenized_text\",\n      \"properties\": {\n        \"dtype\": \"object\",\n        \"semantic_type\": \"\",\n        \"description\": \"\"\n      }\n    },\n    {\n      \"column\": \"reviewText\",\n      \"properties\": {\n        \"dtype\": \"category\",\n        \"num_unique_values\": 9808,\n        \"samples\": [\n          \"We both love shower gel.  It smells so good and goes as well with the lotion sold.  We love using it.\",\n          \"with one washing at this time I'm very happy with this purchase.\",\n          \"Love these shoes, I have worn them all day and found them really comfortable with no aching feet at the end of the day. Fantastic colour and true to size. I also bought  Nike Women's Flex Supreme Tr 3 Pnk Pw/Mtllc Slvr/Cl Gry/White Training Shoe and these shoes are slightly more comfortable than those even though they look very similar.\"\n        ],\n        \"semantic_type\": \"\",\n        \"description\": \"\"\n      }\n    }\n  ]\n}"
            }
          },
          "metadata": {},
          "execution_count": 10
        }
      ]
    },
    {
      "cell_type": "code",
      "source": [
        "print(common_texts)"
      ],
      "metadata": {
        "colab": {
          "base_uri": "https://localhost:8080/"
        },
        "id": "Ijcsp4poG8M8",
        "outputId": "20f6dda2-0e64-4be9-b52b-da286555cf94"
      },
      "execution_count": 11,
      "outputs": [
        {
          "output_type": "stream",
          "name": "stdout",
          "text": [
            "[['human', 'interface', 'computer'], ['survey', 'user', 'computer', 'system', 'response', 'time'], ['eps', 'user', 'interface', 'system'], ['system', 'human', 'system', 'eps'], ['user', 'response', 'time'], ['trees'], ['graph', 'trees'], ['graph', 'minors', 'trees'], ['graph', 'minors', 'survey']]\n"
          ]
        }
      ]
    },
    {
      "cell_type": "code",
      "source": [
        "# TF-IDF Vectorization\n",
        "tfidf = TfidfVectorizer()\n",
        "X_tfidf_train = tfidf.fit_transform(X_train['preprocessedText']).toarray()\n",
        "X_tfidf_test = tfidf.transform(X_test['preprocessedText']).toarray()\n",
        "\n",
        "# Word2Vec Embeddings\n",
        "w2v_model_train = Word2Vec(sentences=common_texts, vector_size=100, window=5, min_count=1, workers=4)\n",
        "\n",
        "def get_sentence_embedding(word_list, model):\n",
        "    word_vecs = [model.wv[word] for word in word_list if word in model.wv]\n",
        "    if word_vecs:\n",
        "        return np.mean(word_vecs, axis=0)\n",
        "    else:\n",
        "        return np.zeros(model.vector_size)\n",
        "\n",
        "X_w2v_train = np.array([get_sentence_embedding(word_list, w2v_model_train) for word_list in X_train['tokenized_text']])\n",
        "X_w2v_test = np.array([get_sentence_embedding(word_list, w2v_model_train) for word_list in X_test['tokenized_text']])\n",
        "\n",
        "X_train_vectorized = np.hstack((X_tfidf_train, X_w2v_train))\n",
        "X_test_vectorized = np.hstack((X_tfidf_test, X_w2v_test))\n"
      ],
      "metadata": {
        "id": "oUiXjoEhshIk"
      },
      "execution_count": 12,
      "outputs": []
    },
    {
      "cell_type": "markdown",
      "source": [
        "## Including wandb for analysis during model training"
      ],
      "metadata": {
        "id": "C7NbOIFbu0ek"
      }
    },
    {
      "cell_type": "code",
      "source": [
        "wandb.login()"
      ],
      "metadata": {
        "colab": {
          "base_uri": "https://localhost:8080/"
        },
        "id": "EjDJ7Tltu4rt",
        "outputId": "fee125c3-13d7-41cf-e1f4-e01c243ebbf6"
      },
      "execution_count": 13,
      "outputs": [
        {
          "output_type": "stream",
          "name": "stderr",
          "text": [
            "\u001b[34m\u001b[1mwandb\u001b[0m: Currently logged in as: \u001b[33ml-beccard\u001b[0m (\u001b[33ml-beccard-tu-wien\u001b[0m). Use \u001b[1m`wandb login --relogin`\u001b[0m to force relogin\n"
          ]
        },
        {
          "output_type": "execute_result",
          "data": {
            "text/plain": [
              "True"
            ]
          },
          "metadata": {},
          "execution_count": 13
        }
      ]
    },
    {
      "cell_type": "code",
      "source": [
        "wandb_project_name = \"DOPP analysis\"\n",
        "wandb_run_name = \"rf_experiment-9-estimators-100\"\n",
        "\n",
        "rf_config = {\n",
        "    \"n_estimators\": 100,\n",
        "    \"max_depth\": None,\n",
        "    \"random_state\": 42,\n",
        "    \"test_size\": 0.2,\n",
        "    \"dataset\": \"Word2Vec\"\n",
        "}\n",
        "\n",
        "\n",
        "wandb.init(\n",
        "    project=wandb_project_name,\n",
        "    name=wandb_run_name,\n",
        "    config=rf_config\n",
        ")\n",
        "\n",
        "\n",
        "start_time = time.time()\n",
        "\n",
        "rf_model = RandomForestClassifier(\n",
        "    n_estimators=rf_config[\"n_estimators\"],\n",
        "    max_depth=rf_config[\"max_depth\"],\n",
        "    random_state=rf_config[\"random_state\"]\n",
        ")\n",
        "rf_model.fit(X_train_vectorized, y_train)\n",
        "\n",
        "y_pred_rf = rf_model.predict(X_test_vectorized)\n",
        "end_time = time.time()\n",
        "execution_time = end_time - start_time\n",
        "\n",
        "f1Score = f1_score(y_test, y_pred_rf, average='macro')\n",
        "precision = precision_score(y_test, y_pred_rf, average='macro')\n",
        "recall = recall_score(y_test, y_pred_rf, average='macro')\n",
        "\n",
        "# Log metrics to W&B\n",
        "wandb.log({\n",
        "    \"Execution Time\": execution_time,\n",
        "    \"F1 Score\": f1Score,\n",
        "    \"Precision Score\": precision,\n",
        "    \"Recall Score\": recall\n",
        "})\n",
        "\n",
        "print(\"Execution Time:\", execution_time, \"seconds\")\n",
        "print(\"Precision Score:\", precision)\n",
        "print(\"Recall Score:\", recall)\n",
        "print(\"F1 Score:\", f1Score, \"\\n\")\n",
        "print(classification_report(y_test, y_pred_rf))\n",
        "\n",
        "# [optional] finish the wandb run, necessary in notebooks\n",
        "wandb.finish()"
      ],
      "metadata": {
        "colab": {
          "base_uri": "https://localhost:8080/",
          "height": 121
        },
        "id": "n-QpurypvFns",
        "outputId": "11cd88c9-47bf-4ee3-d76b-65eaac1fab26"
      },
      "execution_count": null,
      "outputs": [
        {
          "output_type": "stream",
          "name": "stderr",
          "text": [
            "\u001b[34m\u001b[1mwandb\u001b[0m: Using wandb-core as the SDK backend.  Please refer to https://wandb.me/wandb-core for more information.\n"
          ]
        },
        {
          "output_type": "display_data",
          "data": {
            "text/plain": [
              "<IPython.core.display.HTML object>"
            ],
            "text/html": [
              "Tracking run with wandb version 0.19.4"
            ]
          },
          "metadata": {}
        },
        {
          "output_type": "display_data",
          "data": {
            "text/plain": [
              "<IPython.core.display.HTML object>"
            ],
            "text/html": [
              "Run data is saved locally in <code>/content/wandb/run-20250126_161541-by3e15s0</code>"
            ]
          },
          "metadata": {}
        },
        {
          "output_type": "display_data",
          "data": {
            "text/plain": [
              "<IPython.core.display.HTML object>"
            ],
            "text/html": [
              "Syncing run <strong><a href='https://wandb.ai/l-beccard-tu-wien/DOPP%20analysis/runs/by3e15s0' target=\"_blank\">rf_experiment-9-estimators-100</a></strong> to <a href='https://wandb.ai/l-beccard-tu-wien/DOPP%20analysis' target=\"_blank\">Weights & Biases</a> (<a href='https://wandb.me/developer-guide' target=\"_blank\">docs</a>)<br>"
            ]
          },
          "metadata": {}
        },
        {
          "output_type": "display_data",
          "data": {
            "text/plain": [
              "<IPython.core.display.HTML object>"
            ],
            "text/html": [
              " View project at <a href='https://wandb.ai/l-beccard-tu-wien/DOPP%20analysis' target=\"_blank\">https://wandb.ai/l-beccard-tu-wien/DOPP%20analysis</a>"
            ]
          },
          "metadata": {}
        },
        {
          "output_type": "display_data",
          "data": {
            "text/plain": [
              "<IPython.core.display.HTML object>"
            ],
            "text/html": [
              " View run at <a href='https://wandb.ai/l-beccard-tu-wien/DOPP%20analysis/runs/by3e15s0' target=\"_blank\">https://wandb.ai/l-beccard-tu-wien/DOPP%20analysis/runs/by3e15s0</a>"
            ]
          },
          "metadata": {}
        }
      ]
    },
    {
      "cell_type": "code",
      "source": [
        "svc_config = {\n",
        "    \"random_state\": 42,\n",
        "    \"test_size\": 0.2,\n",
        "    \"max_iter\": 1000,\n",
        "    \"penalty\": \"l1\",\n",
        "    \"dataset\": \"Combined\"\n",
        "}\n",
        "\n",
        "wandb_project_name = \"DOPP analysis\"\n",
        "\n",
        "wandb.init(\n",
        "    project=wandb_project_name,\n",
        "    name=\"svc_experiment-4\",\n",
        "    config=svc_config\n",
        ")\n",
        "\n",
        "start_time = time.time()\n",
        "\n",
        "linear_svc_model = LinearSVC(random_state=svc_config[\"random_state\"], penalty=svc_config[\"penalty\"])\n",
        "linear_svc_model.fit(X_train_vectorized, y_train)\n",
        "\n",
        "y_pred_svc = linear_svc_model.predict(X_test_vectorized)\n",
        "end_time = time.time()\n",
        "execution_time = end_time - start_time\n",
        "\n",
        "f1Score = f1_score(y_test, y_pred_svc, average='macro')\n",
        "precision = precision_score(y_test, y_pred_svc, average='macro')\n",
        "recall = recall_score(y_test, y_pred_svc, average='macro')\n",
        "\n",
        "wandb.log({\n",
        "    \"Execution Time\": execution_time,\n",
        "    \"F1 Score\": f1Score,\n",
        "    \"Precision Score\": precision,\n",
        "    \"Recall Score\": recall\n",
        "})\n",
        "\n",
        "print(\"Execution Time:\", execution_time, \"seconds\")\n",
        "print(\"Precision Score:\", precision)\n",
        "print(\"Recall Score:\", recall)\n",
        "print(\"F1 Score:\", f1Score, \"\\n\")\n",
        "print(classification_report(y_test, y_pred_svc))\n",
        "\n",
        "wandb.finish()"
      ],
      "metadata": {
        "id": "iuDbMxpAyjq6"
      },
      "execution_count": null,
      "outputs": []
    },
    {
      "cell_type": "markdown",
      "source": [
        "## Qualitative misclassification analysis"
      ],
      "metadata": {
        "id": "r57xDsUY8kot"
      }
    },
    {
      "cell_type": "code",
      "source": [
        "print(np.unique(y_pred_svc))\n",
        "print(np.unique(y_pred_rf))\n"
      ],
      "metadata": {
        "id": "4v7wkbSE8soI"
      },
      "execution_count": null,
      "outputs": []
    },
    {
      "cell_type": "markdown",
      "source": [
        "We see our models predict all given classes.  \n",
        "Now, let's understand why some classes are misclassified."
      ],
      "metadata": {
        "id": "nXixokC79HHY"
      }
    },
    {
      "cell_type": "code",
      "source": [
        "false_preds_svc = y_pred_svc != y_test\n",
        "\n",
        "misclassified_predictions = y_pred_svc[false_preds_svc]\n",
        "misclassified_labels = y_test[false_preds_svc]"
      ],
      "metadata": {
        "id": "jwh-vkNS91AC"
      },
      "execution_count": null,
      "outputs": []
    },
    {
      "cell_type": "code",
      "source": [
        "misclassified_predictions"
      ],
      "metadata": {
        "id": "m3YPfRJ8B7NR"
      },
      "execution_count": null,
      "outputs": []
    },
    {
      "cell_type": "code",
      "source": [
        "np.unique(misclassified_predictions, return_counts=True)"
      ],
      "metadata": {
        "id": "haiVDc4CA0ej"
      },
      "execution_count": null,
      "outputs": []
    },
    {
      "cell_type": "markdown",
      "source": [
        "By this frequency count, it is observable that most of the time a 5-star-rating is predicting wrong, which makes sense since the original dataset is quite imbalanced. The grade 2 has been misclassified the least but is also the least represented class in the dataset."
      ],
      "metadata": {
        "id": "JAU1pOS4BGv0"
      }
    },
    {
      "cell_type": "code",
      "source": [
        "misclassified_labels"
      ],
      "metadata": {
        "id": "nqemDj7o_JUU"
      },
      "execution_count": null,
      "outputs": []
    },
    {
      "cell_type": "code",
      "source": [
        "df_misclassified = df.iloc[misclassified_labels.index]"
      ],
      "metadata": {
        "id": "u6dHM4So_MEf"
      },
      "execution_count": null,
      "outputs": []
    },
    {
      "cell_type": "code",
      "source": [
        "df_misclassified[\"misclassified_rating\"] = misclassified_predictions"
      ],
      "metadata": {
        "id": "UeSvwQYs_XHy"
      },
      "execution_count": null,
      "outputs": []
    },
    {
      "cell_type": "code",
      "source": [
        "df_misclassified.iloc[0]"
      ],
      "metadata": {
        "id": "IpwFoedk_ttm"
      },
      "execution_count": null,
      "outputs": []
    },
    {
      "cell_type": "code",
      "source": [
        "df_misclassified.iloc[0][\"reviewText\"]"
      ],
      "metadata": {
        "id": "Z-wkKbNk_6g8"
      },
      "execution_count": null,
      "outputs": []
    },
    {
      "cell_type": "markdown",
      "source": [
        "Based on the review text, we can observe that the model does not really understand the final critizing words of the this review. The review text itself is reasonable to give this three stars."
      ],
      "metadata": {
        "id": "Oa62rV-MARhj"
      }
    },
    {
      "cell_type": "code",
      "source": [
        "df_misclassified.iloc[14]"
      ],
      "metadata": {
        "id": "mUY2JVVPAE7j"
      },
      "execution_count": null,
      "outputs": []
    },
    {
      "cell_type": "code",
      "source": [
        "df_misclassified.iloc[14][\"reviewText\"]"
      ],
      "metadata": {
        "id": "raM2rqIQAsuK"
      },
      "execution_count": null,
      "outputs": []
    },
    {
      "cell_type": "markdown",
      "source": [
        "Again, the review text presents some kind of critique, which should be understood by the model not to rate it with five stars."
      ],
      "metadata": {
        "id": "BZqSmedKBifH"
      }
    },
    {
      "cell_type": "code",
      "source": [
        "df_misclassified.iloc[31]"
      ],
      "metadata": {
        "id": "igyy8R42AyAt"
      },
      "execution_count": null,
      "outputs": []
    },
    {
      "cell_type": "code",
      "source": [
        "df_misclassified.iloc[31][\"reviewText\"]"
      ],
      "metadata": {
        "id": "mUNUhYMCCDGV"
      },
      "execution_count": null,
      "outputs": []
    },
    {
      "cell_type": "markdown",
      "source": [
        "This is an interesting case since we have the opposite behaviour of the model now predicting a higher rated product of 4 with a lower rating of 2.\n",
        "This review text is easy to understand for a human but since we remove stopwords for model training it might be possible that the sentence ends up with complete different meaning with meaningful words like `died` and `carefully`. Based on an assumption like this a two star rating seems plausible."
      ],
      "metadata": {
        "id": "SGGoQH0qCO1J"
      }
    },
    {
      "cell_type": "markdown",
      "source": [
        "## Balancing optimizations"
      ],
      "metadata": {
        "id": "KwJvNsI_DU-X"
      }
    },
    {
      "cell_type": "code",
      "source": [
        "df_train[\"rating\"].value_counts()"
      ],
      "metadata": {
        "id": "J0KgHybBCM7f"
      },
      "execution_count": null,
      "outputs": []
    },
    {
      "cell_type": "markdown",
      "source": [
        "We have only 306 two star ratings as the least represented class. Therefore, we will take only 306 random samples from the other classes."
      ],
      "metadata": {
        "id": "frJVk71NG_f9"
      }
    },
    {
      "cell_type": "code",
      "source": [
        "df_rating_2 = df_train[df_train[\"rating\"] == 2]"
      ],
      "metadata": {
        "id": "vdKy4WM4G21V"
      },
      "execution_count": null,
      "outputs": []
    },
    {
      "cell_type": "code",
      "source": [
        "df_rating_1 = df_train[df_train[\"rating\"] == 1].sample(n=306, random_state=42)\n",
        "df_rating_3 = df_train[df_train[\"rating\"] == 3].sample(n=306, random_state=42)\n",
        "df_rating_4 = df_train[df_train[\"rating\"] == 4].sample(n=306, random_state=42)\n",
        "df_rating_5 = df_train[df_train[\"rating\"] == 5].sample(n=306, random_state=42)"
      ],
      "metadata": {
        "id": "xggFIRNLHT0m"
      },
      "execution_count": null,
      "outputs": []
    },
    {
      "cell_type": "code",
      "source": [
        "# Merge all dataframes\n",
        "df_balanced = pd.concat([df_rating_2, df_rating_1, df_rating_3, df_rating_4, df_rating_5])"
      ],
      "metadata": {
        "id": "0AMNafikHq-e"
      },
      "execution_count": null,
      "outputs": []
    },
    {
      "cell_type": "code",
      "source": [
        "df_balanced.shape"
      ],
      "metadata": {
        "id": "ACL6Sx4OHyA9"
      },
      "execution_count": null,
      "outputs": []
    },
    {
      "cell_type": "code",
      "source": [
        "df_balanced[\"rating\"].value_counts()"
      ],
      "metadata": {
        "id": "PlxkOAoeH0g4"
      },
      "execution_count": null,
      "outputs": []
    },
    {
      "cell_type": "code",
      "source": [
        "df_balanced.head()"
      ],
      "metadata": {
        "id": "knRAmqLJIAXD"
      },
      "execution_count": null,
      "outputs": []
    },
    {
      "cell_type": "code",
      "source": [
        "y_train_balanced = df_balanced['rating']\n",
        "\n",
        "X_tfidf_train_balanced = tfidf.fit_transform(df_balanced['preprocessedText']).toarray()\n",
        "X_tfidf_test_balanced = tfidf.transform(X_test['preprocessedText']).toarray()\n",
        "\n",
        "# Using w2v model with train set only as recommended here: https://stackoverflow.com/a/70900433/19932351\n",
        "X_w2v_train_balanced = np.array([get_sentence_embedding(word_list, w2v_model_train) for word_list in df_balanced['tokenized_text']])\n",
        "X_w2v_test_balanced = np.array([get_sentence_embedding(word_list, w2v_model_train) for word_list in X_test['tokenized_text']])\n",
        "\n",
        "X_train_vectorized_balanced = np.hstack((X_tfidf_train_balanced, X_w2v_train_balanced))\n",
        "X_test_vectorized_balanced = np.hstack((X_tfidf_test_balanced, X_w2v_test_balanced))"
      ],
      "metadata": {
        "id": "5Wmn_ST8IM1L"
      },
      "execution_count": null,
      "outputs": []
    },
    {
      "cell_type": "code",
      "source": [
        "X_train_vectorized_balanced.shape"
      ],
      "metadata": {
        "id": "-74S65Fm-7FE"
      },
      "execution_count": null,
      "outputs": []
    },
    {
      "cell_type": "code",
      "source": [
        "X_test_vectorized_balanced.shape"
      ],
      "metadata": {
        "id": "-yRe2HRg-8-f"
      },
      "execution_count": null,
      "outputs": []
    },
    {
      "cell_type": "code",
      "source": [
        "wandb_project_name = \"DOPP analysis\"\n",
        "wandb_run_name = \"rf_balanced-2-estimators-100\"\n",
        "\n",
        "rf_config = {\n",
        "    \"n_estimators\": 100,\n",
        "    \"max_depth\": None,\n",
        "    \"random_state\": 42,\n",
        "    \"test_size\": 0.2,\n",
        "    \"dataset\": \"Balanced-Combined\"\n",
        "}\n",
        "\n",
        "\n",
        "wandb.init(\n",
        "    project=wandb_project_name,\n",
        "    name=wandb_run_name,\n",
        "    config=rf_config\n",
        ")\n",
        "\n",
        "\n",
        "start_time = time.time()\n",
        "\n",
        "rf_model = RandomForestClassifier(\n",
        "    n_estimators=rf_config[\"n_estimators\"],\n",
        "    max_depth=rf_config[\"max_depth\"],\n",
        "    random_state=rf_config[\"random_state\"]\n",
        ")\n",
        "rf_model.fit(X_train_vectorized_balanced, y_train_balanced)\n",
        "\n",
        "y_pred_rf = rf_model.predict(X_test_vectorized_balanced)\n",
        "end_time = time.time()\n",
        "execution_time = end_time - start_time\n",
        "\n",
        "f1Score = f1_score(y_test, y_pred_rf, average='macro')\n",
        "precision = precision_score(y_test, y_pred_rf, average='macro')\n",
        "recall = recall_score(y_test, y_pred_rf, average='macro')\n",
        "\n",
        "# Log metrics to W&B\n",
        "wandb.log({\n",
        "    \"Execution Time\": execution_time,\n",
        "    \"F1 Score\": f1Score,\n",
        "    \"Precision Score\": precision,\n",
        "    \"Recall Score\": recall\n",
        "})\n",
        "\n",
        "print(\"Execution Time:\", execution_time, \"seconds\")\n",
        "print(\"Precision Score:\", precision)\n",
        "print(\"Recall Score:\", recall)\n",
        "print(\"F1 Score:\", f1Score, \"\\n\")\n",
        "print(classification_report(y_test, y_pred_rf))\n",
        "\n",
        "# [optional] finish the wandb run, necessary in notebooks\n",
        "wandb.finish()"
      ],
      "metadata": {
        "id": "9FXZKb2HI8Wa"
      },
      "execution_count": null,
      "outputs": []
    },
    {
      "cell_type": "code",
      "source": [
        "svc_config = {\n",
        "    \"random_state\": 42,\n",
        "    \"test_size\": 0.2,\n",
        "    \"max_iter\": 1000,\n",
        "    \"penalty\": \"l2\",\n",
        "    \"dataset\": \"Balanced-Combined\"\n",
        "}\n",
        "\n",
        "wandb_project_name = \"DOPP analysis\"\n",
        "\n",
        "wandb.init(\n",
        "    project=wandb_project_name,\n",
        "    name=\"svc_balanced\",\n",
        "    config=svc_config\n",
        ")\n",
        "\n",
        "start_time = time.time()\n",
        "\n",
        "linear_svc_model = LinearSVC(random_state=svc_config[\"random_state\"], penalty=svc_config[\"penalty\"])\n",
        "linear_svc_model.fit(X_train_vectorized_balanced, y_train_balanced)\n",
        "\n",
        "y_pred_svc = linear_svc_model.predict(X_test_vectorized_balanced)\n",
        "end_time = time.time()\n",
        "execution_time = end_time - start_time\n",
        "\n",
        "f1Score = f1_score(y_test, y_pred_svc, average='macro')\n",
        "precision = precision_score(y_test, y_pred_svc, average='macro')\n",
        "recall = recall_score(y_test, y_pred_svc, average='macro')\n",
        "\n",
        "wandb.log({\n",
        "    \"Execution Time\": execution_time,\n",
        "    \"F1 Score\": f1Score,\n",
        "    \"Precision Score\": precision,\n",
        "    \"Recall Score\": recall\n",
        "})\n",
        "\n",
        "print(\"Execution Time:\", execution_time, \"seconds\")\n",
        "print(\"Precision Score:\", precision)\n",
        "print(\"Recall Score:\", recall)\n",
        "print(\"F1 Score:\", f1Score, \"\\n\")\n",
        "print(classification_report(y_test, y_pred_svc))\n",
        "\n",
        "wandb.finish()"
      ],
      "metadata": {
        "id": "QgkPQQrsJKxE"
      },
      "execution_count": null,
      "outputs": []
    },
    {
      "cell_type": "markdown",
      "source": [
        "By the metrices, we can observe that the random forest improves in terms of predicting several classes, whereas the svc model trained with a balanced dataset results in a lower performance not recognizing the majority class that well anymore."
      ],
      "metadata": {
        "id": "MVa1m6jpKuEr"
      }
    },
    {
      "cell_type": "markdown",
      "source": [
        "## Oversampling\n"
      ],
      "metadata": {
        "id": "ulrAwvxgLEI3"
      }
    },
    {
      "cell_type": "code",
      "source": [
        "df_rating_1 = df_train[df_train[\"rating\"] == 1]\n",
        "df_rating_2 = df_train[df_train[\"rating\"] == 2]\n",
        "df_rating_3 = df_train[df_train[\"rating\"] == 3]\n",
        "df_rating_4 = df_train[df_train[\"rating\"] == 4]\n",
        "df_rating_5 = df_train[df_train[\"rating\"] == 5]\n",
        "print(\"1\",len(df_rating_1))\n",
        "print(\"2\", len(df_rating_2))\n",
        "print(\"3\", len(df_rating_3))\n",
        "print(\"4\",len(df_rating_4))\n",
        "print(\"5\", len(df_rating_5))"
      ],
      "metadata": {
        "id": "Z7pFqKqqLFeB"
      },
      "execution_count": null,
      "outputs": []
    },
    {
      "cell_type": "markdown",
      "source": [
        "In our next approach, we target the sample count of 1414, which is the count of class 4, the second most represented class. Therefore, we have to oversample classes 1 to 3 and undersample the majority class 5."
      ],
      "metadata": {
        "id": "tFm2MKTM2Zx4"
      }
    },
    {
      "cell_type": "code",
      "source": [
        "df_rating_1 = df_train[df_train[\"rating\"] == 1].sample(n=1414, random_state=42, replace=True)\n",
        "df_rating_2 = df_train[df_train[\"rating\"] == 2].sample(n=1414, random_state=42, replace=True)\n",
        "df_rating_3 = df_train[df_train[\"rating\"] == 3].sample(n=1414, random_state=42, replace=True)\n",
        "df_rating_5 = df_train[df_train[\"rating\"] == 5].sample(n=1414, random_state=42)"
      ],
      "metadata": {
        "id": "3m7DA_WF18UW"
      },
      "execution_count": null,
      "outputs": []
    },
    {
      "cell_type": "code",
      "source": [
        "df_oversampled = pd.concat([df_rating_2, df_rating_1, df_rating_3, df_rating_4, df_rating_5])"
      ],
      "metadata": {
        "id": "zK23vWNjMcnE"
      },
      "execution_count": null,
      "outputs": []
    },
    {
      "cell_type": "code",
      "source": [
        "df_oversampled[\"rating\"].value_counts()"
      ],
      "metadata": {
        "id": "eMjNrxfLMnta"
      },
      "execution_count": null,
      "outputs": []
    },
    {
      "cell_type": "code",
      "source": [
        "y_train_oversampled = df_oversampled['rating']\n",
        "\n",
        "X_tfidf_train_oversampled = tfidf.fit_transform(df_oversampled['preprocessedText']).toarray()\n",
        "X_tfidf_test_oversampled = tfidf.transform(X_test['preprocessedText']).toarray()\n",
        "\n",
        "# Using w2v model with train set only as recommended here: https://stackoverflow.com/a/70900433/19932351\n",
        "X_w2v_train_oversampled = np.array([get_sentence_embedding(word_list, w2v_model_train) for word_list in df_oversampled['tokenized_text']])\n",
        "X_w2v_test_oversampled = np.array([get_sentence_embedding(word_list, w2v_model_train) for word_list in X_test['tokenized_text']])\n",
        "\n",
        "X_train_vectorized_oversampled = np.hstack((X_tfidf_train_oversampled, X_w2v_train_oversampled))\n",
        "X_test_vectorized_oversampled = np.hstack((X_tfidf_test_oversampled, X_w2v_test_oversampled))\n"
      ],
      "metadata": {
        "id": "m4frNPXfgGgO"
      },
      "execution_count": null,
      "outputs": []
    },
    {
      "cell_type": "code",
      "source": [
        "wandb_project_name = \"DOPP analysis\"\n",
        "wandb_run_name = \"rf_oversampled\"\n",
        "\n",
        "rf_config = {\n",
        "    \"n_estimators\": 100,\n",
        "    \"max_depth\": None,\n",
        "    \"random_state\": 42,\n",
        "    \"test_size\": 0.2,\n",
        "    \"dataset\": \"Oversampled-Combined\"\n",
        "}\n",
        "\n",
        "\n",
        "wandb.init(\n",
        "    project=wandb_project_name,\n",
        "    name=wandb_run_name,\n",
        "    config=rf_config\n",
        ")\n",
        "\n",
        "\n",
        "start_time = time.time()\n",
        "\n",
        "rf_model = RandomForestClassifier(\n",
        "    n_estimators=rf_config[\"n_estimators\"],\n",
        "    max_depth=rf_config[\"max_depth\"],\n",
        "    random_state=rf_config[\"random_state\"]\n",
        ")\n",
        "rf_model.fit(X_train_vectorized_oversampled, y_train_oversampled)\n",
        "\n",
        "y_pred_rf = rf_model.predict(X_test_vectorized_oversampled)\n",
        "end_time = time.time()\n",
        "execution_time = end_time - start_time\n",
        "\n",
        "f1Score = f1_score(y_test, y_pred_rf, average='macro')\n",
        "precision = precision_score(y_test, y_pred_rf, average='macro')\n",
        "recall = recall_score(y_test, y_pred_rf, average='macro')\n",
        "\n",
        "# Log metrics to W&B\n",
        "wandb.log({\n",
        "    \"Execution Time\": execution_time,\n",
        "    \"F1 Score\": f1Score,\n",
        "    \"Precision Score\": precision,\n",
        "    \"Recall Score\": recall\n",
        "})\n",
        "\n",
        "print(\"Execution Time:\", execution_time, \"seconds\")\n",
        "print(\"Precision Score:\", precision)\n",
        "print(\"Recall Score:\", recall)\n",
        "print(\"F1 Score:\", f1Score, \"\\n\")\n",
        "print(classification_report(y_test, y_pred_rf))\n",
        "\n",
        "# [optional] finish the wandb run, necessary in notebooks\n",
        "wandb.finish()"
      ],
      "metadata": {
        "id": "OP2oVuroM0J5"
      },
      "execution_count": null,
      "outputs": []
    },
    {
      "cell_type": "code",
      "source": [
        "svc_config = {\n",
        "    \"random_state\": 42,\n",
        "    \"test_size\": 0.2,\n",
        "    \"max_iter\": 1000,\n",
        "    \"penalty\": \"l2\",\n",
        "    \"dataset\": \"Oversampled-Combined\"\n",
        "}\n",
        "\n",
        "wandb_project_name = \"DOPP analysis\"\n",
        "\n",
        "wandb.init(\n",
        "    project=wandb_project_name,\n",
        "    name=\"svc_balanced\",\n",
        "    config=svc_config\n",
        ")\n",
        "\n",
        "start_time = time.time()\n",
        "\n",
        "linear_svc_model = LinearSVC(random_state=svc_config[\"random_state\"], penalty=svc_config[\"penalty\"])\n",
        "linear_svc_model.fit(X_train_vectorized_oversampled, y_train_oversampled)\n",
        "\n",
        "y_pred_svc = linear_svc_model.predict(X_test_vectorized_oversampled)\n",
        "end_time = time.time()\n",
        "execution_time = end_time - start_time\n",
        "\n",
        "f1Score = f1_score(y_test, y_pred_svc, average='macro')\n",
        "precision = precision_score(y_test, y_pred_svc, average='macro')\n",
        "recall = recall_score(y_test, y_pred_svc, average='macro')\n",
        "\n",
        "wandb.log({\n",
        "    \"Execution Time\": execution_time,\n",
        "    \"F1 Score\": f1Score,\n",
        "    \"Precision Score\": precision,\n",
        "    \"Recall Score\": recall\n",
        "})\n",
        "\n",
        "print(\"Execution Time:\", execution_time, \"seconds\")\n",
        "print(\"Precision Score:\", precision)\n",
        "print(\"Recall Score:\", recall)\n",
        "print(\"F1 Score:\", f1Score, \"\\n\")\n",
        "print(classification_report(y_test, y_pred_svc))\n",
        "\n",
        "wandb.finish()"
      ],
      "metadata": {
        "id": "tVKMzS6kNED7"
      },
      "execution_count": null,
      "outputs": []
    },
    {
      "cell_type": "markdown",
      "source": [
        "## Data Augmentation"
      ],
      "metadata": {
        "id": "N5GpjAk5UmtM"
      }
    },
    {
      "cell_type": "code",
      "source": [
        "def get_sentence_embedding(word_list, model):\n",
        "    word_vecs = [model.wv[word] for word in word_list if word in model.wv]\n",
        "    if word_vecs:\n",
        "        return np.mean(word_vecs, axis=0)\n",
        "    else:\n",
        "        return np.zeros(model.vector_size)"
      ],
      "metadata": {
        "id": "-KxU13scZ3MY"
      },
      "execution_count": 11,
      "outputs": []
    },
    {
      "cell_type": "code",
      "source": [
        "csv_path = '/content/drive/MyDrive/DOPP_Ex2_data/reviews_train_long.csv'\n",
        "df_da = pd.read_csv(csv_path)"
      ],
      "metadata": {
        "id": "zcagKg_vUu19"
      },
      "execution_count": 12,
      "outputs": []
    },
    {
      "cell_type": "code",
      "source": [
        "df_da = df_da.sample(frac=1).reset_index(drop=True)\n",
        "df_da.head(2)"
      ],
      "metadata": {
        "colab": {
          "base_uri": "https://localhost:8080/",
          "height": 112
        },
        "id": "A00RUrAvVIlI",
        "outputId": "bb1a5be1-c8cd-44f1-c8b6-46c6745efe15"
      },
      "execution_count": 13,
      "outputs": [
        {
          "output_type": "execute_result",
          "data": {
            "text/plain": [
              "   rating                         text_type  \\\n",
              "0     5.0  reviewText_german_french_english   \n",
              "1     5.0  reviewText_german_french_english   \n",
              "\n",
              "                                          reviewText  \n",
              "0                                      Great product  \n",
              "1  I love these shoes. I train with it and take i...  "
            ],
            "text/html": [
              "\n",
              "  <div id=\"df-0c87af90-2ef3-451e-b0b0-5037a6a0f2f4\" class=\"colab-df-container\">\n",
              "    <div>\n",
              "<style scoped>\n",
              "    .dataframe tbody tr th:only-of-type {\n",
              "        vertical-align: middle;\n",
              "    }\n",
              "\n",
              "    .dataframe tbody tr th {\n",
              "        vertical-align: top;\n",
              "    }\n",
              "\n",
              "    .dataframe thead th {\n",
              "        text-align: right;\n",
              "    }\n",
              "</style>\n",
              "<table border=\"1\" class=\"dataframe\">\n",
              "  <thead>\n",
              "    <tr style=\"text-align: right;\">\n",
              "      <th></th>\n",
              "      <th>rating</th>\n",
              "      <th>text_type</th>\n",
              "      <th>reviewText</th>\n",
              "    </tr>\n",
              "  </thead>\n",
              "  <tbody>\n",
              "    <tr>\n",
              "      <th>0</th>\n",
              "      <td>5.0</td>\n",
              "      <td>reviewText_german_french_english</td>\n",
              "      <td>Great product</td>\n",
              "    </tr>\n",
              "    <tr>\n",
              "      <th>1</th>\n",
              "      <td>5.0</td>\n",
              "      <td>reviewText_german_french_english</td>\n",
              "      <td>I love these shoes. I train with it and take i...</td>\n",
              "    </tr>\n",
              "  </tbody>\n",
              "</table>\n",
              "</div>\n",
              "    <div class=\"colab-df-buttons\">\n",
              "\n",
              "  <div class=\"colab-df-container\">\n",
              "    <button class=\"colab-df-convert\" onclick=\"convertToInteractive('df-0c87af90-2ef3-451e-b0b0-5037a6a0f2f4')\"\n",
              "            title=\"Convert this dataframe to an interactive table.\"\n",
              "            style=\"display:none;\">\n",
              "\n",
              "  <svg xmlns=\"http://www.w3.org/2000/svg\" height=\"24px\" viewBox=\"0 -960 960 960\">\n",
              "    <path d=\"M120-120v-720h720v720H120Zm60-500h600v-160H180v160Zm220 220h160v-160H400v160Zm0 220h160v-160H400v160ZM180-400h160v-160H180v160Zm440 0h160v-160H620v160ZM180-180h160v-160H180v160Zm440 0h160v-160H620v160Z\"/>\n",
              "  </svg>\n",
              "    </button>\n",
              "\n",
              "  <style>\n",
              "    .colab-df-container {\n",
              "      display:flex;\n",
              "      gap: 12px;\n",
              "    }\n",
              "\n",
              "    .colab-df-convert {\n",
              "      background-color: #E8F0FE;\n",
              "      border: none;\n",
              "      border-radius: 50%;\n",
              "      cursor: pointer;\n",
              "      display: none;\n",
              "      fill: #1967D2;\n",
              "      height: 32px;\n",
              "      padding: 0 0 0 0;\n",
              "      width: 32px;\n",
              "    }\n",
              "\n",
              "    .colab-df-convert:hover {\n",
              "      background-color: #E2EBFA;\n",
              "      box-shadow: 0px 1px 2px rgba(60, 64, 67, 0.3), 0px 1px 3px 1px rgba(60, 64, 67, 0.15);\n",
              "      fill: #174EA6;\n",
              "    }\n",
              "\n",
              "    .colab-df-buttons div {\n",
              "      margin-bottom: 4px;\n",
              "    }\n",
              "\n",
              "    [theme=dark] .colab-df-convert {\n",
              "      background-color: #3B4455;\n",
              "      fill: #D2E3FC;\n",
              "    }\n",
              "\n",
              "    [theme=dark] .colab-df-convert:hover {\n",
              "      background-color: #434B5C;\n",
              "      box-shadow: 0px 1px 3px 1px rgba(0, 0, 0, 0.15);\n",
              "      filter: drop-shadow(0px 1px 2px rgba(0, 0, 0, 0.3));\n",
              "      fill: #FFFFFF;\n",
              "    }\n",
              "  </style>\n",
              "\n",
              "    <script>\n",
              "      const buttonEl =\n",
              "        document.querySelector('#df-0c87af90-2ef3-451e-b0b0-5037a6a0f2f4 button.colab-df-convert');\n",
              "      buttonEl.style.display =\n",
              "        google.colab.kernel.accessAllowed ? 'block' : 'none';\n",
              "\n",
              "      async function convertToInteractive(key) {\n",
              "        const element = document.querySelector('#df-0c87af90-2ef3-451e-b0b0-5037a6a0f2f4');\n",
              "        const dataTable =\n",
              "          await google.colab.kernel.invokeFunction('convertToInteractive',\n",
              "                                                    [key], {});\n",
              "        if (!dataTable) return;\n",
              "\n",
              "        const docLinkHtml = 'Like what you see? Visit the ' +\n",
              "          '<a target=\"_blank\" href=https://colab.research.google.com/notebooks/data_table.ipynb>data table notebook</a>'\n",
              "          + ' to learn more about interactive tables.';\n",
              "        element.innerHTML = '';\n",
              "        dataTable['output_type'] = 'display_data';\n",
              "        await google.colab.output.renderOutput(dataTable, element);\n",
              "        const docLink = document.createElement('div');\n",
              "        docLink.innerHTML = docLinkHtml;\n",
              "        element.appendChild(docLink);\n",
              "      }\n",
              "    </script>\n",
              "  </div>\n",
              "\n",
              "\n",
              "<div id=\"df-6bae3a29-bdd1-42c8-b11c-8b50dddc4124\">\n",
              "  <button class=\"colab-df-quickchart\" onclick=\"quickchart('df-6bae3a29-bdd1-42c8-b11c-8b50dddc4124')\"\n",
              "            title=\"Suggest charts\"\n",
              "            style=\"display:none;\">\n",
              "\n",
              "<svg xmlns=\"http://www.w3.org/2000/svg\" height=\"24px\"viewBox=\"0 0 24 24\"\n",
              "     width=\"24px\">\n",
              "    <g>\n",
              "        <path d=\"M19 3H5c-1.1 0-2 .9-2 2v14c0 1.1.9 2 2 2h14c1.1 0 2-.9 2-2V5c0-1.1-.9-2-2-2zM9 17H7v-7h2v7zm4 0h-2V7h2v10zm4 0h-2v-4h2v4z\"/>\n",
              "    </g>\n",
              "</svg>\n",
              "  </button>\n",
              "\n",
              "<style>\n",
              "  .colab-df-quickchart {\n",
              "      --bg-color: #E8F0FE;\n",
              "      --fill-color: #1967D2;\n",
              "      --hover-bg-color: #E2EBFA;\n",
              "      --hover-fill-color: #174EA6;\n",
              "      --disabled-fill-color: #AAA;\n",
              "      --disabled-bg-color: #DDD;\n",
              "  }\n",
              "\n",
              "  [theme=dark] .colab-df-quickchart {\n",
              "      --bg-color: #3B4455;\n",
              "      --fill-color: #D2E3FC;\n",
              "      --hover-bg-color: #434B5C;\n",
              "      --hover-fill-color: #FFFFFF;\n",
              "      --disabled-bg-color: #3B4455;\n",
              "      --disabled-fill-color: #666;\n",
              "  }\n",
              "\n",
              "  .colab-df-quickchart {\n",
              "    background-color: var(--bg-color);\n",
              "    border: none;\n",
              "    border-radius: 50%;\n",
              "    cursor: pointer;\n",
              "    display: none;\n",
              "    fill: var(--fill-color);\n",
              "    height: 32px;\n",
              "    padding: 0;\n",
              "    width: 32px;\n",
              "  }\n",
              "\n",
              "  .colab-df-quickchart:hover {\n",
              "    background-color: var(--hover-bg-color);\n",
              "    box-shadow: 0 1px 2px rgba(60, 64, 67, 0.3), 0 1px 3px 1px rgba(60, 64, 67, 0.15);\n",
              "    fill: var(--button-hover-fill-color);\n",
              "  }\n",
              "\n",
              "  .colab-df-quickchart-complete:disabled,\n",
              "  .colab-df-quickchart-complete:disabled:hover {\n",
              "    background-color: var(--disabled-bg-color);\n",
              "    fill: var(--disabled-fill-color);\n",
              "    box-shadow: none;\n",
              "  }\n",
              "\n",
              "  .colab-df-spinner {\n",
              "    border: 2px solid var(--fill-color);\n",
              "    border-color: transparent;\n",
              "    border-bottom-color: var(--fill-color);\n",
              "    animation:\n",
              "      spin 1s steps(1) infinite;\n",
              "  }\n",
              "\n",
              "  @keyframes spin {\n",
              "    0% {\n",
              "      border-color: transparent;\n",
              "      border-bottom-color: var(--fill-color);\n",
              "      border-left-color: var(--fill-color);\n",
              "    }\n",
              "    20% {\n",
              "      border-color: transparent;\n",
              "      border-left-color: var(--fill-color);\n",
              "      border-top-color: var(--fill-color);\n",
              "    }\n",
              "    30% {\n",
              "      border-color: transparent;\n",
              "      border-left-color: var(--fill-color);\n",
              "      border-top-color: var(--fill-color);\n",
              "      border-right-color: var(--fill-color);\n",
              "    }\n",
              "    40% {\n",
              "      border-color: transparent;\n",
              "      border-right-color: var(--fill-color);\n",
              "      border-top-color: var(--fill-color);\n",
              "    }\n",
              "    60% {\n",
              "      border-color: transparent;\n",
              "      border-right-color: var(--fill-color);\n",
              "    }\n",
              "    80% {\n",
              "      border-color: transparent;\n",
              "      border-right-color: var(--fill-color);\n",
              "      border-bottom-color: var(--fill-color);\n",
              "    }\n",
              "    90% {\n",
              "      border-color: transparent;\n",
              "      border-bottom-color: var(--fill-color);\n",
              "    }\n",
              "  }\n",
              "</style>\n",
              "\n",
              "  <script>\n",
              "    async function quickchart(key) {\n",
              "      const quickchartButtonEl =\n",
              "        document.querySelector('#' + key + ' button');\n",
              "      quickchartButtonEl.disabled = true;  // To prevent multiple clicks.\n",
              "      quickchartButtonEl.classList.add('colab-df-spinner');\n",
              "      try {\n",
              "        const charts = await google.colab.kernel.invokeFunction(\n",
              "            'suggestCharts', [key], {});\n",
              "      } catch (error) {\n",
              "        console.error('Error during call to suggestCharts:', error);\n",
              "      }\n",
              "      quickchartButtonEl.classList.remove('colab-df-spinner');\n",
              "      quickchartButtonEl.classList.add('colab-df-quickchart-complete');\n",
              "    }\n",
              "    (() => {\n",
              "      let quickchartButtonEl =\n",
              "        document.querySelector('#df-6bae3a29-bdd1-42c8-b11c-8b50dddc4124 button');\n",
              "      quickchartButtonEl.style.display =\n",
              "        google.colab.kernel.accessAllowed ? 'block' : 'none';\n",
              "    })();\n",
              "  </script>\n",
              "</div>\n",
              "\n",
              "    </div>\n",
              "  </div>\n"
            ],
            "application/vnd.google.colaboratory.intrinsic+json": {
              "type": "dataframe",
              "variable_name": "df_da",
              "summary": "{\n  \"name\": \"df_da\",\n  \"rows\": 70466,\n  \"fields\": [\n    {\n      \"column\": \"rating\",\n      \"properties\": {\n        \"dtype\": \"number\",\n        \"std\": 0.9418782462700075,\n        \"min\": 1.0,\n        \"max\": 5.0,\n        \"num_unique_values\": 5,\n        \"samples\": [\n          4.0,\n          2.0,\n          3.0\n        ],\n        \"semantic_type\": \"\",\n        \"description\": \"\"\n      }\n    },\n    {\n      \"column\": \"text_type\",\n      \"properties\": {\n        \"dtype\": \"category\",\n        \"num_unique_values\": 2,\n        \"samples\": [\n          \"reviewText\",\n          \"reviewText_german_french_english\"\n        ],\n        \"semantic_type\": \"\",\n        \"description\": \"\"\n      }\n    },\n    {\n      \"column\": \"reviewText\",\n      \"properties\": {\n        \"dtype\": \"category\",\n        \"num_unique_values\": 11477,\n        \"samples\": [\n          \"when first and only time put on immediately tore. Totally insubstantial. Dont buy. When I first and only time put it on, it immediately tore. Totally insubstantial. Don't buy.\",\n          \"Very refreshing. Looking forward to using it in the summer and on vacation to cool off and keep skin hydrated. Will buy again. Very nice mist.\"\n        ],\n        \"semantic_type\": \"\",\n        \"description\": \"\"\n      }\n    }\n  ]\n}"
            }
          },
          "metadata": {},
          "execution_count": 13
        }
      ]
    },
    {
      "cell_type": "code",
      "source": [
        "df_da['preprocessedText'] = df_da['reviewText'].apply(preprocess_text)\n",
        "df_da['tokenized_text'] = df_da['preprocessedText'].str.split()"
      ],
      "metadata": {
        "id": "6b3LM6deVg6r"
      },
      "execution_count": 14,
      "outputs": []
    },
    {
      "cell_type": "code",
      "source": [
        "y_train_da = df_da['rating']\n",
        "\n",
        "tfidf = TfidfVectorizer()\n",
        "X_tfidf_train_da =  tfidf.fit_transform(df_da['preprocessedText']).toarray()\n",
        "X_tfidf_test_da = tfidf.transform(X_test['preprocessedText']).toarray()\n",
        "\n",
        "# Word2Vec Embeddings\n",
        "w2v_model_train = Word2Vec(sentences=df_da['tokenized_text'], vector_size=100, window=5, min_count=1, workers=4)\n",
        "\n",
        "# Using w2v model with train set only as recommended here: https://stackoverflow.com/a/70900433/19932351\n",
        "X_w2v_train_da = np.array([get_sentence_embedding(word_list, w2v_model_train) for word_list in df_da['tokenized_text']])\n",
        "X_w2v_test_da = np.array([get_sentence_embedding(word_list, w2v_model_train) for word_list in X_test['tokenized_text']])\n",
        "\n",
        "X_train_vectorized_da = np.hstack((X_tfidf_train_da, X_w2v_train_da))\n",
        "X_test_vectorized_da = np.hstack((X_tfidf_test_da, X_w2v_test_da))"
      ],
      "metadata": {
        "id": "FRRE4P59NXtP"
      },
      "execution_count": null,
      "outputs": []
    },
    {
      "cell_type": "code",
      "source": [
        "wandb_project_name = \"DOPP analysis\"\n",
        "wandb_run_name = \"rf_da\"\n",
        "\n",
        "rf_config = {\n",
        "    \"n_estimators\": 100,\n",
        "    \"max_depth\": None,\n",
        "    \"random_state\": 42,\n",
        "    \"test_size\": 0.2,\n",
        "    \"dataset\": \"Data-Augmentation\"\n",
        "}\n",
        "\n",
        "\n",
        "wandb.init(\n",
        "    project=wandb_project_name,\n",
        "    name=wandb_run_name,\n",
        "    config=rf_config\n",
        ")\n",
        "\n",
        "\n",
        "start_time = time.time()\n",
        "\n",
        "rf_model = RandomForestClassifier(\n",
        "    n_estimators=rf_config[\"n_estimators\"],\n",
        "    max_depth=rf_config[\"max_depth\"],\n",
        "    random_state=rf_config[\"random_state\"]\n",
        ")\n",
        "rf_model.fit(X_train_vectorized_da, y_train_da)\n",
        "\n",
        "y_pred_rf = rf_model.predict(X_test_vectorized_da)\n",
        "end_time = time.time()\n",
        "execution_time = end_time - start_time\n",
        "\n",
        "f1Score = f1_score(y_test, y_pred_rf, average='macro')\n",
        "precision = precision_score(y_test, y_pred_rf, average='macro')\n",
        "recall = recall_score(y_test, y_pred_rf, average='macro')\n",
        "\n",
        "# Log metrics to W&B\n",
        "wandb.log({\n",
        "    \"Execution Time\": execution_time,\n",
        "    \"F1 Score\": f1Score,\n",
        "    \"Precision Score\": precision,\n",
        "    \"Recall Score\": recall\n",
        "})\n",
        "\n",
        "print(\"Execution Time:\", execution_time, \"seconds\")\n",
        "print(\"Precision Score:\", precision)\n",
        "print(\"Recall Score:\", recall)\n",
        "print(\"F1 Score:\", f1Score, \"\\n\")\n",
        "print(classification_report(y_test, y_pred_rf))\n",
        "\n",
        "# [optional] finish the wandb run, necessary in notebooks\n",
        "wandb.finish()"
      ],
      "metadata": {
        "id": "40EczCOxV0Vq"
      },
      "execution_count": null,
      "outputs": []
    },
    {
      "cell_type": "code",
      "source": [
        "svc_config = {\n",
        "    \"random_state\": 42,\n",
        "    \"test_size\": 0.2,\n",
        "    \"max_iter\": 1000,\n",
        "    \"penalty\": \"l2\",\n",
        "    \"dataset\": \"Data-Augmentation\"\n",
        "}\n",
        "\n",
        "wandb_project_name = \"DOPP analysis\"\n",
        "\n",
        "wandb.init(\n",
        "    project=wandb_project_name,\n",
        "    name=\"svc_balanced\",\n",
        "    config=svc_config\n",
        ")\n",
        "\n",
        "start_time = time.time()\n",
        "\n",
        "linear_svc_model = LinearSVC(random_state=svc_config[\"random_state\"], penalty=svc_config[\"penalty\"])\n",
        "linear_svc_model.fit(X_train_vectorized_da, y_train_da)\n",
        "\n",
        "y_pred_svc = linear_svc_model.predict(X_test_vectorized_da)\n",
        "end_time = time.time()\n",
        "execution_time = end_time - start_time\n",
        "\n",
        "f1Score = f1_score(y_test, y_pred_svc, average='macro')\n",
        "precision = precision_score(y_test, y_pred_svc, average='macro')\n",
        "recall = recall_score(y_test, y_pred_svc, average='macro')\n",
        "\n",
        "wandb.log({\n",
        "    \"Execution Time\": execution_time,\n",
        "    \"F1 Score\": f1Score,\n",
        "    \"Precision Score\": precision,\n",
        "    \"Recall Score\": recall\n",
        "})\n",
        "\n",
        "print(\"Execution Time:\", execution_time, \"seconds\")\n",
        "print(\"Precision Score:\", precision)\n",
        "print(\"Recall Score:\", recall)\n",
        "print(\"F1 Score:\", f1Score, \"\\n\")\n",
        "print(classification_report(y_test, y_pred_svc))\n",
        "\n",
        "wandb.finish()"
      ],
      "metadata": {
        "id": "NGMgTQMrWPeP"
      },
      "execution_count": null,
      "outputs": []
    }
  ]
}