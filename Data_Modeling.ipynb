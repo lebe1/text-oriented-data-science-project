{
  "nbformat": 4,
  "nbformat_minor": 0,
  "metadata": {
    "colab": {
      "provenance": [],
      "toc_visible": true,
      "include_colab_link": true
    },
    "kernelspec": {
      "name": "python3",
      "display_name": "Python 3"
    },
    "language_info": {
      "name": "python"
    }
  },
  "cells": [
    {
      "cell_type": "markdown",
      "metadata": {
        "id": "view-in-github",
        "colab_type": "text"
      },
      "source": [
        "<a href=\"https://colab.research.google.com/github/lebe1/text-oriented-data-science-project/blob/main/Data_Modeling.ipynb\" target=\"_parent\"><img src=\"https://colab.research.google.com/assets/colab-badge.svg\" alt=\"Open In Colab\"/></a>"
      ]
    },
    {
      "cell_type": "markdown",
      "source": [
        "# Loading the Dataset"
      ],
      "metadata": {
        "id": "CPLeCMRTwgqr"
      }
    },
    {
      "cell_type": "markdown",
      "source": [
        "## Connect to Google Drive"
      ],
      "metadata": {
        "id": "2p7jTLyRw6g8"
      }
    },
    {
      "cell_type": "code",
      "execution_count": 16,
      "metadata": {
        "colab": {
          "base_uri": "https://localhost:8080/"
        },
        "id": "zO4dyw3uvEz7",
        "outputId": "d3d783c2-2e20-4ba3-fc66-fc2400c8d5d5"
      },
      "outputs": [
        {
          "output_type": "stream",
          "name": "stdout",
          "text": [
            "Mounted at /content/drive\n"
          ]
        }
      ],
      "source": [
        "from google.colab import drive\n",
        "drive.mount('/content/drive', force_remount=True)"
      ]
    },
    {
      "cell_type": "code",
      "source": [
        "folder_path = '/content/drive/MyDrive/'"
      ],
      "metadata": {
        "id": "J051vmiuw_Qv"
      },
      "execution_count": 17,
      "outputs": []
    },
    {
      "cell_type": "markdown",
      "source": [
        "## Imports"
      ],
      "metadata": {
        "id": "3LDpTM_YxBaj"
      }
    },
    {
      "cell_type": "code",
      "source": [
        "import pandas as pd\n",
        "import numpy as np\n",
        "import nltk\n",
        "import time\n",
        "from nltk.corpus import stopwords\n",
        "import string\n",
        "from gensim.models import Word2Vec\n",
        "\n",
        "from sklearn.feature_extraction.text import TfidfVectorizer\n",
        "from sklearn.ensemble import RandomForestClassifier\n",
        "from sklearn.svm import LinearSVC\n",
        "from sklearn.model_selection import train_test_split\n",
        "from sklearn.metrics import f1_score, precision_score, recall_score\n",
        "from sklearn.metrics import classification_report\n",
        "\n",
        "\n",
        "nltk.download('stopwords')\n",
        "stop_words = set(stopwords.words('english'))"
      ],
      "metadata": {
        "id": "5r830H34xC1K",
        "colab": {
          "base_uri": "https://localhost:8080/"
        },
        "outputId": "4eb47899-3b8b-49cb-9f74-9581aabf0628"
      },
      "execution_count": 107,
      "outputs": [
        {
          "output_type": "stream",
          "name": "stderr",
          "text": [
            "[nltk_data] Downloading package stopwords to /root/nltk_data...\n",
            "[nltk_data]   Package stopwords is already up-to-date!\n"
          ]
        }
      ]
    },
    {
      "cell_type": "markdown",
      "source": [
        "## Reading the CSV File"
      ],
      "metadata": {
        "id": "7VxjImWZyJLJ"
      }
    },
    {
      "cell_type": "code",
      "source": [
        "file_name = 'combined_reviews.csv'\n",
        "\n",
        "file_path = folder_path + file_name\n",
        "df = pd.read_csv(file_path)"
      ],
      "metadata": {
        "id": "3WGFNUyvyFhN"
      },
      "execution_count": 33,
      "outputs": []
    },
    {
      "cell_type": "code",
      "source": [
        "df.head()"
      ],
      "metadata": {
        "colab": {
          "base_uri": "https://localhost:8080/",
          "height": 276
        },
        "id": "lljRdPkJyTni",
        "outputId": "2a7bb38d-675c-44f0-c7fd-832fa349c49a"
      },
      "execution_count": 34,
      "outputs": [
        {
          "output_type": "execute_result",
          "data": {
            "text/plain": [
              "   rating  reviewTime      reviewerID  \\\n",
              "0     5.0  2017-01-16   ASWLL1VJA7WOG   \n",
              "1     5.0  2008-12-08  A265K3A7V83112   \n",
              "2     5.0  2013-02-08  A1D18EJF6LHYDV   \n",
              "3     5.0  2018-02-15  A25EOTX5I354I2   \n",
              "4     5.0  2013-11-11  A1DFZPQPCHBYTY   \n",
              "\n",
              "                                          reviewText  \\\n",
              "0  Great product... just what I wanted.  Works gr...   \n",
              "1  After seeing the popularity of this shoe, I de...   \n",
              "2  I was nervousness about the scent because IVe ...   \n",
              "3  I LOVE the smell. A bit expensive, so I cant b...   \n",
              "4  Found this stuff in Japan and wondered if I co...   \n",
              "\n",
              "                       summary  unixReviewTime                    category  \\\n",
              "0                   Five Stars      1484524800                  All_Beauty   \n",
              "1  What can i say? chucks rock      1228694400  Clothing_Shoes_and_Jewelry   \n",
              "2                 Smells great      1360281600                  All_Beauty   \n",
              "3                   Five Stars      1518652800               Luxury_Beauty   \n",
              "4     Super lathery nice soap!      1384128000                  All_Beauty   \n",
              "\n",
              "                                         reviewToken  \n",
              "0  ['great', 'product', 'want', 'works', 'great',...  \n",
              "1  ['see', 'popularity', 'shoe', 'decide', 'test'...  \n",
              "2  ['nervousness', 'scent', 'ive', 'never', 'try'...  \n",
              "3  ['love', 'smell', 'bit', 'expensive', 'buy', '...  \n",
              "4  ['found', 'stuff', 'japan', 'wonder', 'could',...  "
            ],
            "text/html": [
              "\n",
              "  <div id=\"df-c2b274c7-da9c-433c-bf39-4d792471a8b1\" class=\"colab-df-container\">\n",
              "    <div>\n",
              "<style scoped>\n",
              "    .dataframe tbody tr th:only-of-type {\n",
              "        vertical-align: middle;\n",
              "    }\n",
              "\n",
              "    .dataframe tbody tr th {\n",
              "        vertical-align: top;\n",
              "    }\n",
              "\n",
              "    .dataframe thead th {\n",
              "        text-align: right;\n",
              "    }\n",
              "</style>\n",
              "<table border=\"1\" class=\"dataframe\">\n",
              "  <thead>\n",
              "    <tr style=\"text-align: right;\">\n",
              "      <th></th>\n",
              "      <th>rating</th>\n",
              "      <th>reviewTime</th>\n",
              "      <th>reviewerID</th>\n",
              "      <th>reviewText</th>\n",
              "      <th>summary</th>\n",
              "      <th>unixReviewTime</th>\n",
              "      <th>category</th>\n",
              "      <th>reviewToken</th>\n",
              "    </tr>\n",
              "  </thead>\n",
              "  <tbody>\n",
              "    <tr>\n",
              "      <th>0</th>\n",
              "      <td>5.0</td>\n",
              "      <td>2017-01-16</td>\n",
              "      <td>ASWLL1VJA7WOG</td>\n",
              "      <td>Great product... just what I wanted.  Works gr...</td>\n",
              "      <td>Five Stars</td>\n",
              "      <td>1484524800</td>\n",
              "      <td>All_Beauty</td>\n",
              "      <td>['great', 'product', 'want', 'works', 'great',...</td>\n",
              "    </tr>\n",
              "    <tr>\n",
              "      <th>1</th>\n",
              "      <td>5.0</td>\n",
              "      <td>2008-12-08</td>\n",
              "      <td>A265K3A7V83112</td>\n",
              "      <td>After seeing the popularity of this shoe, I de...</td>\n",
              "      <td>What can i say? chucks rock</td>\n",
              "      <td>1228694400</td>\n",
              "      <td>Clothing_Shoes_and_Jewelry</td>\n",
              "      <td>['see', 'popularity', 'shoe', 'decide', 'test'...</td>\n",
              "    </tr>\n",
              "    <tr>\n",
              "      <th>2</th>\n",
              "      <td>5.0</td>\n",
              "      <td>2013-02-08</td>\n",
              "      <td>A1D18EJF6LHYDV</td>\n",
              "      <td>I was nervousness about the scent because IVe ...</td>\n",
              "      <td>Smells great</td>\n",
              "      <td>1360281600</td>\n",
              "      <td>All_Beauty</td>\n",
              "      <td>['nervousness', 'scent', 'ive', 'never', 'try'...</td>\n",
              "    </tr>\n",
              "    <tr>\n",
              "      <th>3</th>\n",
              "      <td>5.0</td>\n",
              "      <td>2018-02-15</td>\n",
              "      <td>A25EOTX5I354I2</td>\n",
              "      <td>I LOVE the smell. A bit expensive, so I cant b...</td>\n",
              "      <td>Five Stars</td>\n",
              "      <td>1518652800</td>\n",
              "      <td>Luxury_Beauty</td>\n",
              "      <td>['love', 'smell', 'bit', 'expensive', 'buy', '...</td>\n",
              "    </tr>\n",
              "    <tr>\n",
              "      <th>4</th>\n",
              "      <td>5.0</td>\n",
              "      <td>2013-11-11</td>\n",
              "      <td>A1DFZPQPCHBYTY</td>\n",
              "      <td>Found this stuff in Japan and wondered if I co...</td>\n",
              "      <td>Super lathery nice soap!</td>\n",
              "      <td>1384128000</td>\n",
              "      <td>All_Beauty</td>\n",
              "      <td>['found', 'stuff', 'japan', 'wonder', 'could',...</td>\n",
              "    </tr>\n",
              "  </tbody>\n",
              "</table>\n",
              "</div>\n",
              "    <div class=\"colab-df-buttons\">\n",
              "\n",
              "  <div class=\"colab-df-container\">\n",
              "    <button class=\"colab-df-convert\" onclick=\"convertToInteractive('df-c2b274c7-da9c-433c-bf39-4d792471a8b1')\"\n",
              "            title=\"Convert this dataframe to an interactive table.\"\n",
              "            style=\"display:none;\">\n",
              "\n",
              "  <svg xmlns=\"http://www.w3.org/2000/svg\" height=\"24px\" viewBox=\"0 -960 960 960\">\n",
              "    <path d=\"M120-120v-720h720v720H120Zm60-500h600v-160H180v160Zm220 220h160v-160H400v160Zm0 220h160v-160H400v160ZM180-400h160v-160H180v160Zm440 0h160v-160H620v160ZM180-180h160v-160H180v160Zm440 0h160v-160H620v160Z\"/>\n",
              "  </svg>\n",
              "    </button>\n",
              "\n",
              "  <style>\n",
              "    .colab-df-container {\n",
              "      display:flex;\n",
              "      gap: 12px;\n",
              "    }\n",
              "\n",
              "    .colab-df-convert {\n",
              "      background-color: #E8F0FE;\n",
              "      border: none;\n",
              "      border-radius: 50%;\n",
              "      cursor: pointer;\n",
              "      display: none;\n",
              "      fill: #1967D2;\n",
              "      height: 32px;\n",
              "      padding: 0 0 0 0;\n",
              "      width: 32px;\n",
              "    }\n",
              "\n",
              "    .colab-df-convert:hover {\n",
              "      background-color: #E2EBFA;\n",
              "      box-shadow: 0px 1px 2px rgba(60, 64, 67, 0.3), 0px 1px 3px 1px rgba(60, 64, 67, 0.15);\n",
              "      fill: #174EA6;\n",
              "    }\n",
              "\n",
              "    .colab-df-buttons div {\n",
              "      margin-bottom: 4px;\n",
              "    }\n",
              "\n",
              "    [theme=dark] .colab-df-convert {\n",
              "      background-color: #3B4455;\n",
              "      fill: #D2E3FC;\n",
              "    }\n",
              "\n",
              "    [theme=dark] .colab-df-convert:hover {\n",
              "      background-color: #434B5C;\n",
              "      box-shadow: 0px 1px 3px 1px rgba(0, 0, 0, 0.15);\n",
              "      filter: drop-shadow(0px 1px 2px rgba(0, 0, 0, 0.3));\n",
              "      fill: #FFFFFF;\n",
              "    }\n",
              "  </style>\n",
              "\n",
              "    <script>\n",
              "      const buttonEl =\n",
              "        document.querySelector('#df-c2b274c7-da9c-433c-bf39-4d792471a8b1 button.colab-df-convert');\n",
              "      buttonEl.style.display =\n",
              "        google.colab.kernel.accessAllowed ? 'block' : 'none';\n",
              "\n",
              "      async function convertToInteractive(key) {\n",
              "        const element = document.querySelector('#df-c2b274c7-da9c-433c-bf39-4d792471a8b1');\n",
              "        const dataTable =\n",
              "          await google.colab.kernel.invokeFunction('convertToInteractive',\n",
              "                                                    [key], {});\n",
              "        if (!dataTable) return;\n",
              "\n",
              "        const docLinkHtml = 'Like what you see? Visit the ' +\n",
              "          '<a target=\"_blank\" href=https://colab.research.google.com/notebooks/data_table.ipynb>data table notebook</a>'\n",
              "          + ' to learn more about interactive tables.';\n",
              "        element.innerHTML = '';\n",
              "        dataTable['output_type'] = 'display_data';\n",
              "        await google.colab.output.renderOutput(dataTable, element);\n",
              "        const docLink = document.createElement('div');\n",
              "        docLink.innerHTML = docLinkHtml;\n",
              "        element.appendChild(docLink);\n",
              "      }\n",
              "    </script>\n",
              "  </div>\n",
              "\n",
              "\n",
              "<div id=\"df-2604e72f-7ebf-49bf-890a-aa94cae7ff61\">\n",
              "  <button class=\"colab-df-quickchart\" onclick=\"quickchart('df-2604e72f-7ebf-49bf-890a-aa94cae7ff61')\"\n",
              "            title=\"Suggest charts\"\n",
              "            style=\"display:none;\">\n",
              "\n",
              "<svg xmlns=\"http://www.w3.org/2000/svg\" height=\"24px\"viewBox=\"0 0 24 24\"\n",
              "     width=\"24px\">\n",
              "    <g>\n",
              "        <path d=\"M19 3H5c-1.1 0-2 .9-2 2v14c0 1.1.9 2 2 2h14c1.1 0 2-.9 2-2V5c0-1.1-.9-2-2-2zM9 17H7v-7h2v7zm4 0h-2V7h2v10zm4 0h-2v-4h2v4z\"/>\n",
              "    </g>\n",
              "</svg>\n",
              "  </button>\n",
              "\n",
              "<style>\n",
              "  .colab-df-quickchart {\n",
              "      --bg-color: #E8F0FE;\n",
              "      --fill-color: #1967D2;\n",
              "      --hover-bg-color: #E2EBFA;\n",
              "      --hover-fill-color: #174EA6;\n",
              "      --disabled-fill-color: #AAA;\n",
              "      --disabled-bg-color: #DDD;\n",
              "  }\n",
              "\n",
              "  [theme=dark] .colab-df-quickchart {\n",
              "      --bg-color: #3B4455;\n",
              "      --fill-color: #D2E3FC;\n",
              "      --hover-bg-color: #434B5C;\n",
              "      --hover-fill-color: #FFFFFF;\n",
              "      --disabled-bg-color: #3B4455;\n",
              "      --disabled-fill-color: #666;\n",
              "  }\n",
              "\n",
              "  .colab-df-quickchart {\n",
              "    background-color: var(--bg-color);\n",
              "    border: none;\n",
              "    border-radius: 50%;\n",
              "    cursor: pointer;\n",
              "    display: none;\n",
              "    fill: var(--fill-color);\n",
              "    height: 32px;\n",
              "    padding: 0;\n",
              "    width: 32px;\n",
              "  }\n",
              "\n",
              "  .colab-df-quickchart:hover {\n",
              "    background-color: var(--hover-bg-color);\n",
              "    box-shadow: 0 1px 2px rgba(60, 64, 67, 0.3), 0 1px 3px 1px rgba(60, 64, 67, 0.15);\n",
              "    fill: var(--button-hover-fill-color);\n",
              "  }\n",
              "\n",
              "  .colab-df-quickchart-complete:disabled,\n",
              "  .colab-df-quickchart-complete:disabled:hover {\n",
              "    background-color: var(--disabled-bg-color);\n",
              "    fill: var(--disabled-fill-color);\n",
              "    box-shadow: none;\n",
              "  }\n",
              "\n",
              "  .colab-df-spinner {\n",
              "    border: 2px solid var(--fill-color);\n",
              "    border-color: transparent;\n",
              "    border-bottom-color: var(--fill-color);\n",
              "    animation:\n",
              "      spin 1s steps(1) infinite;\n",
              "  }\n",
              "\n",
              "  @keyframes spin {\n",
              "    0% {\n",
              "      border-color: transparent;\n",
              "      border-bottom-color: var(--fill-color);\n",
              "      border-left-color: var(--fill-color);\n",
              "    }\n",
              "    20% {\n",
              "      border-color: transparent;\n",
              "      border-left-color: var(--fill-color);\n",
              "      border-top-color: var(--fill-color);\n",
              "    }\n",
              "    30% {\n",
              "      border-color: transparent;\n",
              "      border-left-color: var(--fill-color);\n",
              "      border-top-color: var(--fill-color);\n",
              "      border-right-color: var(--fill-color);\n",
              "    }\n",
              "    40% {\n",
              "      border-color: transparent;\n",
              "      border-right-color: var(--fill-color);\n",
              "      border-top-color: var(--fill-color);\n",
              "    }\n",
              "    60% {\n",
              "      border-color: transparent;\n",
              "      border-right-color: var(--fill-color);\n",
              "    }\n",
              "    80% {\n",
              "      border-color: transparent;\n",
              "      border-right-color: var(--fill-color);\n",
              "      border-bottom-color: var(--fill-color);\n",
              "    }\n",
              "    90% {\n",
              "      border-color: transparent;\n",
              "      border-bottom-color: var(--fill-color);\n",
              "    }\n",
              "  }\n",
              "</style>\n",
              "\n",
              "  <script>\n",
              "    async function quickchart(key) {\n",
              "      const quickchartButtonEl =\n",
              "        document.querySelector('#' + key + ' button');\n",
              "      quickchartButtonEl.disabled = true;  // To prevent multiple clicks.\n",
              "      quickchartButtonEl.classList.add('colab-df-spinner');\n",
              "      try {\n",
              "        const charts = await google.colab.kernel.invokeFunction(\n",
              "            'suggestCharts', [key], {});\n",
              "      } catch (error) {\n",
              "        console.error('Error during call to suggestCharts:', error);\n",
              "      }\n",
              "      quickchartButtonEl.classList.remove('colab-df-spinner');\n",
              "      quickchartButtonEl.classList.add('colab-df-quickchart-complete');\n",
              "    }\n",
              "    (() => {\n",
              "      let quickchartButtonEl =\n",
              "        document.querySelector('#df-2604e72f-7ebf-49bf-890a-aa94cae7ff61 button');\n",
              "      quickchartButtonEl.style.display =\n",
              "        google.colab.kernel.accessAllowed ? 'block' : 'none';\n",
              "    })();\n",
              "  </script>\n",
              "</div>\n",
              "\n",
              "    </div>\n",
              "  </div>\n"
            ],
            "application/vnd.google.colaboratory.intrinsic+json": {
              "type": "dataframe",
              "variable_name": "df",
              "summary": "{\n  \"name\": \"df\",\n  \"rows\": 12000,\n  \"fields\": [\n    {\n      \"column\": \"rating\",\n      \"properties\": {\n        \"dtype\": \"number\",\n        \"std\": 0.9977348988916311,\n        \"min\": 1.0,\n        \"max\": 5.0,\n        \"num_unique_values\": 5,\n        \"samples\": [\n          3.0,\n          2.0,\n          4.0\n        ],\n        \"semantic_type\": \"\",\n        \"description\": \"\"\n      }\n    },\n    {\n      \"column\": \"reviewTime\",\n      \"properties\": {\n        \"dtype\": \"object\",\n        \"num_unique_values\": 2073,\n        \"samples\": [\n          \"2017-10-27\",\n          \"2016-02-28\",\n          \"2016-02-15\"\n        ],\n        \"semantic_type\": \"\",\n        \"description\": \"\"\n      }\n    },\n    {\n      \"column\": \"reviewerID\",\n      \"properties\": {\n        \"dtype\": \"string\",\n        \"num_unique_values\": 6296,\n        \"samples\": [\n          \"A20FBQSSFW1WPX\",\n          \"A31R7NX9S391QJ\",\n          \"A3OXOUZJS0O2IL\"\n        ],\n        \"semantic_type\": \"\",\n        \"description\": \"\"\n      }\n    },\n    {\n      \"column\": \"reviewText\",\n      \"properties\": {\n        \"dtype\": \"string\",\n        \"num_unique_values\": 7101,\n        \"samples\": [\n          \"Excelente!\",\n          \"not really comfortable.\",\n          \"Just a bit snug as new shoes tend to be.... will be just fine after a week or so.\"\n        ],\n        \"semantic_type\": \"\",\n        \"description\": \"\"\n      }\n    },\n    {\n      \"column\": \"summary\",\n      \"properties\": {\n        \"dtype\": \"category\",\n        \"num_unique_values\": 4952,\n        \"samples\": [\n          \"wallpapering my tail\",\n          \"Not too bad of a file, wished there was a little more grit\",\n          \"what is not to like, they are a classic cool addition to your ...\"\n        ],\n        \"semantic_type\": \"\",\n        \"description\": \"\"\n      }\n    },\n    {\n      \"column\": \"unixReviewTime\",\n      \"properties\": {\n        \"dtype\": \"number\",\n        \"std\": 50806756,\n        \"min\": 1048377600,\n        \"max\": 1534982400,\n        \"num_unique_values\": 2073,\n        \"samples\": [\n          1509062400,\n          1456617600,\n          1455494400\n        ],\n        \"semantic_type\": \"\",\n        \"description\": \"\"\n      }\n    },\n    {\n      \"column\": \"category\",\n      \"properties\": {\n        \"dtype\": \"category\",\n        \"num_unique_values\": 4,\n        \"samples\": [\n          \"Clothing_Shoes_and_Jewelry\",\n          \"Amazon_Fashion\",\n          \"All_Beauty\"\n        ],\n        \"semantic_type\": \"\",\n        \"description\": \"\"\n      }\n    },\n    {\n      \"column\": \"reviewToken\",\n      \"properties\": {\n        \"dtype\": \"string\",\n        \"num_unique_values\": 6776,\n        \"samples\": [\n          \"['benefit', 'niacin', 'skin', 'well', 'document', 'excited', 'try', 'product', 'million', 'happy', 'think', 'skin', 'look', 'feel', 'great', 'lately', 'use', 'regularly', 'ever', 'product', 'notice', 'difference', 'cause', 'adverse', 'reaction', 'breakout', 'despite', 'oil', 'almost', 'always', 'apply', 'mixing', 'moisturizer', 'work', 'well', 'product', 'expensive', 'need', '23', 'drop', 'use', 'think', 'may', 'last', 'quite', 'awhile', 'love', 'much', 'want', 'buy', 'product', 'despite', 'cost']\",\n          \"['great', 'fit', 'long', 'enough', '6', 'man']\",\n          \"['daughter', 'love', 'shoe', 'fit', 'true', 'size']\"\n        ],\n        \"semantic_type\": \"\",\n        \"description\": \"\"\n      }\n    }\n  ]\n}"
            }
          },
          "metadata": {},
          "execution_count": 34
        }
      ]
    },
    {
      "cell_type": "code",
      "source": [
        "df.info()"
      ],
      "metadata": {
        "colab": {
          "base_uri": "https://localhost:8080/"
        },
        "id": "f4tIP6cjzE2O",
        "outputId": "8a611121-48b0-4322-84e0-024f68c02c5f"
      },
      "execution_count": 35,
      "outputs": [
        {
          "output_type": "stream",
          "name": "stdout",
          "text": [
            "<class 'pandas.core.frame.DataFrame'>\n",
            "RangeIndex: 12000 entries, 0 to 11999\n",
            "Data columns (total 8 columns):\n",
            " #   Column          Non-Null Count  Dtype  \n",
            "---  ------          --------------  -----  \n",
            " 0   rating          12000 non-null  float64\n",
            " 1   reviewTime      12000 non-null  object \n",
            " 2   reviewerID      12000 non-null  object \n",
            " 3   reviewText      11975 non-null  object \n",
            " 4   summary         11991 non-null  object \n",
            " 5   unixReviewTime  12000 non-null  int64  \n",
            " 6   category        12000 non-null  object \n",
            " 7   reviewToken     12000 non-null  object \n",
            "dtypes: float64(1), int64(1), object(6)\n",
            "memory usage: 750.1+ KB\n"
          ]
        }
      ]
    },
    {
      "cell_type": "markdown",
      "source": [
        "# Build the model"
      ],
      "metadata": {
        "id": "zL0KD9rDpGxt"
      }
    },
    {
      "cell_type": "code",
      "source": [
        "# Preprocessing\n",
        "def preprocess_text(text):\n",
        "    # Convert only string instances to lowercase\n",
        "    text = text.lower() if isinstance(text, str)  else ''\n",
        "    # Remove punctuation\n",
        "    text = text.translate(str.maketrans('', '', string.punctuation))\n",
        "    # Tokenize text\n",
        "    tokens = text.split()\n",
        "    # Remove stopwords\n",
        "    tokens = [word for word in tokens if word not in stop_words]\n",
        "    return \" \".join(tokens)\n",
        "\n",
        "\n",
        "df['preprocessedText'] = df['reviewText'].apply(preprocess_text)\n",
        "\n",
        "# Tokenize text again for word2vec\n",
        "df['tokenized_text'] = df['preprocessedText'].str.split()\n",
        "\n",
        "df['preprocessedText'].head()\n"
      ],
      "metadata": {
        "colab": {
          "base_uri": "https://localhost:8080/",
          "height": 241
        },
        "id": "F_Kja6GgpIVw",
        "outputId": "7b46591a-11b5-4099-a4b7-9b15074714a1"
      },
      "execution_count": 53,
      "outputs": [
        {
          "output_type": "execute_result",
          "data": {
            "text/plain": [
              "0             great product wanted works great stylish\n",
              "1    seeing popularity shoe decided test impressed ...\n",
              "2    nervousness scent ive never tried love paul mi...\n",
              "3    love smell bit expensive cant buy often would ...\n",
              "4    found stuff japan wondered could find 3drops g...\n",
              "Name: preprocessedText, dtype: object"
            ],
            "text/html": [
              "<div>\n",
              "<style scoped>\n",
              "    .dataframe tbody tr th:only-of-type {\n",
              "        vertical-align: middle;\n",
              "    }\n",
              "\n",
              "    .dataframe tbody tr th {\n",
              "        vertical-align: top;\n",
              "    }\n",
              "\n",
              "    .dataframe thead th {\n",
              "        text-align: right;\n",
              "    }\n",
              "</style>\n",
              "<table border=\"1\" class=\"dataframe\">\n",
              "  <thead>\n",
              "    <tr style=\"text-align: right;\">\n",
              "      <th></th>\n",
              "      <th>preprocessedText</th>\n",
              "    </tr>\n",
              "  </thead>\n",
              "  <tbody>\n",
              "    <tr>\n",
              "      <th>0</th>\n",
              "      <td>great product wanted works great stylish</td>\n",
              "    </tr>\n",
              "    <tr>\n",
              "      <th>1</th>\n",
              "      <td>seeing popularity shoe decided test impressed ...</td>\n",
              "    </tr>\n",
              "    <tr>\n",
              "      <th>2</th>\n",
              "      <td>nervousness scent ive never tried love paul mi...</td>\n",
              "    </tr>\n",
              "    <tr>\n",
              "      <th>3</th>\n",
              "      <td>love smell bit expensive cant buy often would ...</td>\n",
              "    </tr>\n",
              "    <tr>\n",
              "      <th>4</th>\n",
              "      <td>found stuff japan wondered could find 3drops g...</td>\n",
              "    </tr>\n",
              "  </tbody>\n",
              "</table>\n",
              "</div><br><label><b>dtype:</b> object</label>"
            ]
          },
          "metadata": {},
          "execution_count": 53
        }
      ]
    },
    {
      "cell_type": "code",
      "source": [
        "# TF-IDF Vectorization\n",
        "tfidf = TfidfVectorizer(max_features=100)\n",
        "X_tfidf = tfidf.fit_transform(df['preprocessedText']).toarray()\n",
        "\n",
        "# Word2Vec Embeddings\n",
        "w2v_model = Word2Vec(sentences=df['tokenized_text'], vector_size=100, window=5, min_count=1, workers=4)\n",
        "def get_sentence_embedding(word_list):\n",
        "    word_vecs = [w2v_model.wv[word] for word in word_list if word in w2v_model.wv]\n",
        "    if word_vecs:\n",
        "        return np.mean(word_vecs, axis=0)\n",
        "    else:\n",
        "        return np.zeros(w2v_model.vector_size)\n",
        "\n",
        "X_w2v = np.array([get_sentence_embedding(word_list) for word_list in df['tokenized_text']])\n"
      ],
      "metadata": {
        "id": "oUiXjoEhshIk"
      },
      "execution_count": 74,
      "outputs": []
    },
    {
      "cell_type": "code",
      "source": [
        "# Combine TF-IDF and Word2Vec features\n",
        "X_combined = np.hstack((X_tfidf, X_w2v))\n",
        "y = df['rating']\n",
        "\n",
        "X_train, X_test, y_train, y_test = train_test_split(X_combined, y, test_size=0.2, random_state=42)\n",
        "\n",
        "start_time = time.time()\n",
        "rf_model = RandomForestClassifier(random_state=42)\n",
        "rf_model.fit(X_train, y_train)\n",
        "\n",
        "y_pred_rf = rf_model.predict(X_test)\n",
        "end_time = time.time()\n",
        "execution_time = end_time - start_time\n",
        "\n",
        "f1Score = f1_score(y_test, y_pred_rf, average='macro')\n",
        "precision = precision_score(y_test, y_pred_rf, average='macro')\n",
        "recall = recall_score(y_test, y_pred_rf, average='macro')\n",
        "\n",
        "print(\"Execution Time:\", execution_time, \"seconds\")\n",
        "print(\"Precision Score:\", precision)\n",
        "print(\"Recall Score:\", recall)\n",
        "print(\"F1 Score:\", f1Score,\"\\n\")\n",
        "print(classification_report(y_test, y_pred_rf))"
      ],
      "metadata": {
        "colab": {
          "base_uri": "https://localhost:8080/"
        },
        "id": "nY4Yzr5r5Dhx",
        "outputId": "10cb7c99-60bd-47af-f115-e84dc3d17fbc"
      },
      "execution_count": 108,
      "outputs": [
        {
          "output_type": "stream",
          "name": "stdout",
          "text": [
            "Execution Time: 12.419667720794678 seconds\n",
            "Precision Score: 0.8093630344410183\n",
            "Recall Score: 0.49085787087576105\n",
            "F1 Score: 0.5823812445362928 \n",
            "\n",
            "              precision    recall  f1-score   support\n",
            "\n",
            "         1.0       0.79      0.32      0.46        68\n",
            "         2.0       0.84      0.37      0.51        73\n",
            "         3.0       0.86      0.40      0.55       182\n",
            "         4.0       0.74      0.38      0.50       351\n",
            "         5.0       0.82      0.98      0.89      1726\n",
            "\n",
            "    accuracy                           0.81      2400\n",
            "   macro avg       0.81      0.49      0.58      2400\n",
            "weighted avg       0.81      0.81      0.78      2400\n",
            "\n"
          ]
        }
      ]
    },
    {
      "cell_type": "code",
      "source": [
        "start_time = time.time()\n",
        "linear_svc_model = LinearSVC(random_state=42)\n",
        "linear_svc_model.fit(X_train, y_train)\n",
        "\n",
        "y_pred_svc = linear_svc_model.predict(X_test)\n",
        "end_time = time.time()\n",
        "execution_time = end_time - start_time\n",
        "\n",
        "f1Score = f1_score(y_test, y_pred_svc, average='macro')\n",
        "precision = precision_score(y_test, y_pred_svc, average='macro')\n",
        "recall = recall_score(y_test, y_pred_svc, average='macro')\n",
        "\n",
        "print(\"Execution Time:\", execution_time, \"seconds\")\n",
        "print(\"Precision Score:\", precision)\n",
        "print(\"Recall Score:\", recall)\n",
        "print(\"F1 Score:\", f1Score, \"\\n\")\n",
        "print(classification_report(y_test, y_pred_svc))"
      ],
      "metadata": {
        "colab": {
          "base_uri": "https://localhost:8080/"
        },
        "id": "j6-Dcpxb6jsO",
        "outputId": "5137324b-eb0e-46b0-fcae-b7d0b9432338"
      },
      "execution_count": 109,
      "outputs": [
        {
          "output_type": "stream",
          "name": "stdout",
          "text": [
            "Execution Time: 6.5763795375823975 seconds\n",
            "Precision Score: 0.5477349105920535\n",
            "Recall Score: 0.2999865385803818\n",
            "F1 Score: 0.3314572005651647 \n",
            "\n",
            "              precision    recall  f1-score   support\n",
            "\n",
            "         1.0       0.41      0.16      0.23        68\n",
            "         2.0       0.50      0.04      0.08        73\n",
            "         3.0       0.54      0.15      0.24       182\n",
            "         4.0       0.53      0.17      0.25       351\n",
            "         5.0       0.77      0.98      0.86      1726\n",
            "\n",
            "    accuracy                           0.74      2400\n",
            "   macro avg       0.55      0.30      0.33      2400\n",
            "weighted avg       0.70      0.74      0.68      2400\n",
            "\n"
          ]
        }
      ]
    },
    {
      "cell_type": "code",
      "source": [],
      "metadata": {
        "id": "n6yJsUXX3bJQ"
      },
      "execution_count": null,
      "outputs": []
    },
    {
      "cell_type": "markdown",
      "source": [
        "## TODO\n",
        "- implement wandb\n",
        "- qualitative analysis on 2-3 misclassifications\n",
        "- optimizing model by balancing data set"
      ],
      "metadata": {
        "id": "oqtlvlA_AizS"
      }
    },
    {
      "cell_type": "code",
      "source": [],
      "metadata": {
        "id": "NclWuG58A3el"
      },
      "execution_count": null,
      "outputs": []
    }
  ]
}