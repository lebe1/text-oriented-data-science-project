{
  "nbformat": 4,
  "nbformat_minor": 0,
  "metadata": {
    "colab": {
      "provenance": [],
      "toc_visible": true,
      "include_colab_link": true
    },
    "kernelspec": {
      "name": "python3",
      "display_name": "Python 3"
    },
    "language_info": {
      "name": "python"
    }
  },
  "cells": [
    {
      "cell_type": "markdown",
      "metadata": {
        "id": "view-in-github",
        "colab_type": "text"
      },
      "source": [
        "<a href=\"https://colab.research.google.com/github/lebe1/text-oriented-data-science-project/blob/main/Data_Modeling.ipynb\" target=\"_parent\"><img src=\"https://colab.research.google.com/assets/colab-badge.svg\" alt=\"Open In Colab\"/></a>"
      ]
    },
    {
      "cell_type": "markdown",
      "source": [
        "# Loading the Dataset"
      ],
      "metadata": {
        "id": "CPLeCMRTwgqr"
      }
    },
    {
      "cell_type": "markdown",
      "source": [
        "\n",
        "\n",
        "## Connect to Google Drive"
      ],
      "metadata": {
        "id": "2p7jTLyRw6g8"
      }
    },
    {
      "cell_type": "code",
      "execution_count": 8,
      "metadata": {
        "colab": {
          "base_uri": "https://localhost:8080/"
        },
        "id": "zO4dyw3uvEz7",
        "outputId": "38d4581f-c9ea-4e12-c8a4-78d0fe3b8de1"
      },
      "outputs": [
        {
          "output_type": "stream",
          "name": "stdout",
          "text": [
            "Mounted at /content/drive\n"
          ]
        }
      ],
      "source": [
        "from google.colab import drive\n",
        "drive.mount('/content/drive', force_remount=True)"
      ]
    },
    {
      "cell_type": "code",
      "source": [
        "folder_path = '/content/drive/MyDrive/'"
      ],
      "metadata": {
        "id": "J051vmiuw_Qv"
      },
      "execution_count": 9,
      "outputs": []
    },
    {
      "cell_type": "markdown",
      "source": [
        "## Imports"
      ],
      "metadata": {
        "id": "3LDpTM_YxBaj"
      }
    },
    {
      "cell_type": "code",
      "source": [
        "!pip install wandb"
      ],
      "metadata": {
        "colab": {
          "base_uri": "https://localhost:8080/"
        },
        "id": "8Xqg-zpxvh5s",
        "outputId": "924be481-1099-43d1-e438-9db483a2b162"
      },
      "execution_count": 10,
      "outputs": [
        {
          "output_type": "stream",
          "name": "stdout",
          "text": [
            "Requirement already satisfied: wandb in /usr/local/lib/python3.10/dist-packages (0.19.1)\n",
            "Requirement already satisfied: click!=8.0.0,>=7.1 in /usr/local/lib/python3.10/dist-packages (from wandb) (8.1.8)\n",
            "Requirement already satisfied: docker-pycreds>=0.4.0 in /usr/local/lib/python3.10/dist-packages (from wandb) (0.4.0)\n",
            "Requirement already satisfied: gitpython!=3.1.29,>=1.0.0 in /usr/local/lib/python3.10/dist-packages (from wandb) (3.1.44)\n",
            "Requirement already satisfied: platformdirs in /usr/local/lib/python3.10/dist-packages (from wandb) (4.3.6)\n",
            "Requirement already satisfied: protobuf!=4.21.0,!=5.28.0,<6,>=3.19.0 in /usr/local/lib/python3.10/dist-packages (from wandb) (4.25.5)\n",
            "Requirement already satisfied: psutil>=5.0.0 in /usr/local/lib/python3.10/dist-packages (from wandb) (5.9.5)\n",
            "Requirement already satisfied: pydantic<3,>=2.6 in /usr/local/lib/python3.10/dist-packages (from wandb) (2.10.4)\n",
            "Requirement already satisfied: pyyaml in /usr/local/lib/python3.10/dist-packages (from wandb) (6.0.2)\n",
            "Requirement already satisfied: requests<3,>=2.0.0 in /usr/local/lib/python3.10/dist-packages (from wandb) (2.32.3)\n",
            "Requirement already satisfied: sentry-sdk>=2.0.0 in /usr/local/lib/python3.10/dist-packages (from wandb) (2.19.2)\n",
            "Requirement already satisfied: setproctitle in /usr/local/lib/python3.10/dist-packages (from wandb) (1.3.4)\n",
            "Requirement already satisfied: setuptools in /usr/local/lib/python3.10/dist-packages (from wandb) (75.1.0)\n",
            "Requirement already satisfied: typing-extensions<5,>=4.4 in /usr/local/lib/python3.10/dist-packages (from wandb) (4.12.2)\n",
            "Requirement already satisfied: six>=1.4.0 in /usr/local/lib/python3.10/dist-packages (from docker-pycreds>=0.4.0->wandb) (1.17.0)\n",
            "Requirement already satisfied: gitdb<5,>=4.0.1 in /usr/local/lib/python3.10/dist-packages (from gitpython!=3.1.29,>=1.0.0->wandb) (4.0.12)\n",
            "Requirement already satisfied: annotated-types>=0.6.0 in /usr/local/lib/python3.10/dist-packages (from pydantic<3,>=2.6->wandb) (0.7.0)\n",
            "Requirement already satisfied: pydantic-core==2.27.2 in /usr/local/lib/python3.10/dist-packages (from pydantic<3,>=2.6->wandb) (2.27.2)\n",
            "Requirement already satisfied: charset-normalizer<4,>=2 in /usr/local/lib/python3.10/dist-packages (from requests<3,>=2.0.0->wandb) (3.4.1)\n",
            "Requirement already satisfied: idna<4,>=2.5 in /usr/local/lib/python3.10/dist-packages (from requests<3,>=2.0.0->wandb) (3.10)\n",
            "Requirement already satisfied: urllib3<3,>=1.21.1 in /usr/local/lib/python3.10/dist-packages (from requests<3,>=2.0.0->wandb) (2.3.0)\n",
            "Requirement already satisfied: certifi>=2017.4.17 in /usr/local/lib/python3.10/dist-packages (from requests<3,>=2.0.0->wandb) (2024.12.14)\n",
            "Requirement already satisfied: smmap<6,>=3.0.1 in /usr/local/lib/python3.10/dist-packages (from gitdb<5,>=4.0.1->gitpython!=3.1.29,>=1.0.0->wandb) (5.0.2)\n"
          ]
        }
      ]
    },
    {
      "cell_type": "code",
      "source": [
        "import pandas as pd\n",
        "import numpy as np\n",
        "import nltk\n",
        "import time\n",
        "from nltk.corpus import stopwords\n",
        "import string\n",
        "from gensim.models import Word2Vec\n",
        "\n",
        "from sklearn.feature_extraction.text import TfidfVectorizer\n",
        "from sklearn.ensemble import RandomForestClassifier\n",
        "from sklearn.svm import LinearSVC\n",
        "from sklearn.model_selection import train_test_split\n",
        "from sklearn.metrics import f1_score, precision_score, recall_score\n",
        "from sklearn.metrics import classification_report\n",
        "\n",
        "import wandb\n",
        "\n",
        "\n",
        "nltk.download('stopwords')\n",
        "stop_words = set(stopwords.words('english'))"
      ],
      "metadata": {
        "id": "5r830H34xC1K",
        "colab": {
          "base_uri": "https://localhost:8080/"
        },
        "outputId": "d8a17da1-91b8-45ce-f41b-839020421f2e"
      },
      "execution_count": 11,
      "outputs": [
        {
          "output_type": "stream",
          "name": "stderr",
          "text": [
            "[nltk_data] Downloading package stopwords to /root/nltk_data...\n",
            "[nltk_data]   Package stopwords is already up-to-date!\n"
          ]
        }
      ]
    },
    {
      "cell_type": "markdown",
      "source": [
        "## Reading the CSV File"
      ],
      "metadata": {
        "id": "7VxjImWZyJLJ"
      }
    },
    {
      "cell_type": "code",
      "source": [
        "file_name = 'combined_reviews.csv'\n",
        "\n",
        "file_path = folder_path + file_name\n",
        "df = pd.read_csv(file_path)"
      ],
      "metadata": {
        "id": "3WGFNUyvyFhN"
      },
      "execution_count": 12,
      "outputs": []
    },
    {
      "cell_type": "code",
      "source": [
        "df.head()"
      ],
      "metadata": {
        "colab": {
          "base_uri": "https://localhost:8080/",
          "height": 293
        },
        "id": "lljRdPkJyTni",
        "outputId": "706d1729-a34a-458f-e3aa-32b20421f929"
      },
      "execution_count": 13,
      "outputs": [
        {
          "output_type": "execute_result",
          "data": {
            "text/plain": [
              "   rating  reviewTime      reviewerID  \\\n",
              "0     5.0  2017-01-16   ASWLL1VJA7WOG   \n",
              "1     5.0  2008-12-08  A265K3A7V83112   \n",
              "2     5.0  2013-02-08  A1D18EJF6LHYDV   \n",
              "3     5.0  2018-02-15  A25EOTX5I354I2   \n",
              "4     5.0  2013-11-11  A1DFZPQPCHBYTY   \n",
              "\n",
              "                                          reviewText  \\\n",
              "0  Great product... just what I wanted.  Works gr...   \n",
              "1  After seeing the popularity of this shoe, I de...   \n",
              "2  I was nervousness about the scent because IVe ...   \n",
              "3  I LOVE the smell. A bit expensive, so I cant b...   \n",
              "4  Found this stuff in Japan and wondered if I co...   \n",
              "\n",
              "                       summary  unixReviewTime                    category  \\\n",
              "0                   Five Stars      1484524800                  All_Beauty   \n",
              "1  What can i say? chucks rock      1228694400  Clothing_Shoes_and_Jewelry   \n",
              "2                 Smells great      1360281600                  All_Beauty   \n",
              "3                   Five Stars      1518652800               Luxury_Beauty   \n",
              "4     Super lathery nice soap!      1384128000                  All_Beauty   \n",
              "\n",
              "                                         reviewToken  \n",
              "0  ['great', 'product', 'want', 'works', 'great',...  \n",
              "1  ['see', 'popularity', 'shoe', 'decide', 'test'...  \n",
              "2  ['nervousness', 'scent', 'ive', 'never', 'try'...  \n",
              "3  ['love', 'smell', 'bit', 'expensive', 'buy', '...  \n",
              "4  ['found', 'stuff', 'japan', 'wonder', 'could',...  "
            ],
            "text/html": [
              "\n",
              "  <div id=\"df-c7b61031-ae18-4e8d-a998-5a1f93144d27\" class=\"colab-df-container\">\n",
              "    <div>\n",
              "<style scoped>\n",
              "    .dataframe tbody tr th:only-of-type {\n",
              "        vertical-align: middle;\n",
              "    }\n",
              "\n",
              "    .dataframe tbody tr th {\n",
              "        vertical-align: top;\n",
              "    }\n",
              "\n",
              "    .dataframe thead th {\n",
              "        text-align: right;\n",
              "    }\n",
              "</style>\n",
              "<table border=\"1\" class=\"dataframe\">\n",
              "  <thead>\n",
              "    <tr style=\"text-align: right;\">\n",
              "      <th></th>\n",
              "      <th>rating</th>\n",
              "      <th>reviewTime</th>\n",
              "      <th>reviewerID</th>\n",
              "      <th>reviewText</th>\n",
              "      <th>summary</th>\n",
              "      <th>unixReviewTime</th>\n",
              "      <th>category</th>\n",
              "      <th>reviewToken</th>\n",
              "    </tr>\n",
              "  </thead>\n",
              "  <tbody>\n",
              "    <tr>\n",
              "      <th>0</th>\n",
              "      <td>5.0</td>\n",
              "      <td>2017-01-16</td>\n",
              "      <td>ASWLL1VJA7WOG</td>\n",
              "      <td>Great product... just what I wanted.  Works gr...</td>\n",
              "      <td>Five Stars</td>\n",
              "      <td>1484524800</td>\n",
              "      <td>All_Beauty</td>\n",
              "      <td>['great', 'product', 'want', 'works', 'great',...</td>\n",
              "    </tr>\n",
              "    <tr>\n",
              "      <th>1</th>\n",
              "      <td>5.0</td>\n",
              "      <td>2008-12-08</td>\n",
              "      <td>A265K3A7V83112</td>\n",
              "      <td>After seeing the popularity of this shoe, I de...</td>\n",
              "      <td>What can i say? chucks rock</td>\n",
              "      <td>1228694400</td>\n",
              "      <td>Clothing_Shoes_and_Jewelry</td>\n",
              "      <td>['see', 'popularity', 'shoe', 'decide', 'test'...</td>\n",
              "    </tr>\n",
              "    <tr>\n",
              "      <th>2</th>\n",
              "      <td>5.0</td>\n",
              "      <td>2013-02-08</td>\n",
              "      <td>A1D18EJF6LHYDV</td>\n",
              "      <td>I was nervousness about the scent because IVe ...</td>\n",
              "      <td>Smells great</td>\n",
              "      <td>1360281600</td>\n",
              "      <td>All_Beauty</td>\n",
              "      <td>['nervousness', 'scent', 'ive', 'never', 'try'...</td>\n",
              "    </tr>\n",
              "    <tr>\n",
              "      <th>3</th>\n",
              "      <td>5.0</td>\n",
              "      <td>2018-02-15</td>\n",
              "      <td>A25EOTX5I354I2</td>\n",
              "      <td>I LOVE the smell. A bit expensive, so I cant b...</td>\n",
              "      <td>Five Stars</td>\n",
              "      <td>1518652800</td>\n",
              "      <td>Luxury_Beauty</td>\n",
              "      <td>['love', 'smell', 'bit', 'expensive', 'buy', '...</td>\n",
              "    </tr>\n",
              "    <tr>\n",
              "      <th>4</th>\n",
              "      <td>5.0</td>\n",
              "      <td>2013-11-11</td>\n",
              "      <td>A1DFZPQPCHBYTY</td>\n",
              "      <td>Found this stuff in Japan and wondered if I co...</td>\n",
              "      <td>Super lathery nice soap!</td>\n",
              "      <td>1384128000</td>\n",
              "      <td>All_Beauty</td>\n",
              "      <td>['found', 'stuff', 'japan', 'wonder', 'could',...</td>\n",
              "    </tr>\n",
              "  </tbody>\n",
              "</table>\n",
              "</div>\n",
              "    <div class=\"colab-df-buttons\">\n",
              "\n",
              "  <div class=\"colab-df-container\">\n",
              "    <button class=\"colab-df-convert\" onclick=\"convertToInteractive('df-c7b61031-ae18-4e8d-a998-5a1f93144d27')\"\n",
              "            title=\"Convert this dataframe to an interactive table.\"\n",
              "            style=\"display:none;\">\n",
              "\n",
              "  <svg xmlns=\"http://www.w3.org/2000/svg\" height=\"24px\" viewBox=\"0 -960 960 960\">\n",
              "    <path d=\"M120-120v-720h720v720H120Zm60-500h600v-160H180v160Zm220 220h160v-160H400v160Zm0 220h160v-160H400v160ZM180-400h160v-160H180v160Zm440 0h160v-160H620v160ZM180-180h160v-160H180v160Zm440 0h160v-160H620v160Z\"/>\n",
              "  </svg>\n",
              "    </button>\n",
              "\n",
              "  <style>\n",
              "    .colab-df-container {\n",
              "      display:flex;\n",
              "      gap: 12px;\n",
              "    }\n",
              "\n",
              "    .colab-df-convert {\n",
              "      background-color: #E8F0FE;\n",
              "      border: none;\n",
              "      border-radius: 50%;\n",
              "      cursor: pointer;\n",
              "      display: none;\n",
              "      fill: #1967D2;\n",
              "      height: 32px;\n",
              "      padding: 0 0 0 0;\n",
              "      width: 32px;\n",
              "    }\n",
              "\n",
              "    .colab-df-convert:hover {\n",
              "      background-color: #E2EBFA;\n",
              "      box-shadow: 0px 1px 2px rgba(60, 64, 67, 0.3), 0px 1px 3px 1px rgba(60, 64, 67, 0.15);\n",
              "      fill: #174EA6;\n",
              "    }\n",
              "\n",
              "    .colab-df-buttons div {\n",
              "      margin-bottom: 4px;\n",
              "    }\n",
              "\n",
              "    [theme=dark] .colab-df-convert {\n",
              "      background-color: #3B4455;\n",
              "      fill: #D2E3FC;\n",
              "    }\n",
              "\n",
              "    [theme=dark] .colab-df-convert:hover {\n",
              "      background-color: #434B5C;\n",
              "      box-shadow: 0px 1px 3px 1px rgba(0, 0, 0, 0.15);\n",
              "      filter: drop-shadow(0px 1px 2px rgba(0, 0, 0, 0.3));\n",
              "      fill: #FFFFFF;\n",
              "    }\n",
              "  </style>\n",
              "\n",
              "    <script>\n",
              "      const buttonEl =\n",
              "        document.querySelector('#df-c7b61031-ae18-4e8d-a998-5a1f93144d27 button.colab-df-convert');\n",
              "      buttonEl.style.display =\n",
              "        google.colab.kernel.accessAllowed ? 'block' : 'none';\n",
              "\n",
              "      async function convertToInteractive(key) {\n",
              "        const element = document.querySelector('#df-c7b61031-ae18-4e8d-a998-5a1f93144d27');\n",
              "        const dataTable =\n",
              "          await google.colab.kernel.invokeFunction('convertToInteractive',\n",
              "                                                    [key], {});\n",
              "        if (!dataTable) return;\n",
              "\n",
              "        const docLinkHtml = 'Like what you see? Visit the ' +\n",
              "          '<a target=\"_blank\" href=https://colab.research.google.com/notebooks/data_table.ipynb>data table notebook</a>'\n",
              "          + ' to learn more about interactive tables.';\n",
              "        element.innerHTML = '';\n",
              "        dataTable['output_type'] = 'display_data';\n",
              "        await google.colab.output.renderOutput(dataTable, element);\n",
              "        const docLink = document.createElement('div');\n",
              "        docLink.innerHTML = docLinkHtml;\n",
              "        element.appendChild(docLink);\n",
              "      }\n",
              "    </script>\n",
              "  </div>\n",
              "\n",
              "\n",
              "<div id=\"df-50bed180-9e06-4e97-ad2d-de9b3c58a1b3\">\n",
              "  <button class=\"colab-df-quickchart\" onclick=\"quickchart('df-50bed180-9e06-4e97-ad2d-de9b3c58a1b3')\"\n",
              "            title=\"Suggest charts\"\n",
              "            style=\"display:none;\">\n",
              "\n",
              "<svg xmlns=\"http://www.w3.org/2000/svg\" height=\"24px\"viewBox=\"0 0 24 24\"\n",
              "     width=\"24px\">\n",
              "    <g>\n",
              "        <path d=\"M19 3H5c-1.1 0-2 .9-2 2v14c0 1.1.9 2 2 2h14c1.1 0 2-.9 2-2V5c0-1.1-.9-2-2-2zM9 17H7v-7h2v7zm4 0h-2V7h2v10zm4 0h-2v-4h2v4z\"/>\n",
              "    </g>\n",
              "</svg>\n",
              "  </button>\n",
              "\n",
              "<style>\n",
              "  .colab-df-quickchart {\n",
              "      --bg-color: #E8F0FE;\n",
              "      --fill-color: #1967D2;\n",
              "      --hover-bg-color: #E2EBFA;\n",
              "      --hover-fill-color: #174EA6;\n",
              "      --disabled-fill-color: #AAA;\n",
              "      --disabled-bg-color: #DDD;\n",
              "  }\n",
              "\n",
              "  [theme=dark] .colab-df-quickchart {\n",
              "      --bg-color: #3B4455;\n",
              "      --fill-color: #D2E3FC;\n",
              "      --hover-bg-color: #434B5C;\n",
              "      --hover-fill-color: #FFFFFF;\n",
              "      --disabled-bg-color: #3B4455;\n",
              "      --disabled-fill-color: #666;\n",
              "  }\n",
              "\n",
              "  .colab-df-quickchart {\n",
              "    background-color: var(--bg-color);\n",
              "    border: none;\n",
              "    border-radius: 50%;\n",
              "    cursor: pointer;\n",
              "    display: none;\n",
              "    fill: var(--fill-color);\n",
              "    height: 32px;\n",
              "    padding: 0;\n",
              "    width: 32px;\n",
              "  }\n",
              "\n",
              "  .colab-df-quickchart:hover {\n",
              "    background-color: var(--hover-bg-color);\n",
              "    box-shadow: 0 1px 2px rgba(60, 64, 67, 0.3), 0 1px 3px 1px rgba(60, 64, 67, 0.15);\n",
              "    fill: var(--button-hover-fill-color);\n",
              "  }\n",
              "\n",
              "  .colab-df-quickchart-complete:disabled,\n",
              "  .colab-df-quickchart-complete:disabled:hover {\n",
              "    background-color: var(--disabled-bg-color);\n",
              "    fill: var(--disabled-fill-color);\n",
              "    box-shadow: none;\n",
              "  }\n",
              "\n",
              "  .colab-df-spinner {\n",
              "    border: 2px solid var(--fill-color);\n",
              "    border-color: transparent;\n",
              "    border-bottom-color: var(--fill-color);\n",
              "    animation:\n",
              "      spin 1s steps(1) infinite;\n",
              "  }\n",
              "\n",
              "  @keyframes spin {\n",
              "    0% {\n",
              "      border-color: transparent;\n",
              "      border-bottom-color: var(--fill-color);\n",
              "      border-left-color: var(--fill-color);\n",
              "    }\n",
              "    20% {\n",
              "      border-color: transparent;\n",
              "      border-left-color: var(--fill-color);\n",
              "      border-top-color: var(--fill-color);\n",
              "    }\n",
              "    30% {\n",
              "      border-color: transparent;\n",
              "      border-left-color: var(--fill-color);\n",
              "      border-top-color: var(--fill-color);\n",
              "      border-right-color: var(--fill-color);\n",
              "    }\n",
              "    40% {\n",
              "      border-color: transparent;\n",
              "      border-right-color: var(--fill-color);\n",
              "      border-top-color: var(--fill-color);\n",
              "    }\n",
              "    60% {\n",
              "      border-color: transparent;\n",
              "      border-right-color: var(--fill-color);\n",
              "    }\n",
              "    80% {\n",
              "      border-color: transparent;\n",
              "      border-right-color: var(--fill-color);\n",
              "      border-bottom-color: var(--fill-color);\n",
              "    }\n",
              "    90% {\n",
              "      border-color: transparent;\n",
              "      border-bottom-color: var(--fill-color);\n",
              "    }\n",
              "  }\n",
              "</style>\n",
              "\n",
              "  <script>\n",
              "    async function quickchart(key) {\n",
              "      const quickchartButtonEl =\n",
              "        document.querySelector('#' + key + ' button');\n",
              "      quickchartButtonEl.disabled = true;  // To prevent multiple clicks.\n",
              "      quickchartButtonEl.classList.add('colab-df-spinner');\n",
              "      try {\n",
              "        const charts = await google.colab.kernel.invokeFunction(\n",
              "            'suggestCharts', [key], {});\n",
              "      } catch (error) {\n",
              "        console.error('Error during call to suggestCharts:', error);\n",
              "      }\n",
              "      quickchartButtonEl.classList.remove('colab-df-spinner');\n",
              "      quickchartButtonEl.classList.add('colab-df-quickchart-complete');\n",
              "    }\n",
              "    (() => {\n",
              "      let quickchartButtonEl =\n",
              "        document.querySelector('#df-50bed180-9e06-4e97-ad2d-de9b3c58a1b3 button');\n",
              "      quickchartButtonEl.style.display =\n",
              "        google.colab.kernel.accessAllowed ? 'block' : 'none';\n",
              "    })();\n",
              "  </script>\n",
              "</div>\n",
              "\n",
              "    </div>\n",
              "  </div>\n"
            ],
            "application/vnd.google.colaboratory.intrinsic+json": {
              "type": "dataframe",
              "variable_name": "df",
              "summary": "{\n  \"name\": \"df\",\n  \"rows\": 12000,\n  \"fields\": [\n    {\n      \"column\": \"rating\",\n      \"properties\": {\n        \"dtype\": \"number\",\n        \"std\": 0.9977348988916311,\n        \"min\": 1.0,\n        \"max\": 5.0,\n        \"num_unique_values\": 5,\n        \"samples\": [\n          3.0,\n          2.0,\n          4.0\n        ],\n        \"semantic_type\": \"\",\n        \"description\": \"\"\n      }\n    },\n    {\n      \"column\": \"reviewTime\",\n      \"properties\": {\n        \"dtype\": \"object\",\n        \"num_unique_values\": 2073,\n        \"samples\": [\n          \"2017-10-27\",\n          \"2016-02-28\",\n          \"2016-02-15\"\n        ],\n        \"semantic_type\": \"\",\n        \"description\": \"\"\n      }\n    },\n    {\n      \"column\": \"reviewerID\",\n      \"properties\": {\n        \"dtype\": \"string\",\n        \"num_unique_values\": 6296,\n        \"samples\": [\n          \"A20FBQSSFW1WPX\",\n          \"A31R7NX9S391QJ\",\n          \"A3OXOUZJS0O2IL\"\n        ],\n        \"semantic_type\": \"\",\n        \"description\": \"\"\n      }\n    },\n    {\n      \"column\": \"reviewText\",\n      \"properties\": {\n        \"dtype\": \"string\",\n        \"num_unique_values\": 7101,\n        \"samples\": [\n          \"Excelente!\",\n          \"not really comfortable.\",\n          \"Just a bit snug as new shoes tend to be.... will be just fine after a week or so.\"\n        ],\n        \"semantic_type\": \"\",\n        \"description\": \"\"\n      }\n    },\n    {\n      \"column\": \"summary\",\n      \"properties\": {\n        \"dtype\": \"category\",\n        \"num_unique_values\": 4952,\n        \"samples\": [\n          \"wallpapering my tail\",\n          \"Not too bad of a file, wished there was a little more grit\",\n          \"what is not to like, they are a classic cool addition to your ...\"\n        ],\n        \"semantic_type\": \"\",\n        \"description\": \"\"\n      }\n    },\n    {\n      \"column\": \"unixReviewTime\",\n      \"properties\": {\n        \"dtype\": \"number\",\n        \"std\": 50806756,\n        \"min\": 1048377600,\n        \"max\": 1534982400,\n        \"num_unique_values\": 2073,\n        \"samples\": [\n          1509062400,\n          1456617600,\n          1455494400\n        ],\n        \"semantic_type\": \"\",\n        \"description\": \"\"\n      }\n    },\n    {\n      \"column\": \"category\",\n      \"properties\": {\n        \"dtype\": \"category\",\n        \"num_unique_values\": 4,\n        \"samples\": [\n          \"Clothing_Shoes_and_Jewelry\",\n          \"Amazon_Fashion\",\n          \"All_Beauty\"\n        ],\n        \"semantic_type\": \"\",\n        \"description\": \"\"\n      }\n    },\n    {\n      \"column\": \"reviewToken\",\n      \"properties\": {\n        \"dtype\": \"string\",\n        \"num_unique_values\": 6776,\n        \"samples\": [\n          \"['benefit', 'niacin', 'skin', 'well', 'document', 'excited', 'try', 'product', 'million', 'happy', 'think', 'skin', 'look', 'feel', 'great', 'lately', 'use', 'regularly', 'ever', 'product', 'notice', 'difference', 'cause', 'adverse', 'reaction', 'breakout', 'despite', 'oil', 'almost', 'always', 'apply', 'mixing', 'moisturizer', 'work', 'well', 'product', 'expensive', 'need', '23', 'drop', 'use', 'think', 'may', 'last', 'quite', 'awhile', 'love', 'much', 'want', 'buy', 'product', 'despite', 'cost']\",\n          \"['great', 'fit', 'long', 'enough', '6', 'man']\",\n          \"['daughter', 'love', 'shoe', 'fit', 'true', 'size']\"\n        ],\n        \"semantic_type\": \"\",\n        \"description\": \"\"\n      }\n    }\n  ]\n}"
            }
          },
          "metadata": {},
          "execution_count": 13
        }
      ]
    },
    {
      "cell_type": "code",
      "source": [
        "df.info()"
      ],
      "metadata": {
        "colab": {
          "base_uri": "https://localhost:8080/"
        },
        "id": "f4tIP6cjzE2O",
        "outputId": "43550445-6d80-4f85-dda1-7ae3999109f8"
      },
      "execution_count": 14,
      "outputs": [
        {
          "output_type": "stream",
          "name": "stdout",
          "text": [
            "<class 'pandas.core.frame.DataFrame'>\n",
            "RangeIndex: 12000 entries, 0 to 11999\n",
            "Data columns (total 8 columns):\n",
            " #   Column          Non-Null Count  Dtype  \n",
            "---  ------          --------------  -----  \n",
            " 0   rating          12000 non-null  float64\n",
            " 1   reviewTime      12000 non-null  object \n",
            " 2   reviewerID      12000 non-null  object \n",
            " 3   reviewText      11975 non-null  object \n",
            " 4   summary         11991 non-null  object \n",
            " 5   unixReviewTime  12000 non-null  int64  \n",
            " 6   category        12000 non-null  object \n",
            " 7   reviewToken     12000 non-null  object \n",
            "dtypes: float64(1), int64(1), object(6)\n",
            "memory usage: 750.1+ KB\n"
          ]
        }
      ]
    },
    {
      "cell_type": "markdown",
      "source": [
        "# Build the model"
      ],
      "metadata": {
        "id": "zL0KD9rDpGxt"
      }
    },
    {
      "cell_type": "code",
      "source": [
        "# Preprocessing\n",
        "def preprocess_text(text):\n",
        "    # Convert only string instances to lowercase\n",
        "    text = text.lower() if isinstance(text, str)  else ''\n",
        "    # Remove punctuation\n",
        "    text = text.translate(str.maketrans('', '', string.punctuation))\n",
        "    # Tokenize text\n",
        "    tokens = text.split()\n",
        "    # Remove stopwords\n",
        "    tokens = [word for word in tokens if word not in stop_words]\n",
        "    return \" \".join(tokens)\n",
        "\n",
        "\n",
        "df['preprocessedText'] = df['reviewText'].apply(preprocess_text)\n",
        "\n",
        "# Tokenize text again for word2vec\n",
        "df['tokenized_text'] = df['preprocessedText'].str.split()\n",
        "\n",
        "df['preprocessedText'].head()\n"
      ],
      "metadata": {
        "colab": {
          "base_uri": "https://localhost:8080/",
          "height": 241
        },
        "id": "F_Kja6GgpIVw",
        "outputId": "9538f4a9-1d6a-4d65-c9bf-b4f4b74f293e"
      },
      "execution_count": 15,
      "outputs": [
        {
          "output_type": "execute_result",
          "data": {
            "text/plain": [
              "0             great product wanted works great stylish\n",
              "1    seeing popularity shoe decided test impressed ...\n",
              "2    nervousness scent ive never tried love paul mi...\n",
              "3    love smell bit expensive cant buy often would ...\n",
              "4    found stuff japan wondered could find 3drops g...\n",
              "Name: preprocessedText, dtype: object"
            ],
            "text/html": [
              "<div>\n",
              "<style scoped>\n",
              "    .dataframe tbody tr th:only-of-type {\n",
              "        vertical-align: middle;\n",
              "    }\n",
              "\n",
              "    .dataframe tbody tr th {\n",
              "        vertical-align: top;\n",
              "    }\n",
              "\n",
              "    .dataframe thead th {\n",
              "        text-align: right;\n",
              "    }\n",
              "</style>\n",
              "<table border=\"1\" class=\"dataframe\">\n",
              "  <thead>\n",
              "    <tr style=\"text-align: right;\">\n",
              "      <th></th>\n",
              "      <th>preprocessedText</th>\n",
              "    </tr>\n",
              "  </thead>\n",
              "  <tbody>\n",
              "    <tr>\n",
              "      <th>0</th>\n",
              "      <td>great product wanted works great stylish</td>\n",
              "    </tr>\n",
              "    <tr>\n",
              "      <th>1</th>\n",
              "      <td>seeing popularity shoe decided test impressed ...</td>\n",
              "    </tr>\n",
              "    <tr>\n",
              "      <th>2</th>\n",
              "      <td>nervousness scent ive never tried love paul mi...</td>\n",
              "    </tr>\n",
              "    <tr>\n",
              "      <th>3</th>\n",
              "      <td>love smell bit expensive cant buy often would ...</td>\n",
              "    </tr>\n",
              "    <tr>\n",
              "      <th>4</th>\n",
              "      <td>found stuff japan wondered could find 3drops g...</td>\n",
              "    </tr>\n",
              "  </tbody>\n",
              "</table>\n",
              "</div><br><label><b>dtype:</b> object</label>"
            ]
          },
          "metadata": {},
          "execution_count": 15
        }
      ]
    },
    {
      "cell_type": "code",
      "source": [
        "# TF-IDF Vectorization\n",
        "tfidf = TfidfVectorizer(max_features=100)\n",
        "X_tfidf = tfidf.fit_transform(df['preprocessedText']).toarray()\n",
        "\n",
        "# Word2Vec Embeddings\n",
        "w2v_model = Word2Vec(sentences=df['tokenized_text'], vector_size=100, window=5, min_count=1, workers=4)\n",
        "def get_sentence_embedding(word_list):\n",
        "    word_vecs = [w2v_model.wv[word] for word in word_list if word in w2v_model.wv]\n",
        "    if word_vecs:\n",
        "        return np.mean(word_vecs, axis=0)\n",
        "    else:\n",
        "        return np.zeros(w2v_model.vector_size)\n",
        "\n",
        "X_w2v = np.array([get_sentence_embedding(word_list) for word_list in df['tokenized_text']])\n"
      ],
      "metadata": {
        "id": "oUiXjoEhshIk"
      },
      "execution_count": 89,
      "outputs": []
    },
    {
      "cell_type": "markdown",
      "source": [
        "## Including wandb for analysis during model training"
      ],
      "metadata": {
        "id": "C7NbOIFbu0ek"
      }
    },
    {
      "cell_type": "code",
      "source": [
        "wandb.login()"
      ],
      "metadata": {
        "colab": {
          "base_uri": "https://localhost:8080/"
        },
        "id": "EjDJ7Tltu4rt",
        "outputId": "03c4aec9-bde0-4658-b132-2e5b4dbac7dc"
      },
      "execution_count": 19,
      "outputs": [
        {
          "output_type": "stream",
          "name": "stderr",
          "text": [
            "\u001b[34m\u001b[1mwandb\u001b[0m: Currently logged in as: \u001b[33ml-beccard\u001b[0m (\u001b[33ml-beccard-tu-wien\u001b[0m). Use \u001b[1m`wandb login --relogin`\u001b[0m to force relogin\n"
          ]
        },
        {
          "output_type": "execute_result",
          "data": {
            "text/plain": [
              "True"
            ]
          },
          "metadata": {},
          "execution_count": 19
        }
      ]
    },
    {
      "cell_type": "code",
      "source": [
        "X_combined = np.hstack((X_tfidf, X_w2v))\n",
        "y = df['rating']\n",
        "\n",
        "X_train, X_test, y_train, y_test = train_test_split(X_w2v, y, test_size=0.2, random_state=42)\n",
        "\n",
        "wandb_project_name = \"DOPP analysis\"\n",
        "wandb_run_name = \"rf_experiment-6-estimators-500\"\n",
        "\n",
        "rf_config = {\n",
        "    \"n_estimators\": 500,\n",
        "    \"max_depth\": None,\n",
        "    \"random_state\": 42,\n",
        "    \"test_size\": 0.2,\n",
        "    \"dataset\": \"Word2Vec\"\n",
        "}\n",
        "\n",
        "\n",
        "wandb.init(\n",
        "    project=wandb_project_name,\n",
        "    name=wandb_run_name,\n",
        "    config=rf_config\n",
        ")\n",
        "\n",
        "\n",
        "start_time = time.time()\n",
        "\n",
        "rf_model = RandomForestClassifier(\n",
        "    n_estimators=rf_config[\"n_estimators\"],\n",
        "    max_depth=rf_config[\"max_depth\"],\n",
        "    random_state=rf_config[\"random_state\"]\n",
        ")\n",
        "rf_model.fit(X_train, y_train)\n",
        "\n",
        "y_pred_rf = rf_model.predict(X_test)\n",
        "end_time = time.time()\n",
        "execution_time = end_time - start_time\n",
        "\n",
        "f1Score = f1_score(y_test, y_pred_rf, average='macro')\n",
        "precision = precision_score(y_test, y_pred_rf, average='macro')\n",
        "recall = recall_score(y_test, y_pred_rf, average='macro')\n",
        "\n",
        "# Log metrics to W&B\n",
        "wandb.log({\n",
        "    \"Execution Time\": execution_time,\n",
        "    \"F1 Score\": f1Score,\n",
        "    \"Precision Score\": precision,\n",
        "    \"Recall Score\": recall\n",
        "})\n",
        "\n",
        "print(\"Execution Time:\", execution_time, \"seconds\")\n",
        "print(\"Precision Score:\", precision)\n",
        "print(\"Recall Score:\", recall)\n",
        "print(\"F1 Score:\", f1Score, \"\\n\")\n",
        "print(classification_report(y_test, y_pred_rf))\n",
        "\n",
        "# [optional] finish the wandb run, necessary in notebooks\n",
        "wandb.finish()"
      ],
      "metadata": {
        "colab": {
          "base_uri": "https://localhost:8080/",
          "height": 839
        },
        "id": "n-QpurypvFns",
        "outputId": "cd2da403-43d6-4aca-b8aa-f5206b0752f5"
      },
      "execution_count": 29,
      "outputs": [
        {
          "output_type": "display_data",
          "data": {
            "text/plain": [
              "<IPython.core.display.HTML object>"
            ],
            "text/html": [
              "Tracking run with wandb version 0.19.1"
            ]
          },
          "metadata": {}
        },
        {
          "output_type": "display_data",
          "data": {
            "text/plain": [
              "<IPython.core.display.HTML object>"
            ],
            "text/html": [
              "Run data is saved locally in <code>/content/wandb/run-20250113_132544-hvuxyphv</code>"
            ]
          },
          "metadata": {}
        },
        {
          "output_type": "display_data",
          "data": {
            "text/plain": [
              "<IPython.core.display.HTML object>"
            ],
            "text/html": [
              "Syncing run <strong><a href='https://wandb.ai/l-beccard-tu-wien/random-forest-analysis/runs/hvuxyphv' target=\"_blank\">rf_experiment-6-estimators-500</a></strong> to <a href='https://wandb.ai/l-beccard-tu-wien/random-forest-analysis' target=\"_blank\">Weights & Biases</a> (<a href='https://wandb.me/developer-guide' target=\"_blank\">docs</a>)<br>"
            ]
          },
          "metadata": {}
        },
        {
          "output_type": "display_data",
          "data": {
            "text/plain": [
              "<IPython.core.display.HTML object>"
            ],
            "text/html": [
              " View project at <a href='https://wandb.ai/l-beccard-tu-wien/random-forest-analysis' target=\"_blank\">https://wandb.ai/l-beccard-tu-wien/random-forest-analysis</a>"
            ]
          },
          "metadata": {}
        },
        {
          "output_type": "display_data",
          "data": {
            "text/plain": [
              "<IPython.core.display.HTML object>"
            ],
            "text/html": [
              " View run at <a href='https://wandb.ai/l-beccard-tu-wien/random-forest-analysis/runs/hvuxyphv' target=\"_blank\">https://wandb.ai/l-beccard-tu-wien/random-forest-analysis/runs/hvuxyphv</a>"
            ]
          },
          "metadata": {}
        },
        {
          "output_type": "stream",
          "name": "stdout",
          "text": [
            "Execution Time: 67.39437866210938 seconds\n",
            "Precision Score: 0.8265042886613451\n",
            "Recall Score: 0.48876636982713356\n",
            "F1 Score: 0.583058928001704 \n",
            "\n",
            "              precision    recall  f1-score   support\n",
            "\n",
            "         1.0       0.85      0.32      0.47        68\n",
            "         2.0       0.90      0.37      0.52        73\n",
            "         3.0       0.86      0.39      0.54       182\n",
            "         4.0       0.72      0.38      0.50       351\n",
            "         5.0       0.81      0.98      0.89      1726\n",
            "\n",
            "    accuracy                           0.81      2400\n",
            "   macro avg       0.83      0.49      0.58      2400\n",
            "weighted avg       0.81      0.81      0.78      2400\n",
            "\n"
          ]
        },
        {
          "output_type": "display_data",
          "data": {
            "text/plain": [
              "<IPython.core.display.HTML object>"
            ],
            "text/html": []
          },
          "metadata": {}
        },
        {
          "output_type": "display_data",
          "data": {
            "text/plain": [
              "<IPython.core.display.HTML object>"
            ],
            "text/html": [
              "<br>    <style><br>        .wandb-row {<br>            display: flex;<br>            flex-direction: row;<br>            flex-wrap: wrap;<br>            justify-content: flex-start;<br>            width: 100%;<br>        }<br>        .wandb-col {<br>            display: flex;<br>            flex-direction: column;<br>            flex-basis: 100%;<br>            flex: 1;<br>            padding: 10px;<br>        }<br>    </style><br><div class=\"wandb-row\"><div class=\"wandb-col\"><h3>Run history:</h3><br/><table class=\"wandb\"><tr><td>Execution Time</td><td>▁</td></tr><tr><td>F1 Score</td><td>▁</td></tr><tr><td>Precision Score</td><td>▁</td></tr><tr><td>Recall Score</td><td>▁</td></tr></table><br/></div><div class=\"wandb-col\"><h3>Run summary:</h3><br/><table class=\"wandb\"><tr><td>Execution Time</td><td>67.39438</td></tr><tr><td>F1 Score</td><td>0.58306</td></tr><tr><td>Precision Score</td><td>0.8265</td></tr><tr><td>Recall Score</td><td>0.48877</td></tr></table><br/></div></div>"
            ]
          },
          "metadata": {}
        },
        {
          "output_type": "display_data",
          "data": {
            "text/plain": [
              "<IPython.core.display.HTML object>"
            ],
            "text/html": [
              " View run <strong style=\"color:#cdcd00\">rf_experiment-6-estimators-500</strong> at: <a href='https://wandb.ai/l-beccard-tu-wien/random-forest-analysis/runs/hvuxyphv' target=\"_blank\">https://wandb.ai/l-beccard-tu-wien/random-forest-analysis/runs/hvuxyphv</a><br> View project at: <a href='https://wandb.ai/l-beccard-tu-wien/random-forest-analysis' target=\"_blank\">https://wandb.ai/l-beccard-tu-wien/random-forest-analysis</a><br>Synced 5 W&B file(s), 0 media file(s), 0 artifact file(s) and 0 other file(s)"
            ]
          },
          "metadata": {}
        },
        {
          "output_type": "display_data",
          "data": {
            "text/plain": [
              "<IPython.core.display.HTML object>"
            ],
            "text/html": [
              "Find logs at: <code>./wandb/run-20250113_132544-hvuxyphv/logs</code>"
            ]
          },
          "metadata": {}
        }
      ]
    },
    {
      "cell_type": "code",
      "source": [
        "X_combined = np.hstack((X_tfidf, X_w2v))\n",
        "y = df['rating']\n",
        "\n",
        "X_train, X_test, y_train, y_test = train_test_split(X_combined, y, test_size=0.2, random_state=42)\n",
        "\n",
        "svc_config = {\n",
        "    \"random_state\": 42,\n",
        "    \"test_size\": 0.2,\n",
        "    \"max_iter\": 10000,\n",
        "    \"penalty\": \"l1\",\n",
        "    \"dataset\": \"Combined\"\n",
        "}\n",
        "\n",
        "wandb_project_name = \"DOPP analysis\"\n",
        "\n",
        "wandb.init(\n",
        "    project=wandb_project_name,\n",
        "    name=\"svc_experiment-3\",\n",
        "    config=svc_config\n",
        ")\n",
        "\n",
        "start_time = time.time()\n",
        "\n",
        "linear_svc_model = LinearSVC(random_state=svc_config[\"random_state\"], penalty=svc_config[\"penalty\"])\n",
        "linear_svc_model.fit(X_train, y_train)\n",
        "\n",
        "y_pred_svc = linear_svc_model.predict(X_test)\n",
        "end_time = time.time()\n",
        "execution_time = end_time - start_time\n",
        "\n",
        "f1Score = f1_score(y_test, y_pred_svc, average='macro')\n",
        "precision = precision_score(y_test, y_pred_svc, average='macro')\n",
        "recall = recall_score(y_test, y_pred_svc, average='macro')\n",
        "\n",
        "wandb.log({\n",
        "    \"Execution Time\": execution_time,\n",
        "    \"F1 Score\": f1Score,\n",
        "    \"Precision Score\": precision,\n",
        "    \"Recall Score\": recall\n",
        "})\n",
        "\n",
        "print(\"Execution Time:\", execution_time, \"seconds\")\n",
        "print(\"Precision Score:\", precision)\n",
        "print(\"Recall Score:\", recall)\n",
        "print(\"F1 Score:\", f1Score, \"\\n\")\n",
        "print(classification_report(y_test, y_pred_svc))\n",
        "\n",
        "wandb.finish()"
      ],
      "metadata": {
        "colab": {
          "base_uri": "https://localhost:8080/",
          "height": 874
        },
        "id": "iuDbMxpAyjq6",
        "outputId": "5280f4e8-51aa-480c-c918-1630c99d2b3d"
      },
      "execution_count": 41,
      "outputs": [
        {
          "output_type": "display_data",
          "data": {
            "text/plain": [
              "<IPython.core.display.HTML object>"
            ],
            "text/html": [
              "Tracking run with wandb version 0.19.1"
            ]
          },
          "metadata": {}
        },
        {
          "output_type": "display_data",
          "data": {
            "text/plain": [
              "<IPython.core.display.HTML object>"
            ],
            "text/html": [
              "Run data is saved locally in <code>/content/wandb/run-20250113_134830-4bfimk81</code>"
            ]
          },
          "metadata": {}
        },
        {
          "output_type": "display_data",
          "data": {
            "text/plain": [
              "<IPython.core.display.HTML object>"
            ],
            "text/html": [
              "Syncing run <strong><a href='https://wandb.ai/l-beccard-tu-wien/DOPP%20analysis/runs/4bfimk81' target=\"_blank\">svc_experiment-3</a></strong> to <a href='https://wandb.ai/l-beccard-tu-wien/DOPP%20analysis' target=\"_blank\">Weights & Biases</a> (<a href='https://wandb.me/developer-guide' target=\"_blank\">docs</a>)<br>"
            ]
          },
          "metadata": {}
        },
        {
          "output_type": "display_data",
          "data": {
            "text/plain": [
              "<IPython.core.display.HTML object>"
            ],
            "text/html": [
              " View project at <a href='https://wandb.ai/l-beccard-tu-wien/DOPP%20analysis' target=\"_blank\">https://wandb.ai/l-beccard-tu-wien/DOPP%20analysis</a>"
            ]
          },
          "metadata": {}
        },
        {
          "output_type": "display_data",
          "data": {
            "text/plain": [
              "<IPython.core.display.HTML object>"
            ],
            "text/html": [
              " View run at <a href='https://wandb.ai/l-beccard-tu-wien/DOPP%20analysis/runs/4bfimk81' target=\"_blank\">https://wandb.ai/l-beccard-tu-wien/DOPP%20analysis/runs/4bfimk81</a>"
            ]
          },
          "metadata": {}
        },
        {
          "output_type": "stream",
          "name": "stdout",
          "text": [
            "Execution Time: 22.80403232574463 seconds\n",
            "Precision Score: 0.5481849115690947\n",
            "Recall Score: 0.2836730018456059\n",
            "F1 Score: 0.30986140029291037 \n",
            "\n",
            "              precision    recall  f1-score   support\n",
            "\n",
            "         1.0       0.35      0.10      0.16        68\n",
            "         2.0       0.60      0.04      0.08        73\n",
            "         3.0       0.51      0.15      0.24       182\n",
            "         4.0       0.52      0.14      0.22       351\n",
            "         5.0       0.76      0.98      0.86      1726\n",
            "\n",
            "    accuracy                           0.74      2400\n",
            "   macro avg       0.55      0.28      0.31      2400\n",
            "weighted avg       0.69      0.74      0.67      2400\n",
            "\n"
          ]
        },
        {
          "output_type": "stream",
          "name": "stderr",
          "text": [
            "/usr/local/lib/python3.10/dist-packages/sklearn/svm/_base.py:1243: ConvergenceWarning: Liblinear failed to converge, increase the number of iterations.\n",
            "  warnings.warn(\n"
          ]
        },
        {
          "output_type": "display_data",
          "data": {
            "text/plain": [
              "<IPython.core.display.HTML object>"
            ],
            "text/html": []
          },
          "metadata": {}
        },
        {
          "output_type": "display_data",
          "data": {
            "text/plain": [
              "<IPython.core.display.HTML object>"
            ],
            "text/html": [
              "<br>    <style><br>        .wandb-row {<br>            display: flex;<br>            flex-direction: row;<br>            flex-wrap: wrap;<br>            justify-content: flex-start;<br>            width: 100%;<br>        }<br>        .wandb-col {<br>            display: flex;<br>            flex-direction: column;<br>            flex-basis: 100%;<br>            flex: 1;<br>            padding: 10px;<br>        }<br>    </style><br><div class=\"wandb-row\"><div class=\"wandb-col\"><h3>Run history:</h3><br/><table class=\"wandb\"><tr><td>Execution Time</td><td>▁</td></tr><tr><td>F1 Score</td><td>▁</td></tr><tr><td>Precision Score</td><td>▁</td></tr><tr><td>Recall Score</td><td>▁</td></tr></table><br/></div><div class=\"wandb-col\"><h3>Run summary:</h3><br/><table class=\"wandb\"><tr><td>Execution Time</td><td>22.80403</td></tr><tr><td>F1 Score</td><td>0.30986</td></tr><tr><td>Precision Score</td><td>0.54818</td></tr><tr><td>Recall Score</td><td>0.28367</td></tr></table><br/></div></div>"
            ]
          },
          "metadata": {}
        },
        {
          "output_type": "display_data",
          "data": {
            "text/plain": [
              "<IPython.core.display.HTML object>"
            ],
            "text/html": [
              " View run <strong style=\"color:#cdcd00\">svc_experiment-3</strong> at: <a href='https://wandb.ai/l-beccard-tu-wien/DOPP%20analysis/runs/4bfimk81' target=\"_blank\">https://wandb.ai/l-beccard-tu-wien/DOPP%20analysis/runs/4bfimk81</a><br> View project at: <a href='https://wandb.ai/l-beccard-tu-wien/DOPP%20analysis' target=\"_blank\">https://wandb.ai/l-beccard-tu-wien/DOPP%20analysis</a><br>Synced 5 W&B file(s), 0 media file(s), 0 artifact file(s) and 0 other file(s)"
            ]
          },
          "metadata": {}
        },
        {
          "output_type": "display_data",
          "data": {
            "text/plain": [
              "<IPython.core.display.HTML object>"
            ],
            "text/html": [
              "Find logs at: <code>./wandb/run-20250113_134830-4bfimk81/logs</code>"
            ]
          },
          "metadata": {}
        }
      ]
    },
    {
      "cell_type": "code",
      "source": [],
      "metadata": {
        "id": "Gov2rPC_2xm0"
      },
      "execution_count": null,
      "outputs": []
    },
    {
      "cell_type": "markdown",
      "source": [
        "## Qualitative misclassification analysis"
      ],
      "metadata": {
        "id": "r57xDsUY8kot"
      }
    },
    {
      "cell_type": "code",
      "source": [
        "print(np.unique(y_pred_svc))\n",
        "print(np.unique(y_pred_rf))\n"
      ],
      "metadata": {
        "colab": {
          "base_uri": "https://localhost:8080/"
        },
        "id": "4v7wkbSE8soI",
        "outputId": "82e72b2a-4970-44f3-9ce1-c4e9e309b118"
      },
      "execution_count": 45,
      "outputs": [
        {
          "output_type": "stream",
          "name": "stdout",
          "text": [
            "[1. 2. 3. 4. 5.]\n",
            "[1. 2. 3. 4. 5.]\n"
          ]
        }
      ]
    },
    {
      "cell_type": "markdown",
      "source": [
        "We see our models predict all given classes.  \n",
        "Now, let's understand why some classes are misclassified."
      ],
      "metadata": {
        "id": "nXixokC79HHY"
      }
    },
    {
      "cell_type": "code",
      "source": [
        "false_preds_svc = y_pred_svc != y_test\n",
        "\n",
        "misclassified_predictions = y_pred_svc[false_preds_svc]\n",
        "misclassified_labels = y_test[false_preds_svc]"
      ],
      "metadata": {
        "id": "jwh-vkNS91AC"
      },
      "execution_count": 53,
      "outputs": []
    },
    {
      "cell_type": "code",
      "source": [
        "misclassified_predictions"
      ],
      "metadata": {
        "colab": {
          "base_uri": "https://localhost:8080/"
        },
        "id": "m3YPfRJ8B7NR",
        "outputId": "4ddbf407-44b9-47fc-e65b-44d33ecdcb93"
      },
      "execution_count": 73,
      "outputs": [
        {
          "output_type": "execute_result",
          "data": {
            "text/plain": [
              "array([5., 5., 5., 5., 5., 5., 5., 4., 5., 5., 5., 5., 5., 5., 5., 5., 5.,\n",
              "       5., 5., 5., 5., 5., 5., 5., 5., 5., 5., 5., 5., 5., 5., 1., 5., 5.,\n",
              "       4., 5., 5., 5., 4., 5., 5., 5., 5., 5., 5., 5., 5., 5., 5., 5., 1.,\n",
              "       5., 5., 5., 5., 4., 5., 2., 5., 5., 5., 5., 5., 5., 5., 5., 5., 5.,\n",
              "       5., 5., 2., 5., 5., 5., 5., 5., 5., 5., 5., 5., 5., 5., 5., 5., 4.,\n",
              "       5., 5., 4., 5., 5., 3., 5., 5., 5., 5., 5., 5., 5., 5., 5., 5., 5.,\n",
              "       5., 5., 5., 5., 5., 5., 5., 4., 5., 5., 5., 5., 5., 5., 5., 5., 5.,\n",
              "       5., 5., 5., 3., 5., 5., 5., 5., 5., 5., 5., 5., 5., 5., 4., 4., 5.,\n",
              "       5., 5., 5., 5., 5., 5., 5., 5., 5., 5., 4., 5., 5., 5., 5., 5., 5.,\n",
              "       5., 5., 5., 4., 5., 5., 5., 5., 5., 5., 5., 3., 3., 5., 5., 5., 5.,\n",
              "       5., 5., 5., 5., 1., 5., 5., 5., 5., 5., 5., 5., 5., 5., 5., 5., 5.,\n",
              "       5., 5., 5., 5., 5., 5., 5., 3., 5., 5., 5., 5., 5., 5., 5., 5., 5.,\n",
              "       5., 5., 5., 5., 4., 5., 5., 5., 5., 5., 4., 5., 4., 4., 1., 5., 5.,\n",
              "       5., 5., 5., 5., 3., 5., 3., 5., 5., 5., 5., 5., 5., 5., 5., 5., 1.,\n",
              "       5., 5., 5., 5., 5., 5., 5., 3., 5., 5., 5., 5., 5., 5., 5., 5., 5.,\n",
              "       5., 5., 3., 5., 5., 4., 5., 4., 5., 5., 5., 5., 5., 4., 5., 3., 5.,\n",
              "       5., 5., 5., 5., 5., 3., 5., 5., 3., 5., 5., 5., 5., 5., 5., 5., 5.,\n",
              "       5., 5., 5., 5., 5., 5., 5., 5., 5., 5., 5., 5., 5., 5., 5., 5., 5.,\n",
              "       5., 5., 4., 5., 3., 5., 5., 5., 5., 5., 5., 5., 5., 5., 5., 5., 5.,\n",
              "       5., 5., 5., 4., 5., 5., 5., 5., 5., 4., 5., 5., 1., 5., 3., 5., 3.,\n",
              "       5., 5., 5., 5., 4., 5., 5., 5., 5., 1., 5., 5., 5., 5., 4., 5., 4.,\n",
              "       5., 5., 5., 5., 5., 5., 5., 3., 5., 3., 5., 5., 4., 5., 5., 5., 5.,\n",
              "       5., 3., 5., 5., 5., 4., 5., 3., 5., 5., 5., 5., 5., 3., 5., 5., 5.,\n",
              "       4., 5., 4., 5., 1., 5., 5., 5., 5., 5., 5., 5., 5., 5., 5., 5., 5.,\n",
              "       5., 5., 5., 5., 5., 5., 5., 5., 5., 5., 5., 3., 5., 5., 5., 5., 5.,\n",
              "       5., 5., 5., 5., 5., 5., 5., 4., 5., 5., 5., 5., 5., 5., 3., 5., 5.,\n",
              "       5., 5., 5., 5., 5., 5., 5., 1., 5., 5., 5., 5., 5., 5., 5., 5., 5.,\n",
              "       5., 5., 5., 5., 5., 5., 5., 5., 5., 5., 5., 5., 5., 5., 5., 1., 5.,\n",
              "       5., 5., 5., 5., 5., 5., 5., 5., 5., 5., 5., 5., 5., 5., 5., 5., 5.,\n",
              "       5., 5., 5., 3., 5., 5., 5., 5., 5., 5., 5., 5., 5., 5., 4., 5., 3.,\n",
              "       5., 5., 5., 5., 5., 5., 5., 5., 5., 5., 5., 5., 5., 5., 4., 5., 5.,\n",
              "       5., 5., 5., 5., 5., 5., 5., 5., 5., 5., 5., 5., 4., 5., 3., 5., 5.,\n",
              "       5., 5., 5., 4., 5., 5., 5., 5., 5., 5., 5., 4., 5., 5., 5., 5., 5.,\n",
              "       4., 5., 5., 5., 5., 5., 5., 1., 5., 5., 4., 5., 5., 5., 4., 4., 5.,\n",
              "       5., 5., 4., 5., 4., 5., 5., 5., 5., 5., 5., 5., 5., 3., 5., 5., 5.,\n",
              "       4., 1., 5., 5., 5., 5., 5., 5., 5., 4., 5., 4., 1., 5., 5., 5., 5.,\n",
              "       5., 4., 5., 3., 5., 4., 5., 5.])"
            ]
          },
          "metadata": {},
          "execution_count": 73
        }
      ]
    },
    {
      "cell_type": "code",
      "source": [
        "np.unique(misclassified_predictions, return_counts=True)"
      ],
      "metadata": {
        "colab": {
          "base_uri": "https://localhost:8080/"
        },
        "id": "haiVDc4CA0ej",
        "outputId": "5d24c991-b476-462e-e3cf-25f7b904ff26"
      },
      "execution_count": 71,
      "outputs": [
        {
          "output_type": "execute_result",
          "data": {
            "text/plain": [
              "(array([1., 2., 3., 4., 5.]), array([ 13,   2,  27,  45, 533]))"
            ]
          },
          "metadata": {},
          "execution_count": 71
        }
      ]
    },
    {
      "cell_type": "markdown",
      "source": [
        "By this frequency count, it is observable that most of the time a 5-star-rating is predicting wrong (533 times in total), which makes sense since the original dataset is quite imbalanced. The grade 2 has been misclassified the least with only 2 wrong predictions."
      ],
      "metadata": {
        "id": "JAU1pOS4BGv0"
      }
    },
    {
      "cell_type": "code",
      "source": [
        "misclassified_labels"
      ],
      "metadata": {
        "colab": {
          "base_uri": "https://localhost:8080/",
          "height": 459
        },
        "id": "nqemDj7o_JUU",
        "outputId": "ff4e1640-cad5-48b1-987e-433388b11c0d"
      },
      "execution_count": 55,
      "outputs": [
        {
          "output_type": "execute_result",
          "data": {
            "text/plain": [
              "6494    3.0\n",
              "1720    3.0\n",
              "9120    4.0\n",
              "9663    4.0\n",
              "5277    1.0\n",
              "       ... \n",
              "5157    2.0\n",
              "9586    4.0\n",
              "1206    2.0\n",
              "4295    4.0\n",
              "1195    4.0\n",
              "Name: rating, Length: 620, dtype: float64"
            ],
            "text/html": [
              "<div>\n",
              "<style scoped>\n",
              "    .dataframe tbody tr th:only-of-type {\n",
              "        vertical-align: middle;\n",
              "    }\n",
              "\n",
              "    .dataframe tbody tr th {\n",
              "        vertical-align: top;\n",
              "    }\n",
              "\n",
              "    .dataframe thead th {\n",
              "        text-align: right;\n",
              "    }\n",
              "</style>\n",
              "<table border=\"1\" class=\"dataframe\">\n",
              "  <thead>\n",
              "    <tr style=\"text-align: right;\">\n",
              "      <th></th>\n",
              "      <th>rating</th>\n",
              "    </tr>\n",
              "  </thead>\n",
              "  <tbody>\n",
              "    <tr>\n",
              "      <th>6494</th>\n",
              "      <td>3.0</td>\n",
              "    </tr>\n",
              "    <tr>\n",
              "      <th>1720</th>\n",
              "      <td>3.0</td>\n",
              "    </tr>\n",
              "    <tr>\n",
              "      <th>9120</th>\n",
              "      <td>4.0</td>\n",
              "    </tr>\n",
              "    <tr>\n",
              "      <th>9663</th>\n",
              "      <td>4.0</td>\n",
              "    </tr>\n",
              "    <tr>\n",
              "      <th>5277</th>\n",
              "      <td>1.0</td>\n",
              "    </tr>\n",
              "    <tr>\n",
              "      <th>...</th>\n",
              "      <td>...</td>\n",
              "    </tr>\n",
              "    <tr>\n",
              "      <th>5157</th>\n",
              "      <td>2.0</td>\n",
              "    </tr>\n",
              "    <tr>\n",
              "      <th>9586</th>\n",
              "      <td>4.0</td>\n",
              "    </tr>\n",
              "    <tr>\n",
              "      <th>1206</th>\n",
              "      <td>2.0</td>\n",
              "    </tr>\n",
              "    <tr>\n",
              "      <th>4295</th>\n",
              "      <td>4.0</td>\n",
              "    </tr>\n",
              "    <tr>\n",
              "      <th>1195</th>\n",
              "      <td>4.0</td>\n",
              "    </tr>\n",
              "  </tbody>\n",
              "</table>\n",
              "<p>620 rows × 1 columns</p>\n",
              "</div><br><label><b>dtype:</b> float64</label>"
            ]
          },
          "metadata": {},
          "execution_count": 55
        }
      ]
    },
    {
      "cell_type": "code",
      "source": [
        "df_misclassified = df.iloc[misclassified_labels.index]"
      ],
      "metadata": {
        "id": "u6dHM4So_MEf"
      },
      "execution_count": 58,
      "outputs": []
    },
    {
      "cell_type": "code",
      "source": [
        "df_misclassified[\"misclassified_rating\"] = misclassified_predictions"
      ],
      "metadata": {
        "colab": {
          "base_uri": "https://localhost:8080/"
        },
        "id": "UeSvwQYs_XHy",
        "outputId": "92bbcee9-e0e4-4419-f148-5c21ed43c4b8"
      },
      "execution_count": 64,
      "outputs": [
        {
          "output_type": "stream",
          "name": "stderr",
          "text": [
            "<ipython-input-64-38338740226b>:1: SettingWithCopyWarning: \n",
            "A value is trying to be set on a copy of a slice from a DataFrame.\n",
            "Try using .loc[row_indexer,col_indexer] = value instead\n",
            "\n",
            "See the caveats in the documentation: https://pandas.pydata.org/pandas-docs/stable/user_guide/indexing.html#returning-a-view-versus-a-copy\n",
            "  df_misclassified[\"misclassified_rating\"] = misclassified_predictions\n"
          ]
        }
      ]
    },
    {
      "cell_type": "code",
      "source": [
        "df_misclassified.iloc[0]"
      ],
      "metadata": {
        "colab": {
          "base_uri": "https://localhost:8080/",
          "height": 461
        },
        "id": "IpwFoedk_ttm",
        "outputId": "2fe69d88-f4de-43a8-d2b7-0f3da2e52ffb"
      },
      "execution_count": 65,
      "outputs": [
        {
          "output_type": "execute_result",
          "data": {
            "text/plain": [
              "rating                                                                     3.0\n",
              "reviewTime                                                          2014-08-18\n",
              "reviewerID                                                       AOEUN9718KVRD\n",
              "reviewText                   The foam conditioner is easy to use and doesn'...\n",
              "summary                                                  Don't like the scent.\n",
              "unixReviewTime                                                      1408320000\n",
              "category                                                            All_Beauty\n",
              "reviewToken                  ['foam', 'conditioner', 'easy', 'use', 'leave'...\n",
              "preprocessedText             foam conditioner easy use doesnt leave greasy ...\n",
              "tokenized_text               [foam, conditioner, easy, use, doesnt, leave, ...\n",
              "misclassified_predictions                                                  5.0\n",
              "misclassified_rating                                                       5.0\n",
              "Name: 6494, dtype: object"
            ],
            "text/html": [
              "<div>\n",
              "<style scoped>\n",
              "    .dataframe tbody tr th:only-of-type {\n",
              "        vertical-align: middle;\n",
              "    }\n",
              "\n",
              "    .dataframe tbody tr th {\n",
              "        vertical-align: top;\n",
              "    }\n",
              "\n",
              "    .dataframe thead th {\n",
              "        text-align: right;\n",
              "    }\n",
              "</style>\n",
              "<table border=\"1\" class=\"dataframe\">\n",
              "  <thead>\n",
              "    <tr style=\"text-align: right;\">\n",
              "      <th></th>\n",
              "      <th>6494</th>\n",
              "    </tr>\n",
              "  </thead>\n",
              "  <tbody>\n",
              "    <tr>\n",
              "      <th>rating</th>\n",
              "      <td>3.0</td>\n",
              "    </tr>\n",
              "    <tr>\n",
              "      <th>reviewTime</th>\n",
              "      <td>2014-08-18</td>\n",
              "    </tr>\n",
              "    <tr>\n",
              "      <th>reviewerID</th>\n",
              "      <td>AOEUN9718KVRD</td>\n",
              "    </tr>\n",
              "    <tr>\n",
              "      <th>reviewText</th>\n",
              "      <td>The foam conditioner is easy to use and doesn'...</td>\n",
              "    </tr>\n",
              "    <tr>\n",
              "      <th>summary</th>\n",
              "      <td>Don't like the scent.</td>\n",
              "    </tr>\n",
              "    <tr>\n",
              "      <th>unixReviewTime</th>\n",
              "      <td>1408320000</td>\n",
              "    </tr>\n",
              "    <tr>\n",
              "      <th>category</th>\n",
              "      <td>All_Beauty</td>\n",
              "    </tr>\n",
              "    <tr>\n",
              "      <th>reviewToken</th>\n",
              "      <td>['foam', 'conditioner', 'easy', 'use', 'leave'...</td>\n",
              "    </tr>\n",
              "    <tr>\n",
              "      <th>preprocessedText</th>\n",
              "      <td>foam conditioner easy use doesnt leave greasy ...</td>\n",
              "    </tr>\n",
              "    <tr>\n",
              "      <th>tokenized_text</th>\n",
              "      <td>[foam, conditioner, easy, use, doesnt, leave, ...</td>\n",
              "    </tr>\n",
              "    <tr>\n",
              "      <th>misclassified_predictions</th>\n",
              "      <td>5.0</td>\n",
              "    </tr>\n",
              "    <tr>\n",
              "      <th>misclassified_rating</th>\n",
              "      <td>5.0</td>\n",
              "    </tr>\n",
              "  </tbody>\n",
              "</table>\n",
              "</div><br><label><b>dtype:</b> object</label>"
            ]
          },
          "metadata": {},
          "execution_count": 65
        }
      ]
    },
    {
      "cell_type": "code",
      "source": [
        "df_misclassified.iloc[0][\"reviewText\"]"
      ],
      "metadata": {
        "colab": {
          "base_uri": "https://localhost:8080/",
          "height": 53
        },
        "id": "Z-wkKbNk_6g8",
        "outputId": "dca3d09f-e6a1-477f-ad5e-5dbd963de113"
      },
      "execution_count": 68,
      "outputs": [
        {
          "output_type": "execute_result",
          "data": {
            "text/plain": [
              "\"The foam conditioner is easy to use and doesn't leave greasy residue on hair. There was no problem in rinsing it off.\\nI just don't like the smell, it bothers me. It's very chemical.\""
            ],
            "application/vnd.google.colaboratory.intrinsic+json": {
              "type": "string"
            }
          },
          "metadata": {},
          "execution_count": 68
        }
      ]
    },
    {
      "cell_type": "markdown",
      "source": [
        "Based on the review text, we can observe that the model does not really understand the final critizing words of the this review. The review text itself is reasonable to give this three stars."
      ],
      "metadata": {
        "id": "Oa62rV-MARhj"
      }
    },
    {
      "cell_type": "code",
      "source": [
        "df_misclassified.iloc[14]"
      ],
      "metadata": {
        "colab": {
          "base_uri": "https://localhost:8080/",
          "height": 461
        },
        "id": "mUY2JVVPAE7j",
        "outputId": "3c1ae0d8-ce30-43c4-b9d1-791095a695c4"
      },
      "execution_count": 72,
      "outputs": [
        {
          "output_type": "execute_result",
          "data": {
            "text/plain": [
              "rating                                                               3.0\n",
              "reviewTime                                                    2017-05-25\n",
              "reviewerID                                                 ATFW3Q0V6Q4XI\n",
              "reviewText                   It felt smaller than other Dickie's shorts.\n",
              "summary                                                 A little smaller\n",
              "unixReviewTime                                                1495670400\n",
              "category                                      Clothing_Shoes_and_Jewelry\n",
              "reviewToken                          ['feel', 'small', 'dicky', 'short']\n",
              "preprocessedText                             felt smaller dickies shorts\n",
              "tokenized_text                          [felt, smaller, dickies, shorts]\n",
              "misclassified_predictions                                            5.0\n",
              "misclassified_rating                                                 5.0\n",
              "Name: 11074, dtype: object"
            ],
            "text/html": [
              "<div>\n",
              "<style scoped>\n",
              "    .dataframe tbody tr th:only-of-type {\n",
              "        vertical-align: middle;\n",
              "    }\n",
              "\n",
              "    .dataframe tbody tr th {\n",
              "        vertical-align: top;\n",
              "    }\n",
              "\n",
              "    .dataframe thead th {\n",
              "        text-align: right;\n",
              "    }\n",
              "</style>\n",
              "<table border=\"1\" class=\"dataframe\">\n",
              "  <thead>\n",
              "    <tr style=\"text-align: right;\">\n",
              "      <th></th>\n",
              "      <th>11074</th>\n",
              "    </tr>\n",
              "  </thead>\n",
              "  <tbody>\n",
              "    <tr>\n",
              "      <th>rating</th>\n",
              "      <td>3.0</td>\n",
              "    </tr>\n",
              "    <tr>\n",
              "      <th>reviewTime</th>\n",
              "      <td>2017-05-25</td>\n",
              "    </tr>\n",
              "    <tr>\n",
              "      <th>reviewerID</th>\n",
              "      <td>ATFW3Q0V6Q4XI</td>\n",
              "    </tr>\n",
              "    <tr>\n",
              "      <th>reviewText</th>\n",
              "      <td>It felt smaller than other Dickie's shorts.</td>\n",
              "    </tr>\n",
              "    <tr>\n",
              "      <th>summary</th>\n",
              "      <td>A little smaller</td>\n",
              "    </tr>\n",
              "    <tr>\n",
              "      <th>unixReviewTime</th>\n",
              "      <td>1495670400</td>\n",
              "    </tr>\n",
              "    <tr>\n",
              "      <th>category</th>\n",
              "      <td>Clothing_Shoes_and_Jewelry</td>\n",
              "    </tr>\n",
              "    <tr>\n",
              "      <th>reviewToken</th>\n",
              "      <td>['feel', 'small', 'dicky', 'short']</td>\n",
              "    </tr>\n",
              "    <tr>\n",
              "      <th>preprocessedText</th>\n",
              "      <td>felt smaller dickies shorts</td>\n",
              "    </tr>\n",
              "    <tr>\n",
              "      <th>tokenized_text</th>\n",
              "      <td>[felt, smaller, dickies, shorts]</td>\n",
              "    </tr>\n",
              "    <tr>\n",
              "      <th>misclassified_predictions</th>\n",
              "      <td>5.0</td>\n",
              "    </tr>\n",
              "    <tr>\n",
              "      <th>misclassified_rating</th>\n",
              "      <td>5.0</td>\n",
              "    </tr>\n",
              "  </tbody>\n",
              "</table>\n",
              "</div><br><label><b>dtype:</b> object</label>"
            ]
          },
          "metadata": {},
          "execution_count": 72
        }
      ]
    },
    {
      "cell_type": "code",
      "source": [
        "df_misclassified.iloc[14][\"reviewText\"]"
      ],
      "metadata": {
        "colab": {
          "base_uri": "https://localhost:8080/",
          "height": 35
        },
        "id": "raM2rqIQAsuK",
        "outputId": "8fbf5600-7b69-43ce-dba2-c9624f7b82af"
      },
      "execution_count": 69,
      "outputs": [
        {
          "output_type": "execute_result",
          "data": {
            "text/plain": [
              "\"It felt smaller than other Dickie's shorts.\""
            ],
            "application/vnd.google.colaboratory.intrinsic+json": {
              "type": "string"
            }
          },
          "metadata": {},
          "execution_count": 69
        }
      ]
    },
    {
      "cell_type": "markdown",
      "source": [
        "Again, the review text presents some kind of critique, which should be understood by the model not to rate it with five stars."
      ],
      "metadata": {
        "id": "BZqSmedKBifH"
      }
    },
    {
      "cell_type": "code",
      "source": [
        "df_misclassified.iloc[31]"
      ],
      "metadata": {
        "colab": {
          "base_uri": "https://localhost:8080/",
          "height": 461
        },
        "id": "igyy8R42AyAt",
        "outputId": "bb8652cc-09da-4830-bafc-323d82427bd4"
      },
      "execution_count": 74,
      "outputs": [
        {
          "output_type": "execute_result",
          "data": {
            "text/plain": [
              "rating                                               5.0\n",
              "reviewTime                                    2014-09-05\n",
              "reviewerID                                A2I9O5E0Q731GN\n",
              "reviewText                   Wish I could get some more!\n",
              "summary                                       Five Stars\n",
              "unixReviewTime                                1409875200\n",
              "category                                      All_Beauty\n",
              "reviewToken                     ['wish', 'could', 'get']\n",
              "preprocessedText                          wish could get\n",
              "tokenized_text                        [wish, could, get]\n",
              "misclassified_predictions                            1.0\n",
              "misclassified_rating                                 1.0\n",
              "Name: 11957, dtype: object"
            ],
            "text/html": [
              "<div>\n",
              "<style scoped>\n",
              "    .dataframe tbody tr th:only-of-type {\n",
              "        vertical-align: middle;\n",
              "    }\n",
              "\n",
              "    .dataframe tbody tr th {\n",
              "        vertical-align: top;\n",
              "    }\n",
              "\n",
              "    .dataframe thead th {\n",
              "        text-align: right;\n",
              "    }\n",
              "</style>\n",
              "<table border=\"1\" class=\"dataframe\">\n",
              "  <thead>\n",
              "    <tr style=\"text-align: right;\">\n",
              "      <th></th>\n",
              "      <th>11957</th>\n",
              "    </tr>\n",
              "  </thead>\n",
              "  <tbody>\n",
              "    <tr>\n",
              "      <th>rating</th>\n",
              "      <td>5.0</td>\n",
              "    </tr>\n",
              "    <tr>\n",
              "      <th>reviewTime</th>\n",
              "      <td>2014-09-05</td>\n",
              "    </tr>\n",
              "    <tr>\n",
              "      <th>reviewerID</th>\n",
              "      <td>A2I9O5E0Q731GN</td>\n",
              "    </tr>\n",
              "    <tr>\n",
              "      <th>reviewText</th>\n",
              "      <td>Wish I could get some more!</td>\n",
              "    </tr>\n",
              "    <tr>\n",
              "      <th>summary</th>\n",
              "      <td>Five Stars</td>\n",
              "    </tr>\n",
              "    <tr>\n",
              "      <th>unixReviewTime</th>\n",
              "      <td>1409875200</td>\n",
              "    </tr>\n",
              "    <tr>\n",
              "      <th>category</th>\n",
              "      <td>All_Beauty</td>\n",
              "    </tr>\n",
              "    <tr>\n",
              "      <th>reviewToken</th>\n",
              "      <td>['wish', 'could', 'get']</td>\n",
              "    </tr>\n",
              "    <tr>\n",
              "      <th>preprocessedText</th>\n",
              "      <td>wish could get</td>\n",
              "    </tr>\n",
              "    <tr>\n",
              "      <th>tokenized_text</th>\n",
              "      <td>[wish, could, get]</td>\n",
              "    </tr>\n",
              "    <tr>\n",
              "      <th>misclassified_predictions</th>\n",
              "      <td>1.0</td>\n",
              "    </tr>\n",
              "    <tr>\n",
              "      <th>misclassified_rating</th>\n",
              "      <td>1.0</td>\n",
              "    </tr>\n",
              "  </tbody>\n",
              "</table>\n",
              "</div><br><label><b>dtype:</b> object</label>"
            ]
          },
          "metadata": {},
          "execution_count": 74
        }
      ]
    },
    {
      "cell_type": "code",
      "source": [
        "df_misclassified.iloc[31][\"reviewText\"]"
      ],
      "metadata": {
        "colab": {
          "base_uri": "https://localhost:8080/",
          "height": 35
        },
        "id": "mUNUhYMCCDGV",
        "outputId": "339bd594-e08c-433d-8d77-673770304ccb"
      },
      "execution_count": 75,
      "outputs": [
        {
          "output_type": "execute_result",
          "data": {
            "text/plain": [
              "'Wish I could get some more!'"
            ],
            "application/vnd.google.colaboratory.intrinsic+json": {
              "type": "string"
            }
          },
          "metadata": {},
          "execution_count": 75
        }
      ]
    },
    {
      "cell_type": "markdown",
      "source": [
        "This is an interesting case since we have the opposite behaviour of the model now predicting a high rated product with the lowest class of one star.\n",
        "This review text is easy to understand for a human but since we remove stopwords for model training it might be possible that the sentence ends up with only two words in \"Wish more!\". Based on an assumption like this a one star rating seems plausible."
      ],
      "metadata": {
        "id": "SGGoQH0qCO1J"
      }
    },
    {
      "cell_type": "markdown",
      "source": [
        "## Balancing optimizations"
      ],
      "metadata": {
        "id": "KwJvNsI_DU-X"
      }
    },
    {
      "cell_type": "code",
      "source": [
        "df[\"rating\"].value_counts()"
      ],
      "metadata": {
        "colab": {
          "base_uri": "https://localhost:8080/",
          "height": 272
        },
        "id": "J0KgHybBCM7f",
        "outputId": "ffc7706a-3bc8-4e1d-af27-bde73ddb5a89"
      },
      "execution_count": 77,
      "outputs": [
        {
          "output_type": "execute_result",
          "data": {
            "text/plain": [
              "rating\n",
              "5.0    8546\n",
              "4.0    1765\n",
              "3.0     904\n",
              "1.0     406\n",
              "2.0     379\n",
              "Name: count, dtype: int64"
            ],
            "text/html": [
              "<div>\n",
              "<style scoped>\n",
              "    .dataframe tbody tr th:only-of-type {\n",
              "        vertical-align: middle;\n",
              "    }\n",
              "\n",
              "    .dataframe tbody tr th {\n",
              "        vertical-align: top;\n",
              "    }\n",
              "\n",
              "    .dataframe thead th {\n",
              "        text-align: right;\n",
              "    }\n",
              "</style>\n",
              "<table border=\"1\" class=\"dataframe\">\n",
              "  <thead>\n",
              "    <tr style=\"text-align: right;\">\n",
              "      <th></th>\n",
              "      <th>count</th>\n",
              "    </tr>\n",
              "    <tr>\n",
              "      <th>rating</th>\n",
              "      <th></th>\n",
              "    </tr>\n",
              "  </thead>\n",
              "  <tbody>\n",
              "    <tr>\n",
              "      <th>5.0</th>\n",
              "      <td>8546</td>\n",
              "    </tr>\n",
              "    <tr>\n",
              "      <th>4.0</th>\n",
              "      <td>1765</td>\n",
              "    </tr>\n",
              "    <tr>\n",
              "      <th>3.0</th>\n",
              "      <td>904</td>\n",
              "    </tr>\n",
              "    <tr>\n",
              "      <th>1.0</th>\n",
              "      <td>406</td>\n",
              "    </tr>\n",
              "    <tr>\n",
              "      <th>2.0</th>\n",
              "      <td>379</td>\n",
              "    </tr>\n",
              "  </tbody>\n",
              "</table>\n",
              "</div><br><label><b>dtype:</b> int64</label>"
            ]
          },
          "metadata": {},
          "execution_count": 77
        }
      ]
    },
    {
      "cell_type": "markdown",
      "source": [
        "We have only 379 two star ratings as the least represented class. Therefore, we will take only 379 random samples from the other classes."
      ],
      "metadata": {
        "id": "frJVk71NG_f9"
      }
    },
    {
      "cell_type": "code",
      "source": [
        "df_rating_2 = df[df[\"rating\"] == 2]"
      ],
      "metadata": {
        "id": "vdKy4WM4G21V"
      },
      "execution_count": 82,
      "outputs": []
    },
    {
      "cell_type": "code",
      "source": [
        "df_rating_1 = df[df[\"rating\"] == 1].sample(n=379, random_state=42)\n",
        "df_rating_3 = df[df[\"rating\"] == 3].sample(n=379, random_state=42)\n",
        "df_rating_4 = df[df[\"rating\"] == 4].sample(n=379, random_state=42)\n",
        "df_rating_5 = df[df[\"rating\"] == 5].sample(n=379, random_state=42)"
      ],
      "metadata": {
        "id": "xggFIRNLHT0m"
      },
      "execution_count": 97,
      "outputs": []
    },
    {
      "cell_type": "code",
      "source": [
        "# Merge all dataframes\n",
        "df_balanced = pd.concat([df_rating_2, df_rating_1, df_rating_3, df_rating_4, df_rating_5])"
      ],
      "metadata": {
        "id": "0AMNafikHq-e"
      },
      "execution_count": 84,
      "outputs": []
    },
    {
      "cell_type": "code",
      "source": [
        "df_balanced.shape"
      ],
      "metadata": {
        "colab": {
          "base_uri": "https://localhost:8080/"
        },
        "id": "ACL6Sx4OHyA9",
        "outputId": "6b3e16d7-b72a-456b-8a90-c96e0b71cb7a"
      },
      "execution_count": 85,
      "outputs": [
        {
          "output_type": "execute_result",
          "data": {
            "text/plain": [
              "(1895, 10)"
            ]
          },
          "metadata": {},
          "execution_count": 85
        }
      ]
    },
    {
      "cell_type": "code",
      "source": [
        "df_balanced[\"rating\"].value_counts()"
      ],
      "metadata": {
        "colab": {
          "base_uri": "https://localhost:8080/",
          "height": 272
        },
        "id": "PlxkOAoeH0g4",
        "outputId": "bf745030-a008-42e5-be64-a2a93acd2b63"
      },
      "execution_count": 86,
      "outputs": [
        {
          "output_type": "execute_result",
          "data": {
            "text/plain": [
              "rating\n",
              "2.0    379\n",
              "1.0    379\n",
              "3.0    379\n",
              "4.0    379\n",
              "5.0    379\n",
              "Name: count, dtype: int64"
            ],
            "text/html": [
              "<div>\n",
              "<style scoped>\n",
              "    .dataframe tbody tr th:only-of-type {\n",
              "        vertical-align: middle;\n",
              "    }\n",
              "\n",
              "    .dataframe tbody tr th {\n",
              "        vertical-align: top;\n",
              "    }\n",
              "\n",
              "    .dataframe thead th {\n",
              "        text-align: right;\n",
              "    }\n",
              "</style>\n",
              "<table border=\"1\" class=\"dataframe\">\n",
              "  <thead>\n",
              "    <tr style=\"text-align: right;\">\n",
              "      <th></th>\n",
              "      <th>count</th>\n",
              "    </tr>\n",
              "    <tr>\n",
              "      <th>rating</th>\n",
              "      <th></th>\n",
              "    </tr>\n",
              "  </thead>\n",
              "  <tbody>\n",
              "    <tr>\n",
              "      <th>2.0</th>\n",
              "      <td>379</td>\n",
              "    </tr>\n",
              "    <tr>\n",
              "      <th>1.0</th>\n",
              "      <td>379</td>\n",
              "    </tr>\n",
              "    <tr>\n",
              "      <th>3.0</th>\n",
              "      <td>379</td>\n",
              "    </tr>\n",
              "    <tr>\n",
              "      <th>4.0</th>\n",
              "      <td>379</td>\n",
              "    </tr>\n",
              "    <tr>\n",
              "      <th>5.0</th>\n",
              "      <td>379</td>\n",
              "    </tr>\n",
              "  </tbody>\n",
              "</table>\n",
              "</div><br><label><b>dtype:</b> int64</label>"
            ]
          },
          "metadata": {},
          "execution_count": 86
        }
      ]
    },
    {
      "cell_type": "code",
      "source": [
        "df_balanced.head()"
      ],
      "metadata": {
        "colab": {
          "base_uri": "https://localhost:8080/",
          "height": 432
        },
        "id": "knRAmqLJIAXD",
        "outputId": "446cb698-ae97-4096-a6bf-f0be3ff35eb1"
      },
      "execution_count": 87,
      "outputs": [
        {
          "output_type": "execute_result",
          "data": {
            "text/plain": [
              "     rating  reviewTime      reviewerID  \\\n",
              "64      2.0  2015-10-25  A2R95Z7PTF5ZRO   \n",
              "95      2.0  2017-01-22  A2V5R832QCSOMX   \n",
              "121     2.0  2013-08-18  A3LT26VKSXZFQM   \n",
              "224     2.0  2017-06-25  A2ZJMLZ1IA2YA9   \n",
              "261     2.0  2015-08-15  A2PG8IVYXCKKGE   \n",
              "\n",
              "                                            reviewText  \\\n",
              "64   The XEN-TAN products are some of the priciest ...   \n",
              "95   UPDATE ON 8-28-17:  Since I first purchased th...   \n",
              "121  shows like I have put dried mustard in my hair...   \n",
              "224  I didn't realize when I request this that it i...   \n",
              "261  Size runs large.  I wear a woman's size 9, but...   \n",
              "\n",
              "                                          summary  unixReviewTime  \\\n",
              "64                           Not for everyone....      1445731200   \n",
              "95         Be careful if you have sensitive skin!      1485043200   \n",
              "121                     Can't get the hang of it.      1376784000   \n",
              "224       Dermablend Quick Fix Concealer  Natural      1498348800   \n",
              "261  Size runs large. I wear a woman's size 9 ...      1439596800   \n",
              "\n",
              "                       category  \\\n",
              "64                Luxury_Beauty   \n",
              "95                   All_Beauty   \n",
              "121               Luxury_Beauty   \n",
              "224               Luxury_Beauty   \n",
              "261  Clothing_Shoes_and_Jewelry   \n",
              "\n",
              "                                           reviewToken  \\\n",
              "64   ['xentan', 'product', 'priciest', 'market', 'y...   \n",
              "95   ['update', '82817', 'since', 'first', 'purchas...   \n",
              "121  ['show', 'like', 'put', 'dry', 'mustard', 'hai...   \n",
              "224  ['realize', 'request', 'oldschool', 'waxy', 'c...   \n",
              "261  ['size', 'run', 'large', 'wear', 'woman', 'siz...   \n",
              "\n",
              "                                      preprocessedText  \\\n",
              "64   xentan products priciest market yet im sure de...   \n",
              "95   update 82817 since first purchased ive getting...   \n",
              "121  shows like put dried mustard hair couple hours...   \n",
              "224  didnt realize request oldschool waxy concealer...   \n",
              "261     size runs large wear womans size 9 get 88and12   \n",
              "\n",
              "                                        tokenized_text  \n",
              "64   [xentan, products, priciest, market, yet, im, ...  \n",
              "95   [update, 82817, since, first, purchased, ive, ...  \n",
              "121  [shows, like, put, dried, mustard, hair, coupl...  \n",
              "224  [didnt, realize, request, oldschool, waxy, con...  \n",
              "261  [size, runs, large, wear, womans, size, 9, get...  "
            ],
            "text/html": [
              "\n",
              "  <div id=\"df-e4ef6980-1b61-4486-aecc-fb0ccff7f58a\" class=\"colab-df-container\">\n",
              "    <div>\n",
              "<style scoped>\n",
              "    .dataframe tbody tr th:only-of-type {\n",
              "        vertical-align: middle;\n",
              "    }\n",
              "\n",
              "    .dataframe tbody tr th {\n",
              "        vertical-align: top;\n",
              "    }\n",
              "\n",
              "    .dataframe thead th {\n",
              "        text-align: right;\n",
              "    }\n",
              "</style>\n",
              "<table border=\"1\" class=\"dataframe\">\n",
              "  <thead>\n",
              "    <tr style=\"text-align: right;\">\n",
              "      <th></th>\n",
              "      <th>rating</th>\n",
              "      <th>reviewTime</th>\n",
              "      <th>reviewerID</th>\n",
              "      <th>reviewText</th>\n",
              "      <th>summary</th>\n",
              "      <th>unixReviewTime</th>\n",
              "      <th>category</th>\n",
              "      <th>reviewToken</th>\n",
              "      <th>preprocessedText</th>\n",
              "      <th>tokenized_text</th>\n",
              "    </tr>\n",
              "  </thead>\n",
              "  <tbody>\n",
              "    <tr>\n",
              "      <th>64</th>\n",
              "      <td>2.0</td>\n",
              "      <td>2015-10-25</td>\n",
              "      <td>A2R95Z7PTF5ZRO</td>\n",
              "      <td>The XEN-TAN products are some of the priciest ...</td>\n",
              "      <td>Not for everyone....</td>\n",
              "      <td>1445731200</td>\n",
              "      <td>Luxury_Beauty</td>\n",
              "      <td>['xentan', 'product', 'priciest', 'market', 'y...</td>\n",
              "      <td>xentan products priciest market yet im sure de...</td>\n",
              "      <td>[xentan, products, priciest, market, yet, im, ...</td>\n",
              "    </tr>\n",
              "    <tr>\n",
              "      <th>95</th>\n",
              "      <td>2.0</td>\n",
              "      <td>2017-01-22</td>\n",
              "      <td>A2V5R832QCSOMX</td>\n",
              "      <td>UPDATE ON 8-28-17:  Since I first purchased th...</td>\n",
              "      <td>Be careful if you have sensitive skin!</td>\n",
              "      <td>1485043200</td>\n",
              "      <td>All_Beauty</td>\n",
              "      <td>['update', '82817', 'since', 'first', 'purchas...</td>\n",
              "      <td>update 82817 since first purchased ive getting...</td>\n",
              "      <td>[update, 82817, since, first, purchased, ive, ...</td>\n",
              "    </tr>\n",
              "    <tr>\n",
              "      <th>121</th>\n",
              "      <td>2.0</td>\n",
              "      <td>2013-08-18</td>\n",
              "      <td>A3LT26VKSXZFQM</td>\n",
              "      <td>shows like I have put dried mustard in my hair...</td>\n",
              "      <td>Can't get the hang of it.</td>\n",
              "      <td>1376784000</td>\n",
              "      <td>Luxury_Beauty</td>\n",
              "      <td>['show', 'like', 'put', 'dry', 'mustard', 'hai...</td>\n",
              "      <td>shows like put dried mustard hair couple hours...</td>\n",
              "      <td>[shows, like, put, dried, mustard, hair, coupl...</td>\n",
              "    </tr>\n",
              "    <tr>\n",
              "      <th>224</th>\n",
              "      <td>2.0</td>\n",
              "      <td>2017-06-25</td>\n",
              "      <td>A2ZJMLZ1IA2YA9</td>\n",
              "      <td>I didn't realize when I request this that it i...</td>\n",
              "      <td>Dermablend Quick Fix Concealer  Natural</td>\n",
              "      <td>1498348800</td>\n",
              "      <td>Luxury_Beauty</td>\n",
              "      <td>['realize', 'request', 'oldschool', 'waxy', 'c...</td>\n",
              "      <td>didnt realize request oldschool waxy concealer...</td>\n",
              "      <td>[didnt, realize, request, oldschool, waxy, con...</td>\n",
              "    </tr>\n",
              "    <tr>\n",
              "      <th>261</th>\n",
              "      <td>2.0</td>\n",
              "      <td>2015-08-15</td>\n",
              "      <td>A2PG8IVYXCKKGE</td>\n",
              "      <td>Size runs large.  I wear a woman's size 9, but...</td>\n",
              "      <td>Size runs large. I wear a woman's size 9 ...</td>\n",
              "      <td>1439596800</td>\n",
              "      <td>Clothing_Shoes_and_Jewelry</td>\n",
              "      <td>['size', 'run', 'large', 'wear', 'woman', 'siz...</td>\n",
              "      <td>size runs large wear womans size 9 get 88and12</td>\n",
              "      <td>[size, runs, large, wear, womans, size, 9, get...</td>\n",
              "    </tr>\n",
              "  </tbody>\n",
              "</table>\n",
              "</div>\n",
              "    <div class=\"colab-df-buttons\">\n",
              "\n",
              "  <div class=\"colab-df-container\">\n",
              "    <button class=\"colab-df-convert\" onclick=\"convertToInteractive('df-e4ef6980-1b61-4486-aecc-fb0ccff7f58a')\"\n",
              "            title=\"Convert this dataframe to an interactive table.\"\n",
              "            style=\"display:none;\">\n",
              "\n",
              "  <svg xmlns=\"http://www.w3.org/2000/svg\" height=\"24px\" viewBox=\"0 -960 960 960\">\n",
              "    <path d=\"M120-120v-720h720v720H120Zm60-500h600v-160H180v160Zm220 220h160v-160H400v160Zm0 220h160v-160H400v160ZM180-400h160v-160H180v160Zm440 0h160v-160H620v160ZM180-180h160v-160H180v160Zm440 0h160v-160H620v160Z\"/>\n",
              "  </svg>\n",
              "    </button>\n",
              "\n",
              "  <style>\n",
              "    .colab-df-container {\n",
              "      display:flex;\n",
              "      gap: 12px;\n",
              "    }\n",
              "\n",
              "    .colab-df-convert {\n",
              "      background-color: #E8F0FE;\n",
              "      border: none;\n",
              "      border-radius: 50%;\n",
              "      cursor: pointer;\n",
              "      display: none;\n",
              "      fill: #1967D2;\n",
              "      height: 32px;\n",
              "      padding: 0 0 0 0;\n",
              "      width: 32px;\n",
              "    }\n",
              "\n",
              "    .colab-df-convert:hover {\n",
              "      background-color: #E2EBFA;\n",
              "      box-shadow: 0px 1px 2px rgba(60, 64, 67, 0.3), 0px 1px 3px 1px rgba(60, 64, 67, 0.15);\n",
              "      fill: #174EA6;\n",
              "    }\n",
              "\n",
              "    .colab-df-buttons div {\n",
              "      margin-bottom: 4px;\n",
              "    }\n",
              "\n",
              "    [theme=dark] .colab-df-convert {\n",
              "      background-color: #3B4455;\n",
              "      fill: #D2E3FC;\n",
              "    }\n",
              "\n",
              "    [theme=dark] .colab-df-convert:hover {\n",
              "      background-color: #434B5C;\n",
              "      box-shadow: 0px 1px 3px 1px rgba(0, 0, 0, 0.15);\n",
              "      filter: drop-shadow(0px 1px 2px rgba(0, 0, 0, 0.3));\n",
              "      fill: #FFFFFF;\n",
              "    }\n",
              "  </style>\n",
              "\n",
              "    <script>\n",
              "      const buttonEl =\n",
              "        document.querySelector('#df-e4ef6980-1b61-4486-aecc-fb0ccff7f58a button.colab-df-convert');\n",
              "      buttonEl.style.display =\n",
              "        google.colab.kernel.accessAllowed ? 'block' : 'none';\n",
              "\n",
              "      async function convertToInteractive(key) {\n",
              "        const element = document.querySelector('#df-e4ef6980-1b61-4486-aecc-fb0ccff7f58a');\n",
              "        const dataTable =\n",
              "          await google.colab.kernel.invokeFunction('convertToInteractive',\n",
              "                                                    [key], {});\n",
              "        if (!dataTable) return;\n",
              "\n",
              "        const docLinkHtml = 'Like what you see? Visit the ' +\n",
              "          '<a target=\"_blank\" href=https://colab.research.google.com/notebooks/data_table.ipynb>data table notebook</a>'\n",
              "          + ' to learn more about interactive tables.';\n",
              "        element.innerHTML = '';\n",
              "        dataTable['output_type'] = 'display_data';\n",
              "        await google.colab.output.renderOutput(dataTable, element);\n",
              "        const docLink = document.createElement('div');\n",
              "        docLink.innerHTML = docLinkHtml;\n",
              "        element.appendChild(docLink);\n",
              "      }\n",
              "    </script>\n",
              "  </div>\n",
              "\n",
              "\n",
              "<div id=\"df-19e3f34e-ae02-456e-b48b-9bc38dc9ef5e\">\n",
              "  <button class=\"colab-df-quickchart\" onclick=\"quickchart('df-19e3f34e-ae02-456e-b48b-9bc38dc9ef5e')\"\n",
              "            title=\"Suggest charts\"\n",
              "            style=\"display:none;\">\n",
              "\n",
              "<svg xmlns=\"http://www.w3.org/2000/svg\" height=\"24px\"viewBox=\"0 0 24 24\"\n",
              "     width=\"24px\">\n",
              "    <g>\n",
              "        <path d=\"M19 3H5c-1.1 0-2 .9-2 2v14c0 1.1.9 2 2 2h14c1.1 0 2-.9 2-2V5c0-1.1-.9-2-2-2zM9 17H7v-7h2v7zm4 0h-2V7h2v10zm4 0h-2v-4h2v4z\"/>\n",
              "    </g>\n",
              "</svg>\n",
              "  </button>\n",
              "\n",
              "<style>\n",
              "  .colab-df-quickchart {\n",
              "      --bg-color: #E8F0FE;\n",
              "      --fill-color: #1967D2;\n",
              "      --hover-bg-color: #E2EBFA;\n",
              "      --hover-fill-color: #174EA6;\n",
              "      --disabled-fill-color: #AAA;\n",
              "      --disabled-bg-color: #DDD;\n",
              "  }\n",
              "\n",
              "  [theme=dark] .colab-df-quickchart {\n",
              "      --bg-color: #3B4455;\n",
              "      --fill-color: #D2E3FC;\n",
              "      --hover-bg-color: #434B5C;\n",
              "      --hover-fill-color: #FFFFFF;\n",
              "      --disabled-bg-color: #3B4455;\n",
              "      --disabled-fill-color: #666;\n",
              "  }\n",
              "\n",
              "  .colab-df-quickchart {\n",
              "    background-color: var(--bg-color);\n",
              "    border: none;\n",
              "    border-radius: 50%;\n",
              "    cursor: pointer;\n",
              "    display: none;\n",
              "    fill: var(--fill-color);\n",
              "    height: 32px;\n",
              "    padding: 0;\n",
              "    width: 32px;\n",
              "  }\n",
              "\n",
              "  .colab-df-quickchart:hover {\n",
              "    background-color: var(--hover-bg-color);\n",
              "    box-shadow: 0 1px 2px rgba(60, 64, 67, 0.3), 0 1px 3px 1px rgba(60, 64, 67, 0.15);\n",
              "    fill: var(--button-hover-fill-color);\n",
              "  }\n",
              "\n",
              "  .colab-df-quickchart-complete:disabled,\n",
              "  .colab-df-quickchart-complete:disabled:hover {\n",
              "    background-color: var(--disabled-bg-color);\n",
              "    fill: var(--disabled-fill-color);\n",
              "    box-shadow: none;\n",
              "  }\n",
              "\n",
              "  .colab-df-spinner {\n",
              "    border: 2px solid var(--fill-color);\n",
              "    border-color: transparent;\n",
              "    border-bottom-color: var(--fill-color);\n",
              "    animation:\n",
              "      spin 1s steps(1) infinite;\n",
              "  }\n",
              "\n",
              "  @keyframes spin {\n",
              "    0% {\n",
              "      border-color: transparent;\n",
              "      border-bottom-color: var(--fill-color);\n",
              "      border-left-color: var(--fill-color);\n",
              "    }\n",
              "    20% {\n",
              "      border-color: transparent;\n",
              "      border-left-color: var(--fill-color);\n",
              "      border-top-color: var(--fill-color);\n",
              "    }\n",
              "    30% {\n",
              "      border-color: transparent;\n",
              "      border-left-color: var(--fill-color);\n",
              "      border-top-color: var(--fill-color);\n",
              "      border-right-color: var(--fill-color);\n",
              "    }\n",
              "    40% {\n",
              "      border-color: transparent;\n",
              "      border-right-color: var(--fill-color);\n",
              "      border-top-color: var(--fill-color);\n",
              "    }\n",
              "    60% {\n",
              "      border-color: transparent;\n",
              "      border-right-color: var(--fill-color);\n",
              "    }\n",
              "    80% {\n",
              "      border-color: transparent;\n",
              "      border-right-color: var(--fill-color);\n",
              "      border-bottom-color: var(--fill-color);\n",
              "    }\n",
              "    90% {\n",
              "      border-color: transparent;\n",
              "      border-bottom-color: var(--fill-color);\n",
              "    }\n",
              "  }\n",
              "</style>\n",
              "\n",
              "  <script>\n",
              "    async function quickchart(key) {\n",
              "      const quickchartButtonEl =\n",
              "        document.querySelector('#' + key + ' button');\n",
              "      quickchartButtonEl.disabled = true;  // To prevent multiple clicks.\n",
              "      quickchartButtonEl.classList.add('colab-df-spinner');\n",
              "      try {\n",
              "        const charts = await google.colab.kernel.invokeFunction(\n",
              "            'suggestCharts', [key], {});\n",
              "      } catch (error) {\n",
              "        console.error('Error during call to suggestCharts:', error);\n",
              "      }\n",
              "      quickchartButtonEl.classList.remove('colab-df-spinner');\n",
              "      quickchartButtonEl.classList.add('colab-df-quickchart-complete');\n",
              "    }\n",
              "    (() => {\n",
              "      let quickchartButtonEl =\n",
              "        document.querySelector('#df-19e3f34e-ae02-456e-b48b-9bc38dc9ef5e button');\n",
              "      quickchartButtonEl.style.display =\n",
              "        google.colab.kernel.accessAllowed ? 'block' : 'none';\n",
              "    })();\n",
              "  </script>\n",
              "</div>\n",
              "\n",
              "    </div>\n",
              "  </div>\n"
            ],
            "application/vnd.google.colaboratory.intrinsic+json": {
              "type": "dataframe",
              "variable_name": "df_balanced",
              "repr_error": "0"
            }
          },
          "metadata": {},
          "execution_count": 87
        }
      ]
    },
    {
      "cell_type": "code",
      "source": [
        "# TF-IDF Vectorization\n",
        "tfidf = TfidfVectorizer(max_features=100)\n",
        "X_tfidf_balanced = tfidf.fit_transform(df_balanced['preprocessedText']).toarray()\n",
        "\n",
        "# Word2Vec Embeddings\n",
        "w2v_model = Word2Vec(sentences=df_balanced['tokenized_text'], vector_size=100, window=5, min_count=1, workers=4)\n",
        "\n",
        "X_w2v_balanced = np.array([get_sentence_embedding(word_list) for word_list in df_balanced['tokenized_text']])"
      ],
      "metadata": {
        "id": "5Wmn_ST8IM1L"
      },
      "execution_count": 90,
      "outputs": []
    },
    {
      "cell_type": "code",
      "source": [
        "X_combined_balanced = np.hstack((X_tfidf_balanced, X_w2v_balanced))\n",
        "y_balanced = df_balanced['rating']\n",
        "\n",
        "X_train, X_test, y_train, y_test = train_test_split(X_combined_balanced, y_balanced, test_size=0.2, random_state=42)\n",
        "\n",
        "wandb_project_name = \"DOPP analysis\"\n",
        "wandb_run_name = \"rf_balanced\"\n",
        "\n",
        "rf_config = {\n",
        "    \"n_estimators\": 200,\n",
        "    \"max_depth\": None,\n",
        "    \"random_state\": 42,\n",
        "    \"test_size\": 0.2,\n",
        "    \"dataset\": \"Balanced-Combined\"\n",
        "}\n",
        "\n",
        "\n",
        "wandb.init(\n",
        "    project=wandb_project_name,\n",
        "    name=wandb_run_name,\n",
        "    config=rf_config\n",
        ")\n",
        "\n",
        "\n",
        "start_time = time.time()\n",
        "\n",
        "rf_model = RandomForestClassifier(\n",
        "    n_estimators=rf_config[\"n_estimators\"],\n",
        "    max_depth=rf_config[\"max_depth\"],\n",
        "    random_state=rf_config[\"random_state\"]\n",
        ")\n",
        "rf_model.fit(X_train, y_train)\n",
        "\n",
        "y_pred_rf = rf_model.predict(X_test)\n",
        "end_time = time.time()\n",
        "execution_time = end_time - start_time\n",
        "\n",
        "f1Score = f1_score(y_test, y_pred_rf, average='macro')\n",
        "precision = precision_score(y_test, y_pred_rf, average='macro')\n",
        "recall = recall_score(y_test, y_pred_rf, average='macro')\n",
        "\n",
        "# Log metrics to W&B\n",
        "wandb.log({\n",
        "    \"Execution Time\": execution_time,\n",
        "    \"F1 Score\": f1Score,\n",
        "    \"Precision Score\": precision,\n",
        "    \"Recall Score\": recall\n",
        "})\n",
        "\n",
        "print(\"Execution Time:\", execution_time, \"seconds\")\n",
        "print(\"Precision Score:\", precision)\n",
        "print(\"Recall Score:\", recall)\n",
        "print(\"F1 Score:\", f1Score, \"\\n\")\n",
        "print(classification_report(y_test, y_pred_rf))\n",
        "\n",
        "# [optional] finish the wandb run, necessary in notebooks\n",
        "wandb.finish()"
      ],
      "metadata": {
        "colab": {
          "base_uri": "https://localhost:8080/",
          "height": 839
        },
        "id": "9FXZKb2HI8Wa",
        "outputId": "0e765595-777e-4890-afc8-0f4bf8df77c9"
      },
      "execution_count": 102,
      "outputs": [
        {
          "output_type": "display_data",
          "data": {
            "text/plain": [
              "<IPython.core.display.HTML object>"
            ],
            "text/html": [
              "Tracking run with wandb version 0.19.1"
            ]
          },
          "metadata": {}
        },
        {
          "output_type": "display_data",
          "data": {
            "text/plain": [
              "<IPython.core.display.HTML object>"
            ],
            "text/html": [
              "Run data is saved locally in <code>/content/wandb/run-20250113_150614-icjaqtvw</code>"
            ]
          },
          "metadata": {}
        },
        {
          "output_type": "display_data",
          "data": {
            "text/plain": [
              "<IPython.core.display.HTML object>"
            ],
            "text/html": [
              "Syncing run <strong><a href='https://wandb.ai/l-beccard-tu-wien/DOPP%20analysis/runs/icjaqtvw' target=\"_blank\">rf_balanced</a></strong> to <a href='https://wandb.ai/l-beccard-tu-wien/DOPP%20analysis' target=\"_blank\">Weights & Biases</a> (<a href='https://wandb.me/developer-guide' target=\"_blank\">docs</a>)<br>"
            ]
          },
          "metadata": {}
        },
        {
          "output_type": "display_data",
          "data": {
            "text/plain": [
              "<IPython.core.display.HTML object>"
            ],
            "text/html": [
              " View project at <a href='https://wandb.ai/l-beccard-tu-wien/DOPP%20analysis' target=\"_blank\">https://wandb.ai/l-beccard-tu-wien/DOPP%20analysis</a>"
            ]
          },
          "metadata": {}
        },
        {
          "output_type": "display_data",
          "data": {
            "text/plain": [
              "<IPython.core.display.HTML object>"
            ],
            "text/html": [
              " View run at <a href='https://wandb.ai/l-beccard-tu-wien/DOPP%20analysis/runs/icjaqtvw' target=\"_blank\">https://wandb.ai/l-beccard-tu-wien/DOPP%20analysis/runs/icjaqtvw</a>"
            ]
          },
          "metadata": {}
        },
        {
          "output_type": "stream",
          "name": "stdout",
          "text": [
            "Execution Time: 9.131192684173584 seconds\n",
            "Precision Score: 0.5283233481866831\n",
            "Recall Score: 0.5245834165834166\n",
            "F1 Score: 0.5241172288691164 \n",
            "\n",
            "              precision    recall  f1-score   support\n",
            "\n",
            "         1.0       0.60      0.62      0.61        78\n",
            "         2.0       0.58      0.47      0.52        77\n",
            "         3.0       0.52      0.61      0.56        75\n",
            "         4.0       0.40      0.43      0.41        75\n",
            "         5.0       0.54      0.50      0.52        74\n",
            "\n",
            "    accuracy                           0.53       379\n",
            "   macro avg       0.53      0.52      0.52       379\n",
            "weighted avg       0.53      0.53      0.52       379\n",
            "\n"
          ]
        },
        {
          "output_type": "display_data",
          "data": {
            "text/plain": [
              "<IPython.core.display.HTML object>"
            ],
            "text/html": []
          },
          "metadata": {}
        },
        {
          "output_type": "display_data",
          "data": {
            "text/plain": [
              "<IPython.core.display.HTML object>"
            ],
            "text/html": [
              "<br>    <style><br>        .wandb-row {<br>            display: flex;<br>            flex-direction: row;<br>            flex-wrap: wrap;<br>            justify-content: flex-start;<br>            width: 100%;<br>        }<br>        .wandb-col {<br>            display: flex;<br>            flex-direction: column;<br>            flex-basis: 100%;<br>            flex: 1;<br>            padding: 10px;<br>        }<br>    </style><br><div class=\"wandb-row\"><div class=\"wandb-col\"><h3>Run history:</h3><br/><table class=\"wandb\"><tr><td>Execution Time</td><td>▁</td></tr><tr><td>F1 Score</td><td>▁</td></tr><tr><td>Precision Score</td><td>▁</td></tr><tr><td>Recall Score</td><td>▁</td></tr></table><br/></div><div class=\"wandb-col\"><h3>Run summary:</h3><br/><table class=\"wandb\"><tr><td>Execution Time</td><td>9.13119</td></tr><tr><td>F1 Score</td><td>0.52412</td></tr><tr><td>Precision Score</td><td>0.52832</td></tr><tr><td>Recall Score</td><td>0.52458</td></tr></table><br/></div></div>"
            ]
          },
          "metadata": {}
        },
        {
          "output_type": "display_data",
          "data": {
            "text/plain": [
              "<IPython.core.display.HTML object>"
            ],
            "text/html": [
              " View run <strong style=\"color:#cdcd00\">rf_balanced</strong> at: <a href='https://wandb.ai/l-beccard-tu-wien/DOPP%20analysis/runs/icjaqtvw' target=\"_blank\">https://wandb.ai/l-beccard-tu-wien/DOPP%20analysis/runs/icjaqtvw</a><br> View project at: <a href='https://wandb.ai/l-beccard-tu-wien/DOPP%20analysis' target=\"_blank\">https://wandb.ai/l-beccard-tu-wien/DOPP%20analysis</a><br>Synced 5 W&B file(s), 0 media file(s), 0 artifact file(s) and 0 other file(s)"
            ]
          },
          "metadata": {}
        },
        {
          "output_type": "display_data",
          "data": {
            "text/plain": [
              "<IPython.core.display.HTML object>"
            ],
            "text/html": [
              "Find logs at: <code>./wandb/run-20250113_150614-icjaqtvw/logs</code>"
            ]
          },
          "metadata": {}
        }
      ]
    },
    {
      "cell_type": "code",
      "source": [
        "X_combined_balanced = np.hstack((X_tfidf_balanced, X_w2v_balanced))\n",
        "y_balanced = df_balanced['rating']\n",
        "\n",
        "X_train, X_test, y_train, y_test = train_test_split(X_combined_balanced, y_balanced, test_size=0.2, random_state=42)\n",
        "\n",
        "svc_config = {\n",
        "    \"random_state\": 42,\n",
        "    \"test_size\": 0.2,\n",
        "    \"max_iter\": 1000,\n",
        "    \"penalty\": \"l2\",\n",
        "    \"dataset\": \"Balanced-Combined\"\n",
        "}\n",
        "\n",
        "wandb_project_name = \"DOPP analysis\"\n",
        "\n",
        "wandb.init(\n",
        "    project=wandb_project_name,\n",
        "    name=\"svc_balanced\",\n",
        "    config=svc_config\n",
        ")\n",
        "\n",
        "start_time = time.time()\n",
        "\n",
        "linear_svc_model = LinearSVC(random_state=svc_config[\"random_state\"], penalty=svc_config[\"penalty\"])\n",
        "linear_svc_model.fit(X_train, y_train)\n",
        "\n",
        "y_pred_svc = linear_svc_model.predict(X_test)\n",
        "end_time = time.time()\n",
        "execution_time = end_time - start_time\n",
        "\n",
        "f1Score = f1_score(y_test, y_pred_svc, average='macro')\n",
        "precision = precision_score(y_test, y_pred_svc, average='macro')\n",
        "recall = recall_score(y_test, y_pred_svc, average='macro')\n",
        "\n",
        "wandb.log({\n",
        "    \"Execution Time\": execution_time,\n",
        "    \"F1 Score\": f1Score,\n",
        "    \"Precision Score\": precision,\n",
        "    \"Recall Score\": recall\n",
        "})\n",
        "\n",
        "print(\"Execution Time:\", execution_time, \"seconds\")\n",
        "print(\"Precision Score:\", precision)\n",
        "print(\"Recall Score:\", recall)\n",
        "print(\"F1 Score:\", f1Score, \"\\n\")\n",
        "print(classification_report(y_test, y_pred_svc))\n",
        "\n",
        "wandb.finish()"
      ],
      "metadata": {
        "colab": {
          "base_uri": "https://localhost:8080/",
          "height": 839
        },
        "id": "QgkPQQrsJKxE",
        "outputId": "ce07dd01-d791-4fcd-d81b-ecc86f16920b"
      },
      "execution_count": 95,
      "outputs": [
        {
          "output_type": "display_data",
          "data": {
            "text/plain": [
              "<IPython.core.display.HTML object>"
            ],
            "text/html": [
              "Tracking run with wandb version 0.19.1"
            ]
          },
          "metadata": {}
        },
        {
          "output_type": "display_data",
          "data": {
            "text/plain": [
              "<IPython.core.display.HTML object>"
            ],
            "text/html": [
              "Run data is saved locally in <code>/content/wandb/run-20250113_145502-cdv79062</code>"
            ]
          },
          "metadata": {}
        },
        {
          "output_type": "display_data",
          "data": {
            "text/plain": [
              "<IPython.core.display.HTML object>"
            ],
            "text/html": [
              "Syncing run <strong><a href='https://wandb.ai/l-beccard-tu-wien/DOPP%20analysis/runs/cdv79062' target=\"_blank\">svc_balanced</a></strong> to <a href='https://wandb.ai/l-beccard-tu-wien/DOPP%20analysis' target=\"_blank\">Weights & Biases</a> (<a href='https://wandb.me/developer-guide' target=\"_blank\">docs</a>)<br>"
            ]
          },
          "metadata": {}
        },
        {
          "output_type": "display_data",
          "data": {
            "text/plain": [
              "<IPython.core.display.HTML object>"
            ],
            "text/html": [
              " View project at <a href='https://wandb.ai/l-beccard-tu-wien/DOPP%20analysis' target=\"_blank\">https://wandb.ai/l-beccard-tu-wien/DOPP%20analysis</a>"
            ]
          },
          "metadata": {}
        },
        {
          "output_type": "display_data",
          "data": {
            "text/plain": [
              "<IPython.core.display.HTML object>"
            ],
            "text/html": [
              " View run at <a href='https://wandb.ai/l-beccard-tu-wien/DOPP%20analysis/runs/cdv79062' target=\"_blank\">https://wandb.ai/l-beccard-tu-wien/DOPP%20analysis/runs/cdv79062</a>"
            ]
          },
          "metadata": {}
        },
        {
          "output_type": "stream",
          "name": "stdout",
          "text": [
            "Execution Time: 0.1198265552520752 seconds\n",
            "Precision Score: 0.4353986342116287\n",
            "Recall Score: 0.4369243369243369\n",
            "F1 Score: 0.4327628734877484 \n",
            "\n",
            "              precision    recall  f1-score   support\n",
            "\n",
            "         1.0       0.46      0.58      0.51        78\n",
            "         2.0       0.41      0.45      0.43        77\n",
            "         3.0       0.42      0.36      0.39        75\n",
            "         4.0       0.41      0.31      0.35        75\n",
            "         5.0       0.48      0.49      0.48        74\n",
            "\n",
            "    accuracy                           0.44       379\n",
            "   macro avg       0.44      0.44      0.43       379\n",
            "weighted avg       0.44      0.44      0.43       379\n",
            "\n"
          ]
        },
        {
          "output_type": "display_data",
          "data": {
            "text/plain": [
              "<IPython.core.display.HTML object>"
            ],
            "text/html": []
          },
          "metadata": {}
        },
        {
          "output_type": "display_data",
          "data": {
            "text/plain": [
              "<IPython.core.display.HTML object>"
            ],
            "text/html": [
              "<br>    <style><br>        .wandb-row {<br>            display: flex;<br>            flex-direction: row;<br>            flex-wrap: wrap;<br>            justify-content: flex-start;<br>            width: 100%;<br>        }<br>        .wandb-col {<br>            display: flex;<br>            flex-direction: column;<br>            flex-basis: 100%;<br>            flex: 1;<br>            padding: 10px;<br>        }<br>    </style><br><div class=\"wandb-row\"><div class=\"wandb-col\"><h3>Run history:</h3><br/><table class=\"wandb\"><tr><td>Execution Time</td><td>▁</td></tr><tr><td>F1 Score</td><td>▁</td></tr><tr><td>Precision Score</td><td>▁</td></tr><tr><td>Recall Score</td><td>▁</td></tr></table><br/></div><div class=\"wandb-col\"><h3>Run summary:</h3><br/><table class=\"wandb\"><tr><td>Execution Time</td><td>0.11983</td></tr><tr><td>F1 Score</td><td>0.43276</td></tr><tr><td>Precision Score</td><td>0.4354</td></tr><tr><td>Recall Score</td><td>0.43692</td></tr></table><br/></div></div>"
            ]
          },
          "metadata": {}
        },
        {
          "output_type": "display_data",
          "data": {
            "text/plain": [
              "<IPython.core.display.HTML object>"
            ],
            "text/html": [
              " View run <strong style=\"color:#cdcd00\">svc_balanced</strong> at: <a href='https://wandb.ai/l-beccard-tu-wien/DOPP%20analysis/runs/cdv79062' target=\"_blank\">https://wandb.ai/l-beccard-tu-wien/DOPP%20analysis/runs/cdv79062</a><br> View project at: <a href='https://wandb.ai/l-beccard-tu-wien/DOPP%20analysis' target=\"_blank\">https://wandb.ai/l-beccard-tu-wien/DOPP%20analysis</a><br>Synced 5 W&B file(s), 0 media file(s), 0 artifact file(s) and 0 other file(s)"
            ]
          },
          "metadata": {}
        },
        {
          "output_type": "display_data",
          "data": {
            "text/plain": [
              "<IPython.core.display.HTML object>"
            ],
            "text/html": [
              "Find logs at: <code>./wandb/run-20250113_145502-cdv79062/logs</code>"
            ]
          },
          "metadata": {}
        }
      ]
    },
    {
      "cell_type": "markdown",
      "source": [
        "By the metrices, we can observe that the random forest model does not improve, whereas the svc model trained with a balanced dataset results in the best performances of every svc model run so far. The random forest outperforms the svc model in every metric though."
      ],
      "metadata": {
        "id": "MVa1m6jpKuEr"
      }
    },
    {
      "cell_type": "markdown",
      "source": [
        "## Oversampling\n",
        "In our next approach, we target the sample count of 1765, which is the count of class 4. Therefore, we have to oversample classes 1 to 3 and undersample the majority class 5.\n",
        "\n",
        "## TODO\n",
        "Fix data leakage creating a test set first and then doing TFIDF/Word2Vec transformation."
      ],
      "metadata": {
        "id": "ulrAwvxgLEI3"
      }
    },
    {
      "cell_type": "code",
      "source": [
        "df_rating_4 = df[df[\"rating\"] == 4]\n",
        "df_rating_1 = df[df[\"rating\"] == 1].sample(n=1765, random_state=42, replace=True)\n",
        "df_rating_2 = df[df[\"rating\"] == 2].sample(n=1765, random_state=42, replace=True)\n",
        "df_rating_3 = df[df[\"rating\"] == 3].sample(n=1765, random_state=42, replace=True)\n",
        "df_rating_5 = df[df[\"rating\"] == 5].sample(n=1765, random_state=42)"
      ],
      "metadata": {
        "id": "Z7pFqKqqLFeB"
      },
      "execution_count": 98,
      "outputs": []
    },
    {
      "cell_type": "code",
      "source": [
        "df_oversampled = pd.concat([df_rating_2, df_rating_1, df_rating_3, df_rating_4, df_rating_5])"
      ],
      "metadata": {
        "id": "zK23vWNjMcnE"
      },
      "execution_count": 99,
      "outputs": []
    },
    {
      "cell_type": "code",
      "source": [
        "df_oversampled[\"rating\"].value_counts()"
      ],
      "metadata": {
        "colab": {
          "base_uri": "https://localhost:8080/",
          "height": 272
        },
        "id": "eMjNrxfLMnta",
        "outputId": "92eb63e1-c73d-43bd-fa67-847ad9c6cdb4"
      },
      "execution_count": 100,
      "outputs": [
        {
          "output_type": "execute_result",
          "data": {
            "text/plain": [
              "rating\n",
              "2.0    1765\n",
              "1.0    1765\n",
              "3.0    1765\n",
              "4.0    1765\n",
              "5.0    1765\n",
              "Name: count, dtype: int64"
            ],
            "text/html": [
              "<div>\n",
              "<style scoped>\n",
              "    .dataframe tbody tr th:only-of-type {\n",
              "        vertical-align: middle;\n",
              "    }\n",
              "\n",
              "    .dataframe tbody tr th {\n",
              "        vertical-align: top;\n",
              "    }\n",
              "\n",
              "    .dataframe thead th {\n",
              "        text-align: right;\n",
              "    }\n",
              "</style>\n",
              "<table border=\"1\" class=\"dataframe\">\n",
              "  <thead>\n",
              "    <tr style=\"text-align: right;\">\n",
              "      <th></th>\n",
              "      <th>count</th>\n",
              "    </tr>\n",
              "    <tr>\n",
              "      <th>rating</th>\n",
              "      <th></th>\n",
              "    </tr>\n",
              "  </thead>\n",
              "  <tbody>\n",
              "    <tr>\n",
              "      <th>2.0</th>\n",
              "      <td>1765</td>\n",
              "    </tr>\n",
              "    <tr>\n",
              "      <th>1.0</th>\n",
              "      <td>1765</td>\n",
              "    </tr>\n",
              "    <tr>\n",
              "      <th>3.0</th>\n",
              "      <td>1765</td>\n",
              "    </tr>\n",
              "    <tr>\n",
              "      <th>4.0</th>\n",
              "      <td>1765</td>\n",
              "    </tr>\n",
              "    <tr>\n",
              "      <th>5.0</th>\n",
              "      <td>1765</td>\n",
              "    </tr>\n",
              "  </tbody>\n",
              "</table>\n",
              "</div><br><label><b>dtype:</b> int64</label>"
            ]
          },
          "metadata": {},
          "execution_count": 100
        }
      ]
    },
    {
      "cell_type": "code",
      "source": [
        "# TF-IDF Vectorization\n",
        "tfidf = TfidfVectorizer(max_features=100)\n",
        "X_tfidf_oversampled = tfidf.fit_transform(df_oversampled['preprocessedText']).toarray()\n",
        "\n",
        "# Word2Vec Embeddings\n",
        "w2v_model = Word2Vec(sentences=df_oversampled['tokenized_text'], vector_size=100, window=5, min_count=1, workers=4)\n",
        "\n",
        "X_w2v_oversampled = np.array([get_sentence_embedding(word_list) for word_list in df_oversampled['tokenized_text']])"
      ],
      "metadata": {
        "id": "sEj2tTbgMrcB"
      },
      "execution_count": 101,
      "outputs": []
    },
    {
      "cell_type": "code",
      "source": [
        "X_combined_oversampled = np.hstack((X_tfidf_oversampled, X_w2v_oversampled))\n",
        "y_oversampled = df_oversampled['rating']\n",
        "\n",
        "X_train, X_test, y_train, y_test = train_test_split(X_combined_oversampled, y_oversampled, test_size=0.2, random_state=42)\n",
        "\n",
        "wandb_project_name = \"DOPP analysis\"\n",
        "wandb_run_name = \"rf_oversampled\"\n",
        "\n",
        "rf_config = {\n",
        "    \"n_estimators\": 200,\n",
        "    \"max_depth\": None,\n",
        "    \"random_state\": 42,\n",
        "    \"test_size\": 0.2,\n",
        "    \"dataset\": \"Oversampled-Combined\"\n",
        "}\n",
        "\n",
        "\n",
        "wandb.init(\n",
        "    project=wandb_project_name,\n",
        "    name=wandb_run_name,\n",
        "    config=rf_config\n",
        ")\n",
        "\n",
        "\n",
        "start_time = time.time()\n",
        "\n",
        "rf_model = RandomForestClassifier(\n",
        "    n_estimators=rf_config[\"n_estimators\"],\n",
        "    max_depth=rf_config[\"max_depth\"],\n",
        "    random_state=rf_config[\"random_state\"]\n",
        ")\n",
        "rf_model.fit(X_train, y_train)\n",
        "\n",
        "y_pred_rf = rf_model.predict(X_test)\n",
        "end_time = time.time()\n",
        "execution_time = end_time - start_time\n",
        "\n",
        "f1Score = f1_score(y_test, y_pred_rf, average='macro')\n",
        "precision = precision_score(y_test, y_pred_rf, average='macro')\n",
        "recall = recall_score(y_test, y_pred_rf, average='macro')\n",
        "\n",
        "# Log metrics to W&B\n",
        "wandb.log({\n",
        "    \"Execution Time\": execution_time,\n",
        "    \"F1 Score\": f1Score,\n",
        "    \"Precision Score\": precision,\n",
        "    \"Recall Score\": recall\n",
        "})\n",
        "\n",
        "print(\"Execution Time:\", execution_time, \"seconds\")\n",
        "print(\"Precision Score:\", precision)\n",
        "print(\"Recall Score:\", recall)\n",
        "print(\"F1 Score:\", f1Score, \"\\n\")\n",
        "print(classification_report(y_test, y_pred_rf))\n",
        "\n",
        "# [optional] finish the wandb run, necessary in notebooks\n",
        "wandb.finish()"
      ],
      "metadata": {
        "colab": {
          "base_uri": "https://localhost:8080/",
          "height": 839
        },
        "id": "OP2oVuroM0J5",
        "outputId": "6c654956-cb81-4310-cf87-304cdfb7597b"
      },
      "execution_count": 103,
      "outputs": [
        {
          "output_type": "display_data",
          "data": {
            "text/plain": [
              "<IPython.core.display.HTML object>"
            ],
            "text/html": [
              "Tracking run with wandb version 0.19.1"
            ]
          },
          "metadata": {}
        },
        {
          "output_type": "display_data",
          "data": {
            "text/plain": [
              "<IPython.core.display.HTML object>"
            ],
            "text/html": [
              "Run data is saved locally in <code>/content/wandb/run-20250113_150705-mha7wmcw</code>"
            ]
          },
          "metadata": {}
        },
        {
          "output_type": "display_data",
          "data": {
            "text/plain": [
              "<IPython.core.display.HTML object>"
            ],
            "text/html": [
              "Syncing run <strong><a href='https://wandb.ai/l-beccard-tu-wien/DOPP%20analysis/runs/mha7wmcw' target=\"_blank\">rf_oversampled</a></strong> to <a href='https://wandb.ai/l-beccard-tu-wien/DOPP%20analysis' target=\"_blank\">Weights & Biases</a> (<a href='https://wandb.me/developer-guide' target=\"_blank\">docs</a>)<br>"
            ]
          },
          "metadata": {}
        },
        {
          "output_type": "display_data",
          "data": {
            "text/plain": [
              "<IPython.core.display.HTML object>"
            ],
            "text/html": [
              " View project at <a href='https://wandb.ai/l-beccard-tu-wien/DOPP%20analysis' target=\"_blank\">https://wandb.ai/l-beccard-tu-wien/DOPP%20analysis</a>"
            ]
          },
          "metadata": {}
        },
        {
          "output_type": "display_data",
          "data": {
            "text/plain": [
              "<IPython.core.display.HTML object>"
            ],
            "text/html": [
              " View run at <a href='https://wandb.ai/l-beccard-tu-wien/DOPP%20analysis/runs/mha7wmcw' target=\"_blank\">https://wandb.ai/l-beccard-tu-wien/DOPP%20analysis/runs/mha7wmcw</a>"
            ]
          },
          "metadata": {}
        },
        {
          "output_type": "stream",
          "name": "stdout",
          "text": [
            "Execution Time: 21.750843048095703 seconds\n",
            "Precision Score: 0.8664517420516858\n",
            "Recall Score: 0.8654219383813275\n",
            "F1 Score: 0.8656000188491205 \n",
            "\n",
            "              precision    recall  f1-score   support\n",
            "\n",
            "         1.0       0.97      0.97      0.97       327\n",
            "         2.0       0.98      0.98      0.98       381\n",
            "         3.0       0.93      0.91      0.92       368\n",
            "         4.0       0.70      0.75      0.72       347\n",
            "         5.0       0.76      0.72      0.74       342\n",
            "\n",
            "    accuracy                           0.87      1765\n",
            "   macro avg       0.87      0.87      0.87      1765\n",
            "weighted avg       0.87      0.87      0.87      1765\n",
            "\n"
          ]
        },
        {
          "output_type": "display_data",
          "data": {
            "text/plain": [
              "<IPython.core.display.HTML object>"
            ],
            "text/html": []
          },
          "metadata": {}
        },
        {
          "output_type": "display_data",
          "data": {
            "text/plain": [
              "<IPython.core.display.HTML object>"
            ],
            "text/html": [
              "<br>    <style><br>        .wandb-row {<br>            display: flex;<br>            flex-direction: row;<br>            flex-wrap: wrap;<br>            justify-content: flex-start;<br>            width: 100%;<br>        }<br>        .wandb-col {<br>            display: flex;<br>            flex-direction: column;<br>            flex-basis: 100%;<br>            flex: 1;<br>            padding: 10px;<br>        }<br>    </style><br><div class=\"wandb-row\"><div class=\"wandb-col\"><h3>Run history:</h3><br/><table class=\"wandb\"><tr><td>Execution Time</td><td>▁</td></tr><tr><td>F1 Score</td><td>▁</td></tr><tr><td>Precision Score</td><td>▁</td></tr><tr><td>Recall Score</td><td>▁</td></tr></table><br/></div><div class=\"wandb-col\"><h3>Run summary:</h3><br/><table class=\"wandb\"><tr><td>Execution Time</td><td>21.75084</td></tr><tr><td>F1 Score</td><td>0.8656</td></tr><tr><td>Precision Score</td><td>0.86645</td></tr><tr><td>Recall Score</td><td>0.86542</td></tr></table><br/></div></div>"
            ]
          },
          "metadata": {}
        },
        {
          "output_type": "display_data",
          "data": {
            "text/plain": [
              "<IPython.core.display.HTML object>"
            ],
            "text/html": [
              " View run <strong style=\"color:#cdcd00\">rf_oversampled</strong> at: <a href='https://wandb.ai/l-beccard-tu-wien/DOPP%20analysis/runs/mha7wmcw' target=\"_blank\">https://wandb.ai/l-beccard-tu-wien/DOPP%20analysis/runs/mha7wmcw</a><br> View project at: <a href='https://wandb.ai/l-beccard-tu-wien/DOPP%20analysis' target=\"_blank\">https://wandb.ai/l-beccard-tu-wien/DOPP%20analysis</a><br>Synced 5 W&B file(s), 0 media file(s), 0 artifact file(s) and 0 other file(s)"
            ]
          },
          "metadata": {}
        },
        {
          "output_type": "display_data",
          "data": {
            "text/plain": [
              "<IPython.core.display.HTML object>"
            ],
            "text/html": [
              "Find logs at: <code>./wandb/run-20250113_150705-mha7wmcw/logs</code>"
            ]
          },
          "metadata": {}
        }
      ]
    },
    {
      "cell_type": "code",
      "source": [
        "X_combined_oversampled = np.hstack((X_tfidf_oversampled, X_w2v_oversampled))\n",
        "y_oversampled = df_oversampled['rating']\n",
        "\n",
        "X_train, X_test, y_train, y_test = train_test_split(X_combined_oversampled, y_oversampled, test_size=0.2, random_state=42)\n",
        "\n",
        "svc_config = {\n",
        "    \"random_state\": 42,\n",
        "    \"test_size\": 0.2,\n",
        "    \"max_iter\": 1000,\n",
        "    \"penalty\": \"l2\",\n",
        "    \"dataset\": \"Oversampled-Combined\"\n",
        "}\n",
        "\n",
        "wandb_project_name = \"DOPP analysis\"\n",
        "\n",
        "wandb.init(\n",
        "    project=wandb_project_name,\n",
        "    name=\"svc_balanced\",\n",
        "    config=svc_config\n",
        ")\n",
        "\n",
        "start_time = time.time()\n",
        "\n",
        "linear_svc_model = LinearSVC(random_state=svc_config[\"random_state\"], penalty=svc_config[\"penalty\"])\n",
        "linear_svc_model.fit(X_train, y_train)\n",
        "\n",
        "y_pred_svc = linear_svc_model.predict(X_test)\n",
        "end_time = time.time()\n",
        "execution_time = end_time - start_time\n",
        "\n",
        "f1Score = f1_score(y_test, y_pred_svc, average='macro')\n",
        "precision = precision_score(y_test, y_pred_svc, average='macro')\n",
        "recall = recall_score(y_test, y_pred_svc, average='macro')\n",
        "\n",
        "wandb.log({\n",
        "    \"Execution Time\": execution_time,\n",
        "    \"F1 Score\": f1Score,\n",
        "    \"Precision Score\": precision,\n",
        "    \"Recall Score\": recall\n",
        "})\n",
        "\n",
        "print(\"Execution Time:\", execution_time, \"seconds\")\n",
        "print(\"Precision Score:\", precision)\n",
        "print(\"Recall Score:\", recall)\n",
        "print(\"F1 Score:\", f1Score, \"\\n\")\n",
        "print(classification_report(y_test, y_pred_svc))\n",
        "\n",
        "wandb.finish()"
      ],
      "metadata": {
        "colab": {
          "base_uri": "https://localhost:8080/",
          "height": 839
        },
        "id": "tVKMzS6kNED7",
        "outputId": "a94d7ae7-684f-403a-ad48-7d5ae3acd928"
      },
      "execution_count": 104,
      "outputs": [
        {
          "output_type": "display_data",
          "data": {
            "text/plain": [
              "<IPython.core.display.HTML object>"
            ],
            "text/html": [
              "Tracking run with wandb version 0.19.1"
            ]
          },
          "metadata": {}
        },
        {
          "output_type": "display_data",
          "data": {
            "text/plain": [
              "<IPython.core.display.HTML object>"
            ],
            "text/html": [
              "Run data is saved locally in <code>/content/wandb/run-20250113_150825-971pappe</code>"
            ]
          },
          "metadata": {}
        },
        {
          "output_type": "display_data",
          "data": {
            "text/plain": [
              "<IPython.core.display.HTML object>"
            ],
            "text/html": [
              "Syncing run <strong><a href='https://wandb.ai/l-beccard-tu-wien/DOPP%20analysis/runs/971pappe' target=\"_blank\">svc_balanced</a></strong> to <a href='https://wandb.ai/l-beccard-tu-wien/DOPP%20analysis' target=\"_blank\">Weights & Biases</a> (<a href='https://wandb.me/developer-guide' target=\"_blank\">docs</a>)<br>"
            ]
          },
          "metadata": {}
        },
        {
          "output_type": "display_data",
          "data": {
            "text/plain": [
              "<IPython.core.display.HTML object>"
            ],
            "text/html": [
              " View project at <a href='https://wandb.ai/l-beccard-tu-wien/DOPP%20analysis' target=\"_blank\">https://wandb.ai/l-beccard-tu-wien/DOPP%20analysis</a>"
            ]
          },
          "metadata": {}
        },
        {
          "output_type": "display_data",
          "data": {
            "text/plain": [
              "<IPython.core.display.HTML object>"
            ],
            "text/html": [
              " View run at <a href='https://wandb.ai/l-beccard-tu-wien/DOPP%20analysis/runs/971pappe' target=\"_blank\">https://wandb.ai/l-beccard-tu-wien/DOPP%20analysis/runs/971pappe</a>"
            ]
          },
          "metadata": {}
        },
        {
          "output_type": "stream",
          "name": "stdout",
          "text": [
            "Execution Time: 9.2102210521698 seconds\n",
            "Precision Score: 0.5506393688260347\n",
            "Recall Score: 0.55516599143837\n",
            "F1 Score: 0.5516456972259235 \n",
            "\n",
            "              precision    recall  f1-score   support\n",
            "\n",
            "         1.0       0.60      0.67      0.63       327\n",
            "         2.0       0.57      0.60      0.58       381\n",
            "         3.0       0.56      0.51      0.54       368\n",
            "         4.0       0.46      0.40      0.43       347\n",
            "         5.0       0.57      0.60      0.58       342\n",
            "\n",
            "    accuracy                           0.55      1765\n",
            "   macro avg       0.55      0.56      0.55      1765\n",
            "weighted avg       0.55      0.55      0.55      1765\n",
            "\n"
          ]
        },
        {
          "output_type": "display_data",
          "data": {
            "text/plain": [
              "<IPython.core.display.HTML object>"
            ],
            "text/html": []
          },
          "metadata": {}
        },
        {
          "output_type": "display_data",
          "data": {
            "text/plain": [
              "<IPython.core.display.HTML object>"
            ],
            "text/html": [
              "<br>    <style><br>        .wandb-row {<br>            display: flex;<br>            flex-direction: row;<br>            flex-wrap: wrap;<br>            justify-content: flex-start;<br>            width: 100%;<br>        }<br>        .wandb-col {<br>            display: flex;<br>            flex-direction: column;<br>            flex-basis: 100%;<br>            flex: 1;<br>            padding: 10px;<br>        }<br>    </style><br><div class=\"wandb-row\"><div class=\"wandb-col\"><h3>Run history:</h3><br/><table class=\"wandb\"><tr><td>Execution Time</td><td>▁</td></tr><tr><td>F1 Score</td><td>▁</td></tr><tr><td>Precision Score</td><td>▁</td></tr><tr><td>Recall Score</td><td>▁</td></tr></table><br/></div><div class=\"wandb-col\"><h3>Run summary:</h3><br/><table class=\"wandb\"><tr><td>Execution Time</td><td>9.21022</td></tr><tr><td>F1 Score</td><td>0.55165</td></tr><tr><td>Precision Score</td><td>0.55064</td></tr><tr><td>Recall Score</td><td>0.55517</td></tr></table><br/></div></div>"
            ]
          },
          "metadata": {}
        },
        {
          "output_type": "display_data",
          "data": {
            "text/plain": [
              "<IPython.core.display.HTML object>"
            ],
            "text/html": [
              " View run <strong style=\"color:#cdcd00\">svc_balanced</strong> at: <a href='https://wandb.ai/l-beccard-tu-wien/DOPP%20analysis/runs/971pappe' target=\"_blank\">https://wandb.ai/l-beccard-tu-wien/DOPP%20analysis/runs/971pappe</a><br> View project at: <a href='https://wandb.ai/l-beccard-tu-wien/DOPP%20analysis' target=\"_blank\">https://wandb.ai/l-beccard-tu-wien/DOPP%20analysis</a><br>Synced 5 W&B file(s), 0 media file(s), 0 artifact file(s) and 0 other file(s)"
            ]
          },
          "metadata": {}
        },
        {
          "output_type": "display_data",
          "data": {
            "text/plain": [
              "<IPython.core.display.HTML object>"
            ],
            "text/html": [
              "Find logs at: <code>./wandb/run-20250113_150825-971pappe/logs</code>"
            ]
          },
          "metadata": {}
        }
      ]
    },
    {
      "cell_type": "code",
      "source": [],
      "metadata": {
        "id": "FRRE4P59NXtP"
      },
      "execution_count": null,
      "outputs": []
    }
  ]
}