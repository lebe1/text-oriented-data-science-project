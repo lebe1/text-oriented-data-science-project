{
 "cells": [
  {
   "metadata": {},
   "cell_type": "markdown",
   "source": "# Data Augmentation Translation",
   "id": "a6ec56b262597b86"
  },
  {
   "metadata": {},
   "cell_type": "markdown",
   "source": "## Imports",
   "id": "c4390400f746b7e7"
  },
  {
   "metadata": {
    "collapsed": true
   },
   "cell_type": "code",
   "source": [
    "import pandas as pd\n",
    "import os\n",
    "import uuid\n",
    "import requests\n",
    "from tqdm import tqdm\n",
    "import time\n",
    "from dotenv import load_dotenv"
   ],
   "id": "initial_id",
   "outputs": [],
   "execution_count": null
  },
  {
   "metadata": {},
   "cell_type": "code",
   "source": "tqdm.pandas()",
   "id": "62dc48239178108a",
   "outputs": [],
   "execution_count": null
  },
  {
   "metadata": {},
   "cell_type": "markdown",
   "source": "## Azure AI Translation",
   "id": "7f47c7068f150713"
  },
  {
   "metadata": {},
   "cell_type": "code",
   "source": "load_dotenv()",
   "id": "8c1e7e1b65d66c29",
   "outputs": [],
   "execution_count": null
  },
  {
   "metadata": {},
   "cell_type": "code",
   "source": [
    "key = os.getenv(\"API_AZURE_KEY\")\n",
    "location = os.getenv(\"API_AZURE_LOCATION\")\n",
    "endpoint = \"https://api.cognitive.microsofttranslator.com\"\n",
    "path = \"/translate\""
   ],
   "id": "5d6270fc1434fe79",
   "outputs": [],
   "execution_count": null
  },
  {
   "metadata": {},
   "cell_type": "code",
   "source": [
    "constructed_url = endpoint + path\n",
    "\n",
    "headers = {\n",
    "    'Ocp-Apim-Subscription-Key': key, \n",
    "    'Ocp-Apim-Subscription-Region': location, \n",
    "    'Content-type': 'application/json',\n",
    "    'X-ClientTraceId': str(uuid.uuid4())\n",
    "}"
   ],
   "id": "804a73b33413b958",
   "outputs": [],
   "execution_count": null
  },
  {
   "metadata": {},
   "cell_type": "code",
   "source": [
    "def translate_text(text, from_lang, to_lang, max_retries=5):\n",
    "    if not text:\n",
    "        return None\n",
    "\n",
    "    params = {\n",
    "        'api-version': '3.0',\n",
    "        'from': from_lang,\n",
    "        'to': [to_lang]\n",
    "    }\n",
    "    body = [{'text': text}]\n",
    "    retries = 0\n",
    "\n",
    "    while retries <= max_retries:\n",
    "        try:\n",
    "            response = requests.post(constructed_url, params=params, headers=headers, json=body)\n",
    "            response.raise_for_status()  \n",
    "            translated_text = response.json()[0]['translations'][0]['text']\n",
    "            return translated_text\n",
    "        except requests.exceptions.HTTPError as e:\n",
    "            if response.status_code == 429: \n",
    "                retries += 1\n",
    "                wait_time = 2 ** retries \n",
    "                time.sleep(wait_time)\n",
    "            else:\n",
    "                print(f\"HTTP Error: {e}\")\n",
    "                break\n",
    "        except Exception as e:\n",
    "            print(f\"Error translating text: {e}\")\n",
    "            break\n",
    "            \n",
    "    return None"
   ],
   "id": "9a2dcf0a00327d04",
   "outputs": [],
   "execution_count": null
  },
  {
   "metadata": {},
   "cell_type": "code",
   "source": [
    "def compare_translations(df, index):\n",
    "    \n",
    "    label = df.loc[index, 'rating']\n",
    "    original_text = df.loc[index, 'reviewText'] \n",
    "    german_text = df.loc[index, 'reviewText_german']\n",
    "    german_english_text = df.loc[index, 'text_german_english']\n",
    "    german_french_text = df.loc[index, 'text_german_french']\n",
    "    final_text = df.loc[index, 'text_german_french_english'] \n",
    "    \n",
    "    print(f\"Index: {index}\")\n",
    "    print(f\"****\")\n",
    "    print(f\"Label: {label}\")\n",
    "    print(f\"****\")\n",
    "    print(f\"Original Text: {original_text}\")\n",
    "    print(f\"****\")\n",
    "    print(f\"German Translation: {german_text}\")\n",
    "    print(f\"****\")\n",
    "    print(f\"German-English Translation: {german_english_text}\")\n",
    "    print(f\"****\")\n",
    "    print(f\"German-French Translation: {german_french_text}\")\n",
    "    print(f\"****\")\n",
    "    print(f\"Back-Translated Text: {final_text}\")\n",
    "    print(\"\")"
   ],
   "id": "e6860608ebf5b9a",
   "outputs": [],
   "execution_count": null
  },
  {
   "metadata": {},
   "cell_type": "code",
   "source": [
    "def select_and_compare(df, label, num_samples=5):\n",
    "    \n",
    "    filtered_df = df[df['rating'] == label]\n",
    "    sampled_df = filtered_df.sample(n=min(len(filtered_df), num_samples), random_state=42)\n",
    "    \n",
    "    for index in sampled_df.index:\n",
    "        compare_translations(df, index)"
   ],
   "id": "2690243191c55892",
   "outputs": [],
   "execution_count": null
  },
  {
   "metadata": {},
   "cell_type": "markdown",
   "source": "## Translate data",
   "id": "49f693d8de5dd688"
  },
  {
   "metadata": {},
   "cell_type": "code",
   "source": [
    "from google.colab import drive\n",
    "drive.mount('/content/drive', force_remount=True)"
   ],
   "id": "63915fcffced9f97",
   "outputs": [],
   "execution_count": null
  },
  {
   "metadata": {},
   "cell_type": "code",
   "source": [
    "file_name = 'combined_reviews.csv'\n",
    "folder_path = '/content/drive/MyDrive/'\n",
    "file_path = folder_path + file_name\n",
    "df = pd.read_csv(file_path)"
   ],
   "id": "4ddbf6290af9ec2a",
   "outputs": [],
   "execution_count": null
  },
  {
   "metadata": {},
   "cell_type": "code",
   "source": "df.head(2)",
   "id": "a071d1dc027fe3cc",
   "outputs": [],
   "execution_count": null
  },
  {
   "metadata": {},
   "cell_type": "code",
   "source": [
    "df['reviewText_german'] = df.progress_apply(\n",
    "    lambda row: translate_text(row['reviewText'], from_lang='en', to_lang='de'))"
   ],
   "id": "d68f637725135577",
   "outputs": [],
   "execution_count": null
  },
  {
   "metadata": {},
   "cell_type": "code",
   "source": [
    "df['reviewText_german_french'] = df.progress_apply(\n",
    "    lambda row: translate_text(row['reviewText_german'], from_lang='de', to_lang='fr') if row['reviewText_german'] else None)"
   ],
   "id": "5ee63aae2b316573",
   "outputs": [],
   "execution_count": null
  },
  {
   "metadata": {},
   "cell_type": "code",
   "source": [
    "df['reviewText_german_french_english'] = df.progress_apply(\n",
    "    lambda row: translate_text(row['reviewText_german_french'], from_lang='fr', to_lang='en') if row['reviewText_german_french'] else None)"
   ],
   "id": "36a225f1d21c1959",
   "outputs": [],
   "execution_count": null
  },
  {
   "metadata": {},
   "cell_type": "markdown",
   "source": "## Check translations",
   "id": "3e39952ddb4e0e43"
  },
  {
   "metadata": {},
   "cell_type": "code",
   "source": "compare_translations(df,2)",
   "id": "ec93dde586f6a937",
   "outputs": [],
   "execution_count": null
  },
  {
   "metadata": {},
   "cell_type": "markdown",
   "source": "## Save new df",
   "id": "3124c2ca7178c72a"
  },
  {
   "metadata": {},
   "cell_type": "code",
   "source": [
    "output_path = '/content/drive/MyDrive/DOPP_Ex2_data/reviews_da_translation.csv'\n",
    "df.to_csv(output_path, index=False)"
   ],
   "id": "dd70f3d4372a7953",
   "outputs": [],
   "execution_count": null
  }
 ],
 "metadata": {
  "kernelspec": {
   "display_name": "Python 3",
   "language": "python",
   "name": "python3"
  },
  "language_info": {
   "codemirror_mode": {
    "name": "ipython",
    "version": 2
   },
   "file_extension": ".py",
   "mimetype": "text/x-python",
   "name": "python",
   "nbconvert_exporter": "python",
   "pygments_lexer": "ipython2",
   "version": "2.7.6"
  }
 },
 "nbformat": 4,
 "nbformat_minor": 5
}
