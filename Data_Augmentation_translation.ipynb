{
 "cells": [
  {
   "metadata": {},
   "cell_type": "markdown",
   "source": "# Data Augmentation Translation",
   "id": "a6ec56b262597b86"
  },
  {
   "metadata": {},
   "cell_type": "markdown",
   "source": "## Imports",
   "id": "c4390400f746b7e7"
  },
  {
   "metadata": {
    "collapsed": true,
    "ExecuteTime": {
     "end_time": "2025-01-22T10:59:32.794630Z",
     "start_time": "2025-01-22T10:59:31.850497Z"
    }
   },
   "cell_type": "code",
   "source": [
    "import pandas as pd\n",
    "import os\n",
    "import uuid\n",
    "import requests\n",
    "from tqdm import tqdm\n",
    "import time\n",
    "from dotenv import load_dotenv"
   ],
   "id": "initial_id",
   "outputs": [],
   "execution_count": 1
  },
  {
   "metadata": {
    "ExecuteTime": {
     "end_time": "2025-01-22T10:59:32.806187Z",
     "start_time": "2025-01-22T10:59:32.803492Z"
    }
   },
   "cell_type": "code",
   "source": "tqdm.pandas()",
   "id": "62dc48239178108a",
   "outputs": [],
   "execution_count": 2
  },
  {
   "metadata": {},
   "cell_type": "markdown",
   "source": "## Azure AI Translation",
   "id": "7f47c7068f150713"
  },
  {
   "metadata": {
    "ExecuteTime": {
     "end_time": "2025-01-22T10:59:32.814812Z",
     "start_time": "2025-01-22T10:59:32.809974Z"
    }
   },
   "cell_type": "code",
   "source": "load_dotenv()",
   "id": "8c1e7e1b65d66c29",
   "outputs": [
    {
     "data": {
      "text/plain": [
       "True"
      ]
     },
     "execution_count": 3,
     "metadata": {},
     "output_type": "execute_result"
    }
   ],
   "execution_count": 3
  },
  {
   "metadata": {
    "ExecuteTime": {
     "end_time": "2025-01-22T10:59:32.922529Z",
     "start_time": "2025-01-22T10:59:32.921025Z"
    }
   },
   "cell_type": "code",
   "source": [
    "key = os.getenv(\"API_AZURE_KEY\")\n",
    "location = os.getenv(\"API_AZURE_LOCATION\")\n",
    "endpoint = \"https://api.cognitive.microsofttranslator.com\"\n",
    "path = \"/translate\""
   ],
   "id": "5d6270fc1434fe79",
   "outputs": [],
   "execution_count": 4
  },
  {
   "metadata": {
    "ExecuteTime": {
     "end_time": "2025-01-22T10:59:32.928243Z",
     "start_time": "2025-01-22T10:59:32.925689Z"
    }
   },
   "cell_type": "code",
   "source": [
    "constructed_url = endpoint + path\n",
    "\n",
    "headers = {\n",
    "    'Ocp-Apim-Subscription-Key': key, \n",
    "    'Ocp-Apim-Subscription-Region': location, \n",
    "    'Content-type': 'application/json',\n",
    "    'X-ClientTraceId': str(uuid.uuid4())\n",
    "}"
   ],
   "id": "804a73b33413b958",
   "outputs": [],
   "execution_count": 5
  },
  {
   "metadata": {
    "ExecuteTime": {
     "end_time": "2025-01-22T10:59:32.964110Z",
     "start_time": "2025-01-22T10:59:32.959496Z"
    }
   },
   "cell_type": "code",
   "source": [
    "def translate_text(text, from_lang, to_lang, max_retries=5):\n",
    "    if not text:\n",
    "        return None\n",
    "\n",
    "    params = {\n",
    "        'api-version': '3.0',\n",
    "        'from': from_lang,\n",
    "        'to': [to_lang]\n",
    "    }\n",
    "    body = [{'text': text}]\n",
    "    retries = 0\n",
    "\n",
    "    while retries <= max_retries:\n",
    "        try:\n",
    "            response = requests.post(constructed_url, params=params, headers=headers, json=body)\n",
    "            response.raise_for_status()  \n",
    "            translated_text = response.json()[0]['translations'][0]['text']\n",
    "            return translated_text\n",
    "        except requests.exceptions.HTTPError as e:\n",
    "            if response.status_code == 429: \n",
    "                retries += 1\n",
    "                wait_time = 2 ** retries \n",
    "                time.sleep(wait_time)\n",
    "            else:\n",
    "                print(f\"HTTP Error: {e}\")\n",
    "                break\n",
    "        except Exception as e:\n",
    "            print(f\"Error translating text: {e}\")\n",
    "            break\n",
    "            \n",
    "    return None"
   ],
   "id": "9a2dcf0a00327d04",
   "outputs": [],
   "execution_count": 6
  },
  {
   "metadata": {
    "ExecuteTime": {
     "end_time": "2025-01-22T12:49:34.996133Z",
     "start_time": "2025-01-22T12:49:34.992153Z"
    }
   },
   "cell_type": "code",
   "source": [
    "def compare_translations(df, index):\n",
    "    \n",
    "    label = df.loc[index, 'rating']\n",
    "    original_text = df.loc[index, 'reviewText'] \n",
    "    german_text = df.loc[index, 'reviewText_german']\n",
    "    german_french_text = df.loc[index, 'reviewText_german_french']\n",
    "    final_text = df.loc[index, 'reviewText_german_french_english'] \n",
    "    \n",
    "    print(f\"Index: {index}\")\n",
    "    print(f\"****\")\n",
    "    print(f\"Label: {label}\")\n",
    "    print(f\"****\")\n",
    "    print(f\"Original Text: {original_text}\")\n",
    "    print(f\"****\")\n",
    "    print(f\"German Translation: {german_text}\")\n",
    "    print(f\"****\")\n",
    "    print(f\"German-French Translation: {german_french_text}\")\n",
    "    print(f\"****\")\n",
    "    print(f\"Back-Translated Text: {final_text}\")\n",
    "    print(\"\")"
   ],
   "id": "e6860608ebf5b9a",
   "outputs": [],
   "execution_count": 18
  },
  {
   "metadata": {},
   "cell_type": "markdown",
   "source": "## Translate data",
   "id": "49f693d8de5dd688"
  },
  {
   "metadata": {
    "ExecuteTime": {
     "end_time": "2025-01-22T10:59:33.042031Z",
     "start_time": "2025-01-22T10:59:32.994683Z"
    }
   },
   "cell_type": "code",
   "source": "df = pd.read_csv(\"./data/combined_reviews.csv\")",
   "id": "4ddbf6290af9ec2a",
   "outputs": [],
   "execution_count": 9
  },
  {
   "metadata": {
    "ExecuteTime": {
     "end_time": "2025-01-22T10:59:33.055996Z",
     "start_time": "2025-01-22T10:59:33.050816Z"
    }
   },
   "cell_type": "code",
   "source": "df.head(2)",
   "id": "a071d1dc027fe3cc",
   "outputs": [
    {
     "data": {
      "text/plain": [
       "   rating  reviewTime      reviewerID  \\\n",
       "0     5.0  2017-01-16   ASWLL1VJA7WOG   \n",
       "1     5.0  2008-12-08  A265K3A7V83112   \n",
       "\n",
       "                                          reviewText  \\\n",
       "0  Great product... just what I wanted.  Works gr...   \n",
       "1  After seeing the popularity of this shoe, I de...   \n",
       "\n",
       "                       summary  unixReviewTime                    category  \\\n",
       "0                   Five Stars      1484524800                  All_Beauty   \n",
       "1  What can i say? chucks rock      1228694400  Clothing_Shoes_and_Jewelry   \n",
       "\n",
       "                                         reviewToken  \n",
       "0  ['great', 'product', 'want', 'works', 'great',...  \n",
       "1  ['see', 'popularity', 'shoe', 'decide', 'test'...  "
      ],
      "text/html": [
       "<div>\n",
       "<style scoped>\n",
       "    .dataframe tbody tr th:only-of-type {\n",
       "        vertical-align: middle;\n",
       "    }\n",
       "\n",
       "    .dataframe tbody tr th {\n",
       "        vertical-align: top;\n",
       "    }\n",
       "\n",
       "    .dataframe thead th {\n",
       "        text-align: right;\n",
       "    }\n",
       "</style>\n",
       "<table border=\"1\" class=\"dataframe\">\n",
       "  <thead>\n",
       "    <tr style=\"text-align: right;\">\n",
       "      <th></th>\n",
       "      <th>rating</th>\n",
       "      <th>reviewTime</th>\n",
       "      <th>reviewerID</th>\n",
       "      <th>reviewText</th>\n",
       "      <th>summary</th>\n",
       "      <th>unixReviewTime</th>\n",
       "      <th>category</th>\n",
       "      <th>reviewToken</th>\n",
       "    </tr>\n",
       "  </thead>\n",
       "  <tbody>\n",
       "    <tr>\n",
       "      <th>0</th>\n",
       "      <td>5.0</td>\n",
       "      <td>2017-01-16</td>\n",
       "      <td>ASWLL1VJA7WOG</td>\n",
       "      <td>Great product... just what I wanted.  Works gr...</td>\n",
       "      <td>Five Stars</td>\n",
       "      <td>1484524800</td>\n",
       "      <td>All_Beauty</td>\n",
       "      <td>['great', 'product', 'want', 'works', 'great',...</td>\n",
       "    </tr>\n",
       "    <tr>\n",
       "      <th>1</th>\n",
       "      <td>5.0</td>\n",
       "      <td>2008-12-08</td>\n",
       "      <td>A265K3A7V83112</td>\n",
       "      <td>After seeing the popularity of this shoe, I de...</td>\n",
       "      <td>What can i say? chucks rock</td>\n",
       "      <td>1228694400</td>\n",
       "      <td>Clothing_Shoes_and_Jewelry</td>\n",
       "      <td>['see', 'popularity', 'shoe', 'decide', 'test'...</td>\n",
       "    </tr>\n",
       "  </tbody>\n",
       "</table>\n",
       "</div>"
      ]
     },
     "execution_count": 10,
     "metadata": {},
     "output_type": "execute_result"
    }
   ],
   "execution_count": 10
  },
  {
   "metadata": {
    "ExecuteTime": {
     "end_time": "2025-01-22T11:33:29.233343Z",
     "start_time": "2025-01-22T11:01:16.575173Z"
    }
   },
   "cell_type": "code",
   "source": [
    "df['reviewText_german'] = df.progress_apply(\n",
    "    lambda row: translate_text(row['reviewText'], from_lang='en', to_lang='de'), axis=1)"
   ],
   "id": "d68f637725135577",
   "outputs": [
    {
     "name": "stderr",
     "output_type": "stream",
     "text": [
      "  1%|          | 69/12000 [00:14<37:15,  5.34it/s] "
     ]
    },
    {
     "name": "stdout",
     "output_type": "stream",
     "text": [
      "Error translating text: Out of range float values are not JSON compliant\n"
     ]
    },
    {
     "name": "stderr",
     "output_type": "stream",
     "text": [
      "  1%|          | 118/12000 [00:23<20:58,  9.44it/s]"
     ]
    },
    {
     "name": "stdout",
     "output_type": "stream",
     "text": [
      "Error translating text: Out of range float values are not JSON compliant\n"
     ]
    },
    {
     "name": "stderr",
     "output_type": "stream",
     "text": [
      "  6%|▌         | 734/12000 [02:15<29:57,  6.27it/s]  "
     ]
    },
    {
     "name": "stdout",
     "output_type": "stream",
     "text": [
      "Error translating text: HTTPSConnectionPool(host='api.cognitive.microsofttranslator.com', port=443): Max retries exceeded with url: /translate?api-version=3.0&from=en&to=de (Caused by NewConnectionError('<urllib3.connection.HTTPSConnection object at 0x149b60c70>: Failed to establish a new connection: [Errno 61] Connection refused'))\n"
     ]
    },
    {
     "name": "stderr",
     "output_type": "stream",
     "text": [
      "  6%|▌         | 737/12000 [02:16<30:03,  6.24it/s]"
     ]
    },
    {
     "name": "stdout",
     "output_type": "stream",
     "text": [
      "Error translating text: HTTPSConnectionPool(host='api.cognitive.microsofttranslator.com', port=443): Max retries exceeded with url: /translate?api-version=3.0&from=en&to=de (Caused by NewConnectionError('<urllib3.connection.HTTPSConnection object at 0x149c8f7c0>: Failed to establish a new connection: [Errno 61] Connection refused'))\n"
     ]
    },
    {
     "name": "stderr",
     "output_type": "stream",
     "text": [
      "  6%|▌         | 744/12000 [02:16<24:39,  7.61it/s]"
     ]
    },
    {
     "name": "stdout",
     "output_type": "stream",
     "text": [
      "Error translating text: HTTPSConnectionPool(host='api.cognitive.microsofttranslator.com', port=443): Max retries exceeded with url: /translate?api-version=3.0&from=en&to=de (Caused by NewConnectionError('<urllib3.connection.HTTPSConnection object at 0x149cb2340>: Failed to establish a new connection: [Errno 61] Connection refused'))\n"
     ]
    },
    {
     "name": "stderr",
     "output_type": "stream",
     "text": [
      "  6%|▌         | 749/12000 [02:17<22:55,  8.18it/s]"
     ]
    },
    {
     "name": "stdout",
     "output_type": "stream",
     "text": [
      "Error translating text: HTTPSConnectionPool(host='api.cognitive.microsofttranslator.com', port=443): Max retries exceeded with url: /translate?api-version=3.0&from=en&to=de (Caused by NewConnectionError('<urllib3.connection.HTTPSConnection object at 0x149cb2910>: Failed to establish a new connection: [Errno 61] Connection refused'))\n"
     ]
    },
    {
     "name": "stderr",
     "output_type": "stream",
     "text": [
      "  6%|▋         | 754/12000 [02:18<23:58,  7.82it/s]"
     ]
    },
    {
     "name": "stdout",
     "output_type": "stream",
     "text": [
      "Error translating text: HTTPSConnectionPool(host='api.cognitive.microsofttranslator.com', port=443): Max retries exceeded with url: /translate?api-version=3.0&from=en&to=de (Caused by NewConnectionError('<urllib3.connection.HTTPSConnection object at 0x149cb8520>: Failed to establish a new connection: [Errno 61] Connection refused'))\n"
     ]
    },
    {
     "name": "stderr",
     "output_type": "stream",
     "text": [
      "  6%|▋         | 757/12000 [02:18<26:42,  7.01it/s]"
     ]
    },
    {
     "name": "stdout",
     "output_type": "stream",
     "text": [
      "Error translating text: HTTPSConnectionPool(host='api.cognitive.microsofttranslator.com', port=443): Max retries exceeded with url: /translate?api-version=3.0&from=en&to=de (Caused by NewConnectionError('<urllib3.connection.HTTPSConnection object at 0x149cb2d60>: Failed to establish a new connection: [Errno 61] Connection refused'))\n"
     ]
    },
    {
     "name": "stderr",
     "output_type": "stream",
     "text": [
      "  6%|▋         | 762/12000 [02:19<26:36,  7.04it/s]"
     ]
    },
    {
     "name": "stdout",
     "output_type": "stream",
     "text": [
      "Error translating text: HTTPSConnectionPool(host='api.cognitive.microsofttranslator.com', port=443): Max retries exceeded with url: /translate?api-version=3.0&from=en&to=de (Caused by NewConnectionError('<urllib3.connection.HTTPSConnection object at 0x149c8f640>: Failed to establish a new connection: [Errno 61] Connection refused'))\n"
     ]
    },
    {
     "name": "stderr",
     "output_type": "stream",
     "text": [
      "  6%|▋         | 767/12000 [02:21<1:02:10,  3.01it/s]"
     ]
    },
    {
     "name": "stdout",
     "output_type": "stream",
     "text": [
      "Error translating text: HTTPSConnectionPool(host='api.cognitive.microsofttranslator.com', port=443): Max retries exceeded with url: /translate?api-version=3.0&from=en&to=de (Caused by NewConnectionError('<urllib3.connection.HTTPSConnection object at 0x149c8f6a0>: Failed to establish a new connection: [Errno 61] Connection refused'))\n"
     ]
    },
    {
     "name": "stderr",
     "output_type": "stream",
     "text": [
      "  6%|▋         | 774/12000 [02:21<29:40,  6.30it/s]  "
     ]
    },
    {
     "name": "stdout",
     "output_type": "stream",
     "text": [
      "Error translating text: HTTPSConnectionPool(host='api.cognitive.microsofttranslator.com', port=443): Max retries exceeded with url: /translate?api-version=3.0&from=en&to=de (Caused by NewConnectionError('<urllib3.connection.HTTPSConnection object at 0x149aea8e0>: Failed to establish a new connection: [Errno 61] Connection refused'))\n"
     ]
    },
    {
     "name": "stderr",
     "output_type": "stream",
     "text": [
      "  6%|▋         | 779/12000 [02:22<22:04,  8.47it/s]"
     ]
    },
    {
     "name": "stdout",
     "output_type": "stream",
     "text": [
      "Error translating text: HTTPSConnectionPool(host='api.cognitive.microsofttranslator.com', port=443): Max retries exceeded with url: /translate?api-version=3.0&from=en&to=de (Caused by NewConnectionError('<urllib3.connection.HTTPSConnection object at 0x149cb8a00>: Failed to establish a new connection: [Errno 61] Connection refused'))\n"
     ]
    },
    {
     "name": "stderr",
     "output_type": "stream",
     "text": [
      "  7%|▋         | 784/12000 [02:23<23:15,  8.04it/s]"
     ]
    },
    {
     "name": "stdout",
     "output_type": "stream",
     "text": [
      "Error translating text: HTTPSConnectionPool(host='api.cognitive.microsofttranslator.com', port=443): Max retries exceeded with url: /translate?api-version=3.0&from=en&to=de (Caused by NewConnectionError('<urllib3.connection.HTTPSConnection object at 0x149cb8d60>: Failed to establish a new connection: [Errno 61] Connection refused'))\n"
     ]
    },
    {
     "name": "stderr",
     "output_type": "stream",
     "text": [
      " 15%|█▍        | 1746/12000 [05:07<21:21,  8.00it/s]  "
     ]
    },
    {
     "name": "stdout",
     "output_type": "stream",
     "text": [
      "Error translating text: Out of range float values are not JSON compliant\n"
     ]
    },
    {
     "name": "stderr",
     "output_type": "stream",
     "text": [
      " 15%|█▍        | 1767/12000 [05:11<21:07,  8.08it/s]"
     ]
    },
    {
     "name": "stdout",
     "output_type": "stream",
     "text": [
      "Error translating text: Out of range float values are not JSON compliant\n"
     ]
    },
    {
     "name": "stderr",
     "output_type": "stream",
     "text": [
      " 19%|█▊        | 2232/12000 [06:32<25:43,  6.33it/s]"
     ]
    },
    {
     "name": "stdout",
     "output_type": "stream",
     "text": [
      "Error translating text: Out of range float values are not JSON compliant\n"
     ]
    },
    {
     "name": "stderr",
     "output_type": "stream",
     "text": [
      " 19%|█▊        | 2238/12000 [06:33<30:56,  5.26it/s]"
     ]
    },
    {
     "name": "stdout",
     "output_type": "stream",
     "text": [
      "Error translating text: Out of range float values are not JSON compliant\n"
     ]
    },
    {
     "name": "stderr",
     "output_type": "stream",
     "text": [
      " 21%|██▏       | 2552/12000 [07:26<18:14,  8.63it/s]"
     ]
    },
    {
     "name": "stdout",
     "output_type": "stream",
     "text": [
      "Error translating text: Out of range float values are not JSON compliant\n"
     ]
    },
    {
     "name": "stderr",
     "output_type": "stream",
     "text": [
      " 24%|██▍       | 2854/12000 [08:13<22:10,  6.87it/s]"
     ]
    },
    {
     "name": "stdout",
     "output_type": "stream",
     "text": [
      "Error translating text: Out of range float values are not JSON compliant\n"
     ]
    },
    {
     "name": "stderr",
     "output_type": "stream",
     "text": [
      " 26%|██▋       | 3162/12000 [09:07<18:34,  7.93it/s]  "
     ]
    },
    {
     "name": "stdout",
     "output_type": "stream",
     "text": [
      "Error translating text: Out of range float values are not JSON compliant\n"
     ]
    },
    {
     "name": "stderr",
     "output_type": "stream",
     "text": [
      " 28%|██▊       | 3417/12000 [09:46<15:30,  9.22it/s]"
     ]
    },
    {
     "name": "stdout",
     "output_type": "stream",
     "text": [
      "Error translating text: Out of range float values are not JSON compliant\n"
     ]
    },
    {
     "name": "stderr",
     "output_type": "stream",
     "text": [
      " 36%|███▌      | 4317/12000 [12:09<15:33,  8.23it/s]"
     ]
    },
    {
     "name": "stdout",
     "output_type": "stream",
     "text": [
      "Error translating text: Out of range float values are not JSON compliant\n"
     ]
    },
    {
     "name": "stderr",
     "output_type": "stream",
     "text": [
      " 36%|███▋      | 4365/12000 [12:16<14:20,  8.88it/s]"
     ]
    },
    {
     "name": "stdout",
     "output_type": "stream",
     "text": [
      "Error translating text: Out of range float values are not JSON compliant\n"
     ]
    },
    {
     "name": "stderr",
     "output_type": "stream",
     "text": [
      " 37%|███▋      | 4387/12000 [12:18<13:54,  9.12it/s]"
     ]
    },
    {
     "name": "stdout",
     "output_type": "stream",
     "text": [
      "Error translating text: Out of range float values are not JSON compliant\n"
     ]
    },
    {
     "name": "stderr",
     "output_type": "stream",
     "text": [
      " 40%|███▉      | 4745/12000 [13:16<14:42,  8.22it/s]"
     ]
    },
    {
     "name": "stdout",
     "output_type": "stream",
     "text": [
      "Error translating text: Out of range float values are not JSON compliant\n"
     ]
    },
    {
     "name": "stderr",
     "output_type": "stream",
     "text": [
      " 41%|████      | 4904/12000 [13:40<16:13,  7.29it/s]"
     ]
    },
    {
     "name": "stdout",
     "output_type": "stream",
     "text": [
      "Error translating text: Out of range float values are not JSON compliant\n"
     ]
    },
    {
     "name": "stderr",
     "output_type": "stream",
     "text": [
      " 50%|████▉     | 5989/12000 [16:24<14:35,  6.87it/s]"
     ]
    },
    {
     "name": "stdout",
     "output_type": "stream",
     "text": [
      "Error translating text: Out of range float values are not JSON compliant\n"
     ]
    },
    {
     "name": "stderr",
     "output_type": "stream",
     "text": [
      " 54%|█████▍    | 6478/12000 [17:37<12:14,  7.52it/s]"
     ]
    },
    {
     "name": "stdout",
     "output_type": "stream",
     "text": [
      "Error translating text: Out of range float values are not JSON compliant\n"
     ]
    },
    {
     "name": "stderr",
     "output_type": "stream",
     "text": [
      " 55%|█████▍    | 6564/12000 [17:51<13:02,  6.95it/s]"
     ]
    },
    {
     "name": "stdout",
     "output_type": "stream",
     "text": [
      "Error translating text: Out of range float values are not JSON compliant\n"
     ]
    },
    {
     "name": "stderr",
     "output_type": "stream",
     "text": [
      " 56%|█████▌    | 6669/12000 [18:07<10:10,  8.73it/s]"
     ]
    },
    {
     "name": "stdout",
     "output_type": "stream",
     "text": [
      "Error translating text: Out of range float values are not JSON compliant\n"
     ]
    },
    {
     "name": "stderr",
     "output_type": "stream",
     "text": [
      " 73%|███████▎  | 8815/12000 [23:45<05:42,  9.31it/s]"
     ]
    },
    {
     "name": "stdout",
     "output_type": "stream",
     "text": [
      "Error translating text: Out of range float values are not JSON compliant\n"
     ]
    },
    {
     "name": "stderr",
     "output_type": "stream",
     "text": [
      " 86%|████████▋ | 10350/12000 [27:55<03:27,  7.95it/s]"
     ]
    },
    {
     "name": "stdout",
     "output_type": "stream",
     "text": [
      "Error translating text: Out of range float values are not JSON compliant\n"
     ]
    },
    {
     "name": "stderr",
     "output_type": "stream",
     "text": [
      " 90%|████████▉ | 10773/12000 [29:01<02:38,  7.74it/s]"
     ]
    },
    {
     "name": "stdout",
     "output_type": "stream",
     "text": [
      "Error translating text: Out of range float values are not JSON compliant\n"
     ]
    },
    {
     "name": "stderr",
     "output_type": "stream",
     "text": [
      " 91%|█████████ | 10883/12000 [29:17<01:45, 10.62it/s]"
     ]
    },
    {
     "name": "stdout",
     "output_type": "stream",
     "text": [
      "Error translating text: Out of range float values are not JSON compliant\n"
     ]
    },
    {
     "name": "stderr",
     "output_type": "stream",
     "text": [
      " 96%|█████████▌| 11517/12000 [30:56<00:50,  9.58it/s]"
     ]
    },
    {
     "name": "stdout",
     "output_type": "stream",
     "text": [
      "Error translating text: Out of range float values are not JSON compliant\n"
     ]
    },
    {
     "name": "stderr",
     "output_type": "stream",
     "text": [
      "100%|█████████▉| 11964/12000 [32:06<00:03,  9.95it/s]"
     ]
    },
    {
     "name": "stdout",
     "output_type": "stream",
     "text": [
      "Error translating text: Out of range float values are not JSON compliant\n"
     ]
    },
    {
     "name": "stderr",
     "output_type": "stream",
     "text": [
      "100%|██████████| 12000/12000 [32:12<00:00,  6.21it/s]\n"
     ]
    }
   ],
   "execution_count": 12
  },
  {
   "metadata": {
    "ExecuteTime": {
     "end_time": "2025-01-22T12:16:20.192883Z",
     "start_time": "2025-01-22T11:33:29.258638Z"
    }
   },
   "cell_type": "code",
   "source": [
    "df['reviewText_german_french'] = df.progress_apply(\n",
    "    lambda row: translate_text(row['reviewText_german'], from_lang='de', to_lang='fr'), axis=1)"
   ],
   "id": "5ee63aae2b316573",
   "outputs": [
    {
     "name": "stderr",
     "output_type": "stream",
     "text": [
      "100%|██████████| 12000/12000 [42:50<00:00,  4.67it/s] \n"
     ]
    }
   ],
   "execution_count": 13
  },
  {
   "metadata": {
    "ExecuteTime": {
     "end_time": "2025-01-22T12:47:22.502049Z",
     "start_time": "2025-01-22T12:16:20.219407Z"
    }
   },
   "cell_type": "code",
   "source": [
    "df['reviewText_german_french_english'] = df.progress_apply(\n",
    "    lambda row: translate_text(row['reviewText_german_french'], from_lang='fr', to_lang='en'), axis=1)"
   ],
   "id": "36a225f1d21c1959",
   "outputs": [
    {
     "name": "stderr",
     "output_type": "stream",
     "text": [
      "100%|██████████| 12000/12000 [31:02<00:00,  6.44it/s] \n"
     ]
    }
   ],
   "execution_count": 14
  },
  {
   "metadata": {},
   "cell_type": "markdown",
   "source": "## Check translations",
   "id": "3e39952ddb4e0e43"
  },
  {
   "metadata": {
    "ExecuteTime": {
     "end_time": "2025-01-22T12:49:39.377623Z",
     "start_time": "2025-01-22T12:49:39.374614Z"
    }
   },
   "cell_type": "code",
   "source": "compare_translations(df,2)",
   "id": "ec93dde586f6a937",
   "outputs": [
    {
     "name": "stdout",
     "output_type": "stream",
     "text": [
      "Index: 2\n",
      "****\n",
      "Label: 5.0\n",
      "****\n",
      "Original Text: I was nervousness about the scent because IVe never tried this, but I love Paul Mitchell so I decided to try it.  It smells great!!!  This is a medium hold spray, so I'll use it when my hair is down (I use a stronger hold when I put my hair up).  Shipping speed was good to Alaska too.\n",
      "****\n",
      "German Translation: Ich war nervös wegen des Duftes, weil ich ihn noch nie probiert habe, aber ich liebe Paul Mitchell, also beschloss ich, ihn auszuprobieren.  Es riecht gut!!  Dies ist ein Spray mit mittlerem Halt, daher verwende ich es, wenn mein Haar offen ist (ich verwende einen stärkeren Halt, wenn ich mein Haar hochstecke).  Die Versandgeschwindigkeit nach Alaska war auch gut.\n",
      "****\n",
      "German-French Translation: J’étais nerveuse à propos de l’odeur parce que je ne l’avais jamais essayé auparavant, mais j’adore Paul Mitchell, alors j’ai décidé de l’essayer.  Ça sent bon !!  Il s’agit d’un spray à tenue moyenne, donc je l’utilise quand mes cheveux sont ouverts (j’utilise une tenue plus forte quand je relève mes cheveux).  La vitesse de navigation vers l’Alaska était également bonne.\n",
      "****\n",
      "Back-Translated Text: I was nervous about the smell because I'd never tried it before, but I love Paul Mitchell, so I decided to give it a try.  It smells good!!  This is a medium-hold spray, so I use it when my hair is open (I use a stronger hold when I lift my hair).  The sailing speed to Alaska was also good.\n",
      "\n"
     ]
    }
   ],
   "execution_count": 19
  },
  {
   "metadata": {},
   "cell_type": "markdown",
   "source": "## Save new df",
   "id": "3124c2ca7178c72a"
  },
  {
   "metadata": {
    "ExecuteTime": {
     "end_time": "2025-01-22T12:56:06.672806Z",
     "start_time": "2025-01-22T12:56:06.499832Z"
    }
   },
   "cell_type": "code",
   "source": [
    "output_path = './data/reviews_da_translation_wide.csv'\n",
    "df.to_csv(output_path, index=False)"
   ],
   "id": "dd70f3d4372a7953",
   "outputs": [],
   "execution_count": 42
  },
  {
   "metadata": {
    "ExecuteTime": {
     "end_time": "2025-01-22T12:55:51.103535Z",
     "start_time": "2025-01-22T12:55:51.091986Z"
    }
   },
   "cell_type": "code",
   "source": "df.info()",
   "id": "a1789f58180ce22e",
   "outputs": [
    {
     "name": "stdout",
     "output_type": "stream",
     "text": [
      "<class 'pandas.core.frame.DataFrame'>\n",
      "RangeIndex: 12000 entries, 0 to 11999\n",
      "Data columns (total 11 columns):\n",
      " #   Column                            Non-Null Count  Dtype  \n",
      "---  ------                            --------------  -----  \n",
      " 0   rating                            12000 non-null  float64\n",
      " 1   reviewTime                        12000 non-null  object \n",
      " 2   reviewerID                        12000 non-null  object \n",
      " 3   reviewText                        11975 non-null  object \n",
      " 4   summary                           11991 non-null  object \n",
      " 5   unixReviewTime                    12000 non-null  int64  \n",
      " 6   category                          12000 non-null  object \n",
      " 7   reviewToken                       12000 non-null  object \n",
      " 8   reviewText_german                 11964 non-null  object \n",
      " 9   reviewText_german_french          11964 non-null  object \n",
      " 10  reviewText_german_french_english  11964 non-null  object \n",
      "dtypes: float64(1), int64(1), object(9)\n",
      "memory usage: 1.0+ MB\n"
     ]
    }
   ],
   "execution_count": 37
  },
  {
   "metadata": {
    "ExecuteTime": {
     "end_time": "2025-01-22T12:55:53.456788Z",
     "start_time": "2025-01-22T12:55:53.448721Z"
    }
   },
   "cell_type": "code",
   "source": [
    "long_df = pd.melt(\n",
    "    df,\n",
    "    id_vars=['rating'],\n",
    "    value_vars=['reviewText', 'reviewText_german_french_english'],\n",
    "    var_name='text_type',\n",
    "    value_name='reviewText_long' \n",
    ")"
   ],
   "id": "c45fa97f7a26af19",
   "outputs": [],
   "execution_count": 38
  },
  {
   "metadata": {
    "ExecuteTime": {
     "end_time": "2025-01-22T12:55:54.865953Z",
     "start_time": "2025-01-22T12:55:54.862333Z"
    }
   },
   "cell_type": "code",
   "source": "long_df.rename(columns={'reviewText_long': 'reviewText'}, inplace=True)",
   "id": "483ab8689c0d3990",
   "outputs": [],
   "execution_count": 39
  },
  {
   "metadata": {
    "ExecuteTime": {
     "end_time": "2025-01-22T12:56:03.854007Z",
     "start_time": "2025-01-22T12:56:03.771Z"
    }
   },
   "cell_type": "code",
   "source": [
    "output_path = './data/reviews_da_translation_long.csv'\n",
    "long_df.to_csv(output_path, index=False)"
   ],
   "id": "de7ecefe37575626",
   "outputs": [],
   "execution_count": 41
  }
 ],
 "metadata": {
  "kernelspec": {
   "display_name": "Python 3",
   "language": "python",
   "name": "python3"
  },
  "language_info": {
   "codemirror_mode": {
    "name": "ipython",
    "version": 2
   },
   "file_extension": ".py",
   "mimetype": "text/x-python",
   "name": "python",
   "nbconvert_exporter": "python",
   "pygments_lexer": "ipython2",
   "version": "2.7.6"
  }
 },
 "nbformat": 4,
 "nbformat_minor": 5
}
